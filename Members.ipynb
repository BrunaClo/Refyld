{
 "cells": [
  {
   "cell_type": "code",
   "execution_count": 100,
   "metadata": {},
   "outputs": [
    {
     "data": {
      "text/html": [
       "<style>.container { width:100% !important; }</style>"
      ],
      "text/plain": [
       "<IPython.core.display.HTML object>"
      ]
     },
     "metadata": {},
     "output_type": "display_data"
    }
   ],
   "source": [
    "import numpy as np\n",
    "import pandas as pd\n",
    "import matplotlib.pyplot as plt\n",
    "%matplotlib inline\n",
    "import seaborn as sns\n",
    "import os\n",
    "from IPython.display import Image, display\n",
    "from PIL import Image\n",
    "from jupyterthemes import get_themes\n",
    "import jupyterthemes as jt\n",
    "from jupyterthemes import jtplot\n",
    "from IPython.core.display import display, HTML\n",
    "display(HTML('<style>.container { width:100% !important; }</style>'))"
   ]
  },
  {
   "cell_type": "code",
   "execution_count": 2,
   "metadata": {},
   "outputs": [],
   "source": [
    "from geopy.geocoders import Nominatim\n",
    "from tqdm import tqdm"
   ]
  },
  {
   "cell_type": "code",
   "execution_count": 6,
   "metadata": {},
   "outputs": [],
   "source": [
    "os.chdir(r'C:\\Users\\bruna\\IronHack\\Project Refyld\\Refyld\\données')"
   ]
  },
  {
   "cell_type": "code",
   "execution_count": 7,
   "metadata": {},
   "outputs": [],
   "source": [
    "df = pd.read_csv('Data Complet.csv', sep=';')"
   ]
  },
  {
   "cell_type": "code",
   "execution_count": 8,
   "metadata": {},
   "outputs": [
    {
     "data": {
      "text/plain": [
       "(1195, 20)"
      ]
     },
     "execution_count": 8,
     "metadata": {},
     "output_type": "execute_result"
    }
   ],
   "source": [
    "df.shape"
   ]
  },
  {
   "cell_type": "code",
   "execution_count": 9,
   "metadata": {},
   "outputs": [
    {
     "data": {
      "text/plain": [
       "Prénom                              38\n",
       "Nom                                 38\n",
       "Prénom - Nom                        28\n",
       "Sexe                                41\n",
       "Age                               1195\n",
       "Situation Familliale              1195\n",
       "Profession                        1195\n",
       "Adresse                             35\n",
       "Complement Adresse                 972\n",
       "Code postal                         35\n",
       "Ville                               35\n",
       "Région                             329\n",
       "Pays                                10\n",
       "Nom d'utilisateur                   28\n",
       "Identifiant de la contrepartie      39\n",
       "Courriel                            28\n",
       "Numéro de téléphone                 35\n",
       "Titre de la contrepartie            39\n",
       "Quantité                            28\n",
       "Montant unitaire total              28\n",
       "dtype: int64"
      ]
     },
     "execution_count": 9,
     "metadata": {},
     "output_type": "execute_result"
    }
   ],
   "source": [
    "df.isnull().sum()"
   ]
  },
  {
   "cell_type": "code",
   "execution_count": 10,
   "metadata": {},
   "outputs": [],
   "source": [
    "df.drop(['Age','Situation Familliale ', 'Profession','Prénom - Nom ', \n",
    "         'Numéro de téléphone', 'Courriel', 'Complement Adresse'],axis=1, inplace=True)\n"
   ]
  },
  {
   "cell_type": "code",
   "execution_count": 11,
   "metadata": {},
   "outputs": [
    {
     "data": {
      "text/html": [
       "<div>\n",
       "<style scoped>\n",
       "    .dataframe tbody tr th:only-of-type {\n",
       "        vertical-align: middle;\n",
       "    }\n",
       "\n",
       "    .dataframe tbody tr th {\n",
       "        vertical-align: top;\n",
       "    }\n",
       "\n",
       "    .dataframe thead th {\n",
       "        text-align: right;\n",
       "    }\n",
       "</style>\n",
       "<table border=\"1\" class=\"dataframe\">\n",
       "  <thead>\n",
       "    <tr style=\"text-align: right;\">\n",
       "      <th></th>\n",
       "      <th>Prénom</th>\n",
       "      <th>Nom</th>\n",
       "      <th>Sexe</th>\n",
       "      <th>Adresse</th>\n",
       "      <th>Code postal</th>\n",
       "      <th>Ville</th>\n",
       "      <th>Région</th>\n",
       "      <th>Pays</th>\n",
       "      <th>Nom d'utilisateur</th>\n",
       "      <th>Identifiant de la contrepartie</th>\n",
       "      <th>Titre de la contrepartie</th>\n",
       "      <th>Quantité</th>\n",
       "      <th>Montant unitaire total</th>\n",
       "    </tr>\n",
       "  </thead>\n",
       "  <tbody>\n",
       "    <tr>\n",
       "      <th>0</th>\n",
       "      <td>romain</td>\n",
       "      <td>romain</td>\n",
       "      <td>H</td>\n",
       "      <td>10 place franklin</td>\n",
       "      <td>68100</td>\n",
       "      <td>Mulhouse</td>\n",
       "      <td>Grand-Est</td>\n",
       "      <td>FR</td>\n",
       "      <td>romain-fontanel</td>\n",
       "      <td>655971.0</td>\n",
       "      <td>Adhésion à vie - Tarif réduit</td>\n",
       "      <td>1.0</td>\n",
       "      <td>39.0</td>\n",
       "    </tr>\n",
       "    <tr>\n",
       "      <th>1</th>\n",
       "      <td>Élodie</td>\n",
       "      <td>Ramel</td>\n",
       "      <td>F</td>\n",
       "      <td>23 Avenue Albert Laurens</td>\n",
       "      <td>34230</td>\n",
       "      <td>Saint-Pargoire</td>\n",
       "      <td>Occitanie</td>\n",
       "      <td>FR</td>\n",
       "      <td>elodie-ramel</td>\n",
       "      <td>655971.0</td>\n",
       "      <td>Adhésion à vie - Tarif réduit</td>\n",
       "      <td>1.0</td>\n",
       "      <td>39.0</td>\n",
       "    </tr>\n",
       "    <tr>\n",
       "      <th>2</th>\n",
       "      <td>Amel</td>\n",
       "      <td>Ahmedou</td>\n",
       "      <td>F</td>\n",
       "      <td>5 Allée Alexandre Vialatte</td>\n",
       "      <td>75013</td>\n",
       "      <td>Paris 13e Arrondissement</td>\n",
       "      <td>Île-de-France</td>\n",
       "      <td>FR</td>\n",
       "      <td>melacafez</td>\n",
       "      <td>656196.0</td>\n",
       "      <td>ADHÉSION À VIE - Duo</td>\n",
       "      <td>1.0</td>\n",
       "      <td>99.0</td>\n",
       "    </tr>\n",
       "    <tr>\n",
       "      <th>3</th>\n",
       "      <td>Elina</td>\n",
       "      <td>Le Gourvellec</td>\n",
       "      <td>F</td>\n",
       "      <td>16 Avenue de l'Alcyon</td>\n",
       "      <td>44300</td>\n",
       "      <td>Nantes</td>\n",
       "      <td>Pays-de-la-Loire</td>\n",
       "      <td>FR</td>\n",
       "      <td>elinalegourvellec</td>\n",
       "      <td>655971.0</td>\n",
       "      <td>Adhésion à vie - Tarif réduit</td>\n",
       "      <td>1.0</td>\n",
       "      <td>39.0</td>\n",
       "    </tr>\n",
       "    <tr>\n",
       "      <th>4</th>\n",
       "      <td>PHILIPPE</td>\n",
       "      <td>BIGOT</td>\n",
       "      <td>H</td>\n",
       "      <td>8 Impasse du Chemin de Gesnes</td>\n",
       "      <td>61000</td>\n",
       "      <td>Saint-Germain-du-Corbéis</td>\n",
       "      <td>Normandie</td>\n",
       "      <td>FR</td>\n",
       "      <td>phmabigot</td>\n",
       "      <td>655971.0</td>\n",
       "      <td>Adhésion à vie - Tarif réduit</td>\n",
       "      <td>1.0</td>\n",
       "      <td>39.0</td>\n",
       "    </tr>\n",
       "    <tr>\n",
       "      <th>...</th>\n",
       "      <td>...</td>\n",
       "      <td>...</td>\n",
       "      <td>...</td>\n",
       "      <td>...</td>\n",
       "      <td>...</td>\n",
       "      <td>...</td>\n",
       "      <td>...</td>\n",
       "      <td>...</td>\n",
       "      <td>...</td>\n",
       "      <td>...</td>\n",
       "      <td>...</td>\n",
       "      <td>...</td>\n",
       "      <td>...</td>\n",
       "    </tr>\n",
       "    <tr>\n",
       "      <th>1190</th>\n",
       "      <td>NaN</td>\n",
       "      <td>NaN</td>\n",
       "      <td>NaN</td>\n",
       "      <td>NaN</td>\n",
       "      <td>NaN</td>\n",
       "      <td>NaN</td>\n",
       "      <td>Nice</td>\n",
       "      <td>9</td>\n",
       "      <td>NaN</td>\n",
       "      <td>NaN</td>\n",
       "      <td>NaN</td>\n",
       "      <td>NaN</td>\n",
       "      <td>NaN</td>\n",
       "    </tr>\n",
       "    <tr>\n",
       "      <th>1191</th>\n",
       "      <td>NaN</td>\n",
       "      <td>NaN</td>\n",
       "      <td>NaN</td>\n",
       "      <td>NaN</td>\n",
       "      <td>NaN</td>\n",
       "      <td>NaN</td>\n",
       "      <td>Marseille</td>\n",
       "      <td>6</td>\n",
       "      <td>NaN</td>\n",
       "      <td>NaN</td>\n",
       "      <td>NaN</td>\n",
       "      <td>NaN</td>\n",
       "      <td>NaN</td>\n",
       "    </tr>\n",
       "    <tr>\n",
       "      <th>1192</th>\n",
       "      <td>NaN</td>\n",
       "      <td>NaN</td>\n",
       "      <td>NaN</td>\n",
       "      <td>NaN</td>\n",
       "      <td>NaN</td>\n",
       "      <td>NaN</td>\n",
       "      <td>Montpellier</td>\n",
       "      <td>7</td>\n",
       "      <td>NaN</td>\n",
       "      <td>NaN</td>\n",
       "      <td>NaN</td>\n",
       "      <td>NaN</td>\n",
       "      <td>NaN</td>\n",
       "    </tr>\n",
       "    <tr>\n",
       "      <th>1193</th>\n",
       "      <td>NaN</td>\n",
       "      <td>NaN</td>\n",
       "      <td>NaN</td>\n",
       "      <td>NaN</td>\n",
       "      <td>NaN</td>\n",
       "      <td>NaN</td>\n",
       "      <td>Strasbourg</td>\n",
       "      <td>4</td>\n",
       "      <td>NaN</td>\n",
       "      <td>NaN</td>\n",
       "      <td>NaN</td>\n",
       "      <td>NaN</td>\n",
       "      <td>NaN</td>\n",
       "    </tr>\n",
       "    <tr>\n",
       "      <th>1194</th>\n",
       "      <td>NaN</td>\n",
       "      <td>NaN</td>\n",
       "      <td>NaN</td>\n",
       "      <td>NaN</td>\n",
       "      <td>NaN</td>\n",
       "      <td>NaN</td>\n",
       "      <td>Lille</td>\n",
       "      <td>4</td>\n",
       "      <td>NaN</td>\n",
       "      <td>NaN</td>\n",
       "      <td>NaN</td>\n",
       "      <td>NaN</td>\n",
       "      <td>NaN</td>\n",
       "    </tr>\n",
       "  </tbody>\n",
       "</table>\n",
       "<p>1195 rows × 13 columns</p>\n",
       "</div>"
      ],
      "text/plain": [
       "       Prénom            Nom  Sexe                       Adresse   \\\n",
       "0       romain         romain    H              10 place franklin   \n",
       "1       Élodie          Ramel    F       23 Avenue Albert Laurens   \n",
       "2         Amel        Ahmedou    F     5 Allée Alexandre Vialatte   \n",
       "3        Elina  Le Gourvellec    F          16 Avenue de l'Alcyon   \n",
       "4     PHILIPPE          BIGOT    H  8 Impasse du Chemin de Gesnes   \n",
       "...        ...            ...  ...                            ...   \n",
       "1190       NaN            NaN  NaN                            NaN   \n",
       "1191       NaN            NaN  NaN                            NaN   \n",
       "1192       NaN            NaN  NaN                            NaN   \n",
       "1193       NaN            NaN  NaN                            NaN   \n",
       "1194       NaN            NaN  NaN                            NaN   \n",
       "\n",
       "     Code postal                     Ville            Région  Pays   \\\n",
       "0           68100                  Mulhouse         Grand-Est    FR   \n",
       "1           34230            Saint-Pargoire         Occitanie    FR   \n",
       "2           75013  Paris 13e Arrondissement     Île-de-France    FR   \n",
       "3           44300                    Nantes  Pays-de-la-Loire    FR   \n",
       "4           61000  Saint-Germain-du-Corbéis         Normandie    FR   \n",
       "...           ...                       ...               ...   ...   \n",
       "1190          NaN                       NaN              Nice     9   \n",
       "1191          NaN                       NaN         Marseille     6   \n",
       "1192          NaN                       NaN       Montpellier     7   \n",
       "1193          NaN                       NaN        Strasbourg     4   \n",
       "1194          NaN                       NaN             Lille     4   \n",
       "\n",
       "      Nom d'utilisateur  Identifiant de la contrepartie  \\\n",
       "0       romain-fontanel                        655971.0   \n",
       "1          elodie-ramel                        655971.0   \n",
       "2             melacafez                        656196.0   \n",
       "3     elinalegourvellec                        655971.0   \n",
       "4             phmabigot                        655971.0   \n",
       "...                 ...                             ...   \n",
       "1190                NaN                             NaN   \n",
       "1191                NaN                             NaN   \n",
       "1192                NaN                             NaN   \n",
       "1193                NaN                             NaN   \n",
       "1194                NaN                             NaN   \n",
       "\n",
       "           Titre de la contrepartie  Quantité  Montant unitaire total  \n",
       "0     Adhésion à vie - Tarif réduit       1.0                    39.0  \n",
       "1     Adhésion à vie - Tarif réduit       1.0                    39.0  \n",
       "2              ADHÉSION À VIE - Duo       1.0                    99.0  \n",
       "3     Adhésion à vie - Tarif réduit       1.0                    39.0  \n",
       "4     Adhésion à vie - Tarif réduit       1.0                    39.0  \n",
       "...                             ...       ...                     ...  \n",
       "1190                            NaN       NaN                     NaN  \n",
       "1191                            NaN       NaN                     NaN  \n",
       "1192                            NaN       NaN                     NaN  \n",
       "1193                            NaN       NaN                     NaN  \n",
       "1194                            NaN       NaN                     NaN  \n",
       "\n",
       "[1195 rows x 13 columns]"
      ]
     },
     "execution_count": 11,
     "metadata": {},
     "output_type": "execute_result"
    }
   ],
   "source": [
    "df"
   ]
  },
  {
   "cell_type": "code",
   "execution_count": 12,
   "metadata": {},
   "outputs": [],
   "source": [
    "df.dropna(thresh=4, inplace=True)"
   ]
  },
  {
   "cell_type": "code",
   "execution_count": 13,
   "metadata": {
    "scrolled": true
   },
   "outputs": [
    {
     "data": {
      "text/plain": [
       "Prénom                              9\n",
       "Nom                                 9\n",
       "Sexe                               12\n",
       "Adresse                             6\n",
       "Code postal                         6\n",
       "Ville                               6\n",
       "Région                            325\n",
       "Pays                                6\n",
       "Nom d'utilisateur                   0\n",
       "Identifiant de la contrepartie     10\n",
       "Titre de la contrepartie           10\n",
       "Quantité                            0\n",
       "Montant unitaire total              0\n",
       "dtype: int64"
      ]
     },
     "execution_count": 13,
     "metadata": {},
     "output_type": "execute_result"
    }
   ],
   "source": [
    "df.isnull().sum()"
   ]
  },
  {
   "cell_type": "code",
   "execution_count": 14,
   "metadata": {},
   "outputs": [],
   "source": [
    "df['Titre de la contrepartie']=df['Titre de la contrepartie'].fillna('Don')\n"
   ]
  },
  {
   "cell_type": "code",
   "execution_count": 15,
   "metadata": {},
   "outputs": [],
   "source": [
    "df.to_csv('Members_Refyld.csv')"
   ]
  },
  {
   "cell_type": "code",
   "execution_count": 16,
   "metadata": {
    "scrolled": true
   },
   "outputs": [
    {
     "data": {
      "text/plain": [
       "Prénom                              9\n",
       "Nom                                 9\n",
       "Sexe                               12\n",
       "Adresse                             6\n",
       "Code postal                         6\n",
       "Ville                               6\n",
       "Région                            325\n",
       "Pays                                6\n",
       "Nom d'utilisateur                   0\n",
       "Identifiant de la contrepartie     10\n",
       "Titre de la contrepartie            0\n",
       "Quantité                            0\n",
       "Montant unitaire total              0\n",
       "dtype: int64"
      ]
     },
     "execution_count": 16,
     "metadata": {},
     "output_type": "execute_result"
    }
   ],
   "source": [
    "df.isnull().sum()"
   ]
  },
  {
   "cell_type": "code",
   "execution_count": 17,
   "metadata": {},
   "outputs": [],
   "source": [
    "dff = df[df['Titre de la contrepartie']!='Don']"
   ]
  },
  {
   "cell_type": "code",
   "execution_count": 18,
   "metadata": {
    "scrolled": false
   },
   "outputs": [
    {
     "data": {
      "text/plain": [
       "Prénom                              5\n",
       "Nom                                 5\n",
       "Sexe                                8\n",
       "Adresse                             2\n",
       "Code postal                         2\n",
       "Ville                               2\n",
       "Région                            320\n",
       "Pays                                2\n",
       "Nom d'utilisateur                   0\n",
       "Identifiant de la contrepartie      0\n",
       "Titre de la contrepartie            0\n",
       "Quantité                            0\n",
       "Montant unitaire total              0\n",
       "dtype: int64"
      ]
     },
     "execution_count": 18,
     "metadata": {},
     "output_type": "execute_result"
    }
   ],
   "source": [
    "dff.isnull().sum()\n"
   ]
  },
  {
   "cell_type": "code",
   "execution_count": 19,
   "metadata": {
    "scrolled": false
   },
   "outputs": [
    {
     "data": {
      "text/plain": [
       "Index(['Prénom ', 'Nom ', 'Sexe', 'Adresse ', 'Code postal ', 'Ville ',\n",
       "       'Région ', 'Pays ', 'Nom d'utilisateur',\n",
       "       'Identifiant de la contrepartie', 'Titre de la contrepartie',\n",
       "       'Quantité', 'Montant unitaire total'],\n",
       "      dtype='object')"
      ]
     },
     "execution_count": 19,
     "metadata": {},
     "output_type": "execute_result"
    }
   ],
   "source": [
    "dff.columns"
   ]
  },
  {
   "cell_type": "code",
   "execution_count": 20,
   "metadata": {},
   "outputs": [],
   "source": [
    "dff.columns = [i.strip(' ') for i in dff.columns]"
   ]
  },
  {
   "cell_type": "code",
   "execution_count": 21,
   "metadata": {},
   "outputs": [
    {
     "data": {
      "text/html": [
       "<div>\n",
       "<style scoped>\n",
       "    .dataframe tbody tr th:only-of-type {\n",
       "        vertical-align: middle;\n",
       "    }\n",
       "\n",
       "    .dataframe tbody tr th {\n",
       "        vertical-align: top;\n",
       "    }\n",
       "\n",
       "    .dataframe thead th {\n",
       "        text-align: right;\n",
       "    }\n",
       "</style>\n",
       "<table border=\"1\" class=\"dataframe\">\n",
       "  <thead>\n",
       "    <tr style=\"text-align: right;\">\n",
       "      <th></th>\n",
       "      <th>Prénom</th>\n",
       "      <th>Nom</th>\n",
       "      <th>Sexe</th>\n",
       "      <th>Adresse</th>\n",
       "      <th>Code postal</th>\n",
       "      <th>Ville</th>\n",
       "      <th>Région</th>\n",
       "      <th>Pays</th>\n",
       "      <th>Nom d'utilisateur</th>\n",
       "      <th>Identifiant de la contrepartie</th>\n",
       "      <th>Titre de la contrepartie</th>\n",
       "      <th>Quantité</th>\n",
       "      <th>Montant unitaire total</th>\n",
       "    </tr>\n",
       "  </thead>\n",
       "  <tbody>\n",
       "    <tr>\n",
       "      <th>108</th>\n",
       "      <td>NaN</td>\n",
       "      <td>NaN</td>\n",
       "      <td>F</td>\n",
       "      <td>17A rue du vertuquet</td>\n",
       "      <td>59960</td>\n",
       "      <td>NEUVILLE EN FERRAIN</td>\n",
       "      <td>NaN</td>\n",
       "      <td>FR</td>\n",
       "      <td>robinsmum</td>\n",
       "      <td>655971.0</td>\n",
       "      <td>Adhésion à vie - Tarif réduit</td>\n",
       "      <td>1.0</td>\n",
       "      <td>39.0</td>\n",
       "    </tr>\n",
       "    <tr>\n",
       "      <th>170</th>\n",
       "      <td>NaN</td>\n",
       "      <td>NaN</td>\n",
       "      <td>F</td>\n",
       "      <td>8 rue saint marc</td>\n",
       "      <td>75002</td>\n",
       "      <td>paris</td>\n",
       "      <td>NaN</td>\n",
       "      <td>FR</td>\n",
       "      <td>chabrg</td>\n",
       "      <td>655971.0</td>\n",
       "      <td>Adhésion à vie - Tarif réduit</td>\n",
       "      <td>1.0</td>\n",
       "      <td>39.0</td>\n",
       "    </tr>\n",
       "    <tr>\n",
       "      <th>183</th>\n",
       "      <td>NaN</td>\n",
       "      <td>NaN</td>\n",
       "      <td>NaN</td>\n",
       "      <td>5, rue de charonne</td>\n",
       "      <td>75011</td>\n",
       "      <td>Paris</td>\n",
       "      <td>NaN</td>\n",
       "      <td>FR</td>\n",
       "      <td>k-mayalevy</td>\n",
       "      <td>655971.0</td>\n",
       "      <td>Adhésion à vie - Tarif réduit</td>\n",
       "      <td>1.0</td>\n",
       "      <td>39.0</td>\n",
       "    </tr>\n",
       "    <tr>\n",
       "      <th>537</th>\n",
       "      <td>NaN</td>\n",
       "      <td>NaN</td>\n",
       "      <td>F</td>\n",
       "      <td>NaN</td>\n",
       "      <td>NaN</td>\n",
       "      <td>NaN</td>\n",
       "      <td>NaN</td>\n",
       "      <td>NaN</td>\n",
       "      <td>galou73</td>\n",
       "      <td>655971.0</td>\n",
       "      <td>Adhésion à vie - Tarif réduit</td>\n",
       "      <td>1.0</td>\n",
       "      <td>39.0</td>\n",
       "    </tr>\n",
       "    <tr>\n",
       "      <th>985</th>\n",
       "      <td>NaN</td>\n",
       "      <td>NaN</td>\n",
       "      <td>NaN</td>\n",
       "      <td>NaN</td>\n",
       "      <td>NaN</td>\n",
       "      <td>NaN</td>\n",
       "      <td>NaN</td>\n",
       "      <td>NaN</td>\n",
       "      <td>erzbeth</td>\n",
       "      <td>655971.0</td>\n",
       "      <td>Adhésion à vie - Tarif réduit</td>\n",
       "      <td>1.0</td>\n",
       "      <td>39.0</td>\n",
       "    </tr>\n",
       "  </tbody>\n",
       "</table>\n",
       "</div>"
      ],
      "text/plain": [
       "    Prénom  Nom Sexe               Adresse Code postal                Ville  \\\n",
       "108    NaN  NaN    F  17A rue du vertuquet       59960  NEUVILLE EN FERRAIN   \n",
       "170    NaN  NaN    F      8 rue saint marc       75002                paris   \n",
       "183    NaN  NaN  NaN    5, rue de charonne       75011                Paris   \n",
       "537    NaN  NaN    F                   NaN         NaN                  NaN   \n",
       "985    NaN  NaN  NaN                   NaN         NaN                  NaN   \n",
       "\n",
       "    Région Pays Nom d'utilisateur  Identifiant de la contrepartie  \\\n",
       "108    NaN   FR         robinsmum                        655971.0   \n",
       "170    NaN   FR            chabrg                        655971.0   \n",
       "183    NaN   FR        k-mayalevy                        655971.0   \n",
       "537    NaN  NaN           galou73                        655971.0   \n",
       "985    NaN  NaN           erzbeth                        655971.0   \n",
       "\n",
       "          Titre de la contrepartie  Quantité  Montant unitaire total  \n",
       "108  Adhésion à vie - Tarif réduit       1.0                    39.0  \n",
       "170  Adhésion à vie - Tarif réduit       1.0                    39.0  \n",
       "183  Adhésion à vie - Tarif réduit       1.0                    39.0  \n",
       "537  Adhésion à vie - Tarif réduit       1.0                    39.0  \n",
       "985  Adhésion à vie - Tarif réduit       1.0                    39.0  "
      ]
     },
     "execution_count": 21,
     "metadata": {},
     "output_type": "execute_result"
    }
   ],
   "source": [
    "dff[dff['Prénom'].isnull()]"
   ]
  },
  {
   "cell_type": "code",
   "execution_count": 22,
   "metadata": {},
   "outputs": [],
   "source": [
    "df1 = dff.copy()"
   ]
  },
  {
   "cell_type": "code",
   "execution_count": 23,
   "metadata": {},
   "outputs": [],
   "source": [
    "df1.fillna('Uninformed', inplace=True)"
   ]
  },
  {
   "cell_type": "code",
   "execution_count": 24,
   "metadata": {},
   "outputs": [],
   "source": [
    "df1.Adresse = df1.Adresse.str.replace(r'[0-9]+[,]?', '')"
   ]
  },
  {
   "cell_type": "code",
   "execution_count": 25,
   "metadata": {},
   "outputs": [],
   "source": [
    "df1.Adresse = df1.Adresse.str.replace(r'\\([^()]*\\)', '')"
   ]
  },
  {
   "cell_type": "code",
   "execution_count": 26,
   "metadata": {},
   "outputs": [],
   "source": [
    "df1.Adresse = df1.Adresse.str.title()"
   ]
  },
  {
   "cell_type": "code",
   "execution_count": 27,
   "metadata": {},
   "outputs": [
    {
     "data": {
      "text/html": [
       "<div>\n",
       "<style scoped>\n",
       "    .dataframe tbody tr th:only-of-type {\n",
       "        vertical-align: middle;\n",
       "    }\n",
       "\n",
       "    .dataframe tbody tr th {\n",
       "        vertical-align: top;\n",
       "    }\n",
       "\n",
       "    .dataframe thead th {\n",
       "        text-align: right;\n",
       "    }\n",
       "</style>\n",
       "<table border=\"1\" class=\"dataframe\">\n",
       "  <thead>\n",
       "    <tr style=\"text-align: right;\">\n",
       "      <th></th>\n",
       "      <th>Prénom</th>\n",
       "      <th>Nom</th>\n",
       "      <th>Sexe</th>\n",
       "      <th>Adresse</th>\n",
       "      <th>Code postal</th>\n",
       "      <th>Ville</th>\n",
       "      <th>Région</th>\n",
       "      <th>Pays</th>\n",
       "      <th>Nom d'utilisateur</th>\n",
       "      <th>Identifiant de la contrepartie</th>\n",
       "      <th>Titre de la contrepartie</th>\n",
       "      <th>Quantité</th>\n",
       "      <th>Montant unitaire total</th>\n",
       "    </tr>\n",
       "  </thead>\n",
       "  <tbody>\n",
       "    <tr>\n",
       "      <th>0</th>\n",
       "      <td>romain</td>\n",
       "      <td>romain</td>\n",
       "      <td>H</td>\n",
       "      <td>Place Franklin</td>\n",
       "      <td>68100</td>\n",
       "      <td>Mulhouse</td>\n",
       "      <td>Grand-Est</td>\n",
       "      <td>FR</td>\n",
       "      <td>romain-fontanel</td>\n",
       "      <td>655971.0</td>\n",
       "      <td>Adhésion à vie - Tarif réduit</td>\n",
       "      <td>1.0</td>\n",
       "      <td>39.0</td>\n",
       "    </tr>\n",
       "    <tr>\n",
       "      <th>1</th>\n",
       "      <td>Élodie</td>\n",
       "      <td>Ramel</td>\n",
       "      <td>F</td>\n",
       "      <td>Avenue Albert Laurens</td>\n",
       "      <td>34230</td>\n",
       "      <td>Saint-Pargoire</td>\n",
       "      <td>Occitanie</td>\n",
       "      <td>FR</td>\n",
       "      <td>elodie-ramel</td>\n",
       "      <td>655971.0</td>\n",
       "      <td>Adhésion à vie - Tarif réduit</td>\n",
       "      <td>1.0</td>\n",
       "      <td>39.0</td>\n",
       "    </tr>\n",
       "    <tr>\n",
       "      <th>2</th>\n",
       "      <td>Amel</td>\n",
       "      <td>Ahmedou</td>\n",
       "      <td>F</td>\n",
       "      <td>Allée Alexandre Vialatte</td>\n",
       "      <td>75013</td>\n",
       "      <td>Paris 13e Arrondissement</td>\n",
       "      <td>Île-de-France</td>\n",
       "      <td>FR</td>\n",
       "      <td>melacafez</td>\n",
       "      <td>656196.0</td>\n",
       "      <td>ADHÉSION À VIE - Duo</td>\n",
       "      <td>1.0</td>\n",
       "      <td>99.0</td>\n",
       "    </tr>\n",
       "    <tr>\n",
       "      <th>3</th>\n",
       "      <td>Elina</td>\n",
       "      <td>Le Gourvellec</td>\n",
       "      <td>F</td>\n",
       "      <td>Avenue De L'Alcyon</td>\n",
       "      <td>44300</td>\n",
       "      <td>Nantes</td>\n",
       "      <td>Pays-de-la-Loire</td>\n",
       "      <td>FR</td>\n",
       "      <td>elinalegourvellec</td>\n",
       "      <td>655971.0</td>\n",
       "      <td>Adhésion à vie - Tarif réduit</td>\n",
       "      <td>1.0</td>\n",
       "      <td>39.0</td>\n",
       "    </tr>\n",
       "    <tr>\n",
       "      <th>4</th>\n",
       "      <td>PHILIPPE</td>\n",
       "      <td>BIGOT</td>\n",
       "      <td>H</td>\n",
       "      <td>Impasse Du Chemin De Gesnes</td>\n",
       "      <td>61000</td>\n",
       "      <td>Saint-Germain-du-Corbéis</td>\n",
       "      <td>Normandie</td>\n",
       "      <td>FR</td>\n",
       "      <td>phmabigot</td>\n",
       "      <td>655971.0</td>\n",
       "      <td>Adhésion à vie - Tarif réduit</td>\n",
       "      <td>1.0</td>\n",
       "      <td>39.0</td>\n",
       "    </tr>\n",
       "    <tr>\n",
       "      <th>...</th>\n",
       "      <td>...</td>\n",
       "      <td>...</td>\n",
       "      <td>...</td>\n",
       "      <td>...</td>\n",
       "      <td>...</td>\n",
       "      <td>...</td>\n",
       "      <td>...</td>\n",
       "      <td>...</td>\n",
       "      <td>...</td>\n",
       "      <td>...</td>\n",
       "      <td>...</td>\n",
       "      <td>...</td>\n",
       "      <td>...</td>\n",
       "    </tr>\n",
       "    <tr>\n",
       "      <th>1162</th>\n",
       "      <td>Barbara</td>\n",
       "      <td>Attal</td>\n",
       "      <td>F</td>\n",
       "      <td>Place Des Cordeliers</td>\n",
       "      <td>07100</td>\n",
       "      <td>Annonay</td>\n",
       "      <td>Auvergne-Rhône-Alpes</td>\n",
       "      <td>FR</td>\n",
       "      <td>attal-noel</td>\n",
       "      <td>655971.0</td>\n",
       "      <td>Adhésion à vie - Tarif réduit</td>\n",
       "      <td>1.0</td>\n",
       "      <td>39.0</td>\n",
       "    </tr>\n",
       "    <tr>\n",
       "      <th>1163</th>\n",
       "      <td>Jamie</td>\n",
       "      <td>Attal</td>\n",
       "      <td>F</td>\n",
       "      <td>Route Du Grand Mûrier</td>\n",
       "      <td>07100</td>\n",
       "      <td>Boulieu-lès-Annonay</td>\n",
       "      <td>Auvergne-Rhône-Alpes</td>\n",
       "      <td>FR</td>\n",
       "      <td>attaljamie</td>\n",
       "      <td>657937.0</td>\n",
       "      <td>Adhésion à vie - Tarif normal</td>\n",
       "      <td>1.0</td>\n",
       "      <td>79.0</td>\n",
       "    </tr>\n",
       "    <tr>\n",
       "      <th>1164</th>\n",
       "      <td>Floriane</td>\n",
       "      <td>Emy</td>\n",
       "      <td>F</td>\n",
       "      <td>Rue Du Président Édouard Herriot</td>\n",
       "      <td>69002</td>\n",
       "      <td>Lyon 2e Arrondissement</td>\n",
       "      <td>Auvergne-Rhône-Alpes</td>\n",
       "      <td>FR</td>\n",
       "      <td>floriane-emy</td>\n",
       "      <td>655971.0</td>\n",
       "      <td>Adhésion à vie - Tarif réduit</td>\n",
       "      <td>1.0</td>\n",
       "      <td>39.0</td>\n",
       "    </tr>\n",
       "    <tr>\n",
       "      <th>1165</th>\n",
       "      <td>Marina</td>\n",
       "      <td>Rodrigues</td>\n",
       "      <td>F</td>\n",
       "      <td>Route D'Arnand</td>\n",
       "      <td>74210</td>\n",
       "      <td>Doussard</td>\n",
       "      <td>Auvergne-Rhône-Alpes</td>\n",
       "      <td>FR</td>\n",
       "      <td>marina-espiller</td>\n",
       "      <td>655971.0</td>\n",
       "      <td>Adhésion à vie - Tarif réduit</td>\n",
       "      <td>1.0</td>\n",
       "      <td>39.0</td>\n",
       "    </tr>\n",
       "    <tr>\n",
       "      <th>1166</th>\n",
       "      <td>Aude</td>\n",
       "      <td>DIOP</td>\n",
       "      <td>F</td>\n",
       "      <td>Rue Adjudant Chef Clapot</td>\n",
       "      <td>40000</td>\n",
       "      <td>Mont-de-Marsan</td>\n",
       "      <td>Nouvelle-Aquitaine</td>\n",
       "      <td>FR</td>\n",
       "      <td>aude-joannisdiop</td>\n",
       "      <td>655971.0</td>\n",
       "      <td>Adhésion à vie - Tarif réduit</td>\n",
       "      <td>1.0</td>\n",
       "      <td>39.0</td>\n",
       "    </tr>\n",
       "  </tbody>\n",
       "</table>\n",
       "<p>1156 rows × 13 columns</p>\n",
       "</div>"
      ],
      "text/plain": [
       "        Prénom            Nom Sexe                            Adresse  \\\n",
       "0       romain         romain    H                     Place Franklin   \n",
       "1       Élodie          Ramel    F              Avenue Albert Laurens   \n",
       "2         Amel        Ahmedou    F           Allée Alexandre Vialatte   \n",
       "3        Elina  Le Gourvellec    F                 Avenue De L'Alcyon   \n",
       "4     PHILIPPE          BIGOT    H        Impasse Du Chemin De Gesnes   \n",
       "...        ...            ...  ...                                ...   \n",
       "1162   Barbara          Attal    F               Place Des Cordeliers   \n",
       "1163     Jamie          Attal    F              Route Du Grand Mûrier   \n",
       "1164  Floriane            Emy    F   Rue Du Président Édouard Herriot   \n",
       "1165    Marina      Rodrigues    F                     Route D'Arnand   \n",
       "1166      Aude           DIOP    F           Rue Adjudant Chef Clapot   \n",
       "\n",
       "     Code postal                     Ville                Région Pays  \\\n",
       "0          68100                  Mulhouse             Grand-Est   FR   \n",
       "1          34230            Saint-Pargoire             Occitanie   FR   \n",
       "2          75013  Paris 13e Arrondissement         Île-de-France   FR   \n",
       "3          44300                    Nantes      Pays-de-la-Loire   FR   \n",
       "4          61000  Saint-Germain-du-Corbéis             Normandie   FR   \n",
       "...          ...                       ...                   ...  ...   \n",
       "1162       07100                   Annonay  Auvergne-Rhône-Alpes   FR   \n",
       "1163       07100       Boulieu-lès-Annonay  Auvergne-Rhône-Alpes   FR   \n",
       "1164       69002    Lyon 2e Arrondissement  Auvergne-Rhône-Alpes   FR   \n",
       "1165       74210                  Doussard  Auvergne-Rhône-Alpes   FR   \n",
       "1166       40000            Mont-de-Marsan    Nouvelle-Aquitaine   FR   \n",
       "\n",
       "      Nom d'utilisateur  Identifiant de la contrepartie  \\\n",
       "0       romain-fontanel                        655971.0   \n",
       "1          elodie-ramel                        655971.0   \n",
       "2             melacafez                        656196.0   \n",
       "3     elinalegourvellec                        655971.0   \n",
       "4             phmabigot                        655971.0   \n",
       "...                 ...                             ...   \n",
       "1162         attal-noel                        655971.0   \n",
       "1163         attaljamie                        657937.0   \n",
       "1164       floriane-emy                        655971.0   \n",
       "1165    marina-espiller                        655971.0   \n",
       "1166   aude-joannisdiop                        655971.0   \n",
       "\n",
       "           Titre de la contrepartie  Quantité  Montant unitaire total  \n",
       "0     Adhésion à vie - Tarif réduit       1.0                    39.0  \n",
       "1     Adhésion à vie - Tarif réduit       1.0                    39.0  \n",
       "2              ADHÉSION À VIE - Duo       1.0                    99.0  \n",
       "3     Adhésion à vie - Tarif réduit       1.0                    39.0  \n",
       "4     Adhésion à vie - Tarif réduit       1.0                    39.0  \n",
       "...                             ...       ...                     ...  \n",
       "1162  Adhésion à vie - Tarif réduit       1.0                    39.0  \n",
       "1163  Adhésion à vie - Tarif normal       1.0                    79.0  \n",
       "1164  Adhésion à vie - Tarif réduit       1.0                    39.0  \n",
       "1165  Adhésion à vie - Tarif réduit       1.0                    39.0  \n",
       "1166  Adhésion à vie - Tarif réduit       1.0                    39.0  \n",
       "\n",
       "[1156 rows x 13 columns]"
      ]
     },
     "execution_count": 27,
     "metadata": {},
     "output_type": "execute_result"
    }
   ],
   "source": [
    "df1"
   ]
  },
  {
   "cell_type": "code",
   "execution_count": 28,
   "metadata": {},
   "outputs": [
    {
     "data": {
      "text/html": [
       "<div>\n",
       "<style scoped>\n",
       "    .dataframe tbody tr th:only-of-type {\n",
       "        vertical-align: middle;\n",
       "    }\n",
       "\n",
       "    .dataframe tbody tr th {\n",
       "        vertical-align: top;\n",
       "    }\n",
       "\n",
       "    .dataframe thead th {\n",
       "        text-align: right;\n",
       "    }\n",
       "</style>\n",
       "<table border=\"1\" class=\"dataframe\">\n",
       "  <thead>\n",
       "    <tr style=\"text-align: right;\">\n",
       "      <th></th>\n",
       "      <th>Prénom</th>\n",
       "      <th>Nom</th>\n",
       "      <th>Sexe</th>\n",
       "      <th>Adresse</th>\n",
       "      <th>Code postal</th>\n",
       "      <th>Ville</th>\n",
       "      <th>Région</th>\n",
       "      <th>Pays</th>\n",
       "      <th>Nom d'utilisateur</th>\n",
       "      <th>Identifiant de la contrepartie</th>\n",
       "      <th>Titre de la contrepartie</th>\n",
       "      <th>Quantité</th>\n",
       "      <th>Montant unitaire total</th>\n",
       "    </tr>\n",
       "  </thead>\n",
       "  <tbody>\n",
       "    <tr>\n",
       "      <th>12</th>\n",
       "      <td>Laetitia</td>\n",
       "      <td>Prasit</td>\n",
       "      <td>F</td>\n",
       "      <td>Bis Avenue Paul Doumer</td>\n",
       "      <td>92500</td>\n",
       "      <td>Rueil-Malmaison</td>\n",
       "      <td>Uninformed</td>\n",
       "      <td>FR</td>\n",
       "      <td>tititenten</td>\n",
       "      <td>655971.0</td>\n",
       "      <td>Adhésion à vie - Tarif réduit</td>\n",
       "      <td>1.0</td>\n",
       "      <td>39.0</td>\n",
       "    </tr>\n",
       "    <tr>\n",
       "      <th>14</th>\n",
       "      <td>Sandrine</td>\n",
       "      <td>PEPIN</td>\n",
       "      <td>F</td>\n",
       "      <td>Impasse Du Canal</td>\n",
       "      <td>31270</td>\n",
       "      <td>Cugnaux</td>\n",
       "      <td>Uninformed</td>\n",
       "      <td>FR</td>\n",
       "      <td>sandy-pepin</td>\n",
       "      <td>655971.0</td>\n",
       "      <td>Adhésion à vie - Tarif réduit</td>\n",
       "      <td>1.0</td>\n",
       "      <td>39.0</td>\n",
       "    </tr>\n",
       "    <tr>\n",
       "      <th>15</th>\n",
       "      <td>Patricia</td>\n",
       "      <td>Moissonnier-Cuney</td>\n",
       "      <td>F</td>\n",
       "      <td>Rue Du Grand Villard</td>\n",
       "      <td>39260</td>\n",
       "      <td>Villards d'Héria</td>\n",
       "      <td>Uninformed</td>\n",
       "      <td>FR</td>\n",
       "      <td>fab-166</td>\n",
       "      <td>655971.0</td>\n",
       "      <td>Adhésion à vie - Tarif réduit</td>\n",
       "      <td>1.0</td>\n",
       "      <td>39.0</td>\n",
       "    </tr>\n",
       "    <tr>\n",
       "      <th>20</th>\n",
       "      <td>Hélène</td>\n",
       "      <td>PERDEREAU</td>\n",
       "      <td>F</td>\n",
       "      <td>Lieu Dit Le Champ De Devant</td>\n",
       "      <td>72250</td>\n",
       "      <td>Parigné l'évêque</td>\n",
       "      <td>Uninformed</td>\n",
       "      <td>FR</td>\n",
       "      <td>hanounyosh</td>\n",
       "      <td>655971.0</td>\n",
       "      <td>Adhésion à vie - Tarif réduit</td>\n",
       "      <td>1.0</td>\n",
       "      <td>39.0</td>\n",
       "    </tr>\n",
       "    <tr>\n",
       "      <th>39</th>\n",
       "      <td>Véronique</td>\n",
       "      <td>Thiebaut</td>\n",
       "      <td>F</td>\n",
       "      <td>Route Du Pont De Dammarie</td>\n",
       "      <td>55000</td>\n",
       "      <td>SAVONNIERES DEVANT BAR</td>\n",
       "      <td>Uninformed</td>\n",
       "      <td>FR</td>\n",
       "      <td>veronique-dandeu</td>\n",
       "      <td>655971.0</td>\n",
       "      <td>Adhésion à vie - Tarif réduit</td>\n",
       "      <td>1.0</td>\n",
       "      <td>39.0</td>\n",
       "    </tr>\n",
       "    <tr>\n",
       "      <th>...</th>\n",
       "      <td>...</td>\n",
       "      <td>...</td>\n",
       "      <td>...</td>\n",
       "      <td>...</td>\n",
       "      <td>...</td>\n",
       "      <td>...</td>\n",
       "      <td>...</td>\n",
       "      <td>...</td>\n",
       "      <td>...</td>\n",
       "      <td>...</td>\n",
       "      <td>...</td>\n",
       "      <td>...</td>\n",
       "      <td>...</td>\n",
       "    </tr>\n",
       "    <tr>\n",
       "      <th>1127</th>\n",
       "      <td>Valérie</td>\n",
       "      <td>COLLOT</td>\n",
       "      <td>F</td>\n",
       "      <td>Lotissement Les Boutons D'Or</td>\n",
       "      <td>07340</td>\n",
       "      <td>FELINES</td>\n",
       "      <td>Uninformed</td>\n",
       "      <td>FR</td>\n",
       "      <td>valriecollot</td>\n",
       "      <td>655971.0</td>\n",
       "      <td>Adhésion à vie - Tarif réduit</td>\n",
       "      <td>1.0</td>\n",
       "      <td>39.0</td>\n",
       "    </tr>\n",
       "    <tr>\n",
       "      <th>1132</th>\n",
       "      <td>Manon</td>\n",
       "      <td>CHARRIEAU</td>\n",
       "      <td>F</td>\n",
       "      <td>Chemin Du Grand Roc Fer</td>\n",
       "      <td>86280</td>\n",
       "      <td>St benoit</td>\n",
       "      <td>Uninformed</td>\n",
       "      <td>FR</td>\n",
       "      <td>manon-charrieau</td>\n",
       "      <td>655971.0</td>\n",
       "      <td>Adhésion à vie - Tarif réduit</td>\n",
       "      <td>1.0</td>\n",
       "      <td>39.0</td>\n",
       "    </tr>\n",
       "    <tr>\n",
       "      <th>1148</th>\n",
       "      <td>Maïlys</td>\n",
       "      <td>Lemasson</td>\n",
       "      <td>F</td>\n",
       "      <td>Avenue De Champagne</td>\n",
       "      <td>74200</td>\n",
       "      <td>Thonon-les-Bains</td>\n",
       "      <td>Uninformed</td>\n",
       "      <td>FR</td>\n",
       "      <td>malyslemasson</td>\n",
       "      <td>655971.0</td>\n",
       "      <td>Adhésion à vie - Tarif réduit</td>\n",
       "      <td>1.0</td>\n",
       "      <td>39.0</td>\n",
       "    </tr>\n",
       "    <tr>\n",
       "      <th>1151</th>\n",
       "      <td>Ilfynn</td>\n",
       "      <td>LAGARDE</td>\n",
       "      <td>F</td>\n",
       "      <td>Boulevard De Clichy</td>\n",
       "      <td>75018</td>\n",
       "      <td>Paris</td>\n",
       "      <td>Uninformed</td>\n",
       "      <td>FR</td>\n",
       "      <td>ilflag</td>\n",
       "      <td>655971.0</td>\n",
       "      <td>Adhésion à vie - Tarif réduit</td>\n",
       "      <td>1.0</td>\n",
       "      <td>39.0</td>\n",
       "    </tr>\n",
       "    <tr>\n",
       "      <th>1158</th>\n",
       "      <td>Alix</td>\n",
       "      <td>Lecocq</td>\n",
       "      <td>F</td>\n",
       "      <td>Rue Du Simplon</td>\n",
       "      <td>75018</td>\n",
       "      <td>Paris</td>\n",
       "      <td>Uninformed</td>\n",
       "      <td>FR</td>\n",
       "      <td>alixlecocq</td>\n",
       "      <td>655971.0</td>\n",
       "      <td>Adhésion à vie - Tarif réduit</td>\n",
       "      <td>1.0</td>\n",
       "      <td>39.0</td>\n",
       "    </tr>\n",
       "  </tbody>\n",
       "</table>\n",
       "<p>320 rows × 13 columns</p>\n",
       "</div>"
      ],
      "text/plain": [
       "         Prénom                Nom Sexe                        Adresse  \\\n",
       "12     Laetitia             Prasit    F         Bis Avenue Paul Doumer   \n",
       "14     Sandrine              PEPIN    F               Impasse Du Canal   \n",
       "15     Patricia  Moissonnier-Cuney    F           Rue Du Grand Villard   \n",
       "20       Hélène          PERDEREAU    F    Lieu Dit Le Champ De Devant   \n",
       "39    Véronique           Thiebaut    F     Route Du Pont De Dammarie    \n",
       "...         ...                ...  ...                            ...   \n",
       "1127    Valérie             COLLOT    F   Lotissement Les Boutons D'Or   \n",
       "1132      Manon          CHARRIEAU    F        Chemin Du Grand Roc Fer   \n",
       "1148     Maïlys           Lemasson    F            Avenue De Champagne   \n",
       "1151     Ilfynn            LAGARDE    F            Boulevard De Clichy   \n",
       "1158       Alix             Lecocq    F                 Rue Du Simplon   \n",
       "\n",
       "     Code postal                   Ville      Région Pays Nom d'utilisateur  \\\n",
       "12         92500         Rueil-Malmaison  Uninformed   FR        tititenten   \n",
       "14         31270                 Cugnaux  Uninformed   FR       sandy-pepin   \n",
       "15         39260        Villards d'Héria  Uninformed   FR           fab-166   \n",
       "20         72250        Parigné l'évêque  Uninformed   FR        hanounyosh   \n",
       "39         55000  SAVONNIERES DEVANT BAR  Uninformed   FR  veronique-dandeu   \n",
       "...          ...                     ...         ...  ...               ...   \n",
       "1127       07340                 FELINES  Uninformed   FR      valriecollot   \n",
       "1132       86280               St benoit  Uninformed   FR   manon-charrieau   \n",
       "1148       74200        Thonon-les-Bains  Uninformed   FR     malyslemasson   \n",
       "1151       75018                   Paris  Uninformed   FR            ilflag   \n",
       "1158       75018                   Paris  Uninformed   FR        alixlecocq   \n",
       "\n",
       "      Identifiant de la contrepartie       Titre de la contrepartie  Quantité  \\\n",
       "12                          655971.0  Adhésion à vie - Tarif réduit       1.0   \n",
       "14                          655971.0  Adhésion à vie - Tarif réduit       1.0   \n",
       "15                          655971.0  Adhésion à vie - Tarif réduit       1.0   \n",
       "20                          655971.0  Adhésion à vie - Tarif réduit       1.0   \n",
       "39                          655971.0  Adhésion à vie - Tarif réduit       1.0   \n",
       "...                              ...                            ...       ...   \n",
       "1127                        655971.0  Adhésion à vie - Tarif réduit       1.0   \n",
       "1132                        655971.0  Adhésion à vie - Tarif réduit       1.0   \n",
       "1148                        655971.0  Adhésion à vie - Tarif réduit       1.0   \n",
       "1151                        655971.0  Adhésion à vie - Tarif réduit       1.0   \n",
       "1158                        655971.0  Adhésion à vie - Tarif réduit       1.0   \n",
       "\n",
       "      Montant unitaire total  \n",
       "12                      39.0  \n",
       "14                      39.0  \n",
       "15                      39.0  \n",
       "20                      39.0  \n",
       "39                      39.0  \n",
       "...                      ...  \n",
       "1127                    39.0  \n",
       "1132                    39.0  \n",
       "1148                    39.0  \n",
       "1151                    39.0  \n",
       "1158                    39.0  \n",
       "\n",
       "[320 rows x 13 columns]"
      ]
     },
     "execution_count": 28,
     "metadata": {},
     "output_type": "execute_result"
    }
   ],
   "source": [
    "df1.query('Région == \"Uninformed\"')"
   ]
  },
  {
   "cell_type": "code",
   "execution_count": 29,
   "metadata": {
    "scrolled": false
   },
   "outputs": [
    {
     "data": {
      "text/html": [
       "<div>\n",
       "<style scoped>\n",
       "    .dataframe tbody tr th:only-of-type {\n",
       "        vertical-align: middle;\n",
       "    }\n",
       "\n",
       "    .dataframe tbody tr th {\n",
       "        vertical-align: top;\n",
       "    }\n",
       "\n",
       "    .dataframe thead th {\n",
       "        text-align: right;\n",
       "    }\n",
       "</style>\n",
       "<table border=\"1\" class=\"dataframe\">\n",
       "  <thead>\n",
       "    <tr style=\"text-align: right;\">\n",
       "      <th></th>\n",
       "      <th>Prénom</th>\n",
       "      <th>Nom</th>\n",
       "      <th>Sexe</th>\n",
       "      <th>Adresse</th>\n",
       "      <th>Code postal</th>\n",
       "      <th>Ville</th>\n",
       "      <th>Région</th>\n",
       "      <th>Pays</th>\n",
       "      <th>Nom d'utilisateur</th>\n",
       "      <th>Identifiant de la contrepartie</th>\n",
       "      <th>Titre de la contrepartie</th>\n",
       "      <th>Quantité</th>\n",
       "      <th>Montant unitaire total</th>\n",
       "    </tr>\n",
       "  </thead>\n",
       "  <tbody>\n",
       "    <tr>\n",
       "      <th>537</th>\n",
       "      <td>Uninformed</td>\n",
       "      <td>Uninformed</td>\n",
       "      <td>F</td>\n",
       "      <td>Uninformed</td>\n",
       "      <td>Uninformed</td>\n",
       "      <td>Uninformed</td>\n",
       "      <td>Uninformed</td>\n",
       "      <td>Uninformed</td>\n",
       "      <td>galou73</td>\n",
       "      <td>655971.0</td>\n",
       "      <td>Adhésion à vie - Tarif réduit</td>\n",
       "      <td>1.0</td>\n",
       "      <td>39.0</td>\n",
       "    </tr>\n",
       "    <tr>\n",
       "      <th>985</th>\n",
       "      <td>Uninformed</td>\n",
       "      <td>Uninformed</td>\n",
       "      <td>Uninformed</td>\n",
       "      <td>Uninformed</td>\n",
       "      <td>Uninformed</td>\n",
       "      <td>Uninformed</td>\n",
       "      <td>Uninformed</td>\n",
       "      <td>Uninformed</td>\n",
       "      <td>erzbeth</td>\n",
       "      <td>655971.0</td>\n",
       "      <td>Adhésion à vie - Tarif réduit</td>\n",
       "      <td>1.0</td>\n",
       "      <td>39.0</td>\n",
       "    </tr>\n",
       "  </tbody>\n",
       "</table>\n",
       "</div>"
      ],
      "text/plain": [
       "         Prénom         Nom        Sexe     Adresse Code postal       Ville  \\\n",
       "537  Uninformed  Uninformed           F  Uninformed  Uninformed  Uninformed   \n",
       "985  Uninformed  Uninformed  Uninformed  Uninformed  Uninformed  Uninformed   \n",
       "\n",
       "         Région        Pays Nom d'utilisateur  Identifiant de la contrepartie  \\\n",
       "537  Uninformed  Uninformed           galou73                        655971.0   \n",
       "985  Uninformed  Uninformed           erzbeth                        655971.0   \n",
       "\n",
       "          Titre de la contrepartie  Quantité  Montant unitaire total  \n",
       "537  Adhésion à vie - Tarif réduit       1.0                    39.0  \n",
       "985  Adhésion à vie - Tarif réduit       1.0                    39.0  "
      ]
     },
     "execution_count": 29,
     "metadata": {},
     "output_type": "execute_result"
    }
   ],
   "source": [
    "df1.query('Ville == \"Uninformed\"')"
   ]
  },
  {
   "cell_type": "code",
   "execution_count": 30,
   "metadata": {
    "scrolled": true
   },
   "outputs": [
    {
     "data": {
      "text/html": [
       "<div>\n",
       "<style scoped>\n",
       "    .dataframe tbody tr th:only-of-type {\n",
       "        vertical-align: middle;\n",
       "    }\n",
       "\n",
       "    .dataframe tbody tr th {\n",
       "        vertical-align: top;\n",
       "    }\n",
       "\n",
       "    .dataframe thead th {\n",
       "        text-align: right;\n",
       "    }\n",
       "</style>\n",
       "<table border=\"1\" class=\"dataframe\">\n",
       "  <thead>\n",
       "    <tr style=\"text-align: right;\">\n",
       "      <th></th>\n",
       "      <th>Prénom</th>\n",
       "      <th>Nom</th>\n",
       "      <th>Sexe</th>\n",
       "      <th>Adresse</th>\n",
       "      <th>Code postal</th>\n",
       "      <th>Ville</th>\n",
       "      <th>Région</th>\n",
       "      <th>Pays</th>\n",
       "      <th>Nom d'utilisateur</th>\n",
       "      <th>Identifiant de la contrepartie</th>\n",
       "      <th>Titre de la contrepartie</th>\n",
       "      <th>Quantité</th>\n",
       "      <th>Montant unitaire total</th>\n",
       "    </tr>\n",
       "  </thead>\n",
       "  <tbody>\n",
       "    <tr>\n",
       "      <th>537</th>\n",
       "      <td>Uninformed</td>\n",
       "      <td>Uninformed</td>\n",
       "      <td>F</td>\n",
       "      <td>Uninformed</td>\n",
       "      <td>Uninformed</td>\n",
       "      <td>Uninformed</td>\n",
       "      <td>Uninformed</td>\n",
       "      <td>Uninformed</td>\n",
       "      <td>galou73</td>\n",
       "      <td>655971.0</td>\n",
       "      <td>Adhésion à vie - Tarif réduit</td>\n",
       "      <td>1.0</td>\n",
       "      <td>39.0</td>\n",
       "    </tr>\n",
       "    <tr>\n",
       "      <th>985</th>\n",
       "      <td>Uninformed</td>\n",
       "      <td>Uninformed</td>\n",
       "      <td>Uninformed</td>\n",
       "      <td>Uninformed</td>\n",
       "      <td>Uninformed</td>\n",
       "      <td>Uninformed</td>\n",
       "      <td>Uninformed</td>\n",
       "      <td>Uninformed</td>\n",
       "      <td>erzbeth</td>\n",
       "      <td>655971.0</td>\n",
       "      <td>Adhésion à vie - Tarif réduit</td>\n",
       "      <td>1.0</td>\n",
       "      <td>39.0</td>\n",
       "    </tr>\n",
       "  </tbody>\n",
       "</table>\n",
       "</div>"
      ],
      "text/plain": [
       "         Prénom         Nom        Sexe     Adresse Code postal       Ville  \\\n",
       "537  Uninformed  Uninformed           F  Uninformed  Uninformed  Uninformed   \n",
       "985  Uninformed  Uninformed  Uninformed  Uninformed  Uninformed  Uninformed   \n",
       "\n",
       "         Région        Pays Nom d'utilisateur  Identifiant de la contrepartie  \\\n",
       "537  Uninformed  Uninformed           galou73                        655971.0   \n",
       "985  Uninformed  Uninformed           erzbeth                        655971.0   \n",
       "\n",
       "          Titre de la contrepartie  Quantité  Montant unitaire total  \n",
       "537  Adhésion à vie - Tarif réduit       1.0                    39.0  \n",
       "985  Adhésion à vie - Tarif réduit       1.0                    39.0  "
      ]
     },
     "execution_count": 30,
     "metadata": {},
     "output_type": "execute_result"
    }
   ],
   "source": [
    "df1.query('Pays == \"Uninformed\"')"
   ]
  },
  {
   "cell_type": "code",
   "execution_count": 31,
   "metadata": {},
   "outputs": [],
   "source": [
    "df1.reset_index(drop=True, inplace=True)"
   ]
  },
  {
   "cell_type": "code",
   "execution_count": null,
   "metadata": {},
   "outputs": [],
   "source": []
  },
  {
   "cell_type": "code",
   "execution_count": 32,
   "metadata": {},
   "outputs": [],
   "source": [
    "from functools import partial\n"
   ]
  },
  {
   "cell_type": "code",
   "execution_count": 33,
   "metadata": {},
   "outputs": [],
   "source": [
    "geolocator = Nominatim(user_agent='your_search')"
   ]
  },
  {
   "cell_type": "code",
   "execution_count": 34,
   "metadata": {
    "run_control": {
     "marked": false
    }
   },
   "outputs": [],
   "source": [
    "#geocode = partial(geolocator.geocode, language=\"fr\")\n"
   ]
  },
  {
   "cell_type": "code",
   "execution_count": 35,
   "metadata": {},
   "outputs": [],
   "source": [
    "def geolocate(city):\n",
    "    try:\n",
    "            # Geolocate the center of the country\n",
    "            loc = geolocator.geocode(city, language='fr')\n",
    "            # And return latitude and longitude \n",
    "            return loc.address\n",
    "        # Otherwise\n",
    "    except:\n",
    "            # Return missing value\n",
    "            return np.nan"
   ]
  },
  {
   "cell_type": "code",
   "execution_count": 36,
   "metadata": {
    "run_control": {
     "marked": false
    }
   },
   "outputs": [],
   "source": [
    "#geolocate('Paris 13e Arrondissement')"
   ]
  },
  {
   "cell_type": "code",
   "execution_count": 37,
   "metadata": {
    "run_control": {
     "marked": false
    },
    "scrolled": true
   },
   "outputs": [],
   "source": [
    "#tqdm.pandas()"
   ]
  },
  {
   "cell_type": "code",
   "execution_count": 38,
   "metadata": {
    "scrolled": false
   },
   "outputs": [],
   "source": [
    "#df1['Location'] = df1['Ville'].progress_apply(geolocate)"
   ]
  },
  {
   "cell_type": "code",
   "execution_count": 39,
   "metadata": {},
   "outputs": [],
   "source": [
    "#df1.loc[df1.Location.index == 1054, 'Location'] = geolocate('75009')"
   ]
  },
  {
   "cell_type": "code",
   "execution_count": 40,
   "metadata": {
    "scrolled": false
   },
   "outputs": [],
   "source": [
    "#df1.loc[df1.Location.isnull()]"
   ]
  },
  {
   "cell_type": "code",
   "execution_count": 41,
   "metadata": {
    "collapsed": true
   },
   "outputs": [
    {
     "data": {
      "text/html": [
       "<div>\n",
       "<style scoped>\n",
       "    .dataframe tbody tr th:only-of-type {\n",
       "        vertical-align: middle;\n",
       "    }\n",
       "\n",
       "    .dataframe tbody tr th {\n",
       "        vertical-align: top;\n",
       "    }\n",
       "\n",
       "    .dataframe thead th {\n",
       "        text-align: right;\n",
       "    }\n",
       "</style>\n",
       "<table border=\"1\" class=\"dataframe\">\n",
       "  <thead>\n",
       "    <tr style=\"text-align: right;\">\n",
       "      <th></th>\n",
       "      <th>Prénom</th>\n",
       "      <th>Nom</th>\n",
       "      <th>Sexe</th>\n",
       "      <th>Adresse</th>\n",
       "      <th>Code postal</th>\n",
       "      <th>Ville</th>\n",
       "      <th>Région</th>\n",
       "      <th>Pays</th>\n",
       "      <th>Nom d'utilisateur</th>\n",
       "      <th>Identifiant de la contrepartie</th>\n",
       "      <th>Titre de la contrepartie</th>\n",
       "      <th>Quantité</th>\n",
       "      <th>Montant unitaire total</th>\n",
       "    </tr>\n",
       "  </thead>\n",
       "  <tbody>\n",
       "    <tr>\n",
       "      <th>0</th>\n",
       "      <td>romain</td>\n",
       "      <td>romain</td>\n",
       "      <td>H</td>\n",
       "      <td>Place Franklin</td>\n",
       "      <td>68100</td>\n",
       "      <td>Mulhouse</td>\n",
       "      <td>Grand-Est</td>\n",
       "      <td>FR</td>\n",
       "      <td>romain-fontanel</td>\n",
       "      <td>655971.0</td>\n",
       "      <td>Adhésion à vie - Tarif réduit</td>\n",
       "      <td>1.0</td>\n",
       "      <td>39.0</td>\n",
       "    </tr>\n",
       "    <tr>\n",
       "      <th>1</th>\n",
       "      <td>Élodie</td>\n",
       "      <td>Ramel</td>\n",
       "      <td>F</td>\n",
       "      <td>Avenue Albert Laurens</td>\n",
       "      <td>34230</td>\n",
       "      <td>Saint-Pargoire</td>\n",
       "      <td>Occitanie</td>\n",
       "      <td>FR</td>\n",
       "      <td>elodie-ramel</td>\n",
       "      <td>655971.0</td>\n",
       "      <td>Adhésion à vie - Tarif réduit</td>\n",
       "      <td>1.0</td>\n",
       "      <td>39.0</td>\n",
       "    </tr>\n",
       "    <tr>\n",
       "      <th>2</th>\n",
       "      <td>Amel</td>\n",
       "      <td>Ahmedou</td>\n",
       "      <td>F</td>\n",
       "      <td>Allée Alexandre Vialatte</td>\n",
       "      <td>75013</td>\n",
       "      <td>Paris 13e Arrondissement</td>\n",
       "      <td>Île-de-France</td>\n",
       "      <td>FR</td>\n",
       "      <td>melacafez</td>\n",
       "      <td>656196.0</td>\n",
       "      <td>ADHÉSION À VIE - Duo</td>\n",
       "      <td>1.0</td>\n",
       "      <td>99.0</td>\n",
       "    </tr>\n",
       "    <tr>\n",
       "      <th>3</th>\n",
       "      <td>Elina</td>\n",
       "      <td>Le Gourvellec</td>\n",
       "      <td>F</td>\n",
       "      <td>Avenue De L'Alcyon</td>\n",
       "      <td>44300</td>\n",
       "      <td>Nantes</td>\n",
       "      <td>Pays-de-la-Loire</td>\n",
       "      <td>FR</td>\n",
       "      <td>elinalegourvellec</td>\n",
       "      <td>655971.0</td>\n",
       "      <td>Adhésion à vie - Tarif réduit</td>\n",
       "      <td>1.0</td>\n",
       "      <td>39.0</td>\n",
       "    </tr>\n",
       "    <tr>\n",
       "      <th>4</th>\n",
       "      <td>PHILIPPE</td>\n",
       "      <td>BIGOT</td>\n",
       "      <td>H</td>\n",
       "      <td>Impasse Du Chemin De Gesnes</td>\n",
       "      <td>61000</td>\n",
       "      <td>Saint-Germain-du-Corbéis</td>\n",
       "      <td>Normandie</td>\n",
       "      <td>FR</td>\n",
       "      <td>phmabigot</td>\n",
       "      <td>655971.0</td>\n",
       "      <td>Adhésion à vie - Tarif réduit</td>\n",
       "      <td>1.0</td>\n",
       "      <td>39.0</td>\n",
       "    </tr>\n",
       "    <tr>\n",
       "      <th>...</th>\n",
       "      <td>...</td>\n",
       "      <td>...</td>\n",
       "      <td>...</td>\n",
       "      <td>...</td>\n",
       "      <td>...</td>\n",
       "      <td>...</td>\n",
       "      <td>...</td>\n",
       "      <td>...</td>\n",
       "      <td>...</td>\n",
       "      <td>...</td>\n",
       "      <td>...</td>\n",
       "      <td>...</td>\n",
       "      <td>...</td>\n",
       "    </tr>\n",
       "    <tr>\n",
       "      <th>1151</th>\n",
       "      <td>Barbara</td>\n",
       "      <td>Attal</td>\n",
       "      <td>F</td>\n",
       "      <td>Place Des Cordeliers</td>\n",
       "      <td>07100</td>\n",
       "      <td>Annonay</td>\n",
       "      <td>Auvergne-Rhône-Alpes</td>\n",
       "      <td>FR</td>\n",
       "      <td>attal-noel</td>\n",
       "      <td>655971.0</td>\n",
       "      <td>Adhésion à vie - Tarif réduit</td>\n",
       "      <td>1.0</td>\n",
       "      <td>39.0</td>\n",
       "    </tr>\n",
       "    <tr>\n",
       "      <th>1152</th>\n",
       "      <td>Jamie</td>\n",
       "      <td>Attal</td>\n",
       "      <td>F</td>\n",
       "      <td>Route Du Grand Mûrier</td>\n",
       "      <td>07100</td>\n",
       "      <td>Boulieu-lès-Annonay</td>\n",
       "      <td>Auvergne-Rhône-Alpes</td>\n",
       "      <td>FR</td>\n",
       "      <td>attaljamie</td>\n",
       "      <td>657937.0</td>\n",
       "      <td>Adhésion à vie - Tarif normal</td>\n",
       "      <td>1.0</td>\n",
       "      <td>79.0</td>\n",
       "    </tr>\n",
       "    <tr>\n",
       "      <th>1153</th>\n",
       "      <td>Floriane</td>\n",
       "      <td>Emy</td>\n",
       "      <td>F</td>\n",
       "      <td>Rue Du Président Édouard Herriot</td>\n",
       "      <td>69002</td>\n",
       "      <td>Lyon 2e Arrondissement</td>\n",
       "      <td>Auvergne-Rhône-Alpes</td>\n",
       "      <td>FR</td>\n",
       "      <td>floriane-emy</td>\n",
       "      <td>655971.0</td>\n",
       "      <td>Adhésion à vie - Tarif réduit</td>\n",
       "      <td>1.0</td>\n",
       "      <td>39.0</td>\n",
       "    </tr>\n",
       "    <tr>\n",
       "      <th>1154</th>\n",
       "      <td>Marina</td>\n",
       "      <td>Rodrigues</td>\n",
       "      <td>F</td>\n",
       "      <td>Route D'Arnand</td>\n",
       "      <td>74210</td>\n",
       "      <td>Doussard</td>\n",
       "      <td>Auvergne-Rhône-Alpes</td>\n",
       "      <td>FR</td>\n",
       "      <td>marina-espiller</td>\n",
       "      <td>655971.0</td>\n",
       "      <td>Adhésion à vie - Tarif réduit</td>\n",
       "      <td>1.0</td>\n",
       "      <td>39.0</td>\n",
       "    </tr>\n",
       "    <tr>\n",
       "      <th>1155</th>\n",
       "      <td>Aude</td>\n",
       "      <td>DIOP</td>\n",
       "      <td>F</td>\n",
       "      <td>Rue Adjudant Chef Clapot</td>\n",
       "      <td>40000</td>\n",
       "      <td>Mont-de-Marsan</td>\n",
       "      <td>Nouvelle-Aquitaine</td>\n",
       "      <td>FR</td>\n",
       "      <td>aude-joannisdiop</td>\n",
       "      <td>655971.0</td>\n",
       "      <td>Adhésion à vie - Tarif réduit</td>\n",
       "      <td>1.0</td>\n",
       "      <td>39.0</td>\n",
       "    </tr>\n",
       "  </tbody>\n",
       "</table>\n",
       "<p>1156 rows × 13 columns</p>\n",
       "</div>"
      ],
      "text/plain": [
       "        Prénom            Nom Sexe                            Adresse  \\\n",
       "0       romain         romain    H                     Place Franklin   \n",
       "1       Élodie          Ramel    F              Avenue Albert Laurens   \n",
       "2         Amel        Ahmedou    F           Allée Alexandre Vialatte   \n",
       "3        Elina  Le Gourvellec    F                 Avenue De L'Alcyon   \n",
       "4     PHILIPPE          BIGOT    H        Impasse Du Chemin De Gesnes   \n",
       "...        ...            ...  ...                                ...   \n",
       "1151   Barbara          Attal    F               Place Des Cordeliers   \n",
       "1152     Jamie          Attal    F              Route Du Grand Mûrier   \n",
       "1153  Floriane            Emy    F   Rue Du Président Édouard Herriot   \n",
       "1154    Marina      Rodrigues    F                     Route D'Arnand   \n",
       "1155      Aude           DIOP    F           Rue Adjudant Chef Clapot   \n",
       "\n",
       "     Code postal                     Ville                Région Pays  \\\n",
       "0          68100                  Mulhouse             Grand-Est   FR   \n",
       "1          34230            Saint-Pargoire             Occitanie   FR   \n",
       "2          75013  Paris 13e Arrondissement         Île-de-France   FR   \n",
       "3          44300                    Nantes      Pays-de-la-Loire   FR   \n",
       "4          61000  Saint-Germain-du-Corbéis             Normandie   FR   \n",
       "...          ...                       ...                   ...  ...   \n",
       "1151       07100                   Annonay  Auvergne-Rhône-Alpes   FR   \n",
       "1152       07100       Boulieu-lès-Annonay  Auvergne-Rhône-Alpes   FR   \n",
       "1153       69002    Lyon 2e Arrondissement  Auvergne-Rhône-Alpes   FR   \n",
       "1154       74210                  Doussard  Auvergne-Rhône-Alpes   FR   \n",
       "1155       40000            Mont-de-Marsan    Nouvelle-Aquitaine   FR   \n",
       "\n",
       "      Nom d'utilisateur  Identifiant de la contrepartie  \\\n",
       "0       romain-fontanel                        655971.0   \n",
       "1          elodie-ramel                        655971.0   \n",
       "2             melacafez                        656196.0   \n",
       "3     elinalegourvellec                        655971.0   \n",
       "4             phmabigot                        655971.0   \n",
       "...                 ...                             ...   \n",
       "1151         attal-noel                        655971.0   \n",
       "1152         attaljamie                        657937.0   \n",
       "1153       floriane-emy                        655971.0   \n",
       "1154    marina-espiller                        655971.0   \n",
       "1155   aude-joannisdiop                        655971.0   \n",
       "\n",
       "           Titre de la contrepartie  Quantité  Montant unitaire total  \n",
       "0     Adhésion à vie - Tarif réduit       1.0                    39.0  \n",
       "1     Adhésion à vie - Tarif réduit       1.0                    39.0  \n",
       "2              ADHÉSION À VIE - Duo       1.0                    99.0  \n",
       "3     Adhésion à vie - Tarif réduit       1.0                    39.0  \n",
       "4     Adhésion à vie - Tarif réduit       1.0                    39.0  \n",
       "...                             ...       ...                     ...  \n",
       "1151  Adhésion à vie - Tarif réduit       1.0                    39.0  \n",
       "1152  Adhésion à vie - Tarif normal       1.0                    79.0  \n",
       "1153  Adhésion à vie - Tarif réduit       1.0                    39.0  \n",
       "1154  Adhésion à vie - Tarif réduit       1.0                    39.0  \n",
       "1155  Adhésion à vie - Tarif réduit       1.0                    39.0  \n",
       "\n",
       "[1156 rows x 13 columns]"
      ]
     },
     "execution_count": 41,
     "metadata": {},
     "output_type": "execute_result"
    }
   ],
   "source": [
    "df1"
   ]
  },
  {
   "cell_type": "code",
   "execution_count": 42,
   "metadata": {},
   "outputs": [],
   "source": [
    " #df1['Country'] = df1['Location'].str.split(',').str.get(-1)"
   ]
  },
  {
   "cell_type": "code",
   "execution_count": 43,
   "metadata": {
    "scrolled": true
   },
   "outputs": [
    {
     "data": {
      "text/html": [
       "<div>\n",
       "<style scoped>\n",
       "    .dataframe tbody tr th:only-of-type {\n",
       "        vertical-align: middle;\n",
       "    }\n",
       "\n",
       "    .dataframe tbody tr th {\n",
       "        vertical-align: top;\n",
       "    }\n",
       "\n",
       "    .dataframe thead th {\n",
       "        text-align: right;\n",
       "    }\n",
       "</style>\n",
       "<table border=\"1\" class=\"dataframe\">\n",
       "  <thead>\n",
       "    <tr style=\"text-align: right;\">\n",
       "      <th></th>\n",
       "      <th>Prénom</th>\n",
       "      <th>Nom</th>\n",
       "      <th>Sexe</th>\n",
       "      <th>Adresse</th>\n",
       "      <th>Code postal</th>\n",
       "      <th>Ville</th>\n",
       "      <th>Région</th>\n",
       "      <th>Pays</th>\n",
       "      <th>Nom d'utilisateur</th>\n",
       "      <th>Identifiant de la contrepartie</th>\n",
       "      <th>Titre de la contrepartie</th>\n",
       "      <th>Quantité</th>\n",
       "      <th>Montant unitaire total</th>\n",
       "    </tr>\n",
       "  </thead>\n",
       "  <tbody>\n",
       "    <tr>\n",
       "      <th>151</th>\n",
       "      <td>Matthieu</td>\n",
       "      <td>Bulgrin</td>\n",
       "      <td>H</td>\n",
       "      <td>Hauptstrasse C</td>\n",
       "      <td>40668</td>\n",
       "      <td>Meerbusch</td>\n",
       "      <td>Uninformed</td>\n",
       "      <td>DE</td>\n",
       "      <td>matthieu75003</td>\n",
       "      <td>655971.0</td>\n",
       "      <td>Adhésion à vie - Tarif réduit</td>\n",
       "      <td>1.0</td>\n",
       "      <td>39.0</td>\n",
       "    </tr>\n",
       "    <tr>\n",
       "      <th>316</th>\n",
       "      <td>Manon</td>\n",
       "      <td>Guidarelli</td>\n",
       "      <td>F</td>\n",
       "      <td>B Avenue Louis Caristan</td>\n",
       "      <td>97354</td>\n",
       "      <td>Rémire-Montjoly</td>\n",
       "      <td>Uninformed</td>\n",
       "      <td>GF</td>\n",
       "      <td>guidarelli-manon</td>\n",
       "      <td>655971.0</td>\n",
       "      <td>Adhésion à vie - Tarif réduit</td>\n",
       "      <td>1.0</td>\n",
       "      <td>39.0</td>\n",
       "    </tr>\n",
       "    <tr>\n",
       "      <th>447</th>\n",
       "      <td>Teddy</td>\n",
       "      <td>Serrano</td>\n",
       "      <td>H</td>\n",
       "      <td>Vestre Teglgade C St. Tv</td>\n",
       "      <td>2450</td>\n",
       "      <td>København SV</td>\n",
       "      <td>Uninformed</td>\n",
       "      <td>DK</td>\n",
       "      <td>teddyserrano</td>\n",
       "      <td>655971.0</td>\n",
       "      <td>Adhésion à vie - Tarif réduit</td>\n",
       "      <td>1.0</td>\n",
       "      <td>39.0</td>\n",
       "    </tr>\n",
       "    <tr>\n",
       "      <th>536</th>\n",
       "      <td>Uninformed</td>\n",
       "      <td>Uninformed</td>\n",
       "      <td>F</td>\n",
       "      <td>Uninformed</td>\n",
       "      <td>Uninformed</td>\n",
       "      <td>Uninformed</td>\n",
       "      <td>Uninformed</td>\n",
       "      <td>Uninformed</td>\n",
       "      <td>galou73</td>\n",
       "      <td>655971.0</td>\n",
       "      <td>Adhésion à vie - Tarif réduit</td>\n",
       "      <td>1.0</td>\n",
       "      <td>39.0</td>\n",
       "    </tr>\n",
       "    <tr>\n",
       "      <th>539</th>\n",
       "      <td>Claire</td>\n",
       "      <td>Cere</td>\n",
       "      <td>F</td>\n",
       "      <td>Herne Cottage\\r\\nAbbey Road</td>\n",
       "      <td>CA27 0ED</td>\n",
       "      <td>St. Bees</td>\n",
       "      <td>Uninformed</td>\n",
       "      <td>GB</td>\n",
       "      <td>clairejaubert</td>\n",
       "      <td>655971.0</td>\n",
       "      <td>Adhésion à vie - Tarif réduit</td>\n",
       "      <td>1.0</td>\n",
       "      <td>39.0</td>\n",
       "    </tr>\n",
       "    <tr>\n",
       "      <th>575</th>\n",
       "      <td>Karin</td>\n",
       "      <td>Niederhauser</td>\n",
       "      <td>F</td>\n",
       "      <td>Chemin De La Distillerie A</td>\n",
       "      <td>1233</td>\n",
       "      <td>Bernex</td>\n",
       "      <td>Uninformed</td>\n",
       "      <td>CH</td>\n",
       "      <td>kpetitdemange</td>\n",
       "      <td>655971.0</td>\n",
       "      <td>Adhésion à vie - Tarif réduit</td>\n",
       "      <td>1.0</td>\n",
       "      <td>39.0</td>\n",
       "    </tr>\n",
       "    <tr>\n",
       "      <th>761</th>\n",
       "      <td>Didier</td>\n",
       "      <td>Carpouron</td>\n",
       "      <td>H</td>\n",
       "      <td>Impasse Du Dérochau</td>\n",
       "      <td>1584</td>\n",
       "      <td>Salavaux</td>\n",
       "      <td>Uninformed</td>\n",
       "      <td>CH</td>\n",
       "      <td>d_carpouron</td>\n",
       "      <td>656196.0</td>\n",
       "      <td>ADHÉSION À VIE - Duo</td>\n",
       "      <td>1.0</td>\n",
       "      <td>99.0</td>\n",
       "    </tr>\n",
       "    <tr>\n",
       "      <th>935</th>\n",
       "      <td>Mélanie</td>\n",
       "      <td>Tuffereau</td>\n",
       "      <td>F</td>\n",
       "      <td>Rue Tétin Savigny</td>\n",
       "      <td>97427</td>\n",
       "      <td>Étang salé les bains</td>\n",
       "      <td>Uninformed</td>\n",
       "      <td>RE</td>\n",
       "      <td>melanituff</td>\n",
       "      <td>655971.0</td>\n",
       "      <td>Adhésion à vie - Tarif réduit</td>\n",
       "      <td>1.0</td>\n",
       "      <td>39.0</td>\n",
       "    </tr>\n",
       "    <tr>\n",
       "      <th>946</th>\n",
       "      <td>Emeline</td>\n",
       "      <td>Duquesne</td>\n",
       "      <td>F</td>\n",
       "      <td>Rue Des Sapins,</td>\n",
       "      <td>7603</td>\n",
       "      <td>Bon-Secours</td>\n",
       "      <td>Uninformed</td>\n",
       "      <td>BE</td>\n",
       "      <td>emyeme</td>\n",
       "      <td>655971.0</td>\n",
       "      <td>Adhésion à vie - Tarif réduit</td>\n",
       "      <td>1.0</td>\n",
       "      <td>39.0</td>\n",
       "    </tr>\n",
       "    <tr>\n",
       "      <th>976</th>\n",
       "      <td>Uninformed</td>\n",
       "      <td>Uninformed</td>\n",
       "      <td>Uninformed</td>\n",
       "      <td>Uninformed</td>\n",
       "      <td>Uninformed</td>\n",
       "      <td>Uninformed</td>\n",
       "      <td>Uninformed</td>\n",
       "      <td>Uninformed</td>\n",
       "      <td>erzbeth</td>\n",
       "      <td>655971.0</td>\n",
       "      <td>Adhésion à vie - Tarif réduit</td>\n",
       "      <td>1.0</td>\n",
       "      <td>39.0</td>\n",
       "    </tr>\n",
       "    <tr>\n",
       "      <th>1005</th>\n",
       "      <td>Matthieu</td>\n",
       "      <td>Bulgrin</td>\n",
       "      <td>F</td>\n",
       "      <td>Hauptstrasse C</td>\n",
       "      <td>40668</td>\n",
       "      <td>Meerbusch</td>\n",
       "      <td>Uninformed</td>\n",
       "      <td>DE</td>\n",
       "      <td>matthieu75003</td>\n",
       "      <td>655971.0</td>\n",
       "      <td>Adhésion à vie - Tarif réduit</td>\n",
       "      <td>1.0</td>\n",
       "      <td>39.0</td>\n",
       "    </tr>\n",
       "  </tbody>\n",
       "</table>\n",
       "</div>"
      ],
      "text/plain": [
       "          Prénom           Nom        Sexe                      Adresse  \\\n",
       "151     Matthieu       Bulgrin           H               Hauptstrasse C   \n",
       "316        Manon    Guidarelli           F      B Avenue Louis Caristan   \n",
       "447        Teddy       Serrano           H     Vestre Teglgade C St. Tv   \n",
       "536   Uninformed    Uninformed           F                   Uninformed   \n",
       "539       Claire          Cere           F  Herne Cottage\\r\\nAbbey Road   \n",
       "575        Karin  Niederhauser           F   Chemin De La Distillerie A   \n",
       "761       Didier     Carpouron           H         Impasse Du Dérochau    \n",
       "935      Mélanie     Tuffereau           F            Rue Tétin Savigny   \n",
       "946      Emeline      Duquesne           F             Rue Des Sapins,    \n",
       "976   Uninformed    Uninformed  Uninformed                   Uninformed   \n",
       "1005    Matthieu       Bulgrin           F               Hauptstrasse C   \n",
       "\n",
       "     Code postal                 Ville      Région        Pays  \\\n",
       "151        40668             Meerbusch  Uninformed          DE   \n",
       "316        97354       Rémire-Montjoly  Uninformed          GF   \n",
       "447         2450          København SV  Uninformed          DK   \n",
       "536   Uninformed            Uninformed  Uninformed  Uninformed   \n",
       "539     CA27 0ED              St. Bees  Uninformed          GB   \n",
       "575         1233                Bernex  Uninformed          CH   \n",
       "761         1584              Salavaux  Uninformed          CH   \n",
       "935        97427  Étang salé les bains  Uninformed          RE   \n",
       "946         7603           Bon-Secours  Uninformed          BE   \n",
       "976   Uninformed            Uninformed  Uninformed  Uninformed   \n",
       "1005       40668             Meerbusch  Uninformed          DE   \n",
       "\n",
       "     Nom d'utilisateur  Identifiant de la contrepartie  \\\n",
       "151      matthieu75003                        655971.0   \n",
       "316   guidarelli-manon                        655971.0   \n",
       "447       teddyserrano                        655971.0   \n",
       "536            galou73                        655971.0   \n",
       "539      clairejaubert                        655971.0   \n",
       "575      kpetitdemange                        655971.0   \n",
       "761        d_carpouron                        656196.0   \n",
       "935         melanituff                        655971.0   \n",
       "946             emyeme                        655971.0   \n",
       "976            erzbeth                        655971.0   \n",
       "1005     matthieu75003                        655971.0   \n",
       "\n",
       "           Titre de la contrepartie  Quantité  Montant unitaire total  \n",
       "151   Adhésion à vie - Tarif réduit       1.0                    39.0  \n",
       "316   Adhésion à vie - Tarif réduit       1.0                    39.0  \n",
       "447   Adhésion à vie - Tarif réduit       1.0                    39.0  \n",
       "536   Adhésion à vie - Tarif réduit       1.0                    39.0  \n",
       "539   Adhésion à vie - Tarif réduit       1.0                    39.0  \n",
       "575   Adhésion à vie - Tarif réduit       1.0                    39.0  \n",
       "761            ADHÉSION À VIE - Duo       1.0                    99.0  \n",
       "935   Adhésion à vie - Tarif réduit       1.0                    39.0  \n",
       "946   Adhésion à vie - Tarif réduit       1.0                    39.0  \n",
       "976   Adhésion à vie - Tarif réduit       1.0                    39.0  \n",
       "1005  Adhésion à vie - Tarif réduit       1.0                    39.0  "
      ]
     },
     "execution_count": 43,
     "metadata": {},
     "output_type": "execute_result"
    }
   ],
   "source": [
    "df1[(df1['Région'] =='Uninformed') & (df1['Pays'] != 'FR')]"
   ]
  },
  {
   "cell_type": "code",
   "execution_count": 44,
   "metadata": {},
   "outputs": [],
   "source": [
    "df1['Titre de la contrepartie'] = df1['Titre de la contrepartie'].str.title()"
   ]
  },
  {
   "cell_type": "code",
   "execution_count": 125,
   "metadata": {},
   "outputs": [
    {
     "data": {
      "text/plain": [
       "Adhésion À Vie - Tarif Réduit        1122\n",
       "Adhésion À Vie - Duo                   18\n",
       "Adhésion À Vie - Tarif Normal          13\n",
       "Adhésion À Vie - Share The Love !       2\n",
       "Adhésion À Vie - Trio                   1\n",
       "Name: Titre de la contrepartie, dtype: int64"
      ]
     },
     "execution_count": 125,
     "metadata": {},
     "output_type": "execute_result"
    }
   ],
   "source": [
    "df1['Titre de la contrepartie'].value_counts()"
   ]
  },
  {
   "cell_type": "code",
   "execution_count": 128,
   "metadata": {
    "run_control": {
     "marked": false
    }
   },
   "outputs": [],
   "source": [
    "df1.loc[~df1['Titre de la contrepartie'].str.contains('-'), 'Titre de la contrepartie'] = 'Adhésion À Vie - Tarif Réduit'\n",
    "\n"
   ]
  },
  {
   "cell_type": "code",
   "execution_count": 129,
   "metadata": {},
   "outputs": [],
   "source": [
    "df1.loc[df1['Titre de la contrepartie'].str.contains('-35%'), 'Titre de la contrepartie'] = 'Adhésion À Vie - Tarif Réduit'"
   ]
  },
  {
   "cell_type": "code",
   "execution_count": 130,
   "metadata": {},
   "outputs": [],
   "source": [
    "df1.loc[df1['Titre de la contrepartie'].str.contains('Réduit'), 'Titre de la contrepartie'] = 'Adhésion À Vie - Tarif Réduit'"
   ]
  },
  {
   "cell_type": "code",
   "execution_count": 131,
   "metadata": {},
   "outputs": [],
   "source": [
    "df1.loc[df1['Titre de la contrepartie'].str.contains('Normal'), 'Titre de la contrepartie'] = 'Adhésion À Vie - Tarif Normal'"
   ]
  },
  {
   "cell_type": "code",
   "execution_count": 132,
   "metadata": {},
   "outputs": [
    {
     "data": {
      "text/plain": [
       "Adhésion À Vie - Tarif Réduit        1122\n",
       "Adhésion À Vie - Duo                   18\n",
       "Adhésion À Vie - Tarif Normal          13\n",
       "Adhésion À Vie - Share The Love !       2\n",
       "Adhésion À Vie - Trio                   1\n",
       "Name: Titre de la contrepartie, dtype: int64"
      ]
     },
     "execution_count": 132,
     "metadata": {},
     "output_type": "execute_result"
    }
   ],
   "source": [
    "df1['Titre de la contrepartie'].value_counts()"
   ]
  },
  {
   "cell_type": "code",
   "execution_count": 133,
   "metadata": {},
   "outputs": [],
   "source": [
    "df1.index = np.arange(1, len(df1)+1)"
   ]
  },
  {
   "cell_type": "code",
   "execution_count": 134,
   "metadata": {
    "collapsed": true
   },
   "outputs": [
    {
     "data": {
      "text/html": [
       "<div>\n",
       "<style scoped>\n",
       "    .dataframe tbody tr th:only-of-type {\n",
       "        vertical-align: middle;\n",
       "    }\n",
       "\n",
       "    .dataframe tbody tr th {\n",
       "        vertical-align: top;\n",
       "    }\n",
       "\n",
       "    .dataframe thead th {\n",
       "        text-align: right;\n",
       "    }\n",
       "</style>\n",
       "<table border=\"1\" class=\"dataframe\">\n",
       "  <thead>\n",
       "    <tr style=\"text-align: right;\">\n",
       "      <th></th>\n",
       "      <th>Prénom</th>\n",
       "      <th>Nom</th>\n",
       "      <th>Sexe</th>\n",
       "      <th>Adresse</th>\n",
       "      <th>Code postal</th>\n",
       "      <th>Ville</th>\n",
       "      <th>Région</th>\n",
       "      <th>Pays</th>\n",
       "      <th>Nom d'utilisateur</th>\n",
       "      <th>Identifiant de la contrepartie</th>\n",
       "      <th>Titre de la contrepartie</th>\n",
       "      <th>Quantité</th>\n",
       "      <th>Montant unitaire total</th>\n",
       "    </tr>\n",
       "  </thead>\n",
       "  <tbody>\n",
       "    <tr>\n",
       "      <th>1</th>\n",
       "      <td>romain</td>\n",
       "      <td>romain</td>\n",
       "      <td>H</td>\n",
       "      <td>Place Franklin</td>\n",
       "      <td>68100</td>\n",
       "      <td>Mulhouse</td>\n",
       "      <td>Grand-Est</td>\n",
       "      <td>FR</td>\n",
       "      <td>romain-fontanel</td>\n",
       "      <td>655971.0</td>\n",
       "      <td>Adhésion À Vie - Tarif Réduit</td>\n",
       "      <td>1.0</td>\n",
       "      <td>39.0</td>\n",
       "    </tr>\n",
       "    <tr>\n",
       "      <th>2</th>\n",
       "      <td>Élodie</td>\n",
       "      <td>Ramel</td>\n",
       "      <td>F</td>\n",
       "      <td>Avenue Albert Laurens</td>\n",
       "      <td>34230</td>\n",
       "      <td>Saint-Pargoire</td>\n",
       "      <td>Occitanie</td>\n",
       "      <td>FR</td>\n",
       "      <td>elodie-ramel</td>\n",
       "      <td>655971.0</td>\n",
       "      <td>Adhésion À Vie - Tarif Réduit</td>\n",
       "      <td>1.0</td>\n",
       "      <td>39.0</td>\n",
       "    </tr>\n",
       "    <tr>\n",
       "      <th>3</th>\n",
       "      <td>Amel</td>\n",
       "      <td>Ahmedou</td>\n",
       "      <td>F</td>\n",
       "      <td>Allée Alexandre Vialatte</td>\n",
       "      <td>75013</td>\n",
       "      <td>Paris 13e Arrondissement</td>\n",
       "      <td>Île-de-France</td>\n",
       "      <td>FR</td>\n",
       "      <td>melacafez</td>\n",
       "      <td>656196.0</td>\n",
       "      <td>Adhésion À Vie - Duo</td>\n",
       "      <td>1.0</td>\n",
       "      <td>99.0</td>\n",
       "    </tr>\n",
       "    <tr>\n",
       "      <th>4</th>\n",
       "      <td>Elina</td>\n",
       "      <td>Le Gourvellec</td>\n",
       "      <td>F</td>\n",
       "      <td>Avenue De L'Alcyon</td>\n",
       "      <td>44300</td>\n",
       "      <td>Nantes</td>\n",
       "      <td>Pays-de-la-Loire</td>\n",
       "      <td>FR</td>\n",
       "      <td>elinalegourvellec</td>\n",
       "      <td>655971.0</td>\n",
       "      <td>Adhésion À Vie - Tarif Réduit</td>\n",
       "      <td>1.0</td>\n",
       "      <td>39.0</td>\n",
       "    </tr>\n",
       "    <tr>\n",
       "      <th>5</th>\n",
       "      <td>PHILIPPE</td>\n",
       "      <td>BIGOT</td>\n",
       "      <td>H</td>\n",
       "      <td>Impasse Du Chemin De Gesnes</td>\n",
       "      <td>61000</td>\n",
       "      <td>Saint-Germain-du-Corbéis</td>\n",
       "      <td>Normandie</td>\n",
       "      <td>FR</td>\n",
       "      <td>phmabigot</td>\n",
       "      <td>655971.0</td>\n",
       "      <td>Adhésion À Vie - Tarif Réduit</td>\n",
       "      <td>1.0</td>\n",
       "      <td>39.0</td>\n",
       "    </tr>\n",
       "    <tr>\n",
       "      <th>...</th>\n",
       "      <td>...</td>\n",
       "      <td>...</td>\n",
       "      <td>...</td>\n",
       "      <td>...</td>\n",
       "      <td>...</td>\n",
       "      <td>...</td>\n",
       "      <td>...</td>\n",
       "      <td>...</td>\n",
       "      <td>...</td>\n",
       "      <td>...</td>\n",
       "      <td>...</td>\n",
       "      <td>...</td>\n",
       "      <td>...</td>\n",
       "    </tr>\n",
       "    <tr>\n",
       "      <th>1152</th>\n",
       "      <td>Barbara</td>\n",
       "      <td>Attal</td>\n",
       "      <td>F</td>\n",
       "      <td>Place Des Cordeliers</td>\n",
       "      <td>07100</td>\n",
       "      <td>Annonay</td>\n",
       "      <td>Auvergne-Rhône-Alpes</td>\n",
       "      <td>FR</td>\n",
       "      <td>attal-noel</td>\n",
       "      <td>655971.0</td>\n",
       "      <td>Adhésion À Vie - Tarif Réduit</td>\n",
       "      <td>1.0</td>\n",
       "      <td>39.0</td>\n",
       "    </tr>\n",
       "    <tr>\n",
       "      <th>1153</th>\n",
       "      <td>Jamie</td>\n",
       "      <td>Attal</td>\n",
       "      <td>F</td>\n",
       "      <td>Route Du Grand Mûrier</td>\n",
       "      <td>07100</td>\n",
       "      <td>Boulieu-lès-Annonay</td>\n",
       "      <td>Auvergne-Rhône-Alpes</td>\n",
       "      <td>FR</td>\n",
       "      <td>attaljamie</td>\n",
       "      <td>657937.0</td>\n",
       "      <td>Adhésion À Vie - Tarif Normal</td>\n",
       "      <td>1.0</td>\n",
       "      <td>79.0</td>\n",
       "    </tr>\n",
       "    <tr>\n",
       "      <th>1154</th>\n",
       "      <td>Floriane</td>\n",
       "      <td>Emy</td>\n",
       "      <td>F</td>\n",
       "      <td>Rue Du Président Édouard Herriot</td>\n",
       "      <td>69002</td>\n",
       "      <td>Lyon 2e Arrondissement</td>\n",
       "      <td>Auvergne-Rhône-Alpes</td>\n",
       "      <td>FR</td>\n",
       "      <td>floriane-emy</td>\n",
       "      <td>655971.0</td>\n",
       "      <td>Adhésion À Vie - Tarif Réduit</td>\n",
       "      <td>1.0</td>\n",
       "      <td>39.0</td>\n",
       "    </tr>\n",
       "    <tr>\n",
       "      <th>1155</th>\n",
       "      <td>Marina</td>\n",
       "      <td>Rodrigues</td>\n",
       "      <td>F</td>\n",
       "      <td>Route D'Arnand</td>\n",
       "      <td>74210</td>\n",
       "      <td>Doussard</td>\n",
       "      <td>Auvergne-Rhône-Alpes</td>\n",
       "      <td>FR</td>\n",
       "      <td>marina-espiller</td>\n",
       "      <td>655971.0</td>\n",
       "      <td>Adhésion À Vie - Tarif Réduit</td>\n",
       "      <td>1.0</td>\n",
       "      <td>39.0</td>\n",
       "    </tr>\n",
       "    <tr>\n",
       "      <th>1156</th>\n",
       "      <td>Aude</td>\n",
       "      <td>DIOP</td>\n",
       "      <td>F</td>\n",
       "      <td>Rue Adjudant Chef Clapot</td>\n",
       "      <td>40000</td>\n",
       "      <td>Mont-de-Marsan</td>\n",
       "      <td>Nouvelle-Aquitaine</td>\n",
       "      <td>FR</td>\n",
       "      <td>aude-joannisdiop</td>\n",
       "      <td>655971.0</td>\n",
       "      <td>Adhésion À Vie - Tarif Réduit</td>\n",
       "      <td>1.0</td>\n",
       "      <td>39.0</td>\n",
       "    </tr>\n",
       "  </tbody>\n",
       "</table>\n",
       "<p>1156 rows × 13 columns</p>\n",
       "</div>"
      ],
      "text/plain": [
       "        Prénom            Nom Sexe                            Adresse  \\\n",
       "1       romain         romain    H                     Place Franklin   \n",
       "2       Élodie          Ramel    F              Avenue Albert Laurens   \n",
       "3         Amel        Ahmedou    F           Allée Alexandre Vialatte   \n",
       "4        Elina  Le Gourvellec    F                 Avenue De L'Alcyon   \n",
       "5     PHILIPPE          BIGOT    H        Impasse Du Chemin De Gesnes   \n",
       "...        ...            ...  ...                                ...   \n",
       "1152   Barbara          Attal    F               Place Des Cordeliers   \n",
       "1153     Jamie          Attal    F              Route Du Grand Mûrier   \n",
       "1154  Floriane            Emy    F   Rue Du Président Édouard Herriot   \n",
       "1155    Marina      Rodrigues    F                     Route D'Arnand   \n",
       "1156      Aude           DIOP    F           Rue Adjudant Chef Clapot   \n",
       "\n",
       "     Code postal                     Ville                Région Pays  \\\n",
       "1          68100                  Mulhouse             Grand-Est   FR   \n",
       "2          34230            Saint-Pargoire             Occitanie   FR   \n",
       "3          75013  Paris 13e Arrondissement         Île-de-France   FR   \n",
       "4          44300                    Nantes      Pays-de-la-Loire   FR   \n",
       "5          61000  Saint-Germain-du-Corbéis             Normandie   FR   \n",
       "...          ...                       ...                   ...  ...   \n",
       "1152       07100                   Annonay  Auvergne-Rhône-Alpes   FR   \n",
       "1153       07100       Boulieu-lès-Annonay  Auvergne-Rhône-Alpes   FR   \n",
       "1154       69002    Lyon 2e Arrondissement  Auvergne-Rhône-Alpes   FR   \n",
       "1155       74210                  Doussard  Auvergne-Rhône-Alpes   FR   \n",
       "1156       40000            Mont-de-Marsan    Nouvelle-Aquitaine   FR   \n",
       "\n",
       "      Nom d'utilisateur  Identifiant de la contrepartie  \\\n",
       "1       romain-fontanel                        655971.0   \n",
       "2          elodie-ramel                        655971.0   \n",
       "3             melacafez                        656196.0   \n",
       "4     elinalegourvellec                        655971.0   \n",
       "5             phmabigot                        655971.0   \n",
       "...                 ...                             ...   \n",
       "1152         attal-noel                        655971.0   \n",
       "1153         attaljamie                        657937.0   \n",
       "1154       floriane-emy                        655971.0   \n",
       "1155    marina-espiller                        655971.0   \n",
       "1156   aude-joannisdiop                        655971.0   \n",
       "\n",
       "           Titre de la contrepartie  Quantité  Montant unitaire total  \n",
       "1     Adhésion À Vie - Tarif Réduit       1.0                    39.0  \n",
       "2     Adhésion À Vie - Tarif Réduit       1.0                    39.0  \n",
       "3              Adhésion À Vie - Duo       1.0                    99.0  \n",
       "4     Adhésion À Vie - Tarif Réduit       1.0                    39.0  \n",
       "5     Adhésion À Vie - Tarif Réduit       1.0                    39.0  \n",
       "...                             ...       ...                     ...  \n",
       "1152  Adhésion À Vie - Tarif Réduit       1.0                    39.0  \n",
       "1153  Adhésion À Vie - Tarif Normal       1.0                    79.0  \n",
       "1154  Adhésion À Vie - Tarif Réduit       1.0                    39.0  \n",
       "1155  Adhésion À Vie - Tarif Réduit       1.0                    39.0  \n",
       "1156  Adhésion À Vie - Tarif Réduit       1.0                    39.0  \n",
       "\n",
       "[1156 rows x 13 columns]"
      ]
     },
     "execution_count": 134,
     "metadata": {},
     "output_type": "execute_result"
    }
   ],
   "source": [
    "df1"
   ]
  },
  {
   "cell_type": "code",
   "execution_count": 135,
   "metadata": {},
   "outputs": [
    {
     "data": {
      "text/plain": [
       "1156"
      ]
     },
     "execution_count": 135,
     "metadata": {},
     "output_type": "execute_result"
    }
   ],
   "source": [
    "df1['Titre de la contrepartie'].value_counts().sum()"
   ]
  },
  {
   "cell_type": "code",
   "execution_count": 137,
   "metadata": {},
   "outputs": [],
   "source": [
    "df1.loc[541, 'Sexe'] = 'H'\n",
    "\n",
    "df1.loc[686, 'Sexe'] = 'F'\n",
    "\n",
    "df1.loc[794, 'Sexe'] = 'F'\n",
    "\n",
    "df1.loc[838, 'Sexe'] = 'H'\n",
    "\n",
    "df1.loc[861, 'Sexe'] = 'F'\n",
    "\n",
    "df1.loc[863, 'Sexe'] = 'H'\n",
    "\n",
    "df1.loc[1043, 'Sexe'] = 'H'\n",
    "\n",
    "df1.loc[1058, 'Sexe'] = 'F'\n",
    "\n",
    "df1.loc[1139, 'Sexe'] = 'F'"
   ]
  },
  {
   "cell_type": "code",
   "execution_count": 140,
   "metadata": {
    "collapsed": true
   },
   "outputs": [
    {
     "data": {
      "text/html": [
       "<div>\n",
       "<style scoped>\n",
       "    .dataframe tbody tr th:only-of-type {\n",
       "        vertical-align: middle;\n",
       "    }\n",
       "\n",
       "    .dataframe tbody tr th {\n",
       "        vertical-align: top;\n",
       "    }\n",
       "\n",
       "    .dataframe thead th {\n",
       "        text-align: right;\n",
       "    }\n",
       "</style>\n",
       "<table border=\"1\" class=\"dataframe\">\n",
       "  <thead>\n",
       "    <tr style=\"text-align: right;\">\n",
       "      <th></th>\n",
       "      <th>Prénom</th>\n",
       "      <th>Nom</th>\n",
       "      <th>Sexe</th>\n",
       "      <th>Adresse</th>\n",
       "      <th>Code postal</th>\n",
       "      <th>Ville</th>\n",
       "      <th>Région</th>\n",
       "      <th>Pays</th>\n",
       "      <th>Nom d'utilisateur</th>\n",
       "      <th>Identifiant de la contrepartie</th>\n",
       "      <th>Titre de la contrepartie</th>\n",
       "      <th>Quantité</th>\n",
       "      <th>Montant unitaire total</th>\n",
       "    </tr>\n",
       "  </thead>\n",
       "  <tbody>\n",
       "    <tr>\n",
       "      <th>13</th>\n",
       "      <td>Laetitia</td>\n",
       "      <td>Prasit</td>\n",
       "      <td>F</td>\n",
       "      <td>Bis Avenue Paul Doumer</td>\n",
       "      <td>92500</td>\n",
       "      <td>Rueil-Malmaison</td>\n",
       "      <td>Uninformed</td>\n",
       "      <td>FR</td>\n",
       "      <td>tititenten</td>\n",
       "      <td>655971.0</td>\n",
       "      <td>Adhésion À Vie - Tarif Réduit</td>\n",
       "      <td>1.0</td>\n",
       "      <td>39.0</td>\n",
       "    </tr>\n",
       "    <tr>\n",
       "      <th>15</th>\n",
       "      <td>Sandrine</td>\n",
       "      <td>PEPIN</td>\n",
       "      <td>F</td>\n",
       "      <td>Impasse Du Canal</td>\n",
       "      <td>31270</td>\n",
       "      <td>Cugnaux</td>\n",
       "      <td>Uninformed</td>\n",
       "      <td>FR</td>\n",
       "      <td>sandy-pepin</td>\n",
       "      <td>655971.0</td>\n",
       "      <td>Adhésion À Vie - Tarif Réduit</td>\n",
       "      <td>1.0</td>\n",
       "      <td>39.0</td>\n",
       "    </tr>\n",
       "    <tr>\n",
       "      <th>16</th>\n",
       "      <td>Patricia</td>\n",
       "      <td>Moissonnier-Cuney</td>\n",
       "      <td>F</td>\n",
       "      <td>Rue Du Grand Villard</td>\n",
       "      <td>39260</td>\n",
       "      <td>Villards d'Héria</td>\n",
       "      <td>Uninformed</td>\n",
       "      <td>FR</td>\n",
       "      <td>fab-166</td>\n",
       "      <td>655971.0</td>\n",
       "      <td>Adhésion À Vie - Tarif Réduit</td>\n",
       "      <td>1.0</td>\n",
       "      <td>39.0</td>\n",
       "    </tr>\n",
       "    <tr>\n",
       "      <th>21</th>\n",
       "      <td>Hélène</td>\n",
       "      <td>PERDEREAU</td>\n",
       "      <td>F</td>\n",
       "      <td>Lieu Dit Le Champ De Devant</td>\n",
       "      <td>72250</td>\n",
       "      <td>Parigné l'évêque</td>\n",
       "      <td>Uninformed</td>\n",
       "      <td>FR</td>\n",
       "      <td>hanounyosh</td>\n",
       "      <td>655971.0</td>\n",
       "      <td>Adhésion À Vie - Tarif Réduit</td>\n",
       "      <td>1.0</td>\n",
       "      <td>39.0</td>\n",
       "    </tr>\n",
       "    <tr>\n",
       "      <th>40</th>\n",
       "      <td>Véronique</td>\n",
       "      <td>Thiebaut</td>\n",
       "      <td>F</td>\n",
       "      <td>Route Du Pont De Dammarie</td>\n",
       "      <td>55000</td>\n",
       "      <td>SAVONNIERES DEVANT BAR</td>\n",
       "      <td>Uninformed</td>\n",
       "      <td>FR</td>\n",
       "      <td>veronique-dandeu</td>\n",
       "      <td>655971.0</td>\n",
       "      <td>Adhésion À Vie - Tarif Réduit</td>\n",
       "      <td>1.0</td>\n",
       "      <td>39.0</td>\n",
       "    </tr>\n",
       "    <tr>\n",
       "      <th>...</th>\n",
       "      <td>...</td>\n",
       "      <td>...</td>\n",
       "      <td>...</td>\n",
       "      <td>...</td>\n",
       "      <td>...</td>\n",
       "      <td>...</td>\n",
       "      <td>...</td>\n",
       "      <td>...</td>\n",
       "      <td>...</td>\n",
       "      <td>...</td>\n",
       "      <td>...</td>\n",
       "      <td>...</td>\n",
       "      <td>...</td>\n",
       "    </tr>\n",
       "    <tr>\n",
       "      <th>1118</th>\n",
       "      <td>Valérie</td>\n",
       "      <td>COLLOT</td>\n",
       "      <td>F</td>\n",
       "      <td>Lotissement Les Boutons D'Or</td>\n",
       "      <td>07340</td>\n",
       "      <td>FELINES</td>\n",
       "      <td>Uninformed</td>\n",
       "      <td>FR</td>\n",
       "      <td>valriecollot</td>\n",
       "      <td>655971.0</td>\n",
       "      <td>Adhésion À Vie - Tarif Réduit</td>\n",
       "      <td>1.0</td>\n",
       "      <td>39.0</td>\n",
       "    </tr>\n",
       "    <tr>\n",
       "      <th>1123</th>\n",
       "      <td>Manon</td>\n",
       "      <td>CHARRIEAU</td>\n",
       "      <td>F</td>\n",
       "      <td>Chemin Du Grand Roc Fer</td>\n",
       "      <td>86280</td>\n",
       "      <td>St benoit</td>\n",
       "      <td>Uninformed</td>\n",
       "      <td>FR</td>\n",
       "      <td>manon-charrieau</td>\n",
       "      <td>655971.0</td>\n",
       "      <td>Adhésion À Vie - Tarif Réduit</td>\n",
       "      <td>1.0</td>\n",
       "      <td>39.0</td>\n",
       "    </tr>\n",
       "    <tr>\n",
       "      <th>1138</th>\n",
       "      <td>Maïlys</td>\n",
       "      <td>Lemasson</td>\n",
       "      <td>F</td>\n",
       "      <td>Avenue De Champagne</td>\n",
       "      <td>74200</td>\n",
       "      <td>Thonon-les-Bains</td>\n",
       "      <td>Uninformed</td>\n",
       "      <td>FR</td>\n",
       "      <td>malyslemasson</td>\n",
       "      <td>655971.0</td>\n",
       "      <td>Adhésion À Vie - Tarif Réduit</td>\n",
       "      <td>1.0</td>\n",
       "      <td>39.0</td>\n",
       "    </tr>\n",
       "    <tr>\n",
       "      <th>1141</th>\n",
       "      <td>Ilfynn</td>\n",
       "      <td>LAGARDE</td>\n",
       "      <td>F</td>\n",
       "      <td>Boulevard De Clichy</td>\n",
       "      <td>75018</td>\n",
       "      <td>Paris</td>\n",
       "      <td>Uninformed</td>\n",
       "      <td>FR</td>\n",
       "      <td>ilflag</td>\n",
       "      <td>655971.0</td>\n",
       "      <td>Adhésion À Vie - Tarif Réduit</td>\n",
       "      <td>1.0</td>\n",
       "      <td>39.0</td>\n",
       "    </tr>\n",
       "    <tr>\n",
       "      <th>1148</th>\n",
       "      <td>Alix</td>\n",
       "      <td>Lecocq</td>\n",
       "      <td>F</td>\n",
       "      <td>Rue Du Simplon</td>\n",
       "      <td>75018</td>\n",
       "      <td>Paris</td>\n",
       "      <td>Uninformed</td>\n",
       "      <td>FR</td>\n",
       "      <td>alixlecocq</td>\n",
       "      <td>655971.0</td>\n",
       "      <td>Adhésion À Vie - Tarif Réduit</td>\n",
       "      <td>1.0</td>\n",
       "      <td>39.0</td>\n",
       "    </tr>\n",
       "  </tbody>\n",
       "</table>\n",
       "<p>320 rows × 13 columns</p>\n",
       "</div>"
      ],
      "text/plain": [
       "         Prénom                Nom Sexe                        Adresse  \\\n",
       "13     Laetitia             Prasit    F         Bis Avenue Paul Doumer   \n",
       "15     Sandrine              PEPIN    F               Impasse Du Canal   \n",
       "16     Patricia  Moissonnier-Cuney    F           Rue Du Grand Villard   \n",
       "21       Hélène          PERDEREAU    F    Lieu Dit Le Champ De Devant   \n",
       "40    Véronique           Thiebaut    F     Route Du Pont De Dammarie    \n",
       "...         ...                ...  ...                            ...   \n",
       "1118    Valérie             COLLOT    F   Lotissement Les Boutons D'Or   \n",
       "1123      Manon          CHARRIEAU    F        Chemin Du Grand Roc Fer   \n",
       "1138     Maïlys           Lemasson    F            Avenue De Champagne   \n",
       "1141     Ilfynn            LAGARDE    F            Boulevard De Clichy   \n",
       "1148       Alix             Lecocq    F                 Rue Du Simplon   \n",
       "\n",
       "     Code postal                   Ville      Région Pays Nom d'utilisateur  \\\n",
       "13         92500         Rueil-Malmaison  Uninformed   FR        tititenten   \n",
       "15         31270                 Cugnaux  Uninformed   FR       sandy-pepin   \n",
       "16         39260        Villards d'Héria  Uninformed   FR           fab-166   \n",
       "21         72250        Parigné l'évêque  Uninformed   FR        hanounyosh   \n",
       "40         55000  SAVONNIERES DEVANT BAR  Uninformed   FR  veronique-dandeu   \n",
       "...          ...                     ...         ...  ...               ...   \n",
       "1118       07340                 FELINES  Uninformed   FR      valriecollot   \n",
       "1123       86280               St benoit  Uninformed   FR   manon-charrieau   \n",
       "1138       74200        Thonon-les-Bains  Uninformed   FR     malyslemasson   \n",
       "1141       75018                   Paris  Uninformed   FR            ilflag   \n",
       "1148       75018                   Paris  Uninformed   FR        alixlecocq   \n",
       "\n",
       "      Identifiant de la contrepartie       Titre de la contrepartie  Quantité  \\\n",
       "13                          655971.0  Adhésion À Vie - Tarif Réduit       1.0   \n",
       "15                          655971.0  Adhésion À Vie - Tarif Réduit       1.0   \n",
       "16                          655971.0  Adhésion À Vie - Tarif Réduit       1.0   \n",
       "21                          655971.0  Adhésion À Vie - Tarif Réduit       1.0   \n",
       "40                          655971.0  Adhésion À Vie - Tarif Réduit       1.0   \n",
       "...                              ...                            ...       ...   \n",
       "1118                        655971.0  Adhésion À Vie - Tarif Réduit       1.0   \n",
       "1123                        655971.0  Adhésion À Vie - Tarif Réduit       1.0   \n",
       "1138                        655971.0  Adhésion À Vie - Tarif Réduit       1.0   \n",
       "1141                        655971.0  Adhésion À Vie - Tarif Réduit       1.0   \n",
       "1148                        655971.0  Adhésion À Vie - Tarif Réduit       1.0   \n",
       "\n",
       "      Montant unitaire total  \n",
       "13                      39.0  \n",
       "15                      39.0  \n",
       "16                      39.0  \n",
       "21                      39.0  \n",
       "40                      39.0  \n",
       "...                      ...  \n",
       "1118                    39.0  \n",
       "1123                    39.0  \n",
       "1138                    39.0  \n",
       "1141                    39.0  \n",
       "1148                    39.0  \n",
       "\n",
       "[320 rows x 13 columns]"
      ]
     },
     "execution_count": 140,
     "metadata": {},
     "output_type": "execute_result"
    }
   ],
   "source": [
    "df1.loc[df1.Région == 'Uninformed']"
   ]
  },
  {
   "cell_type": "code",
   "execution_count": 141,
   "metadata": {
    "scrolled": true
   },
   "outputs": [
    {
     "data": {
      "text/html": [
       "<div>\n",
       "<style scoped>\n",
       "    .dataframe tbody tr th:only-of-type {\n",
       "        vertical-align: middle;\n",
       "    }\n",
       "\n",
       "    .dataframe tbody tr th {\n",
       "        vertical-align: top;\n",
       "    }\n",
       "\n",
       "    .dataframe thead th {\n",
       "        text-align: right;\n",
       "    }\n",
       "</style>\n",
       "<table border=\"1\" class=\"dataframe\">\n",
       "  <thead>\n",
       "    <tr style=\"text-align: right;\">\n",
       "      <th></th>\n",
       "      <th>Prénom</th>\n",
       "      <th>Nom</th>\n",
       "      <th>Sexe</th>\n",
       "      <th>Adresse</th>\n",
       "      <th>Code postal</th>\n",
       "      <th>Ville</th>\n",
       "      <th>Région</th>\n",
       "      <th>Pays</th>\n",
       "      <th>Nom d'utilisateur</th>\n",
       "      <th>Identifiant de la contrepartie</th>\n",
       "      <th>Titre de la contrepartie</th>\n",
       "      <th>Quantité</th>\n",
       "      <th>Montant unitaire total</th>\n",
       "    </tr>\n",
       "  </thead>\n",
       "  <tbody>\n",
       "    <tr>\n",
       "      <th>537</th>\n",
       "      <td>Uninformed</td>\n",
       "      <td>Uninformed</td>\n",
       "      <td>F</td>\n",
       "      <td>Uninformed</td>\n",
       "      <td>Uninformed</td>\n",
       "      <td>Uninformed</td>\n",
       "      <td>Uninformed</td>\n",
       "      <td>Uninformed</td>\n",
       "      <td>galou73</td>\n",
       "      <td>655971.0</td>\n",
       "      <td>Adhésion À Vie - Tarif Réduit</td>\n",
       "      <td>1.0</td>\n",
       "      <td>39.0</td>\n",
       "    </tr>\n",
       "    <tr>\n",
       "      <th>977</th>\n",
       "      <td>Uninformed</td>\n",
       "      <td>Uninformed</td>\n",
       "      <td>Uninformed</td>\n",
       "      <td>Uninformed</td>\n",
       "      <td>Uninformed</td>\n",
       "      <td>Uninformed</td>\n",
       "      <td>Uninformed</td>\n",
       "      <td>Uninformed</td>\n",
       "      <td>erzbeth</td>\n",
       "      <td>655971.0</td>\n",
       "      <td>Adhésion À Vie - Tarif Réduit</td>\n",
       "      <td>1.0</td>\n",
       "      <td>39.0</td>\n",
       "    </tr>\n",
       "  </tbody>\n",
       "</table>\n",
       "</div>"
      ],
      "text/plain": [
       "         Prénom         Nom        Sexe     Adresse Code postal       Ville  \\\n",
       "537  Uninformed  Uninformed           F  Uninformed  Uninformed  Uninformed   \n",
       "977  Uninformed  Uninformed  Uninformed  Uninformed  Uninformed  Uninformed   \n",
       "\n",
       "         Région        Pays Nom d'utilisateur  Identifiant de la contrepartie  \\\n",
       "537  Uninformed  Uninformed           galou73                        655971.0   \n",
       "977  Uninformed  Uninformed           erzbeth                        655971.0   \n",
       "\n",
       "          Titre de la contrepartie  Quantité  Montant unitaire total  \n",
       "537  Adhésion À Vie - Tarif Réduit       1.0                    39.0  \n",
       "977  Adhésion À Vie - Tarif Réduit       1.0                    39.0  "
      ]
     },
     "execution_count": 141,
     "metadata": {},
     "output_type": "execute_result"
    }
   ],
   "source": [
    "df1.loc[df1[\"Code postal\"] == 'Uninformed']"
   ]
  },
  {
   "cell_type": "code",
   "execution_count": 216,
   "metadata": {},
   "outputs": [],
   "source": [
    "france = pd.read_csv('communes-departement-region.csv')"
   ]
  },
  {
   "cell_type": "code",
   "execution_count": 217,
   "metadata": {
    "collapsed": true
   },
   "outputs": [
    {
     "data": {
      "text/html": [
       "<div>\n",
       "<style scoped>\n",
       "    .dataframe tbody tr th:only-of-type {\n",
       "        vertical-align: middle;\n",
       "    }\n",
       "\n",
       "    .dataframe tbody tr th {\n",
       "        vertical-align: top;\n",
       "    }\n",
       "\n",
       "    .dataframe thead th {\n",
       "        text-align: right;\n",
       "    }\n",
       "</style>\n",
       "<table border=\"1\" class=\"dataframe\">\n",
       "  <thead>\n",
       "    <tr style=\"text-align: right;\">\n",
       "      <th></th>\n",
       "      <th>code_commune_INSEE</th>\n",
       "      <th>nom_commune_postal</th>\n",
       "      <th>code_postal</th>\n",
       "      <th>libelle_acheminement</th>\n",
       "      <th>ligne_5</th>\n",
       "      <th>latitude</th>\n",
       "      <th>longitude</th>\n",
       "      <th>code_commune</th>\n",
       "      <th>article</th>\n",
       "      <th>nom_commune</th>\n",
       "      <th>nom_commune_complet</th>\n",
       "      <th>code_departement</th>\n",
       "      <th>nom_departement</th>\n",
       "      <th>code_region</th>\n",
       "      <th>nom_region</th>\n",
       "    </tr>\n",
       "  </thead>\n",
       "  <tbody>\n",
       "    <tr>\n",
       "      <th>0</th>\n",
       "      <td>1001</td>\n",
       "      <td>L ABERGEMENT CLEMENCIAT</td>\n",
       "      <td>1400</td>\n",
       "      <td>L ABERGEMENT CLEMENCIAT</td>\n",
       "      <td>NaN</td>\n",
       "      <td>46.153426</td>\n",
       "      <td>4.926114</td>\n",
       "      <td>1.0</td>\n",
       "      <td>L'</td>\n",
       "      <td>Abergement-Clémenciat</td>\n",
       "      <td>L'Abergement-Clémenciat</td>\n",
       "      <td>1</td>\n",
       "      <td>Ain</td>\n",
       "      <td>84.0</td>\n",
       "      <td>Auvergne-Rhône-Alpes</td>\n",
       "    </tr>\n",
       "    <tr>\n",
       "      <th>1</th>\n",
       "      <td>1002</td>\n",
       "      <td>L ABERGEMENT DE VAREY</td>\n",
       "      <td>1640</td>\n",
       "      <td>L ABERGEMENT DE VAREY</td>\n",
       "      <td>NaN</td>\n",
       "      <td>46.009188</td>\n",
       "      <td>5.428017</td>\n",
       "      <td>2.0</td>\n",
       "      <td>L'</td>\n",
       "      <td>Abergement-de-Varey</td>\n",
       "      <td>L'Abergement-de-Varey</td>\n",
       "      <td>1</td>\n",
       "      <td>Ain</td>\n",
       "      <td>84.0</td>\n",
       "      <td>Auvergne-Rhône-Alpes</td>\n",
       "    </tr>\n",
       "    <tr>\n",
       "      <th>2</th>\n",
       "      <td>1004</td>\n",
       "      <td>AMBERIEU EN BUGEY</td>\n",
       "      <td>1500</td>\n",
       "      <td>AMBERIEU EN BUGEY</td>\n",
       "      <td>NaN</td>\n",
       "      <td>45.960848</td>\n",
       "      <td>5.372926</td>\n",
       "      <td>4.0</td>\n",
       "      <td>NaN</td>\n",
       "      <td>Ambérieu-en-Bugey</td>\n",
       "      <td>Ambérieu-en-Bugey</td>\n",
       "      <td>1</td>\n",
       "      <td>Ain</td>\n",
       "      <td>84.0</td>\n",
       "      <td>Auvergne-Rhône-Alpes</td>\n",
       "    </tr>\n",
       "    <tr>\n",
       "      <th>3</th>\n",
       "      <td>1005</td>\n",
       "      <td>AMBERIEUX EN DOMBES</td>\n",
       "      <td>1330</td>\n",
       "      <td>AMBERIEUX EN DOMBES</td>\n",
       "      <td>NaN</td>\n",
       "      <td>45.996180</td>\n",
       "      <td>4.912273</td>\n",
       "      <td>5.0</td>\n",
       "      <td>NaN</td>\n",
       "      <td>Ambérieux-en-Dombes</td>\n",
       "      <td>Ambérieux-en-Dombes</td>\n",
       "      <td>1</td>\n",
       "      <td>Ain</td>\n",
       "      <td>84.0</td>\n",
       "      <td>Auvergne-Rhône-Alpes</td>\n",
       "    </tr>\n",
       "    <tr>\n",
       "      <th>4</th>\n",
       "      <td>1006</td>\n",
       "      <td>AMBLEON</td>\n",
       "      <td>1300</td>\n",
       "      <td>AMBLEON</td>\n",
       "      <td>NaN</td>\n",
       "      <td>45.749499</td>\n",
       "      <td>5.594320</td>\n",
       "      <td>6.0</td>\n",
       "      <td>NaN</td>\n",
       "      <td>Ambléon</td>\n",
       "      <td>Ambléon</td>\n",
       "      <td>1</td>\n",
       "      <td>Ain</td>\n",
       "      <td>84.0</td>\n",
       "      <td>Auvergne-Rhône-Alpes</td>\n",
       "    </tr>\n",
       "    <tr>\n",
       "      <th>...</th>\n",
       "      <td>...</td>\n",
       "      <td>...</td>\n",
       "      <td>...</td>\n",
       "      <td>...</td>\n",
       "      <td>...</td>\n",
       "      <td>...</td>\n",
       "      <td>...</td>\n",
       "      <td>...</td>\n",
       "      <td>...</td>\n",
       "      <td>...</td>\n",
       "      <td>...</td>\n",
       "      <td>...</td>\n",
       "      <td>...</td>\n",
       "      <td>...</td>\n",
       "      <td>...</td>\n",
       "    </tr>\n",
       "    <tr>\n",
       "      <th>39196</th>\n",
       "      <td>98831</td>\n",
       "      <td>VOH</td>\n",
       "      <td>98883</td>\n",
       "      <td>OUACO</td>\n",
       "      <td>VOH</td>\n",
       "      <td>NaN</td>\n",
       "      <td>NaN</td>\n",
       "      <td>831.0</td>\n",
       "      <td>NaN</td>\n",
       "      <td>Voh</td>\n",
       "      <td>Voh</td>\n",
       "      <td>98</td>\n",
       "      <td>NaN</td>\n",
       "      <td>NaN</td>\n",
       "      <td>NaN</td>\n",
       "    </tr>\n",
       "    <tr>\n",
       "      <th>39197</th>\n",
       "      <td>98832</td>\n",
       "      <td>YATE</td>\n",
       "      <td>98834</td>\n",
       "      <td>YATE</td>\n",
       "      <td>NaN</td>\n",
       "      <td>NaN</td>\n",
       "      <td>NaN</td>\n",
       "      <td>832.0</td>\n",
       "      <td>NaN</td>\n",
       "      <td>Yate</td>\n",
       "      <td>Yate</td>\n",
       "      <td>98</td>\n",
       "      <td>NaN</td>\n",
       "      <td>NaN</td>\n",
       "      <td>NaN</td>\n",
       "    </tr>\n",
       "    <tr>\n",
       "      <th>39198</th>\n",
       "      <td>98833</td>\n",
       "      <td>KOUAOUA</td>\n",
       "      <td>98818</td>\n",
       "      <td>KOUAOUA</td>\n",
       "      <td>NaN</td>\n",
       "      <td>NaN</td>\n",
       "      <td>NaN</td>\n",
       "      <td>833.0</td>\n",
       "      <td>NaN</td>\n",
       "      <td>Kouaoua</td>\n",
       "      <td>Kouaoua</td>\n",
       "      <td>98</td>\n",
       "      <td>NaN</td>\n",
       "      <td>NaN</td>\n",
       "      <td>NaN</td>\n",
       "    </tr>\n",
       "    <tr>\n",
       "      <th>39199</th>\n",
       "      <td>98901</td>\n",
       "      <td>ILE DE CLIPPERTON</td>\n",
       "      <td>98799</td>\n",
       "      <td>ILE DE CLIPPERTON</td>\n",
       "      <td>NaN</td>\n",
       "      <td>NaN</td>\n",
       "      <td>NaN</td>\n",
       "      <td>901.0</td>\n",
       "      <td>NaN</td>\n",
       "      <td>Ile de clipperton</td>\n",
       "      <td>Ile de clipperton</td>\n",
       "      <td>98</td>\n",
       "      <td>NaN</td>\n",
       "      <td>NaN</td>\n",
       "      <td>NaN</td>\n",
       "    </tr>\n",
       "    <tr>\n",
       "      <th>39200</th>\n",
       "      <td>99138</td>\n",
       "      <td>MONACO</td>\n",
       "      <td>98000</td>\n",
       "      <td>MONACO</td>\n",
       "      <td>NaN</td>\n",
       "      <td>NaN</td>\n",
       "      <td>NaN</td>\n",
       "      <td>138.0</td>\n",
       "      <td>NaN</td>\n",
       "      <td>Monaco</td>\n",
       "      <td>Monaco</td>\n",
       "      <td>99</td>\n",
       "      <td>NaN</td>\n",
       "      <td>NaN</td>\n",
       "      <td>NaN</td>\n",
       "    </tr>\n",
       "  </tbody>\n",
       "</table>\n",
       "<p>39201 rows × 15 columns</p>\n",
       "</div>"
      ],
      "text/plain": [
       "      code_commune_INSEE       nom_commune_postal  code_postal  \\\n",
       "0                   1001  L ABERGEMENT CLEMENCIAT         1400   \n",
       "1                   1002    L ABERGEMENT DE VAREY         1640   \n",
       "2                   1004        AMBERIEU EN BUGEY         1500   \n",
       "3                   1005      AMBERIEUX EN DOMBES         1330   \n",
       "4                   1006                  AMBLEON         1300   \n",
       "...                  ...                      ...          ...   \n",
       "39196              98831                      VOH        98883   \n",
       "39197              98832                     YATE        98834   \n",
       "39198              98833                  KOUAOUA        98818   \n",
       "39199              98901        ILE DE CLIPPERTON        98799   \n",
       "39200              99138                   MONACO        98000   \n",
       "\n",
       "          libelle_acheminement ligne_5   latitude  longitude  code_commune  \\\n",
       "0      L ABERGEMENT CLEMENCIAT     NaN  46.153426   4.926114           1.0   \n",
       "1        L ABERGEMENT DE VAREY     NaN  46.009188   5.428017           2.0   \n",
       "2            AMBERIEU EN BUGEY     NaN  45.960848   5.372926           4.0   \n",
       "3          AMBERIEUX EN DOMBES     NaN  45.996180   4.912273           5.0   \n",
       "4                      AMBLEON     NaN  45.749499   5.594320           6.0   \n",
       "...                        ...     ...        ...        ...           ...   \n",
       "39196                    OUACO     VOH        NaN        NaN         831.0   \n",
       "39197                     YATE     NaN        NaN        NaN         832.0   \n",
       "39198                  KOUAOUA     NaN        NaN        NaN         833.0   \n",
       "39199        ILE DE CLIPPERTON     NaN        NaN        NaN         901.0   \n",
       "39200                   MONACO     NaN        NaN        NaN         138.0   \n",
       "\n",
       "      article            nom_commune      nom_commune_complet  \\\n",
       "0          L'  Abergement-Clémenciat  L'Abergement-Clémenciat   \n",
       "1          L'    Abergement-de-Varey    L'Abergement-de-Varey   \n",
       "2         NaN      Ambérieu-en-Bugey        Ambérieu-en-Bugey   \n",
       "3         NaN    Ambérieux-en-Dombes      Ambérieux-en-Dombes   \n",
       "4         NaN                Ambléon                  Ambléon   \n",
       "...       ...                    ...                      ...   \n",
       "39196     NaN                    Voh                      Voh   \n",
       "39197     NaN                   Yate                     Yate   \n",
       "39198     NaN                Kouaoua                  Kouaoua   \n",
       "39199     NaN      Ile de clipperton        Ile de clipperton   \n",
       "39200     NaN                 Monaco                   Monaco   \n",
       "\n",
       "      code_departement nom_departement  code_region            nom_region  \n",
       "0                    1             Ain         84.0  Auvergne-Rhône-Alpes  \n",
       "1                    1             Ain         84.0  Auvergne-Rhône-Alpes  \n",
       "2                    1             Ain         84.0  Auvergne-Rhône-Alpes  \n",
       "3                    1             Ain         84.0  Auvergne-Rhône-Alpes  \n",
       "4                    1             Ain         84.0  Auvergne-Rhône-Alpes  \n",
       "...                ...             ...          ...                   ...  \n",
       "39196               98             NaN          NaN                   NaN  \n",
       "39197               98             NaN          NaN                   NaN  \n",
       "39198               98             NaN          NaN                   NaN  \n",
       "39199               98             NaN          NaN                   NaN  \n",
       "39200               99             NaN          NaN                   NaN  \n",
       "\n",
       "[39201 rows x 15 columns]"
      ]
     },
     "execution_count": 217,
     "metadata": {},
     "output_type": "execute_result"
    }
   ],
   "source": [
    "france"
   ]
  },
  {
   "cell_type": "code",
   "execution_count": 218,
   "metadata": {},
   "outputs": [],
   "source": [
    "df1.rename(columns={\"Code postal\": 'code_postal'}, inplace=True)"
   ]
  },
  {
   "cell_type": "code",
   "execution_count": 219,
   "metadata": {
    "collapsed": true
   },
   "outputs": [
    {
     "name": "stdout",
     "output_type": "stream",
     "text": [
      "<class 'pandas.core.frame.DataFrame'>\n",
      "RangeIndex: 39201 entries, 0 to 39200\n",
      "Data columns (total 15 columns):\n",
      " #   Column                Non-Null Count  Dtype  \n",
      "---  ------                --------------  -----  \n",
      " 0   code_commune_INSEE    39201 non-null  object \n",
      " 1   nom_commune_postal    39201 non-null  object \n",
      " 2   code_postal           39201 non-null  int64  \n",
      " 3   libelle_acheminement  39201 non-null  object \n",
      " 4   ligne_5               3257 non-null   object \n",
      " 5   latitude              38932 non-null  float64\n",
      " 6   longitude             38932 non-null  float64\n",
      " 7   code_commune          39194 non-null  float64\n",
      " 8   article               2580 non-null   object \n",
      " 9   nom_commune           39201 non-null  object \n",
      " 10  nom_commune_complet   39201 non-null  object \n",
      " 11  code_departement      39194 non-null  object \n",
      " 12  nom_departement       38934 non-null  object \n",
      " 13  code_region           38934 non-null  float64\n",
      " 14  nom_region            38934 non-null  object \n",
      "dtypes: float64(4), int64(1), object(10)\n",
      "memory usage: 4.5+ MB\n"
     ]
    }
   ],
   "source": [
    "france.info()"
   ]
  },
  {
   "cell_type": "code",
   "execution_count": 220,
   "metadata": {},
   "outputs": [],
   "source": [
    "france.code_postal = france.code_postal.astype(str)"
   ]
  },
  {
   "cell_type": "code",
   "execution_count": 205,
   "metadata": {},
   "outputs": [],
   "source": [
    "france = france[['code_postal','code_departement', 'nom_departement', 'code_region','nom_region']]"
   ]
  },
  {
   "cell_type": "code",
   "execution_count": 250,
   "metadata": {
    "scrolled": false
   },
   "outputs": [
    {
     "data": {
      "text/plain": [
       "152          40668\n",
       "537     Uninformed\n",
       "540       CA27 0ED\n",
       "576           1233\n",
       "762           1584\n",
       "870          74549\n",
       "947           7603\n",
       "977     Uninformed\n",
       "1006         40668\n",
       "Name: code_postal, dtype: object"
      ]
     },
     "execution_count": 250,
     "metadata": {},
     "output_type": "execute_result"
    }
   ],
   "source": [
    "df1.query('Région ==\"Uninformed\"')['code_postal']"
   ]
  },
  {
   "cell_type": "code",
   "execution_count": null,
   "metadata": {},
   "outputs": [],
   "source": [
    "france.dropna(inplace=True)"
   ]
  },
  {
   "cell_type": "code",
   "execution_count": 251,
   "metadata": {
    "scrolled": true
   },
   "outputs": [
    {
     "name": "stderr",
     "output_type": "stream",
     "text": [
      "100%|███████████████████████████████████████████████████████████████████████████| 39201/39201 [02:34<00:00, 253.56it/s]\n"
     ]
    }
   ],
   "source": [
    "for i in zip(tqdm(france['code_postal']), france['nom_region']):\n",
    "    for n in df1.query('Région ==\"Uninformed\"')['code_postal']:\n",
    "        if i[0] in n:\n",
    "            df1.loc[df1['code_postal'].str.contains(f'{n}'), 'Région'] = f'{i[1]}'"
   ]
  },
  {
   "cell_type": "code",
   "execution_count": 252,
   "metadata": {
    "scrolled": true
   },
   "outputs": [
    {
     "data": {
      "text/html": [
       "<div>\n",
       "<style scoped>\n",
       "    .dataframe tbody tr th:only-of-type {\n",
       "        vertical-align: middle;\n",
       "    }\n",
       "\n",
       "    .dataframe tbody tr th {\n",
       "        vertical-align: top;\n",
       "    }\n",
       "\n",
       "    .dataframe thead th {\n",
       "        text-align: right;\n",
       "    }\n",
       "</style>\n",
       "<table border=\"1\" class=\"dataframe\">\n",
       "  <thead>\n",
       "    <tr style=\"text-align: right;\">\n",
       "      <th></th>\n",
       "      <th>Prénom</th>\n",
       "      <th>Nom</th>\n",
       "      <th>Sexe</th>\n",
       "      <th>Adresse</th>\n",
       "      <th>code_postal</th>\n",
       "      <th>Ville</th>\n",
       "      <th>Région</th>\n",
       "      <th>Pays</th>\n",
       "      <th>Nom d'utilisateur</th>\n",
       "      <th>Identifiant de la contrepartie</th>\n",
       "      <th>Titre de la contrepartie</th>\n",
       "      <th>Quantité</th>\n",
       "      <th>Montant unitaire total</th>\n",
       "    </tr>\n",
       "  </thead>\n",
       "  <tbody>\n",
       "    <tr>\n",
       "      <th>152</th>\n",
       "      <td>Matthieu</td>\n",
       "      <td>Bulgrin</td>\n",
       "      <td>H</td>\n",
       "      <td>Hauptstrasse C</td>\n",
       "      <td>40668</td>\n",
       "      <td>Meerbusch</td>\n",
       "      <td>Uninformed</td>\n",
       "      <td>DE</td>\n",
       "      <td>matthieu75003</td>\n",
       "      <td>655971.0</td>\n",
       "      <td>Adhésion À Vie - Tarif Réduit</td>\n",
       "      <td>1.0</td>\n",
       "      <td>39.0</td>\n",
       "    </tr>\n",
       "    <tr>\n",
       "      <th>537</th>\n",
       "      <td>Uninformed</td>\n",
       "      <td>Uninformed</td>\n",
       "      <td>F</td>\n",
       "      <td>Uninformed</td>\n",
       "      <td>Uninformed</td>\n",
       "      <td>Uninformed</td>\n",
       "      <td>Uninformed</td>\n",
       "      <td>Uninformed</td>\n",
       "      <td>galou73</td>\n",
       "      <td>655971.0</td>\n",
       "      <td>Adhésion À Vie - Tarif Réduit</td>\n",
       "      <td>1.0</td>\n",
       "      <td>39.0</td>\n",
       "    </tr>\n",
       "    <tr>\n",
       "      <th>540</th>\n",
       "      <td>Claire</td>\n",
       "      <td>Cere</td>\n",
       "      <td>F</td>\n",
       "      <td>Herne Cottage\\r\\nAbbey Road</td>\n",
       "      <td>CA27 0ED</td>\n",
       "      <td>St. Bees</td>\n",
       "      <td>Uninformed</td>\n",
       "      <td>GB</td>\n",
       "      <td>clairejaubert</td>\n",
       "      <td>655971.0</td>\n",
       "      <td>Adhésion À Vie - Tarif Réduit</td>\n",
       "      <td>1.0</td>\n",
       "      <td>39.0</td>\n",
       "    </tr>\n",
       "    <tr>\n",
       "      <th>576</th>\n",
       "      <td>Karin</td>\n",
       "      <td>Niederhauser</td>\n",
       "      <td>F</td>\n",
       "      <td>Chemin De La Distillerie A</td>\n",
       "      <td>1233</td>\n",
       "      <td>Bernex</td>\n",
       "      <td>Uninformed</td>\n",
       "      <td>CH</td>\n",
       "      <td>kpetitdemange</td>\n",
       "      <td>655971.0</td>\n",
       "      <td>Adhésion À Vie - Tarif Réduit</td>\n",
       "      <td>1.0</td>\n",
       "      <td>39.0</td>\n",
       "    </tr>\n",
       "    <tr>\n",
       "      <th>762</th>\n",
       "      <td>Didier</td>\n",
       "      <td>Carpouron</td>\n",
       "      <td>H</td>\n",
       "      <td>Impasse Du Dérochau</td>\n",
       "      <td>1584</td>\n",
       "      <td>Salavaux</td>\n",
       "      <td>Uninformed</td>\n",
       "      <td>CH</td>\n",
       "      <td>d_carpouron</td>\n",
       "      <td>656196.0</td>\n",
       "      <td>Adhésion À Vie - Duo</td>\n",
       "      <td>1.0</td>\n",
       "      <td>99.0</td>\n",
       "    </tr>\n",
       "    <tr>\n",
       "      <th>870</th>\n",
       "      <td>Anatole</td>\n",
       "      <td>Ansar</td>\n",
       "      <td>H</td>\n",
       "      <td>Montée Des Choseaux</td>\n",
       "      <td>74549</td>\n",
       "      <td>Gruffy</td>\n",
       "      <td>Uninformed</td>\n",
       "      <td>FR</td>\n",
       "      <td>anatole-ansar</td>\n",
       "      <td>655971.0</td>\n",
       "      <td>Adhésion À Vie - Tarif Réduit</td>\n",
       "      <td>1.0</td>\n",
       "      <td>39.0</td>\n",
       "    </tr>\n",
       "    <tr>\n",
       "      <th>947</th>\n",
       "      <td>Emeline</td>\n",
       "      <td>Duquesne</td>\n",
       "      <td>F</td>\n",
       "      <td>Rue Des Sapins,</td>\n",
       "      <td>7603</td>\n",
       "      <td>Bon-Secours</td>\n",
       "      <td>Uninformed</td>\n",
       "      <td>BE</td>\n",
       "      <td>emyeme</td>\n",
       "      <td>655971.0</td>\n",
       "      <td>Adhésion À Vie - Tarif Réduit</td>\n",
       "      <td>1.0</td>\n",
       "      <td>39.0</td>\n",
       "    </tr>\n",
       "    <tr>\n",
       "      <th>977</th>\n",
       "      <td>Uninformed</td>\n",
       "      <td>Uninformed</td>\n",
       "      <td>Uninformed</td>\n",
       "      <td>Uninformed</td>\n",
       "      <td>Uninformed</td>\n",
       "      <td>Uninformed</td>\n",
       "      <td>Uninformed</td>\n",
       "      <td>Uninformed</td>\n",
       "      <td>erzbeth</td>\n",
       "      <td>655971.0</td>\n",
       "      <td>Adhésion À Vie - Tarif Réduit</td>\n",
       "      <td>1.0</td>\n",
       "      <td>39.0</td>\n",
       "    </tr>\n",
       "    <tr>\n",
       "      <th>1006</th>\n",
       "      <td>Matthieu</td>\n",
       "      <td>Bulgrin</td>\n",
       "      <td>F</td>\n",
       "      <td>Hauptstrasse C</td>\n",
       "      <td>40668</td>\n",
       "      <td>Meerbusch</td>\n",
       "      <td>Uninformed</td>\n",
       "      <td>DE</td>\n",
       "      <td>matthieu75003</td>\n",
       "      <td>655971.0</td>\n",
       "      <td>Adhésion À Vie - Tarif Réduit</td>\n",
       "      <td>1.0</td>\n",
       "      <td>39.0</td>\n",
       "    </tr>\n",
       "  </tbody>\n",
       "</table>\n",
       "</div>"
      ],
      "text/plain": [
       "          Prénom           Nom        Sexe                      Adresse  \\\n",
       "152     Matthieu       Bulgrin           H               Hauptstrasse C   \n",
       "537   Uninformed    Uninformed           F                   Uninformed   \n",
       "540       Claire          Cere           F  Herne Cottage\\r\\nAbbey Road   \n",
       "576        Karin  Niederhauser           F   Chemin De La Distillerie A   \n",
       "762       Didier     Carpouron           H         Impasse Du Dérochau    \n",
       "870      Anatole         Ansar           H          Montée Des Choseaux   \n",
       "947      Emeline      Duquesne           F             Rue Des Sapins,    \n",
       "977   Uninformed    Uninformed  Uninformed                   Uninformed   \n",
       "1006    Matthieu       Bulgrin           F               Hauptstrasse C   \n",
       "\n",
       "     code_postal        Ville      Région        Pays Nom d'utilisateur  \\\n",
       "152        40668    Meerbusch  Uninformed          DE     matthieu75003   \n",
       "537   Uninformed   Uninformed  Uninformed  Uninformed           galou73   \n",
       "540     CA27 0ED     St. Bees  Uninformed          GB     clairejaubert   \n",
       "576         1233       Bernex  Uninformed          CH     kpetitdemange   \n",
       "762         1584     Salavaux  Uninformed          CH       d_carpouron   \n",
       "870        74549       Gruffy  Uninformed          FR     anatole-ansar   \n",
       "947         7603  Bon-Secours  Uninformed          BE            emyeme   \n",
       "977   Uninformed   Uninformed  Uninformed  Uninformed           erzbeth   \n",
       "1006       40668    Meerbusch  Uninformed          DE     matthieu75003   \n",
       "\n",
       "      Identifiant de la contrepartie       Titre de la contrepartie  Quantité  \\\n",
       "152                         655971.0  Adhésion À Vie - Tarif Réduit       1.0   \n",
       "537                         655971.0  Adhésion À Vie - Tarif Réduit       1.0   \n",
       "540                         655971.0  Adhésion À Vie - Tarif Réduit       1.0   \n",
       "576                         655971.0  Adhésion À Vie - Tarif Réduit       1.0   \n",
       "762                         656196.0           Adhésion À Vie - Duo       1.0   \n",
       "870                         655971.0  Adhésion À Vie - Tarif Réduit       1.0   \n",
       "947                         655971.0  Adhésion À Vie - Tarif Réduit       1.0   \n",
       "977                         655971.0  Adhésion À Vie - Tarif Réduit       1.0   \n",
       "1006                        655971.0  Adhésion À Vie - Tarif Réduit       1.0   \n",
       "\n",
       "      Montant unitaire total  \n",
       "152                     39.0  \n",
       "537                     39.0  \n",
       "540                     39.0  \n",
       "576                     39.0  \n",
       "762                     99.0  \n",
       "870                     39.0  \n",
       "947                     39.0  \n",
       "977                     39.0  \n",
       "1006                    39.0  "
      ]
     },
     "execution_count": 252,
     "metadata": {},
     "output_type": "execute_result"
    }
   ],
   "source": [
    "df1.query('Région ==\"Uninformed\"')\n"
   ]
  },
  {
   "cell_type": "code",
   "execution_count": 254,
   "metadata": {
    "scrolled": true
   },
   "outputs": [
    {
     "data": {
      "text/html": [
       "<div>\n",
       "<style scoped>\n",
       "    .dataframe tbody tr th:only-of-type {\n",
       "        vertical-align: middle;\n",
       "    }\n",
       "\n",
       "    .dataframe tbody tr th {\n",
       "        vertical-align: top;\n",
       "    }\n",
       "\n",
       "    .dataframe thead th {\n",
       "        text-align: right;\n",
       "    }\n",
       "</style>\n",
       "<table border=\"1\" class=\"dataframe\">\n",
       "  <thead>\n",
       "    <tr style=\"text-align: right;\">\n",
       "      <th></th>\n",
       "      <th>code_commune_INSEE</th>\n",
       "      <th>nom_commune_postal</th>\n",
       "      <th>code_postal</th>\n",
       "      <th>libelle_acheminement</th>\n",
       "      <th>ligne_5</th>\n",
       "      <th>latitude</th>\n",
       "      <th>longitude</th>\n",
       "      <th>code_commune</th>\n",
       "      <th>article</th>\n",
       "      <th>nom_commune</th>\n",
       "      <th>nom_commune_complet</th>\n",
       "      <th>code_departement</th>\n",
       "      <th>nom_departement</th>\n",
       "      <th>code_region</th>\n",
       "      <th>nom_region</th>\n",
       "    </tr>\n",
       "  </thead>\n",
       "  <tbody>\n",
       "    <tr>\n",
       "      <th>32422</th>\n",
       "      <td>74138</td>\n",
       "      <td>GRUFFY</td>\n",
       "      <td>74540</td>\n",
       "      <td>GRUFFY</td>\n",
       "      <td>NaN</td>\n",
       "      <td>45.783196</td>\n",
       "      <td>6.063121</td>\n",
       "      <td>138.0</td>\n",
       "      <td>NaN</td>\n",
       "      <td>Gruffy</td>\n",
       "      <td>Gruffy</td>\n",
       "      <td>74</td>\n",
       "      <td>Haute-Savoie</td>\n",
       "      <td>84.0</td>\n",
       "      <td>Auvergne-Rhône-Alpes</td>\n",
       "    </tr>\n",
       "  </tbody>\n",
       "</table>\n",
       "</div>"
      ],
      "text/plain": [
       "      code_commune_INSEE nom_commune_postal code_postal libelle_acheminement  \\\n",
       "32422              74138             GRUFFY       74540               GRUFFY   \n",
       "\n",
       "      ligne_5   latitude  longitude  code_commune article nom_commune  \\\n",
       "32422     NaN  45.783196   6.063121         138.0     NaN      Gruffy   \n",
       "\n",
       "      nom_commune_complet code_departement nom_departement  code_region  \\\n",
       "32422              Gruffy               74    Haute-Savoie         84.0   \n",
       "\n",
       "                 nom_region  \n",
       "32422  Auvergne-Rhône-Alpes  "
      ]
     },
     "execution_count": 254,
     "metadata": {},
     "output_type": "execute_result"
    }
   ],
   "source": [
    "france.query('nom_commune ==\"Gruffy\"')"
   ]
  },
  {
   "cell_type": "code",
   "execution_count": 255,
   "metadata": {},
   "outputs": [],
   "source": [
    "df1.loc[df1['Ville'] =='Gruffy', 'Région'] = \"Auvergne-Rhône-Alpes\""
   ]
  },
  {
   "cell_type": "code",
   "execution_count": 256,
   "metadata": {},
   "outputs": [],
   "source": [
    "df1.loc[df1['Ville'] =='Gruffy', 'code_postal'] = \"74540\""
   ]
  },
  {
   "cell_type": "code",
   "execution_count": 257,
   "metadata": {
    "scrolled": true
   },
   "outputs": [],
   "source": [
    "df1.loc[df1.Sexe == 'F', 'Sexe']='Woman'\n",
    "df1.loc[df1.Sexe == 'H', 'Sexe']='Man'\n"
   ]
  },
  {
   "cell_type": "code",
   "execution_count": 258,
   "metadata": {},
   "outputs": [],
   "source": [
    "dff = df1.copy()"
   ]
  },
  {
   "cell_type": "code",
   "execution_count": 292,
   "metadata": {
    "run_control": {
     "marked": false
    },
    "scrolled": false
   },
   "outputs": [],
   "source": [
    "x = dff[['Titre de la contrepartie', 'Quantité','Montant unitaire total']].groupby(['Titre de la contrepartie'])[['Quantité','Montant unitaire total']].sum().reset_index()"
   ]
  },
  {
   "cell_type": "code",
   "execution_count": 259,
   "metadata": {},
   "outputs": [],
   "source": [
    "import plotly.express as px\n",
    "import plotly.graph_objects as go"
   ]
  },
  {
   "cell_type": "code",
   "execution_count": 260,
   "metadata": {
    "scrolled": false
   },
   "outputs": [
    {
     "data": {
      "text/plain": [
       "Woman         912\n",
       "Man           238\n",
       "Uninformed      6\n",
       "Name: Sexe, dtype: int64"
      ]
     },
     "execution_count": 260,
     "metadata": {},
     "output_type": "execute_result"
    }
   ],
   "source": [
    "dff['Sexe'].value_counts()"
   ]
  },
  {
   "cell_type": "code",
   "execution_count": 261,
   "metadata": {},
   "outputs": [
    {
     "data": {
      "text/plain": [
       "array(['Man', 'Uninformed', 'Woman'], dtype=object)"
      ]
     },
     "execution_count": 261,
     "metadata": {},
     "output_type": "execute_result"
    }
   ],
   "source": [
    "dff['Sexe'].sort_values().unique()"
   ]
  },
  {
   "cell_type": "code",
   "execution_count": 262,
   "metadata": {},
   "outputs": [
    {
     "data": {
      "application/vnd.plotly.v1+json": {
       "config": {
        "plotlyServerURL": "https://plot.ly"
       },
       "data": [
        {
         "domain": {
          "x": [
           0,
           1
          ],
          "y": [
           0,
           1
          ]
         },
         "hovertemplate": "label=%{label}<br>value=%{value}<extra></extra>",
         "labels": [
          "Woman",
          "Man",
          "Uninformed"
         ],
         "legendgroup": "",
         "marker": {
          "line": {
           "color": "#000000",
           "width": 1
          }
         },
         "name": "",
         "showlegend": true,
         "textfont": {
          "size": 20
         },
         "type": "pie",
         "values": [
          912,
          238,
          6
         ]
        }
       ],
       "layout": {
        "legend": {
         "tracegroupgap": 0,
         "x": 0.8
        },
        "piecolorway": [
         "rgb(136, 204, 238)",
         "rgb(204, 102, 119)",
         "rgb(221, 204, 119)",
         "rgb(17, 119, 51)",
         "rgb(51, 34, 136)",
         "rgb(170, 68, 153)",
         "rgb(68, 170, 153)",
         "rgb(153, 153, 51)",
         "rgb(136, 34, 85)",
         "rgb(102, 17, 0)",
         "rgb(136, 136, 136)"
        ],
        "template": {
         "data": {
          "bar": [
           {
            "error_x": {
             "color": "rgb(51,51,51)"
            },
            "error_y": {
             "color": "rgb(51,51,51)"
            },
            "marker": {
             "line": {
              "color": "rgb(237,237,237)",
              "width": 0.5
             }
            },
            "type": "bar"
           }
          ],
          "barpolar": [
           {
            "marker": {
             "line": {
              "color": "rgb(237,237,237)",
              "width": 0.5
             }
            },
            "type": "barpolar"
           }
          ],
          "carpet": [
           {
            "aaxis": {
             "endlinecolor": "rgb(51,51,51)",
             "gridcolor": "white",
             "linecolor": "white",
             "minorgridcolor": "white",
             "startlinecolor": "rgb(51,51,51)"
            },
            "baxis": {
             "endlinecolor": "rgb(51,51,51)",
             "gridcolor": "white",
             "linecolor": "white",
             "minorgridcolor": "white",
             "startlinecolor": "rgb(51,51,51)"
            },
            "type": "carpet"
           }
          ],
          "choropleth": [
           {
            "colorbar": {
             "outlinewidth": 0,
             "tickcolor": "rgb(237,237,237)",
             "ticklen": 6,
             "ticks": "inside"
            },
            "type": "choropleth"
           }
          ],
          "contour": [
           {
            "colorbar": {
             "outlinewidth": 0,
             "tickcolor": "rgb(237,237,237)",
             "ticklen": 6,
             "ticks": "inside"
            },
            "colorscale": [
             [
              0,
              "rgb(20,44,66)"
             ],
             [
              1,
              "rgb(90,179,244)"
             ]
            ],
            "type": "contour"
           }
          ],
          "contourcarpet": [
           {
            "colorbar": {
             "outlinewidth": 0,
             "tickcolor": "rgb(237,237,237)",
             "ticklen": 6,
             "ticks": "inside"
            },
            "type": "contourcarpet"
           }
          ],
          "heatmap": [
           {
            "colorbar": {
             "outlinewidth": 0,
             "tickcolor": "rgb(237,237,237)",
             "ticklen": 6,
             "ticks": "inside"
            },
            "colorscale": [
             [
              0,
              "rgb(20,44,66)"
             ],
             [
              1,
              "rgb(90,179,244)"
             ]
            ],
            "type": "heatmap"
           }
          ],
          "heatmapgl": [
           {
            "colorbar": {
             "outlinewidth": 0,
             "tickcolor": "rgb(237,237,237)",
             "ticklen": 6,
             "ticks": "inside"
            },
            "colorscale": [
             [
              0,
              "rgb(20,44,66)"
             ],
             [
              1,
              "rgb(90,179,244)"
             ]
            ],
            "type": "heatmapgl"
           }
          ],
          "histogram": [
           {
            "marker": {
             "colorbar": {
              "outlinewidth": 0,
              "tickcolor": "rgb(237,237,237)",
              "ticklen": 6,
              "ticks": "inside"
             }
            },
            "type": "histogram"
           }
          ],
          "histogram2d": [
           {
            "colorbar": {
             "outlinewidth": 0,
             "tickcolor": "rgb(237,237,237)",
             "ticklen": 6,
             "ticks": "inside"
            },
            "colorscale": [
             [
              0,
              "rgb(20,44,66)"
             ],
             [
              1,
              "rgb(90,179,244)"
             ]
            ],
            "type": "histogram2d"
           }
          ],
          "histogram2dcontour": [
           {
            "colorbar": {
             "outlinewidth": 0,
             "tickcolor": "rgb(237,237,237)",
             "ticklen": 6,
             "ticks": "inside"
            },
            "colorscale": [
             [
              0,
              "rgb(20,44,66)"
             ],
             [
              1,
              "rgb(90,179,244)"
             ]
            ],
            "type": "histogram2dcontour"
           }
          ],
          "mesh3d": [
           {
            "colorbar": {
             "outlinewidth": 0,
             "tickcolor": "rgb(237,237,237)",
             "ticklen": 6,
             "ticks": "inside"
            },
            "type": "mesh3d"
           }
          ],
          "parcoords": [
           {
            "line": {
             "colorbar": {
              "outlinewidth": 0,
              "tickcolor": "rgb(237,237,237)",
              "ticklen": 6,
              "ticks": "inside"
             }
            },
            "type": "parcoords"
           }
          ],
          "pie": [
           {
            "automargin": true,
            "type": "pie"
           }
          ],
          "scatter": [
           {
            "marker": {
             "colorbar": {
              "outlinewidth": 0,
              "tickcolor": "rgb(237,237,237)",
              "ticklen": 6,
              "ticks": "inside"
             }
            },
            "type": "scatter"
           }
          ],
          "scatter3d": [
           {
            "line": {
             "colorbar": {
              "outlinewidth": 0,
              "tickcolor": "rgb(237,237,237)",
              "ticklen": 6,
              "ticks": "inside"
             }
            },
            "marker": {
             "colorbar": {
              "outlinewidth": 0,
              "tickcolor": "rgb(237,237,237)",
              "ticklen": 6,
              "ticks": "inside"
             }
            },
            "type": "scatter3d"
           }
          ],
          "scattercarpet": [
           {
            "marker": {
             "colorbar": {
              "outlinewidth": 0,
              "tickcolor": "rgb(237,237,237)",
              "ticklen": 6,
              "ticks": "inside"
             }
            },
            "type": "scattercarpet"
           }
          ],
          "scattergeo": [
           {
            "marker": {
             "colorbar": {
              "outlinewidth": 0,
              "tickcolor": "rgb(237,237,237)",
              "ticklen": 6,
              "ticks": "inside"
             }
            },
            "type": "scattergeo"
           }
          ],
          "scattergl": [
           {
            "marker": {
             "colorbar": {
              "outlinewidth": 0,
              "tickcolor": "rgb(237,237,237)",
              "ticklen": 6,
              "ticks": "inside"
             }
            },
            "type": "scattergl"
           }
          ],
          "scattermapbox": [
           {
            "marker": {
             "colorbar": {
              "outlinewidth": 0,
              "tickcolor": "rgb(237,237,237)",
              "ticklen": 6,
              "ticks": "inside"
             }
            },
            "type": "scattermapbox"
           }
          ],
          "scatterpolar": [
           {
            "marker": {
             "colorbar": {
              "outlinewidth": 0,
              "tickcolor": "rgb(237,237,237)",
              "ticklen": 6,
              "ticks": "inside"
             }
            },
            "type": "scatterpolar"
           }
          ],
          "scatterpolargl": [
           {
            "marker": {
             "colorbar": {
              "outlinewidth": 0,
              "tickcolor": "rgb(237,237,237)",
              "ticklen": 6,
              "ticks": "inside"
             }
            },
            "type": "scatterpolargl"
           }
          ],
          "scatterternary": [
           {
            "marker": {
             "colorbar": {
              "outlinewidth": 0,
              "tickcolor": "rgb(237,237,237)",
              "ticklen": 6,
              "ticks": "inside"
             }
            },
            "type": "scatterternary"
           }
          ],
          "surface": [
           {
            "colorbar": {
             "outlinewidth": 0,
             "tickcolor": "rgb(237,237,237)",
             "ticklen": 6,
             "ticks": "inside"
            },
            "colorscale": [
             [
              0,
              "rgb(20,44,66)"
             ],
             [
              1,
              "rgb(90,179,244)"
             ]
            ],
            "type": "surface"
           }
          ],
          "table": [
           {
            "cells": {
             "fill": {
              "color": "rgb(237,237,237)"
             },
             "line": {
              "color": "white"
             }
            },
            "header": {
             "fill": {
              "color": "rgb(217,217,217)"
             },
             "line": {
              "color": "white"
             }
            },
            "type": "table"
           }
          ]
         },
         "layout": {
          "annotationdefaults": {
           "arrowhead": 0,
           "arrowwidth": 1
          },
          "autotypenumbers": "strict",
          "coloraxis": {
           "colorbar": {
            "outlinewidth": 0,
            "tickcolor": "rgb(237,237,237)",
            "ticklen": 6,
            "ticks": "inside"
           }
          },
          "colorscale": {
           "sequential": [
            [
             0,
             "rgb(20,44,66)"
            ],
            [
             1,
             "rgb(90,179,244)"
            ]
           ],
           "sequentialminus": [
            [
             0,
             "rgb(20,44,66)"
            ],
            [
             1,
             "rgb(90,179,244)"
            ]
           ]
          },
          "colorway": [
           "#F8766D",
           "#A3A500",
           "#00BF7D",
           "#00B0F6",
           "#E76BF3"
          ],
          "font": {
           "color": "rgb(51,51,51)"
          },
          "geo": {
           "bgcolor": "white",
           "lakecolor": "white",
           "landcolor": "rgb(237,237,237)",
           "showlakes": true,
           "showland": true,
           "subunitcolor": "white"
          },
          "hoverlabel": {
           "align": "left"
          },
          "hovermode": "closest",
          "paper_bgcolor": "white",
          "plot_bgcolor": "rgb(237,237,237)",
          "polar": {
           "angularaxis": {
            "gridcolor": "white",
            "linecolor": "white",
            "showgrid": true,
            "tickcolor": "rgb(51,51,51)",
            "ticks": "outside"
           },
           "bgcolor": "rgb(237,237,237)",
           "radialaxis": {
            "gridcolor": "white",
            "linecolor": "white",
            "showgrid": true,
            "tickcolor": "rgb(51,51,51)",
            "ticks": "outside"
           }
          },
          "scene": {
           "xaxis": {
            "backgroundcolor": "rgb(237,237,237)",
            "gridcolor": "white",
            "gridwidth": 2,
            "linecolor": "white",
            "showbackground": true,
            "showgrid": true,
            "tickcolor": "rgb(51,51,51)",
            "ticks": "outside",
            "zerolinecolor": "white"
           },
           "yaxis": {
            "backgroundcolor": "rgb(237,237,237)",
            "gridcolor": "white",
            "gridwidth": 2,
            "linecolor": "white",
            "showbackground": true,
            "showgrid": true,
            "tickcolor": "rgb(51,51,51)",
            "ticks": "outside",
            "zerolinecolor": "white"
           },
           "zaxis": {
            "backgroundcolor": "rgb(237,237,237)",
            "gridcolor": "white",
            "gridwidth": 2,
            "linecolor": "white",
            "showbackground": true,
            "showgrid": true,
            "tickcolor": "rgb(51,51,51)",
            "ticks": "outside",
            "zerolinecolor": "white"
           }
          },
          "shapedefaults": {
           "fillcolor": "black",
           "line": {
            "width": 0
           },
           "opacity": 0.3
          },
          "ternary": {
           "aaxis": {
            "gridcolor": "white",
            "linecolor": "white",
            "showgrid": true,
            "tickcolor": "rgb(51,51,51)",
            "ticks": "outside"
           },
           "baxis": {
            "gridcolor": "white",
            "linecolor": "white",
            "showgrid": true,
            "tickcolor": "rgb(51,51,51)",
            "ticks": "outside"
           },
           "bgcolor": "rgb(237,237,237)",
           "caxis": {
            "gridcolor": "white",
            "linecolor": "white",
            "showgrid": true,
            "tickcolor": "rgb(51,51,51)",
            "ticks": "outside"
           }
          },
          "xaxis": {
           "automargin": true,
           "gridcolor": "white",
           "linecolor": "white",
           "showgrid": true,
           "tickcolor": "rgb(51,51,51)",
           "ticks": "outside",
           "title": {
            "standoff": 15
           },
           "zerolinecolor": "white"
          },
          "yaxis": {
           "automargin": true,
           "gridcolor": "white",
           "linecolor": "white",
           "showgrid": true,
           "tickcolor": "rgb(51,51,51)",
           "ticks": "outside",
           "title": {
            "standoff": 15
           },
           "zerolinecolor": "white"
          }
         }
        },
        "title": {
         "text": "Users Gender",
         "x": 0.53
        }
       }
      },
      "text/html": [
       "<div>                            <div id=\"110fab3c-2bfb-40d2-abff-08a1d34f9e7c\" class=\"plotly-graph-div\" style=\"height:525px; width:100%;\"></div>            <script type=\"text/javascript\">                require([\"plotly\"], function(Plotly) {                    window.PLOTLYENV=window.PLOTLYENV || {};                                    if (document.getElementById(\"110fab3c-2bfb-40d2-abff-08a1d34f9e7c\")) {                    Plotly.newPlot(                        \"110fab3c-2bfb-40d2-abff-08a1d34f9e7c\",                        [{\"domain\": {\"x\": [0.0, 1.0], \"y\": [0.0, 1.0]}, \"hovertemplate\": \"label=%{label}<br>value=%{value}<extra></extra>\", \"labels\": [\"Woman\", \"Man\", \"Uninformed\"], \"legendgroup\": \"\", \"marker\": {\"line\": {\"color\": \"#000000\", \"width\": 1}}, \"name\": \"\", \"showlegend\": true, \"textfont\": {\"size\": 20}, \"type\": \"pie\", \"values\": [912, 238, 6]}],                        {\"legend\": {\"tracegroupgap\": 0, \"x\": 0.8}, \"piecolorway\": [\"rgb(136, 204, 238)\", \"rgb(204, 102, 119)\", \"rgb(221, 204, 119)\", \"rgb(17, 119, 51)\", \"rgb(51, 34, 136)\", \"rgb(170, 68, 153)\", \"rgb(68, 170, 153)\", \"rgb(153, 153, 51)\", \"rgb(136, 34, 85)\", \"rgb(102, 17, 0)\", \"rgb(136, 136, 136)\"], \"template\": {\"data\": {\"bar\": [{\"error_x\": {\"color\": \"rgb(51,51,51)\"}, \"error_y\": {\"color\": \"rgb(51,51,51)\"}, \"marker\": {\"line\": {\"color\": \"rgb(237,237,237)\", \"width\": 0.5}}, \"type\": \"bar\"}], \"barpolar\": [{\"marker\": {\"line\": {\"color\": \"rgb(237,237,237)\", \"width\": 0.5}}, \"type\": \"barpolar\"}], \"carpet\": [{\"aaxis\": {\"endlinecolor\": \"rgb(51,51,51)\", \"gridcolor\": \"white\", \"linecolor\": \"white\", \"minorgridcolor\": \"white\", \"startlinecolor\": \"rgb(51,51,51)\"}, \"baxis\": {\"endlinecolor\": \"rgb(51,51,51)\", \"gridcolor\": \"white\", \"linecolor\": \"white\", \"minorgridcolor\": \"white\", \"startlinecolor\": \"rgb(51,51,51)\"}, \"type\": \"carpet\"}], \"choropleth\": [{\"colorbar\": {\"outlinewidth\": 0, \"tickcolor\": \"rgb(237,237,237)\", \"ticklen\": 6, \"ticks\": \"inside\"}, \"type\": \"choropleth\"}], \"contour\": [{\"colorbar\": {\"outlinewidth\": 0, \"tickcolor\": \"rgb(237,237,237)\", \"ticklen\": 6, \"ticks\": \"inside\"}, \"colorscale\": [[0, \"rgb(20,44,66)\"], [1, \"rgb(90,179,244)\"]], \"type\": \"contour\"}], \"contourcarpet\": [{\"colorbar\": {\"outlinewidth\": 0, \"tickcolor\": \"rgb(237,237,237)\", \"ticklen\": 6, \"ticks\": \"inside\"}, \"type\": \"contourcarpet\"}], \"heatmap\": [{\"colorbar\": {\"outlinewidth\": 0, \"tickcolor\": \"rgb(237,237,237)\", \"ticklen\": 6, \"ticks\": \"inside\"}, \"colorscale\": [[0, \"rgb(20,44,66)\"], [1, \"rgb(90,179,244)\"]], \"type\": \"heatmap\"}], \"heatmapgl\": [{\"colorbar\": {\"outlinewidth\": 0, \"tickcolor\": \"rgb(237,237,237)\", \"ticklen\": 6, \"ticks\": \"inside\"}, \"colorscale\": [[0, \"rgb(20,44,66)\"], [1, \"rgb(90,179,244)\"]], \"type\": \"heatmapgl\"}], \"histogram\": [{\"marker\": {\"colorbar\": {\"outlinewidth\": 0, \"tickcolor\": \"rgb(237,237,237)\", \"ticklen\": 6, \"ticks\": \"inside\"}}, \"type\": \"histogram\"}], \"histogram2d\": [{\"colorbar\": {\"outlinewidth\": 0, \"tickcolor\": \"rgb(237,237,237)\", \"ticklen\": 6, \"ticks\": \"inside\"}, \"colorscale\": [[0, \"rgb(20,44,66)\"], [1, \"rgb(90,179,244)\"]], \"type\": \"histogram2d\"}], \"histogram2dcontour\": [{\"colorbar\": {\"outlinewidth\": 0, \"tickcolor\": \"rgb(237,237,237)\", \"ticklen\": 6, \"ticks\": \"inside\"}, \"colorscale\": [[0, \"rgb(20,44,66)\"], [1, \"rgb(90,179,244)\"]], \"type\": \"histogram2dcontour\"}], \"mesh3d\": [{\"colorbar\": {\"outlinewidth\": 0, \"tickcolor\": \"rgb(237,237,237)\", \"ticklen\": 6, \"ticks\": \"inside\"}, \"type\": \"mesh3d\"}], \"parcoords\": [{\"line\": {\"colorbar\": {\"outlinewidth\": 0, \"tickcolor\": \"rgb(237,237,237)\", \"ticklen\": 6, \"ticks\": \"inside\"}}, \"type\": \"parcoords\"}], \"pie\": [{\"automargin\": true, \"type\": \"pie\"}], \"scatter\": [{\"marker\": {\"colorbar\": {\"outlinewidth\": 0, \"tickcolor\": \"rgb(237,237,237)\", \"ticklen\": 6, \"ticks\": \"inside\"}}, \"type\": \"scatter\"}], \"scatter3d\": [{\"line\": {\"colorbar\": {\"outlinewidth\": 0, \"tickcolor\": \"rgb(237,237,237)\", \"ticklen\": 6, \"ticks\": \"inside\"}}, \"marker\": {\"colorbar\": {\"outlinewidth\": 0, \"tickcolor\": \"rgb(237,237,237)\", \"ticklen\": 6, \"ticks\": \"inside\"}}, \"type\": \"scatter3d\"}], \"scattercarpet\": [{\"marker\": {\"colorbar\": {\"outlinewidth\": 0, \"tickcolor\": \"rgb(237,237,237)\", \"ticklen\": 6, \"ticks\": \"inside\"}}, \"type\": \"scattercarpet\"}], \"scattergeo\": [{\"marker\": {\"colorbar\": {\"outlinewidth\": 0, \"tickcolor\": \"rgb(237,237,237)\", \"ticklen\": 6, \"ticks\": \"inside\"}}, \"type\": \"scattergeo\"}], \"scattergl\": [{\"marker\": {\"colorbar\": {\"outlinewidth\": 0, \"tickcolor\": \"rgb(237,237,237)\", \"ticklen\": 6, \"ticks\": \"inside\"}}, \"type\": \"scattergl\"}], \"scattermapbox\": [{\"marker\": {\"colorbar\": {\"outlinewidth\": 0, \"tickcolor\": \"rgb(237,237,237)\", \"ticklen\": 6, \"ticks\": \"inside\"}}, \"type\": \"scattermapbox\"}], \"scatterpolar\": [{\"marker\": {\"colorbar\": {\"outlinewidth\": 0, \"tickcolor\": \"rgb(237,237,237)\", \"ticklen\": 6, \"ticks\": \"inside\"}}, \"type\": \"scatterpolar\"}], \"scatterpolargl\": [{\"marker\": {\"colorbar\": {\"outlinewidth\": 0, \"tickcolor\": \"rgb(237,237,237)\", \"ticklen\": 6, \"ticks\": \"inside\"}}, \"type\": \"scatterpolargl\"}], \"scatterternary\": [{\"marker\": {\"colorbar\": {\"outlinewidth\": 0, \"tickcolor\": \"rgb(237,237,237)\", \"ticklen\": 6, \"ticks\": \"inside\"}}, \"type\": \"scatterternary\"}], \"surface\": [{\"colorbar\": {\"outlinewidth\": 0, \"tickcolor\": \"rgb(237,237,237)\", \"ticklen\": 6, \"ticks\": \"inside\"}, \"colorscale\": [[0, \"rgb(20,44,66)\"], [1, \"rgb(90,179,244)\"]], \"type\": \"surface\"}], \"table\": [{\"cells\": {\"fill\": {\"color\": \"rgb(237,237,237)\"}, \"line\": {\"color\": \"white\"}}, \"header\": {\"fill\": {\"color\": \"rgb(217,217,217)\"}, \"line\": {\"color\": \"white\"}}, \"type\": \"table\"}]}, \"layout\": {\"annotationdefaults\": {\"arrowhead\": 0, \"arrowwidth\": 1}, \"autotypenumbers\": \"strict\", \"coloraxis\": {\"colorbar\": {\"outlinewidth\": 0, \"tickcolor\": \"rgb(237,237,237)\", \"ticklen\": 6, \"ticks\": \"inside\"}}, \"colorscale\": {\"sequential\": [[0, \"rgb(20,44,66)\"], [1, \"rgb(90,179,244)\"]], \"sequentialminus\": [[0, \"rgb(20,44,66)\"], [1, \"rgb(90,179,244)\"]]}, \"colorway\": [\"#F8766D\", \"#A3A500\", \"#00BF7D\", \"#00B0F6\", \"#E76BF3\"], \"font\": {\"color\": \"rgb(51,51,51)\"}, \"geo\": {\"bgcolor\": \"white\", \"lakecolor\": \"white\", \"landcolor\": \"rgb(237,237,237)\", \"showlakes\": true, \"showland\": true, \"subunitcolor\": \"white\"}, \"hoverlabel\": {\"align\": \"left\"}, \"hovermode\": \"closest\", \"paper_bgcolor\": \"white\", \"plot_bgcolor\": \"rgb(237,237,237)\", \"polar\": {\"angularaxis\": {\"gridcolor\": \"white\", \"linecolor\": \"white\", \"showgrid\": true, \"tickcolor\": \"rgb(51,51,51)\", \"ticks\": \"outside\"}, \"bgcolor\": \"rgb(237,237,237)\", \"radialaxis\": {\"gridcolor\": \"white\", \"linecolor\": \"white\", \"showgrid\": true, \"tickcolor\": \"rgb(51,51,51)\", \"ticks\": \"outside\"}}, \"scene\": {\"xaxis\": {\"backgroundcolor\": \"rgb(237,237,237)\", \"gridcolor\": \"white\", \"gridwidth\": 2, \"linecolor\": \"white\", \"showbackground\": true, \"showgrid\": true, \"tickcolor\": \"rgb(51,51,51)\", \"ticks\": \"outside\", \"zerolinecolor\": \"white\"}, \"yaxis\": {\"backgroundcolor\": \"rgb(237,237,237)\", \"gridcolor\": \"white\", \"gridwidth\": 2, \"linecolor\": \"white\", \"showbackground\": true, \"showgrid\": true, \"tickcolor\": \"rgb(51,51,51)\", \"ticks\": \"outside\", \"zerolinecolor\": \"white\"}, \"zaxis\": {\"backgroundcolor\": \"rgb(237,237,237)\", \"gridcolor\": \"white\", \"gridwidth\": 2, \"linecolor\": \"white\", \"showbackground\": true, \"showgrid\": true, \"tickcolor\": \"rgb(51,51,51)\", \"ticks\": \"outside\", \"zerolinecolor\": \"white\"}}, \"shapedefaults\": {\"fillcolor\": \"black\", \"line\": {\"width\": 0}, \"opacity\": 0.3}, \"ternary\": {\"aaxis\": {\"gridcolor\": \"white\", \"linecolor\": \"white\", \"showgrid\": true, \"tickcolor\": \"rgb(51,51,51)\", \"ticks\": \"outside\"}, \"baxis\": {\"gridcolor\": \"white\", \"linecolor\": \"white\", \"showgrid\": true, \"tickcolor\": \"rgb(51,51,51)\", \"ticks\": \"outside\"}, \"bgcolor\": \"rgb(237,237,237)\", \"caxis\": {\"gridcolor\": \"white\", \"linecolor\": \"white\", \"showgrid\": true, \"tickcolor\": \"rgb(51,51,51)\", \"ticks\": \"outside\"}}, \"xaxis\": {\"automargin\": true, \"gridcolor\": \"white\", \"linecolor\": \"white\", \"showgrid\": true, \"tickcolor\": \"rgb(51,51,51)\", \"ticks\": \"outside\", \"title\": {\"standoff\": 15}, \"zerolinecolor\": \"white\"}, \"yaxis\": {\"automargin\": true, \"gridcolor\": \"white\", \"linecolor\": \"white\", \"showgrid\": true, \"tickcolor\": \"rgb(51,51,51)\", \"ticks\": \"outside\", \"title\": {\"standoff\": 15}, \"zerolinecolor\": \"white\"}}}, \"title\": {\"text\": \"Users Gender\", \"x\": 0.53}},                        {\"responsive\": true}                    ).then(function(){\n",
       "                            \n",
       "var gd = document.getElementById('110fab3c-2bfb-40d2-abff-08a1d34f9e7c');\n",
       "var x = new MutationObserver(function (mutations, observer) {{\n",
       "        var display = window.getComputedStyle(gd).display;\n",
       "        if (!display || display === 'none') {{\n",
       "            console.log([gd, 'removed!']);\n",
       "            Plotly.purge(gd);\n",
       "            observer.disconnect();\n",
       "        }}\n",
       "}});\n",
       "\n",
       "// Listen for the removal of the full notebook cells\n",
       "var notebookContainer = gd.closest('#notebook-container');\n",
       "if (notebookContainer) {{\n",
       "    x.observe(notebookContainer, {childList: true});\n",
       "}}\n",
       "\n",
       "// Listen for the clearing of the current output cell\n",
       "var outputEl = gd.closest('.output');\n",
       "if (outputEl) {{\n",
       "    x.observe(outputEl, {childList: true});\n",
       "}}\n",
       "\n",
       "                        })                };                });            </script>        </div>"
      ]
     },
     "metadata": {},
     "output_type": "display_data"
    }
   ],
   "source": [
    "fig = px.pie(values=dff['Sexe'].value_counts(), \n",
    "             names=dff['Sexe'].value_counts().index,\n",
    "            color_discrete_sequence=px.colors.qualitative.Safe,\n",
    "            title='Users Gender', template='ggplot2')\n",
    "fig.update_traces(textfont_size=20, \n",
    "                  marker=dict(line=dict(color='#000000', width=1)))\n",
    "fig.update_layout(title_x=0.53, legend_x=0.8)\n",
    "\n",
    "\n",
    "fig.show()\n"
   ]
  },
  {
   "cell_type": "code",
   "execution_count": 264,
   "metadata": {},
   "outputs": [],
   "source": [
    "dff.to_csv('Members_Refyld.csv')"
   ]
  },
  {
   "cell_type": "code",
   "execution_count": 265,
   "metadata": {
    "scrolled": true
   },
   "outputs": [
    {
     "data": {
      "text/plain": [
       "(1156, 13)"
      ]
     },
     "execution_count": 265,
     "metadata": {},
     "output_type": "execute_result"
    }
   ],
   "source": [
    "dff.shape"
   ]
  }
 ],
 "metadata": {
  "hide_input": false,
  "kernelspec": {
   "display_name": "Python 3",
   "language": "python",
   "name": "python3"
  },
  "language_info": {
   "codemirror_mode": {
    "name": "ipython",
    "version": 3
   },
   "file_extension": ".py",
   "mimetype": "text/x-python",
   "name": "python",
   "nbconvert_exporter": "python",
   "pygments_lexer": "ipython3",
   "version": "3.8.5"
  }
 },
 "nbformat": 4,
 "nbformat_minor": 4
}
