{
 "cells": [
  {
   "cell_type": "code",
   "execution_count": 1,
   "metadata": {},
   "outputs": [],
   "source": [
    "import pandas as pd"
   ]
  },
  {
   "cell_type": "code",
   "execution_count": 2,
   "metadata": {},
   "outputs": [],
   "source": [
    "df_pub=pd.read_csv(r'C:\\Users\\Danie\\OneDrive\\Email attachments\\Refyld-Ensembles-de-publicités-1-mar-2021-29-mar-2021.csv')\n",
    "df_pub_C=pd.read_csv(r'C:\\Users\\Danie\\OneDrive\\Email attachments\\Rapport-sans-titre-Feb-15-2021-Mar-29-2021.csv')"
   ]
  },
  {
   "cell_type": "code",
   "execution_count": 5,
   "metadata": {
    "collapsed": true
   },
   "outputs": [
    {
     "data": {
      "text/html": [
       "<div>\n",
       "<style scoped>\n",
       "    .dataframe tbody tr th:only-of-type {\n",
       "        vertical-align: middle;\n",
       "    }\n",
       "\n",
       "    .dataframe tbody tr th {\n",
       "        vertical-align: top;\n",
       "    }\n",
       "\n",
       "    .dataframe thead th {\n",
       "        text-align: right;\n",
       "    }\n",
       "</style>\n",
       "<table border=\"1\" class=\"dataframe\">\n",
       "  <thead>\n",
       "    <tr style=\"text-align: right;\">\n",
       "      <th></th>\n",
       "      <th>Unnamed: 0</th>\n",
       "      <th>DÃ©but des rapports</th>\n",
       "      <th>Fin des rapports</th>\n",
       "      <th>Nom de lâ€™ensemble de publicitÃ©s</th>\n",
       "      <th>Diffusion des ensembles de publicitÃ©s</th>\n",
       "      <th>EnchÃ¨re</th>\n",
       "      <th>Type dâ€™enchÃ¨re</th>\n",
       "      <th>Budget des ensembles de publicitÃ©s</th>\n",
       "      <th>Type de budget ensemble de pub</th>\n",
       "      <th>DerniÃ¨re modification importante</th>\n",
       "      <th>ParamÃ¨tre dâ€™attribution</th>\n",
       "      <th>RÃ©sultats</th>\n",
       "      <th>Indicateur de rÃ©sultats</th>\n",
       "      <th>Couverture</th>\n",
       "      <th>Impressions</th>\n",
       "      <th>CoÃ»t par rÃ©sultats</th>\n",
       "      <th>Montant dÃ©pensÃ© (EUR)</th>\n",
       "      <th>Fin</th>\n",
       "      <th>Commence</th>\n",
       "      <th>Mentions Jâ€™aime une Page</th>\n",
       "    </tr>\n",
       "  </thead>\n",
       "  <tbody>\n",
       "    <tr>\n",
       "      <th>0</th>\n",
       "      <td>0</td>\n",
       "      <td>2021-03-01</td>\n",
       "      <td>2021-03-29</td>\n",
       "      <td>WHY 1.1</td>\n",
       "      <td>active</td>\n",
       "      <td>0</td>\n",
       "      <td>ABSOLUTE_OCPM</td>\n",
       "      <td>Utilisation du budget de la campagne</td>\n",
       "      <td>0</td>\n",
       "      <td>2021-03-15T13:27:28+0100</td>\n",
       "      <td>clic Ã  7 jours et vue Ã  1 jour</td>\n",
       "      <td>34.0</td>\n",
       "      <td>actions:landing_page_view</td>\n",
       "      <td>2489</td>\n",
       "      <td>2742</td>\n",
       "      <td>0.514412</td>\n",
       "      <td>17.49</td>\n",
       "      <td>2021-03-29</td>\n",
       "      <td>2021-03-15</td>\n",
       "      <td>NaN</td>\n",
       "    </tr>\n",
       "    <tr>\n",
       "      <th>1</th>\n",
       "      <td>1</td>\n",
       "      <td>2021-03-01</td>\n",
       "      <td>2021-03-29</td>\n",
       "      <td>WHY 1.2</td>\n",
       "      <td>active</td>\n",
       "      <td>0</td>\n",
       "      <td>ABSOLUTE_OCPM</td>\n",
       "      <td>Utilisation du budget de la campagne</td>\n",
       "      <td>0</td>\n",
       "      <td>0</td>\n",
       "      <td>clic Ã  7 jours et vue Ã  1 jour</td>\n",
       "      <td>597.0</td>\n",
       "      <td>actions:landing_page_view</td>\n",
       "      <td>30728</td>\n",
       "      <td>44924</td>\n",
       "      <td>0.359229</td>\n",
       "      <td>214.46</td>\n",
       "      <td>2021-03-29</td>\n",
       "      <td>2021-03-15</td>\n",
       "      <td>NaN</td>\n",
       "    </tr>\n",
       "    <tr>\n",
       "      <th>2</th>\n",
       "      <td>2</td>\n",
       "      <td>2021-03-01</td>\n",
       "      <td>2021-03-29</td>\n",
       "      <td>WHY 1.3</td>\n",
       "      <td>active</td>\n",
       "      <td>0</td>\n",
       "      <td>ABSOLUTE_OCPM</td>\n",
       "      <td>Utilisation du budget de la campagne</td>\n",
       "      <td>0</td>\n",
       "      <td>0</td>\n",
       "      <td>clic Ã  7 jours et vue Ã  1 jour</td>\n",
       "      <td>NaN</td>\n",
       "      <td>NaN</td>\n",
       "      <td>0</td>\n",
       "      <td>0</td>\n",
       "      <td>NaN</td>\n",
       "      <td>0.00</td>\n",
       "      <td>2021-03-29</td>\n",
       "      <td>2021-03-15</td>\n",
       "      <td>NaN</td>\n",
       "    </tr>\n",
       "    <tr>\n",
       "      <th>3</th>\n",
       "      <td>3</td>\n",
       "      <td>2021-03-01</td>\n",
       "      <td>2021-03-29</td>\n",
       "      <td>WHY 1.4</td>\n",
       "      <td>active</td>\n",
       "      <td>0</td>\n",
       "      <td>ABSOLUTE_OCPM</td>\n",
       "      <td>Utilisation du budget de la campagne</td>\n",
       "      <td>0</td>\n",
       "      <td>0</td>\n",
       "      <td>clic Ã  7 jours et vue Ã  1 jour</td>\n",
       "      <td>155.0</td>\n",
       "      <td>actions:landing_page_view</td>\n",
       "      <td>6873</td>\n",
       "      <td>9934</td>\n",
       "      <td>0.439032</td>\n",
       "      <td>68.05</td>\n",
       "      <td>2021-03-29</td>\n",
       "      <td>2021-03-15</td>\n",
       "      <td>NaN</td>\n",
       "    </tr>\n",
       "    <tr>\n",
       "      <th>4</th>\n",
       "      <td>4</td>\n",
       "      <td>2021-03-01</td>\n",
       "      <td>2021-03-29</td>\n",
       "      <td>ZW Guide 1.1</td>\n",
       "      <td>active</td>\n",
       "      <td>0</td>\n",
       "      <td>ABSOLUTE_OCPM</td>\n",
       "      <td>Utilisation du budget de la campagne</td>\n",
       "      <td>0</td>\n",
       "      <td>0</td>\n",
       "      <td>clic Ã  7 jours et vue Ã  1 jour</td>\n",
       "      <td>70.0</td>\n",
       "      <td>actions:link_click</td>\n",
       "      <td>5464</td>\n",
       "      <td>7594</td>\n",
       "      <td>0.441143</td>\n",
       "      <td>30.88</td>\n",
       "      <td>En cours</td>\n",
       "      <td>2021-03-15</td>\n",
       "      <td>NaN</td>\n",
       "    </tr>\n",
       "    <tr>\n",
       "      <th>5</th>\n",
       "      <td>5</td>\n",
       "      <td>2021-03-01</td>\n",
       "      <td>2021-03-29</td>\n",
       "      <td>ZW Guide 1.2</td>\n",
       "      <td>active</td>\n",
       "      <td>0</td>\n",
       "      <td>ABSOLUTE_OCPM</td>\n",
       "      <td>Utilisation du budget de la campagne</td>\n",
       "      <td>0</td>\n",
       "      <td>0</td>\n",
       "      <td>clic Ã  7 jours et vue Ã  1 jour</td>\n",
       "      <td>280.0</td>\n",
       "      <td>actions:link_click</td>\n",
       "      <td>16805</td>\n",
       "      <td>29984</td>\n",
       "      <td>0.379786</td>\n",
       "      <td>106.34</td>\n",
       "      <td>En cours</td>\n",
       "      <td>2021-03-15</td>\n",
       "      <td>NaN</td>\n",
       "    </tr>\n",
       "  </tbody>\n",
       "</table>\n",
       "</div>"
      ],
      "text/plain": [
       "   Unnamed: 0 DÃ©but des rapports Fin des rapports  \\\n",
       "0           0          2021-03-01       2021-03-29   \n",
       "1           1          2021-03-01       2021-03-29   \n",
       "2           2          2021-03-01       2021-03-29   \n",
       "3           3          2021-03-01       2021-03-29   \n",
       "4           4          2021-03-01       2021-03-29   \n",
       "5           5          2021-03-01       2021-03-29   \n",
       "\n",
       "  Nom de lâ€™ensemble de publicitÃ©s Diffusion des ensembles de publicitÃ©s  \\\n",
       "0                            WHY 1.1                                 active   \n",
       "1                            WHY 1.2                                 active   \n",
       "2                            WHY 1.3                                 active   \n",
       "3                            WHY 1.4                                 active   \n",
       "4                       ZW Guide 1.1                                 active   \n",
       "5                       ZW Guide 1.2                                 active   \n",
       "\n",
       "   EnchÃ¨re Type dâ€™enchÃ¨re   Budget des ensembles de publicitÃ©s  \\\n",
       "0         0     ABSOLUTE_OCPM  Utilisation du budget de la campagne   \n",
       "1         0     ABSOLUTE_OCPM  Utilisation du budget de la campagne   \n",
       "2         0     ABSOLUTE_OCPM  Utilisation du budget de la campagne   \n",
       "3         0     ABSOLUTE_OCPM  Utilisation du budget de la campagne   \n",
       "4         0     ABSOLUTE_OCPM  Utilisation du budget de la campagne   \n",
       "5         0     ABSOLUTE_OCPM  Utilisation du budget de la campagne   \n",
       "\n",
       "   Type de budget ensemble de pub DerniÃ¨re modification importante  \\\n",
       "0                               0          2021-03-15T13:27:28+0100   \n",
       "1                               0                                 0   \n",
       "2                               0                                 0   \n",
       "3                               0                                 0   \n",
       "4                               0                                 0   \n",
       "5                               0                                 0   \n",
       "\n",
       "         ParamÃ¨tre dâ€™attribution  RÃ©sultats   Indicateur de rÃ©sultats  \\\n",
       "0  clic Ã  7 jours et vue Ã  1 jour        34.0  actions:landing_page_view   \n",
       "1  clic Ã  7 jours et vue Ã  1 jour       597.0  actions:landing_page_view   \n",
       "2  clic Ã  7 jours et vue Ã  1 jour         NaN                        NaN   \n",
       "3  clic Ã  7 jours et vue Ã  1 jour       155.0  actions:landing_page_view   \n",
       "4  clic Ã  7 jours et vue Ã  1 jour        70.0         actions:link_click   \n",
       "5  clic Ã  7 jours et vue Ã  1 jour       280.0         actions:link_click   \n",
       "\n",
       "   Couverture  Impressions  CoÃ»t par rÃ©sultats  Montant dÃ©pensÃ© (EUR)  \\\n",
       "0        2489         2742              0.514412                    17.49   \n",
       "1       30728        44924              0.359229                   214.46   \n",
       "2           0            0                   NaN                     0.00   \n",
       "3        6873         9934              0.439032                    68.05   \n",
       "4        5464         7594              0.441143                    30.88   \n",
       "5       16805        29984              0.379786                   106.34   \n",
       "\n",
       "          Fin    Commence  Mentions Jâ€™aime une Page  \n",
       "0  2021-03-29  2021-03-15                         NaN  \n",
       "1  2021-03-29  2021-03-15                         NaN  \n",
       "2  2021-03-29  2021-03-15                         NaN  \n",
       "3  2021-03-29  2021-03-15                         NaN  \n",
       "4    En cours  2021-03-15                         NaN  \n",
       "5    En cours  2021-03-15                         NaN  "
      ]
     },
     "execution_count": 5,
     "metadata": {},
     "output_type": "execute_result"
    }
   ],
   "source": [
    "df_pub"
   ]
  },
  {
   "cell_type": "code",
   "execution_count": 28,
   "metadata": {
    "scrolled": true
   },
   "outputs": [
    {
     "data": {
      "text/html": [
       "<div>\n",
       "<style scoped>\n",
       "    .dataframe tbody tr th:only-of-type {\n",
       "        vertical-align: middle;\n",
       "    }\n",
       "\n",
       "    .dataframe tbody tr th {\n",
       "        vertical-align: top;\n",
       "    }\n",
       "\n",
       "    .dataframe thead th {\n",
       "        text-align: right;\n",
       "    }\n",
       "</style>\n",
       "<table border=\"1\" class=\"dataframe\">\n",
       "  <thead>\n",
       "    <tr style=\"text-align: right;\">\n",
       "      <th></th>\n",
       "      <th>Unnamed: 0</th>\n",
       "      <th>Couverture</th>\n",
       "      <th>Impressions</th>\n",
       "      <th>Répétition</th>\n",
       "      <th>Résultats</th>\n",
       "      <th>Coût par résultat</th>\n",
       "      <th>Montant dépensé (EUR)</th>\n",
       "      <th>CPM (Coût pour 1 000 impressions)</th>\n",
       "      <th>Clics sur un lien</th>\n",
       "      <th>CPC (coût par clic sur un lien)</th>\n",
       "      <th>CTR (taux de clics sur le lien)</th>\n",
       "      <th>Prospects (formulaire)</th>\n",
       "    </tr>\n",
       "  </thead>\n",
       "  <tbody>\n",
       "    <tr>\n",
       "      <th>count</th>\n",
       "      <td>798.00000</td>\n",
       "      <td>798.000000</td>\n",
       "      <td>798.000000</td>\n",
       "      <td>798.000000</td>\n",
       "      <td>300.000000</td>\n",
       "      <td>300.000000</td>\n",
       "      <td>798.000000</td>\n",
       "      <td>798.000000</td>\n",
       "      <td>308.000000</td>\n",
       "      <td>308.000000</td>\n",
       "      <td>308.000000</td>\n",
       "      <td>0.0</td>\n",
       "    </tr>\n",
       "    <tr>\n",
       "      <th>mean</th>\n",
       "      <td>398.50000</td>\n",
       "      <td>115.175439</td>\n",
       "      <td>119.270677</td>\n",
       "      <td>1.035077</td>\n",
       "      <td>3.786667</td>\n",
       "      <td>0.349877</td>\n",
       "      <td>0.547895</td>\n",
       "      <td>5.509938</td>\n",
       "      <td>3.870130</td>\n",
       "      <td>0.339548</td>\n",
       "      <td>3.714399</td>\n",
       "      <td>NaN</td>\n",
       "    </tr>\n",
       "    <tr>\n",
       "      <th>std</th>\n",
       "      <td>230.50705</td>\n",
       "      <td>260.822041</td>\n",
       "      <td>267.779829</td>\n",
       "      <td>0.082598</td>\n",
       "      <td>4.711172</td>\n",
       "      <td>0.249795</td>\n",
       "      <td>1.131954</td>\n",
       "      <td>3.866015</td>\n",
       "      <td>4.837693</td>\n",
       "      <td>0.248278</td>\n",
       "      <td>7.921968</td>\n",
       "      <td>NaN</td>\n",
       "    </tr>\n",
       "    <tr>\n",
       "      <th>min</th>\n",
       "      <td>0.00000</td>\n",
       "      <td>0.000000</td>\n",
       "      <td>1.000000</td>\n",
       "      <td>0.000000</td>\n",
       "      <td>1.000000</td>\n",
       "      <td>0.000000</td>\n",
       "      <td>0.000000</td>\n",
       "      <td>0.000000</td>\n",
       "      <td>1.000000</td>\n",
       "      <td>0.000000</td>\n",
       "      <td>0.213220</td>\n",
       "      <td>NaN</td>\n",
       "    </tr>\n",
       "    <tr>\n",
       "      <th>25%</th>\n",
       "      <td>199.25000</td>\n",
       "      <td>6.000000</td>\n",
       "      <td>6.000000</td>\n",
       "      <td>1.000000</td>\n",
       "      <td>1.000000</td>\n",
       "      <td>0.200000</td>\n",
       "      <td>0.030000</td>\n",
       "      <td>3.158576</td>\n",
       "      <td>1.000000</td>\n",
       "      <td>0.193750</td>\n",
       "      <td>1.123596</td>\n",
       "      <td>NaN</td>\n",
       "    </tr>\n",
       "    <tr>\n",
       "      <th>50%</th>\n",
       "      <td>398.50000</td>\n",
       "      <td>24.000000</td>\n",
       "      <td>25.000000</td>\n",
       "      <td>1.000000</td>\n",
       "      <td>2.000000</td>\n",
       "      <td>0.300000</td>\n",
       "      <td>0.120000</td>\n",
       "      <td>4.831826</td>\n",
       "      <td>2.000000</td>\n",
       "      <td>0.293935</td>\n",
       "      <td>1.768108</td>\n",
       "      <td>NaN</td>\n",
       "    </tr>\n",
       "    <tr>\n",
       "      <th>75%</th>\n",
       "      <td>597.75000</td>\n",
       "      <td>86.000000</td>\n",
       "      <td>89.750000</td>\n",
       "      <td>1.050847</td>\n",
       "      <td>5.000000</td>\n",
       "      <td>0.444177</td>\n",
       "      <td>0.504730</td>\n",
       "      <td>7.018595</td>\n",
       "      <td>5.000000</td>\n",
       "      <td>0.418750</td>\n",
       "      <td>3.312672</td>\n",
       "      <td>NaN</td>\n",
       "    </tr>\n",
       "    <tr>\n",
       "      <th>max</th>\n",
       "      <td>797.00000</td>\n",
       "      <td>2450.000000</td>\n",
       "      <td>2518.000000</td>\n",
       "      <td>2.000000</td>\n",
       "      <td>33.000000</td>\n",
       "      <td>1.780000</td>\n",
       "      <td>8.870000</td>\n",
       "      <td>30.000000</td>\n",
       "      <td>34.000000</td>\n",
       "      <td>1.780000</td>\n",
       "      <td>100.000000</td>\n",
       "      <td>NaN</td>\n",
       "    </tr>\n",
       "  </tbody>\n",
       "</table>\n",
       "</div>"
      ],
      "text/plain": [
       "       Unnamed: 0   Couverture  Impressions  Répétition   Résultats  \\\n",
       "count   798.00000   798.000000   798.000000  798.000000  300.000000   \n",
       "mean    398.50000   115.175439   119.270677    1.035077    3.786667   \n",
       "std     230.50705   260.822041   267.779829    0.082598    4.711172   \n",
       "min       0.00000     0.000000     1.000000    0.000000    1.000000   \n",
       "25%     199.25000     6.000000     6.000000    1.000000    1.000000   \n",
       "50%     398.50000    24.000000    25.000000    1.000000    2.000000   \n",
       "75%     597.75000    86.000000    89.750000    1.050847    5.000000   \n",
       "max     797.00000  2450.000000  2518.000000    2.000000   33.000000   \n",
       "\n",
       "       Coût par résultat  Montant dépensé (EUR)  \\\n",
       "count         300.000000             798.000000   \n",
       "mean            0.349877               0.547895   \n",
       "std             0.249795               1.131954   \n",
       "min             0.000000               0.000000   \n",
       "25%             0.200000               0.030000   \n",
       "50%             0.300000               0.120000   \n",
       "75%             0.444177               0.504730   \n",
       "max             1.780000               8.870000   \n",
       "\n",
       "       CPM (Coût pour 1 000 impressions)  Clics sur un lien  \\\n",
       "count                         798.000000         308.000000   \n",
       "mean                            5.509938           3.870130   \n",
       "std                             3.866015           4.837693   \n",
       "min                             0.000000           1.000000   \n",
       "25%                             3.158576           1.000000   \n",
       "50%                             4.831826           2.000000   \n",
       "75%                             7.018595           5.000000   \n",
       "max                            30.000000          34.000000   \n",
       "\n",
       "       CPC (coût par clic sur un lien)  CTR (taux de clics sur le lien)  \\\n",
       "count                       308.000000                       308.000000   \n",
       "mean                          0.339548                         3.714399   \n",
       "std                           0.248278                         7.921968   \n",
       "min                           0.000000                         0.213220   \n",
       "25%                           0.193750                         1.123596   \n",
       "50%                           0.293935                         1.768108   \n",
       "75%                           0.418750                         3.312672   \n",
       "max                           1.780000                       100.000000   \n",
       "\n",
       "       Prospects (formulaire)  \n",
       "count                     0.0  \n",
       "mean                      NaN  \n",
       "std                       NaN  \n",
       "min                       NaN  \n",
       "25%                       NaN  \n",
       "50%                       NaN  \n",
       "75%                       NaN  \n",
       "max                       NaN  "
      ]
     },
     "execution_count": 28,
     "metadata": {},
     "output_type": "execute_result"
    }
   ],
   "source": [
    "df_pub_C.describe()"
   ]
  },
  {
   "cell_type": "code",
   "execution_count": 32,
   "metadata": {},
   "outputs": [
    {
     "data": {
      "text/html": [
       "<div>\n",
       "<style scoped>\n",
       "    .dataframe tbody tr th:only-of-type {\n",
       "        vertical-align: middle;\n",
       "    }\n",
       "\n",
       "    .dataframe tbody tr th {\n",
       "        vertical-align: top;\n",
       "    }\n",
       "\n",
       "    .dataframe thead th {\n",
       "        text-align: right;\n",
       "    }\n",
       "</style>\n",
       "<table border=\"1\" class=\"dataframe\">\n",
       "  <thead>\n",
       "    <tr style=\"text-align: right;\">\n",
       "      <th></th>\n",
       "      <th>Unnamed: 0</th>\n",
       "      <th>Nom de la campagne</th>\n",
       "      <th>Nom de l’ensemble de publicités</th>\n",
       "      <th>Nom de la publicité</th>\n",
       "      <th>Âge</th>\n",
       "      <th>Genre</th>\n",
       "      <th>Objectif</th>\n",
       "      <th>Jour</th>\n",
       "      <th>Statut de diffusion</th>\n",
       "      <th>Niveau de diffusion</th>\n",
       "      <th>...</th>\n",
       "      <th>Montant dépensé (EUR)</th>\n",
       "      <th>Commence</th>\n",
       "      <th>Fin</th>\n",
       "      <th>CPM (Coût pour 1 000 impressions)</th>\n",
       "      <th>Clics sur un lien</th>\n",
       "      <th>CPC (coût par clic sur un lien)</th>\n",
       "      <th>CTR (taux de clics sur le lien)</th>\n",
       "      <th>Prospects (formulaire)</th>\n",
       "      <th>Début des rapports</th>\n",
       "      <th>Fin des rapports</th>\n",
       "    </tr>\n",
       "  </thead>\n",
       "  <tbody>\n",
       "    <tr>\n",
       "      <th>767</th>\n",
       "      <td>767</td>\n",
       "      <td>WHY 1</td>\n",
       "      <td>WHY 1.2</td>\n",
       "      <td>WHY 1.2.2</td>\n",
       "      <td>35-44</td>\n",
       "      <td>male</td>\n",
       "      <td>LINK_CLICKS</td>\n",
       "      <td>2021-03-15</td>\n",
       "      <td>active</td>\n",
       "      <td>ad</td>\n",
       "      <td>...</td>\n",
       "      <td>0.0</td>\n",
       "      <td>2021-03-15</td>\n",
       "      <td>2021-03-29 00:00:00</td>\n",
       "      <td>0.0</td>\n",
       "      <td>1.0</td>\n",
       "      <td>0.0</td>\n",
       "      <td>100.0</td>\n",
       "      <td>NaN</td>\n",
       "      <td>2021-03-15</td>\n",
       "      <td>2021-03-15</td>\n",
       "    </tr>\n",
       "  </tbody>\n",
       "</table>\n",
       "<p>1 rows × 26 columns</p>\n",
       "</div>"
      ],
      "text/plain": [
       "     Unnamed: 0 Nom de la campagne Nom de l’ensemble de publicités  \\\n",
       "767         767              WHY 1                         WHY 1.2   \n",
       "\n",
       "    Nom de la publicité    Âge Genre     Objectif        Jour  \\\n",
       "767           WHY 1.2.2  35-44  male  LINK_CLICKS  2021-03-15   \n",
       "\n",
       "    Statut de diffusion Niveau de diffusion  ...  Montant dépensé (EUR)  \\\n",
       "767              active                  ad  ...                    0.0   \n",
       "\n",
       "       Commence                  Fin CPM (Coût pour 1 000 impressions)  \\\n",
       "767  2021-03-15  2021-03-29 00:00:00                               0.0   \n",
       "\n",
       "     Clics sur un lien  CPC (coût par clic sur un lien)  \\\n",
       "767                1.0                              0.0   \n",
       "\n",
       "     CTR (taux de clics sur le lien) Prospects (formulaire)  \\\n",
       "767                            100.0                    NaN   \n",
       "\n",
       "    Début des rapports  Fin des rapports  \n",
       "767         2021-03-15        2021-03-15  \n",
       "\n",
       "[1 rows x 26 columns]"
      ]
     },
     "execution_count": 32,
     "metadata": {},
     "output_type": "execute_result"
    }
   ],
   "source": [
    "df_pub_C[df_pub_C['CTR (taux de clics sur le lien)']==100]"
   ]
  },
  {
   "cell_type": "code",
   "execution_count": 31,
   "metadata": {},
   "outputs": [
    {
     "data": {
      "text/plain": [
       "True    798\n",
       "Name: Prospects (formulaire), dtype: int64"
      ]
     },
     "execution_count": 31,
     "metadata": {},
     "output_type": "execute_result"
    }
   ],
   "source": [
    "df_pub_C['Prospects (formulaire)'].isna().value_counts()"
   ]
  },
  {
   "cell_type": "code",
   "execution_count": 9,
   "metadata": {},
   "outputs": [
    {
     "data": {
      "text/plain": [
       "WHY 1.4    172\n",
       "WHY 1.2    171\n",
       "WHY 1.1    138\n",
       "Name: Nom de l’ensemble de publicités, dtype: int64"
      ]
     },
     "execution_count": 9,
     "metadata": {},
     "output_type": "execute_result"
    }
   ],
   "source": [
    "df_pub_C[df_pub_C['Nom de la campagne'] == 'WHY 1']['Nom de l’ensemble de publicités'].value_counts()"
   ]
  },
  {
   "cell_type": "code",
   "execution_count": 10,
   "metadata": {},
   "outputs": [
    {
     "data": {
      "text/plain": [
       "Unnamed: 0                           798\n",
       "Nom de la campagne                     2\n",
       "Nom de l’ensemble de publicités        5\n",
       "Nom de la publicité                    5\n",
       "Âge                                    5\n",
       "Genre                                  3\n",
       "Objectif                               1\n",
       "Jour                                  15\n",
       "Statut de diffusion                    1\n",
       "Niveau de diffusion                    1\n",
       "Couverture                           244\n",
       "Impressions                          250\n",
       "Répétition                           264\n",
       "Type de résultat                       2\n",
       "Résultats                             24\n",
       "Coût par résultat                    198\n",
       "Montant dépensé (EUR)                214\n",
       "Commence                               1\n",
       "Fin                                    2\n",
       "CPM (Coût pour 1 000 impressions)    444\n",
       "Clics sur un lien                     24\n",
       "CPC (coût par clic sur un lien)      206\n",
       "CTR (taux de clics sur le lien)      231\n",
       "Prospects (formulaire)                 0\n",
       "Début des rapports                    15\n",
       "Fin des rapports                      15\n",
       "dtype: int64"
      ]
     },
     "execution_count": 10,
     "metadata": {},
     "output_type": "execute_result"
    }
   ],
   "source": [
    "df_pub_C.nunique()"
   ]
  },
  {
   "cell_type": "code",
   "execution_count": 22,
   "metadata": {},
   "outputs": [
    {
     "name": "stdout",
     "output_type": "stream",
     "text": [
      "<class 'pandas.core.frame.DataFrame'>\n",
      "RangeIndex: 798 entries, 0 to 797\n",
      "Data columns (total 26 columns):\n",
      " #   Column                             Non-Null Count  Dtype  \n",
      "---  ------                             --------------  -----  \n",
      " 0   Unnamed: 0                         798 non-null    int64  \n",
      " 1   Nom de la campagne                 798 non-null    object \n",
      " 2   Nom de l’ensemble de publicités    798 non-null    object \n",
      " 3   Nom de la publicité                798 non-null    object \n",
      " 4   Âge                                798 non-null    object \n",
      " 5   Genre                              798 non-null    object \n",
      " 6   Objectif                           798 non-null    object \n",
      " 7   Jour                               798 non-null    object \n",
      " 8   Statut de diffusion                798 non-null    object \n",
      " 9   Niveau de diffusion                798 non-null    object \n",
      " 10  Couverture                         798 non-null    int64  \n",
      " 11  Impressions                        798 non-null    int64  \n",
      " 12  Répétition                         798 non-null    float64\n",
      " 13  Type de résultat                   300 non-null    object \n",
      " 14  Résultats                          300 non-null    float64\n",
      " 15  Coût par résultat                  300 non-null    float64\n",
      " 16  Montant dépensé (EUR)              798 non-null    float64\n",
      " 17  Commence                           798 non-null    object \n",
      " 18  Fin                                798 non-null    object \n",
      " 19  CPM (Coût pour 1 000 impressions)  798 non-null    float64\n",
      " 20  Clics sur un lien                  308 non-null    float64\n",
      " 21  CPC (coût par clic sur un lien)    308 non-null    float64\n",
      " 22  CTR (taux de clics sur le lien)    308 non-null    float64\n",
      " 23  Prospects (formulaire)             0 non-null      float64\n",
      " 24  Début des rapports                 798 non-null    object \n",
      " 25  Fin des rapports                   798 non-null    object \n",
      "dtypes: float64(9), int64(3), object(14)\n",
      "memory usage: 162.2+ KB\n"
     ]
    }
   ],
   "source": [
    "df_pub_C.info()"
   ]
  },
  {
   "cell_type": "code",
   "execution_count": 11,
   "metadata": {},
   "outputs": [],
   "source": [
    "import seaborn as sns\n",
    "import numpy as np"
   ]
  },
  {
   "cell_type": "code",
   "execution_count": 12,
   "metadata": {},
   "outputs": [
    {
     "data": {
      "text/plain": [
       "<AxesSubplot:>"
      ]
     },
     "execution_count": 12,
     "metadata": {},
     "output_type": "execute_result"
    },
    {
     "data": {
      "image/png": "[encoded data removed]",
      "text/plain": [
       "<Figure size 432x288 with 2 Axes>"
      ]
     },
     "metadata": {
      "needs_background": "light"
     },
     "output_type": "display_data"
    }
   ],
   "source": [
    "sns.heatmap(df_pub_C.corr().abs(), \n",
    "            mask = np.triu(df_pub_C.corr().abs()),\n",
    "           cmap = 'coolwarm')"
   ]
  },
  {
   "cell_type": "code",
   "execution_count": 14,
   "metadata": {},
   "outputs": [
    {
     "data": {
      "text/plain": [
       "min    2021-03-15\n",
       "max    2021-03-29\n",
       "Name: Début des rapports, dtype: object"
      ]
     },
     "execution_count": 14,
     "metadata": {},
     "output_type": "execute_result"
    }
   ],
   "source": [
    "df_pub_C['Début des rapports'].agg([min, max])"
   ]
  },
  {
   "cell_type": "code",
   "execution_count": 15,
   "metadata": {},
   "outputs": [
    {
     "data": {
      "text/plain": [
       "min    2021-03-15\n",
       "max    2021-03-29\n",
       "Name: Fin des rapports, dtype: object"
      ]
     },
     "execution_count": 15,
     "metadata": {},
     "output_type": "execute_result"
    }
   ],
   "source": [
    "df_pub_C['Fin des rapports'].agg([min, max])"
   ]
  },
  {
   "cell_type": "code",
   "execution_count": 21,
   "metadata": {},
   "outputs": [
    {
     "data": {
      "text/plain": [
       "0      2021-03-15\n",
       "1      2021-03-15\n",
       "2      2021-03-15\n",
       "3      2021-03-15\n",
       "4      2021-03-15\n",
       "          ...    \n",
       "793    2021-03-15\n",
       "794    2021-03-15\n",
       "795    2021-03-15\n",
       "796    2021-03-15\n",
       "797    2021-03-15\n",
       "Name: Commence, Length: 798, dtype: object"
      ]
     },
     "execution_count": 21,
     "metadata": {},
     "output_type": "execute_result"
    }
   ],
   "source": [
    "df_pub_C['Commence']"
   ]
  },
  {
   "cell_type": "code",
   "execution_count": 17,
   "metadata": {},
   "outputs": [
    {
     "data": {
      "text/plain": [
       "0      2021-03-29 00:00:00\n",
       "1                 En cours\n",
       "2      2021-03-29 00:00:00\n",
       "3      2021-03-29 00:00:00\n",
       "4      2021-03-29 00:00:00\n",
       "              ...         \n",
       "793    2021-03-29 00:00:00\n",
       "794    2021-03-29 00:00:00\n",
       "795    2021-03-29 00:00:00\n",
       "796    2021-03-29 00:00:00\n",
       "797    2021-03-29 00:00:00\n",
       "Name: Fin, Length: 798, dtype: object"
      ]
     },
     "execution_count": 17,
     "metadata": {},
     "output_type": "execute_result"
    }
   ],
   "source": [
    "df_pub_C['Fin']"
   ]
  },
  {
   "cell_type": "code",
   "execution_count": 19,
   "metadata": {},
   "outputs": [
    {
     "data": {
      "text/plain": [
       "25-34      211\n",
       "35-44      203\n",
       "45-54      195\n",
       "18-24      187\n",
       "Unknown      2\n",
       "Name: Âge, dtype: int64"
      ]
     },
     "execution_count": 19,
     "metadata": {},
     "output_type": "execute_result"
    }
   ],
   "source": [
    "df_pub_C['Âge'].value_counts()"
   ]
  },
  {
   "cell_type": "code",
   "execution_count": 20,
   "metadata": {},
   "outputs": [
    {
     "data": {
      "text/plain": [
       "female     290\n",
       "male       278\n",
       "unknown    230\n",
       "Name: Genre, dtype: int64"
      ]
     },
     "execution_count": 20,
     "metadata": {},
     "output_type": "execute_result"
    }
   ],
   "source": [
    "df_pub_C['Genre'].value_counts()"
   ]
  },
  {
   "cell_type": "code",
   "execution_count": 25,
   "metadata": {},
   "outputs": [
    {
     "data": {
      "text/plain": [
       "0      1.000000\n",
       "1      1.000000\n",
       "2      1.000000\n",
       "3      1.000000\n",
       "4      1.000000\n",
       "         ...   \n",
       "793    1.000000\n",
       "794    1.000000\n",
       "795    1.000000\n",
       "796    1.000000\n",
       "797    1.111111\n",
       "Name: Répétition, Length: 798, dtype: float64"
      ]
     },
     "execution_count": 25,
     "metadata": {},
     "output_type": "execute_result"
    }
   ],
   "source": [
    "df_pub_C['Répétition']"
   ]
  },
  {
   "cell_type": "code",
   "execution_count": null,
   "metadata": {},
   "outputs": [],
   "source": []
  }
 ],
 "metadata": {
  "kernelspec": {
   "display_name": "Python 3",
   "language": "python",
   "name": "python3"
  },
  "language_info": {
   "codemirror_mode": {
    "name": "ipython",
    "version": 3
   },
   "file_extension": ".py",
   "mimetype": "text/x-python",
   "name": "python",
   "nbconvert_exporter": "python",
   "pygments_lexer": "ipython3",
   "version": "3.8.5"
  }
 },
 "nbformat": 4,
 "nbformat_minor": 4
}
