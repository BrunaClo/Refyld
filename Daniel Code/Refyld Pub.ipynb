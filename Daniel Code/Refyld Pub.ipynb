{
 "cells": [
  {
   "cell_type": "code",
   "execution_count": 144,
   "metadata": {},
   "outputs": [],
   "source": [
    "import pandas as pd\n",
    "import matplotlib.pyplot as plt\n",
    "%matplotlib inline"
   ]
  },
  {
   "cell_type": "code",
   "execution_count": 2,
   "metadata": {},
   "outputs": [],
   "source": [
    "df_pub=pd.read_csv(r'C:\\Users\\Danie\\OneDrive\\Email attachments\\Refyld-Ensembles-de-publicités-1-mar-2021-29-mar-2021.csv')\n",
    "df_pub_C=pd.read_csv(r'C:\\Users\\Danie\\OneDrive\\Email attachments\\Rapport-sans-titre-Feb-15-2021-Mar-29-2021.csv')"
   ]
  },
  {
   "cell_type": "code",
   "execution_count": 5,
   "metadata": {
    "collapsed": true
   },
   "outputs": [
    {
     "data": {
      "text/html": [
       "<div>\n",
       "<style scoped>\n",
       "    .dataframe tbody tr th:only-of-type {\n",
       "        vertical-align: middle;\n",
       "    }\n",
       "\n",
       "    .dataframe tbody tr th {\n",
       "        vertical-align: top;\n",
       "    }\n",
       "\n",
       "    .dataframe thead th {\n",
       "        text-align: right;\n",
       "    }\n",
       "</style>\n",
       "<table border=\"1\" class=\"dataframe\">\n",
       "  <thead>\n",
       "    <tr style=\"text-align: right;\">\n",
       "      <th></th>\n",
       "      <th>Unnamed: 0</th>\n",
       "      <th>DÃ©but des rapports</th>\n",
       "      <th>Fin des rapports</th>\n",
       "      <th>Nom de lâ€™ensemble de publicitÃ©s</th>\n",
       "      <th>Diffusion des ensembles de publicitÃ©s</th>\n",
       "      <th>EnchÃ¨re</th>\n",
       "      <th>Type dâ€™enchÃ¨re</th>\n",
       "      <th>Budget des ensembles de publicitÃ©s</th>\n",
       "      <th>Type de budget ensemble de pub</th>\n",
       "      <th>DerniÃ¨re modification importante</th>\n",
       "      <th>ParamÃ¨tre dâ€™attribution</th>\n",
       "      <th>RÃ©sultats</th>\n",
       "      <th>Indicateur de rÃ©sultats</th>\n",
       "      <th>Couverture</th>\n",
       "      <th>Impressions</th>\n",
       "      <th>CoÃ»t par rÃ©sultats</th>\n",
       "      <th>Montant dÃ©pensÃ© (EUR)</th>\n",
       "      <th>Fin</th>\n",
       "      <th>Commence</th>\n",
       "      <th>Mentions Jâ€™aime une Page</th>\n",
       "    </tr>\n",
       "  </thead>\n",
       "  <tbody>\n",
       "    <tr>\n",
       "      <th>0</th>\n",
       "      <td>0</td>\n",
       "      <td>2021-03-01</td>\n",
       "      <td>2021-03-29</td>\n",
       "      <td>WHY 1.1</td>\n",
       "      <td>active</td>\n",
       "      <td>0</td>\n",
       "      <td>ABSOLUTE_OCPM</td>\n",
       "      <td>Utilisation du budget de la campagne</td>\n",
       "      <td>0</td>\n",
       "      <td>2021-03-15T13:27:28+0100</td>\n",
       "      <td>clic Ã  7 jours et vue Ã  1 jour</td>\n",
       "      <td>34.0</td>\n",
       "      <td>actions:landing_page_view</td>\n",
       "      <td>2489</td>\n",
       "      <td>2742</td>\n",
       "      <td>0.514412</td>\n",
       "      <td>17.49</td>\n",
       "      <td>2021-03-29</td>\n",
       "      <td>2021-03-15</td>\n",
       "      <td>NaN</td>\n",
       "    </tr>\n",
       "    <tr>\n",
       "      <th>1</th>\n",
       "      <td>1</td>\n",
       "      <td>2021-03-01</td>\n",
       "      <td>2021-03-29</td>\n",
       "      <td>WHY 1.2</td>\n",
       "      <td>active</td>\n",
       "      <td>0</td>\n",
       "      <td>ABSOLUTE_OCPM</td>\n",
       "      <td>Utilisation du budget de la campagne</td>\n",
       "      <td>0</td>\n",
       "      <td>0</td>\n",
       "      <td>clic Ã  7 jours et vue Ã  1 jour</td>\n",
       "      <td>597.0</td>\n",
       "      <td>actions:landing_page_view</td>\n",
       "      <td>30728</td>\n",
       "      <td>44924</td>\n",
       "      <td>0.359229</td>\n",
       "      <td>214.46</td>\n",
       "      <td>2021-03-29</td>\n",
       "      <td>2021-03-15</td>\n",
       "      <td>NaN</td>\n",
       "    </tr>\n",
       "    <tr>\n",
       "      <th>2</th>\n",
       "      <td>2</td>\n",
       "      <td>2021-03-01</td>\n",
       "      <td>2021-03-29</td>\n",
       "      <td>WHY 1.3</td>\n",
       "      <td>active</td>\n",
       "      <td>0</td>\n",
       "      <td>ABSOLUTE_OCPM</td>\n",
       "      <td>Utilisation du budget de la campagne</td>\n",
       "      <td>0</td>\n",
       "      <td>0</td>\n",
       "      <td>clic Ã  7 jours et vue Ã  1 jour</td>\n",
       "      <td>NaN</td>\n",
       "      <td>NaN</td>\n",
       "      <td>0</td>\n",
       "      <td>0</td>\n",
       "      <td>NaN</td>\n",
       "      <td>0.00</td>\n",
       "      <td>2021-03-29</td>\n",
       "      <td>2021-03-15</td>\n",
       "      <td>NaN</td>\n",
       "    </tr>\n",
       "    <tr>\n",
       "      <th>3</th>\n",
       "      <td>3</td>\n",
       "      <td>2021-03-01</td>\n",
       "      <td>2021-03-29</td>\n",
       "      <td>WHY 1.4</td>\n",
       "      <td>active</td>\n",
       "      <td>0</td>\n",
       "      <td>ABSOLUTE_OCPM</td>\n",
       "      <td>Utilisation du budget de la campagne</td>\n",
       "      <td>0</td>\n",
       "      <td>0</td>\n",
       "      <td>clic Ã  7 jours et vue Ã  1 jour</td>\n",
       "      <td>155.0</td>\n",
       "      <td>actions:landing_page_view</td>\n",
       "      <td>6873</td>\n",
       "      <td>9934</td>\n",
       "      <td>0.439032</td>\n",
       "      <td>68.05</td>\n",
       "      <td>2021-03-29</td>\n",
       "      <td>2021-03-15</td>\n",
       "      <td>NaN</td>\n",
       "    </tr>\n",
       "    <tr>\n",
       "      <th>4</th>\n",
       "      <td>4</td>\n",
       "      <td>2021-03-01</td>\n",
       "      <td>2021-03-29</td>\n",
       "      <td>ZW Guide 1.1</td>\n",
       "      <td>active</td>\n",
       "      <td>0</td>\n",
       "      <td>ABSOLUTE_OCPM</td>\n",
       "      <td>Utilisation du budget de la campagne</td>\n",
       "      <td>0</td>\n",
       "      <td>0</td>\n",
       "      <td>clic Ã  7 jours et vue Ã  1 jour</td>\n",
       "      <td>70.0</td>\n",
       "      <td>actions:link_click</td>\n",
       "      <td>5464</td>\n",
       "      <td>7594</td>\n",
       "      <td>0.441143</td>\n",
       "      <td>30.88</td>\n",
       "      <td>En cours</td>\n",
       "      <td>2021-03-15</td>\n",
       "      <td>NaN</td>\n",
       "    </tr>\n",
       "    <tr>\n",
       "      <th>5</th>\n",
       "      <td>5</td>\n",
       "      <td>2021-03-01</td>\n",
       "      <td>2021-03-29</td>\n",
       "      <td>ZW Guide 1.2</td>\n",
       "      <td>active</td>\n",
       "      <td>0</td>\n",
       "      <td>ABSOLUTE_OCPM</td>\n",
       "      <td>Utilisation du budget de la campagne</td>\n",
       "      <td>0</td>\n",
       "      <td>0</td>\n",
       "      <td>clic Ã  7 jours et vue Ã  1 jour</td>\n",
       "      <td>280.0</td>\n",
       "      <td>actions:link_click</td>\n",
       "      <td>16805</td>\n",
       "      <td>29984</td>\n",
       "      <td>0.379786</td>\n",
       "      <td>106.34</td>\n",
       "      <td>En cours</td>\n",
       "      <td>2021-03-15</td>\n",
       "      <td>NaN</td>\n",
       "    </tr>\n",
       "  </tbody>\n",
       "</table>\n",
       "</div>"
      ],
      "text/plain": [
       "   Unnamed: 0 DÃ©but des rapports Fin des rapports  \\\n",
       "0           0          2021-03-01       2021-03-29   \n",
       "1           1          2021-03-01       2021-03-29   \n",
       "2           2          2021-03-01       2021-03-29   \n",
       "3           3          2021-03-01       2021-03-29   \n",
       "4           4          2021-03-01       2021-03-29   \n",
       "5           5          2021-03-01       2021-03-29   \n",
       "\n",
       "  Nom de lâ€™ensemble de publicitÃ©s Diffusion des ensembles de publicitÃ©s  \\\n",
       "0                            WHY 1.1                                 active   \n",
       "1                            WHY 1.2                                 active   \n",
       "2                            WHY 1.3                                 active   \n",
       "3                            WHY 1.4                                 active   \n",
       "4                       ZW Guide 1.1                                 active   \n",
       "5                       ZW Guide 1.2                                 active   \n",
       "\n",
       "   EnchÃ¨re Type dâ€™enchÃ¨re   Budget des ensembles de publicitÃ©s  \\\n",
       "0         0     ABSOLUTE_OCPM  Utilisation du budget de la campagne   \n",
       "1         0     ABSOLUTE_OCPM  Utilisation du budget de la campagne   \n",
       "2         0     ABSOLUTE_OCPM  Utilisation du budget de la campagne   \n",
       "3         0     ABSOLUTE_OCPM  Utilisation du budget de la campagne   \n",
       "4         0     ABSOLUTE_OCPM  Utilisation du budget de la campagne   \n",
       "5         0     ABSOLUTE_OCPM  Utilisation du budget de la campagne   \n",
       "\n",
       "   Type de budget ensemble de pub DerniÃ¨re modification importante  \\\n",
       "0                               0          2021-03-15T13:27:28+0100   \n",
       "1                               0                                 0   \n",
       "2                               0                                 0   \n",
       "3                               0                                 0   \n",
       "4                               0                                 0   \n",
       "5                               0                                 0   \n",
       "\n",
       "         ParamÃ¨tre dâ€™attribution  RÃ©sultats   Indicateur de rÃ©sultats  \\\n",
       "0  clic Ã  7 jours et vue Ã  1 jour        34.0  actions:landing_page_view   \n",
       "1  clic Ã  7 jours et vue Ã  1 jour       597.0  actions:landing_page_view   \n",
       "2  clic Ã  7 jours et vue Ã  1 jour         NaN                        NaN   \n",
       "3  clic Ã  7 jours et vue Ã  1 jour       155.0  actions:landing_page_view   \n",
       "4  clic Ã  7 jours et vue Ã  1 jour        70.0         actions:link_click   \n",
       "5  clic Ã  7 jours et vue Ã  1 jour       280.0         actions:link_click   \n",
       "\n",
       "   Couverture  Impressions  CoÃ»t par rÃ©sultats  Montant dÃ©pensÃ© (EUR)  \\\n",
       "0        2489         2742              0.514412                    17.49   \n",
       "1       30728        44924              0.359229                   214.46   \n",
       "2           0            0                   NaN                     0.00   \n",
       "3        6873         9934              0.439032                    68.05   \n",
       "4        5464         7594              0.441143                    30.88   \n",
       "5       16805        29984              0.379786                   106.34   \n",
       "\n",
       "          Fin    Commence  Mentions Jâ€™aime une Page  \n",
       "0  2021-03-29  2021-03-15                         NaN  \n",
       "1  2021-03-29  2021-03-15                         NaN  \n",
       "2  2021-03-29  2021-03-15                         NaN  \n",
       "3  2021-03-29  2021-03-15                         NaN  \n",
       "4    En cours  2021-03-15                         NaN  \n",
       "5    En cours  2021-03-15                         NaN  "
      ]
     },
     "execution_count": 5,
     "metadata": {},
     "output_type": "execute_result"
    }
   ],
   "source": [
    "df_pub"
   ]
  },
  {
   "cell_type": "code",
   "execution_count": 34,
   "metadata": {
    "scrolled": true
   },
   "outputs": [
    {
     "data": {
      "text/plain": [
       "Index(['Unnamed: 0', 'Nom de la campagne', 'Nom de l’ensemble de publicités',\n",
       "       'Nom de la publicité', 'Âge', 'Genre', 'Objectif', 'Jour',\n",
       "       'Statut de diffusion', 'Niveau de diffusion', 'Couverture',\n",
       "       'Impressions', 'Répétition', 'Type de résultat', 'Résultats',\n",
       "       'Coût par résultat', 'Montant dépensé (EUR)', 'Commence', 'Fin',\n",
       "       'CPM (Coût pour 1 000 impressions)', 'Clics sur un lien',\n",
       "       'CPC (coût par clic sur un lien)', 'CTR (taux de clics sur le lien)',\n",
       "       'Prospects (formulaire)', 'Début des rapports', 'Fin des rapports'],\n",
       "      dtype='object')"
      ]
     },
     "execution_count": 34,
     "metadata": {},
     "output_type": "execute_result"
    }
   ],
   "source": [
    "df_pub_C.columns"
   ]
  },
  {
   "cell_type": "code",
   "execution_count": 35,
   "metadata": {
    "collapsed": true
   },
   "outputs": [
    {
     "data": {
      "text/html": [
       "<div>\n",
       "<style scoped>\n",
       "    .dataframe tbody tr th:only-of-type {\n",
       "        vertical-align: middle;\n",
       "    }\n",
       "\n",
       "    .dataframe tbody tr th {\n",
       "        vertical-align: top;\n",
       "    }\n",
       "\n",
       "    .dataframe thead th {\n",
       "        text-align: right;\n",
       "    }\n",
       "</style>\n",
       "<table border=\"1\" class=\"dataframe\">\n",
       "  <thead>\n",
       "    <tr style=\"text-align: right;\">\n",
       "      <th></th>\n",
       "      <th>0</th>\n",
       "      <th>1</th>\n",
       "      <th>2</th>\n",
       "      <th>3</th>\n",
       "      <th>4</th>\n",
       "      <th>5</th>\n",
       "      <th>6</th>\n",
       "      <th>7</th>\n",
       "      <th>8</th>\n",
       "      <th>9</th>\n",
       "    </tr>\n",
       "  </thead>\n",
       "  <tbody>\n",
       "    <tr>\n",
       "      <th>Unnamed: 0</th>\n",
       "      <td>0</td>\n",
       "      <td>1</td>\n",
       "      <td>2</td>\n",
       "      <td>3</td>\n",
       "      <td>4</td>\n",
       "      <td>5</td>\n",
       "      <td>6</td>\n",
       "      <td>7</td>\n",
       "      <td>8</td>\n",
       "      <td>9</td>\n",
       "    </tr>\n",
       "    <tr>\n",
       "      <th>Nom de la campagne</th>\n",
       "      <td>WHY 1</td>\n",
       "      <td>ZW Guide 1</td>\n",
       "      <td>WHY 1</td>\n",
       "      <td>WHY 1</td>\n",
       "      <td>WHY 1</td>\n",
       "      <td>WHY 1</td>\n",
       "      <td>WHY 1</td>\n",
       "      <td>WHY 1</td>\n",
       "      <td>WHY 1</td>\n",
       "      <td>ZW Guide 1</td>\n",
       "    </tr>\n",
       "    <tr>\n",
       "      <th>Nom de l’ensemble de publicités</th>\n",
       "      <td>WHY 1.4</td>\n",
       "      <td>ZW Guide 1.1</td>\n",
       "      <td>WHY 1.4</td>\n",
       "      <td>WHY 1.4</td>\n",
       "      <td>WHY 1.4</td>\n",
       "      <td>WHY 1.4</td>\n",
       "      <td>WHY 1.4</td>\n",
       "      <td>WHY 1.4</td>\n",
       "      <td>WHY 1.4</td>\n",
       "      <td>ZW Guide 1.2</td>\n",
       "    </tr>\n",
       "    <tr>\n",
       "      <th>Nom de la publicité</th>\n",
       "      <td>WHY 1.4.4</td>\n",
       "      <td>ZW Guide 1.1.1</td>\n",
       "      <td>WHY 1.4.4</td>\n",
       "      <td>WHY 1.4.4</td>\n",
       "      <td>WHY 1.4.4</td>\n",
       "      <td>WHY 1.4.4</td>\n",
       "      <td>WHY 1.4.4</td>\n",
       "      <td>WHY 1.4.4</td>\n",
       "      <td>WHY 1.4.4</td>\n",
       "      <td>ZW Guide 1.2.2</td>\n",
       "    </tr>\n",
       "    <tr>\n",
       "      <th>Âge</th>\n",
       "      <td>25-34</td>\n",
       "      <td>35-44</td>\n",
       "      <td>25-34</td>\n",
       "      <td>45-54</td>\n",
       "      <td>18-24</td>\n",
       "      <td>35-44</td>\n",
       "      <td>18-24</td>\n",
       "      <td>35-44</td>\n",
       "      <td>45-54</td>\n",
       "      <td>18-24</td>\n",
       "    </tr>\n",
       "    <tr>\n",
       "      <th>Genre</th>\n",
       "      <td>unknown</td>\n",
       "      <td>male</td>\n",
       "      <td>male</td>\n",
       "      <td>female</td>\n",
       "      <td>female</td>\n",
       "      <td>unknown</td>\n",
       "      <td>male</td>\n",
       "      <td>male</td>\n",
       "      <td>male</td>\n",
       "      <td>unknown</td>\n",
       "    </tr>\n",
       "    <tr>\n",
       "      <th>Objectif</th>\n",
       "      <td>LINK_CLICKS</td>\n",
       "      <td>LINK_CLICKS</td>\n",
       "      <td>LINK_CLICKS</td>\n",
       "      <td>LINK_CLICKS</td>\n",
       "      <td>LINK_CLICKS</td>\n",
       "      <td>LINK_CLICKS</td>\n",
       "      <td>LINK_CLICKS</td>\n",
       "      <td>LINK_CLICKS</td>\n",
       "      <td>LINK_CLICKS</td>\n",
       "      <td>LINK_CLICKS</td>\n",
       "    </tr>\n",
       "    <tr>\n",
       "      <th>Jour</th>\n",
       "      <td>2021-03-29</td>\n",
       "      <td>2021-03-29</td>\n",
       "      <td>2021-03-29</td>\n",
       "      <td>2021-03-29</td>\n",
       "      <td>2021-03-29</td>\n",
       "      <td>2021-03-29</td>\n",
       "      <td>2021-03-29</td>\n",
       "      <td>2021-03-29</td>\n",
       "      <td>2021-03-29</td>\n",
       "      <td>2021-03-29</td>\n",
       "    </tr>\n",
       "    <tr>\n",
       "      <th>Statut de diffusion</th>\n",
       "      <td>active</td>\n",
       "      <td>active</td>\n",
       "      <td>active</td>\n",
       "      <td>active</td>\n",
       "      <td>active</td>\n",
       "      <td>active</td>\n",
       "      <td>active</td>\n",
       "      <td>active</td>\n",
       "      <td>active</td>\n",
       "      <td>active</td>\n",
       "    </tr>\n",
       "    <tr>\n",
       "      <th>Niveau de diffusion</th>\n",
       "      <td>ad</td>\n",
       "      <td>ad</td>\n",
       "      <td>ad</td>\n",
       "      <td>ad</td>\n",
       "      <td>ad</td>\n",
       "      <td>ad</td>\n",
       "      <td>ad</td>\n",
       "      <td>ad</td>\n",
       "      <td>ad</td>\n",
       "      <td>ad</td>\n",
       "    </tr>\n",
       "    <tr>\n",
       "      <th>Couverture</th>\n",
       "      <td>1</td>\n",
       "      <td>1</td>\n",
       "      <td>15</td>\n",
       "      <td>11</td>\n",
       "      <td>11</td>\n",
       "      <td>3</td>\n",
       "      <td>3</td>\n",
       "      <td>2</td>\n",
       "      <td>1</td>\n",
       "      <td>3</td>\n",
       "    </tr>\n",
       "    <tr>\n",
       "      <th>Impressions</th>\n",
       "      <td>1</td>\n",
       "      <td>1</td>\n",
       "      <td>15</td>\n",
       "      <td>11</td>\n",
       "      <td>11</td>\n",
       "      <td>3</td>\n",
       "      <td>3</td>\n",
       "      <td>2</td>\n",
       "      <td>1</td>\n",
       "      <td>3</td>\n",
       "    </tr>\n",
       "    <tr>\n",
       "      <th>Répétition</th>\n",
       "      <td>1</td>\n",
       "      <td>1</td>\n",
       "      <td>1</td>\n",
       "      <td>1</td>\n",
       "      <td>1</td>\n",
       "      <td>1</td>\n",
       "      <td>1</td>\n",
       "      <td>1</td>\n",
       "      <td>1</td>\n",
       "      <td>1</td>\n",
       "    </tr>\n",
       "    <tr>\n",
       "      <th>Type de résultat</th>\n",
       "      <td>NaN</td>\n",
       "      <td>NaN</td>\n",
       "      <td>NaN</td>\n",
       "      <td>NaN</td>\n",
       "      <td>NaN</td>\n",
       "      <td>NaN</td>\n",
       "      <td>NaN</td>\n",
       "      <td>NaN</td>\n",
       "      <td>NaN</td>\n",
       "      <td>NaN</td>\n",
       "    </tr>\n",
       "    <tr>\n",
       "      <th>Résultats</th>\n",
       "      <td>NaN</td>\n",
       "      <td>NaN</td>\n",
       "      <td>NaN</td>\n",
       "      <td>NaN</td>\n",
       "      <td>NaN</td>\n",
       "      <td>NaN</td>\n",
       "      <td>NaN</td>\n",
       "      <td>NaN</td>\n",
       "      <td>NaN</td>\n",
       "      <td>NaN</td>\n",
       "    </tr>\n",
       "    <tr>\n",
       "      <th>Coût par résultat</th>\n",
       "      <td>NaN</td>\n",
       "      <td>NaN</td>\n",
       "      <td>NaN</td>\n",
       "      <td>NaN</td>\n",
       "      <td>NaN</td>\n",
       "      <td>NaN</td>\n",
       "      <td>NaN</td>\n",
       "      <td>NaN</td>\n",
       "      <td>NaN</td>\n",
       "      <td>NaN</td>\n",
       "    </tr>\n",
       "    <tr>\n",
       "      <th>Montant dépensé (EUR)</th>\n",
       "      <td>0.01</td>\n",
       "      <td>0</td>\n",
       "      <td>0.12</td>\n",
       "      <td>0.17</td>\n",
       "      <td>0.15</td>\n",
       "      <td>0.02</td>\n",
       "      <td>0.03</td>\n",
       "      <td>0.01</td>\n",
       "      <td>0.01</td>\n",
       "      <td>0</td>\n",
       "    </tr>\n",
       "    <tr>\n",
       "      <th>Commence</th>\n",
       "      <td>2021-03-15</td>\n",
       "      <td>2021-03-15</td>\n",
       "      <td>2021-03-15</td>\n",
       "      <td>2021-03-15</td>\n",
       "      <td>2021-03-15</td>\n",
       "      <td>2021-03-15</td>\n",
       "      <td>2021-03-15</td>\n",
       "      <td>2021-03-15</td>\n",
       "      <td>2021-03-15</td>\n",
       "      <td>2021-03-15</td>\n",
       "    </tr>\n",
       "    <tr>\n",
       "      <th>Fin</th>\n",
       "      <td>2021-03-29 00:00:00</td>\n",
       "      <td>En cours</td>\n",
       "      <td>2021-03-29 00:00:00</td>\n",
       "      <td>2021-03-29 00:00:00</td>\n",
       "      <td>2021-03-29 00:00:00</td>\n",
       "      <td>2021-03-29 00:00:00</td>\n",
       "      <td>2021-03-29 00:00:00</td>\n",
       "      <td>2021-03-29 00:00:00</td>\n",
       "      <td>2021-03-29 00:00:00</td>\n",
       "      <td>En cours</td>\n",
       "    </tr>\n",
       "    <tr>\n",
       "      <th>CPM (Coût pour 1 000 impressions)</th>\n",
       "      <td>10</td>\n",
       "      <td>0</td>\n",
       "      <td>8</td>\n",
       "      <td>15.4545</td>\n",
       "      <td>13.6364</td>\n",
       "      <td>6.66667</td>\n",
       "      <td>10</td>\n",
       "      <td>5</td>\n",
       "      <td>10</td>\n",
       "      <td>0</td>\n",
       "    </tr>\n",
       "    <tr>\n",
       "      <th>Clics sur un lien</th>\n",
       "      <td>NaN</td>\n",
       "      <td>NaN</td>\n",
       "      <td>NaN</td>\n",
       "      <td>NaN</td>\n",
       "      <td>NaN</td>\n",
       "      <td>NaN</td>\n",
       "      <td>NaN</td>\n",
       "      <td>NaN</td>\n",
       "      <td>NaN</td>\n",
       "      <td>NaN</td>\n",
       "    </tr>\n",
       "    <tr>\n",
       "      <th>CPC (coût par clic sur un lien)</th>\n",
       "      <td>NaN</td>\n",
       "      <td>NaN</td>\n",
       "      <td>NaN</td>\n",
       "      <td>NaN</td>\n",
       "      <td>NaN</td>\n",
       "      <td>NaN</td>\n",
       "      <td>NaN</td>\n",
       "      <td>NaN</td>\n",
       "      <td>NaN</td>\n",
       "      <td>NaN</td>\n",
       "    </tr>\n",
       "    <tr>\n",
       "      <th>CTR (taux de clics sur le lien)</th>\n",
       "      <td>NaN</td>\n",
       "      <td>NaN</td>\n",
       "      <td>NaN</td>\n",
       "      <td>NaN</td>\n",
       "      <td>NaN</td>\n",
       "      <td>NaN</td>\n",
       "      <td>NaN</td>\n",
       "      <td>NaN</td>\n",
       "      <td>NaN</td>\n",
       "      <td>NaN</td>\n",
       "    </tr>\n",
       "    <tr>\n",
       "      <th>Prospects (formulaire)</th>\n",
       "      <td>NaN</td>\n",
       "      <td>NaN</td>\n",
       "      <td>NaN</td>\n",
       "      <td>NaN</td>\n",
       "      <td>NaN</td>\n",
       "      <td>NaN</td>\n",
       "      <td>NaN</td>\n",
       "      <td>NaN</td>\n",
       "      <td>NaN</td>\n",
       "      <td>NaN</td>\n",
       "    </tr>\n",
       "    <tr>\n",
       "      <th>Début des rapports</th>\n",
       "      <td>2021-03-29</td>\n",
       "      <td>2021-03-29</td>\n",
       "      <td>2021-03-29</td>\n",
       "      <td>2021-03-29</td>\n",
       "      <td>2021-03-29</td>\n",
       "      <td>2021-03-29</td>\n",
       "      <td>2021-03-29</td>\n",
       "      <td>2021-03-29</td>\n",
       "      <td>2021-03-29</td>\n",
       "      <td>2021-03-29</td>\n",
       "    </tr>\n",
       "    <tr>\n",
       "      <th>Fin des rapports</th>\n",
       "      <td>2021-03-29</td>\n",
       "      <td>2021-03-29</td>\n",
       "      <td>2021-03-29</td>\n",
       "      <td>2021-03-29</td>\n",
       "      <td>2021-03-29</td>\n",
       "      <td>2021-03-29</td>\n",
       "      <td>2021-03-29</td>\n",
       "      <td>2021-03-29</td>\n",
       "      <td>2021-03-29</td>\n",
       "      <td>2021-03-29</td>\n",
       "    </tr>\n",
       "  </tbody>\n",
       "</table>\n",
       "</div>"
      ],
      "text/plain": [
       "                                                     0               1  \\\n",
       "Unnamed: 0                                           0               1   \n",
       "Nom de la campagne                               WHY 1      ZW Guide 1   \n",
       "Nom de l’ensemble de publicités                WHY 1.4    ZW Guide 1.1   \n",
       "Nom de la publicité                          WHY 1.4.4  ZW Guide 1.1.1   \n",
       "Âge                                              25-34           35-44   \n",
       "Genre                                          unknown            male   \n",
       "Objectif                                   LINK_CLICKS     LINK_CLICKS   \n",
       "Jour                                        2021-03-29      2021-03-29   \n",
       "Statut de diffusion                             active          active   \n",
       "Niveau de diffusion                                 ad              ad   \n",
       "Couverture                                           1               1   \n",
       "Impressions                                          1               1   \n",
       "Répétition                                           1               1   \n",
       "Type de résultat                                   NaN             NaN   \n",
       "Résultats                                          NaN             NaN   \n",
       "Coût par résultat                                  NaN             NaN   \n",
       "Montant dépensé (EUR)                             0.01               0   \n",
       "Commence                                    2021-03-15      2021-03-15   \n",
       "Fin                                2021-03-29 00:00:00        En cours   \n",
       "CPM (Coût pour 1 000 impressions)                   10               0   \n",
       "Clics sur un lien                                  NaN             NaN   \n",
       "CPC (coût par clic sur un lien)                    NaN             NaN   \n",
       "CTR (taux de clics sur le lien)                    NaN             NaN   \n",
       "Prospects (formulaire)                             NaN             NaN   \n",
       "Début des rapports                          2021-03-29      2021-03-29   \n",
       "Fin des rapports                            2021-03-29      2021-03-29   \n",
       "\n",
       "                                                     2                    3  \\\n",
       "Unnamed: 0                                           2                    3   \n",
       "Nom de la campagne                               WHY 1                WHY 1   \n",
       "Nom de l’ensemble de publicités                WHY 1.4              WHY 1.4   \n",
       "Nom de la publicité                          WHY 1.4.4            WHY 1.4.4   \n",
       "Âge                                              25-34                45-54   \n",
       "Genre                                             male               female   \n",
       "Objectif                                   LINK_CLICKS          LINK_CLICKS   \n",
       "Jour                                        2021-03-29           2021-03-29   \n",
       "Statut de diffusion                             active               active   \n",
       "Niveau de diffusion                                 ad                   ad   \n",
       "Couverture                                          15                   11   \n",
       "Impressions                                         15                   11   \n",
       "Répétition                                           1                    1   \n",
       "Type de résultat                                   NaN                  NaN   \n",
       "Résultats                                          NaN                  NaN   \n",
       "Coût par résultat                                  NaN                  NaN   \n",
       "Montant dépensé (EUR)                             0.12                 0.17   \n",
       "Commence                                    2021-03-15           2021-03-15   \n",
       "Fin                                2021-03-29 00:00:00  2021-03-29 00:00:00   \n",
       "CPM (Coût pour 1 000 impressions)                    8              15.4545   \n",
       "Clics sur un lien                                  NaN                  NaN   \n",
       "CPC (coût par clic sur un lien)                    NaN                  NaN   \n",
       "CTR (taux de clics sur le lien)                    NaN                  NaN   \n",
       "Prospects (formulaire)                             NaN                  NaN   \n",
       "Début des rapports                          2021-03-29           2021-03-29   \n",
       "Fin des rapports                            2021-03-29           2021-03-29   \n",
       "\n",
       "                                                     4                    5  \\\n",
       "Unnamed: 0                                           4                    5   \n",
       "Nom de la campagne                               WHY 1                WHY 1   \n",
       "Nom de l’ensemble de publicités                WHY 1.4              WHY 1.4   \n",
       "Nom de la publicité                          WHY 1.4.4            WHY 1.4.4   \n",
       "Âge                                              18-24                35-44   \n",
       "Genre                                           female              unknown   \n",
       "Objectif                                   LINK_CLICKS          LINK_CLICKS   \n",
       "Jour                                        2021-03-29           2021-03-29   \n",
       "Statut de diffusion                             active               active   \n",
       "Niveau de diffusion                                 ad                   ad   \n",
       "Couverture                                          11                    3   \n",
       "Impressions                                         11                    3   \n",
       "Répétition                                           1                    1   \n",
       "Type de résultat                                   NaN                  NaN   \n",
       "Résultats                                          NaN                  NaN   \n",
       "Coût par résultat                                  NaN                  NaN   \n",
       "Montant dépensé (EUR)                             0.15                 0.02   \n",
       "Commence                                    2021-03-15           2021-03-15   \n",
       "Fin                                2021-03-29 00:00:00  2021-03-29 00:00:00   \n",
       "CPM (Coût pour 1 000 impressions)              13.6364              6.66667   \n",
       "Clics sur un lien                                  NaN                  NaN   \n",
       "CPC (coût par clic sur un lien)                    NaN                  NaN   \n",
       "CTR (taux de clics sur le lien)                    NaN                  NaN   \n",
       "Prospects (formulaire)                             NaN                  NaN   \n",
       "Début des rapports                          2021-03-29           2021-03-29   \n",
       "Fin des rapports                            2021-03-29           2021-03-29   \n",
       "\n",
       "                                                     6                    7  \\\n",
       "Unnamed: 0                                           6                    7   \n",
       "Nom de la campagne                               WHY 1                WHY 1   \n",
       "Nom de l’ensemble de publicités                WHY 1.4              WHY 1.4   \n",
       "Nom de la publicité                          WHY 1.4.4            WHY 1.4.4   \n",
       "Âge                                              18-24                35-44   \n",
       "Genre                                             male                 male   \n",
       "Objectif                                   LINK_CLICKS          LINK_CLICKS   \n",
       "Jour                                        2021-03-29           2021-03-29   \n",
       "Statut de diffusion                             active               active   \n",
       "Niveau de diffusion                                 ad                   ad   \n",
       "Couverture                                           3                    2   \n",
       "Impressions                                          3                    2   \n",
       "Répétition                                           1                    1   \n",
       "Type de résultat                                   NaN                  NaN   \n",
       "Résultats                                          NaN                  NaN   \n",
       "Coût par résultat                                  NaN                  NaN   \n",
       "Montant dépensé (EUR)                             0.03                 0.01   \n",
       "Commence                                    2021-03-15           2021-03-15   \n",
       "Fin                                2021-03-29 00:00:00  2021-03-29 00:00:00   \n",
       "CPM (Coût pour 1 000 impressions)                   10                    5   \n",
       "Clics sur un lien                                  NaN                  NaN   \n",
       "CPC (coût par clic sur un lien)                    NaN                  NaN   \n",
       "CTR (taux de clics sur le lien)                    NaN                  NaN   \n",
       "Prospects (formulaire)                             NaN                  NaN   \n",
       "Début des rapports                          2021-03-29           2021-03-29   \n",
       "Fin des rapports                            2021-03-29           2021-03-29   \n",
       "\n",
       "                                                     8               9  \n",
       "Unnamed: 0                                           8               9  \n",
       "Nom de la campagne                               WHY 1      ZW Guide 1  \n",
       "Nom de l’ensemble de publicités                WHY 1.4    ZW Guide 1.2  \n",
       "Nom de la publicité                          WHY 1.4.4  ZW Guide 1.2.2  \n",
       "Âge                                              45-54           18-24  \n",
       "Genre                                             male         unknown  \n",
       "Objectif                                   LINK_CLICKS     LINK_CLICKS  \n",
       "Jour                                        2021-03-29      2021-03-29  \n",
       "Statut de diffusion                             active          active  \n",
       "Niveau de diffusion                                 ad              ad  \n",
       "Couverture                                           1               3  \n",
       "Impressions                                          1               3  \n",
       "Répétition                                           1               1  \n",
       "Type de résultat                                   NaN             NaN  \n",
       "Résultats                                          NaN             NaN  \n",
       "Coût par résultat                                  NaN             NaN  \n",
       "Montant dépensé (EUR)                             0.01               0  \n",
       "Commence                                    2021-03-15      2021-03-15  \n",
       "Fin                                2021-03-29 00:00:00        En cours  \n",
       "CPM (Coût pour 1 000 impressions)                   10               0  \n",
       "Clics sur un lien                                  NaN             NaN  \n",
       "CPC (coût par clic sur un lien)                    NaN             NaN  \n",
       "CTR (taux de clics sur le lien)                    NaN             NaN  \n",
       "Prospects (formulaire)                             NaN             NaN  \n",
       "Début des rapports                          2021-03-29      2021-03-29  \n",
       "Fin des rapports                            2021-03-29      2021-03-29  "
      ]
     },
     "execution_count": 35,
     "metadata": {},
     "output_type": "execute_result"
    }
   ],
   "source": [
    "df_pub_C.head(10).T"
   ]
  },
  {
   "cell_type": "code",
   "execution_count": 32,
   "metadata": {
    "collapsed": true
   },
   "outputs": [
    {
     "data": {
      "text/html": [
       "<div>\n",
       "<style scoped>\n",
       "    .dataframe tbody tr th:only-of-type {\n",
       "        vertical-align: middle;\n",
       "    }\n",
       "\n",
       "    .dataframe tbody tr th {\n",
       "        vertical-align: top;\n",
       "    }\n",
       "\n",
       "    .dataframe thead th {\n",
       "        text-align: right;\n",
       "    }\n",
       "</style>\n",
       "<table border=\"1\" class=\"dataframe\">\n",
       "  <thead>\n",
       "    <tr style=\"text-align: right;\">\n",
       "      <th></th>\n",
       "      <th>Unnamed: 0</th>\n",
       "      <th>Nom de la campagne</th>\n",
       "      <th>Nom de l’ensemble de publicités</th>\n",
       "      <th>Nom de la publicité</th>\n",
       "      <th>Âge</th>\n",
       "      <th>Genre</th>\n",
       "      <th>Objectif</th>\n",
       "      <th>Jour</th>\n",
       "      <th>Statut de diffusion</th>\n",
       "      <th>Niveau de diffusion</th>\n",
       "      <th>...</th>\n",
       "      <th>Montant dépensé (EUR)</th>\n",
       "      <th>Commence</th>\n",
       "      <th>Fin</th>\n",
       "      <th>CPM (Coût pour 1 000 impressions)</th>\n",
       "      <th>Clics sur un lien</th>\n",
       "      <th>CPC (coût par clic sur un lien)</th>\n",
       "      <th>CTR (taux de clics sur le lien)</th>\n",
       "      <th>Prospects (formulaire)</th>\n",
       "      <th>Début des rapports</th>\n",
       "      <th>Fin des rapports</th>\n",
       "    </tr>\n",
       "  </thead>\n",
       "  <tbody>\n",
       "    <tr>\n",
       "      <th>767</th>\n",
       "      <td>767</td>\n",
       "      <td>WHY 1</td>\n",
       "      <td>WHY 1.2</td>\n",
       "      <td>WHY 1.2.2</td>\n",
       "      <td>35-44</td>\n",
       "      <td>male</td>\n",
       "      <td>LINK_CLICKS</td>\n",
       "      <td>2021-03-15</td>\n",
       "      <td>active</td>\n",
       "      <td>ad</td>\n",
       "      <td>...</td>\n",
       "      <td>0.0</td>\n",
       "      <td>2021-03-15</td>\n",
       "      <td>2021-03-29 00:00:00</td>\n",
       "      <td>0.0</td>\n",
       "      <td>1.0</td>\n",
       "      <td>0.0</td>\n",
       "      <td>100.0</td>\n",
       "      <td>NaN</td>\n",
       "      <td>2021-03-15</td>\n",
       "      <td>2021-03-15</td>\n",
       "    </tr>\n",
       "  </tbody>\n",
       "</table>\n",
       "<p>1 rows × 26 columns</p>\n",
       "</div>"
      ],
      "text/plain": [
       "     Unnamed: 0 Nom de la campagne Nom de l’ensemble de publicités  \\\n",
       "767         767              WHY 1                         WHY 1.2   \n",
       "\n",
       "    Nom de la publicité    Âge Genre     Objectif        Jour  \\\n",
       "767           WHY 1.2.2  35-44  male  LINK_CLICKS  2021-03-15   \n",
       "\n",
       "    Statut de diffusion Niveau de diffusion  ...  Montant dépensé (EUR)  \\\n",
       "767              active                  ad  ...                    0.0   \n",
       "\n",
       "       Commence                  Fin CPM (Coût pour 1 000 impressions)  \\\n",
       "767  2021-03-15  2021-03-29 00:00:00                               0.0   \n",
       "\n",
       "     Clics sur un lien  CPC (coût par clic sur un lien)  \\\n",
       "767                1.0                              0.0   \n",
       "\n",
       "     CTR (taux de clics sur le lien) Prospects (formulaire)  \\\n",
       "767                            100.0                    NaN   \n",
       "\n",
       "    Début des rapports  Fin des rapports  \n",
       "767         2021-03-15        2021-03-15  \n",
       "\n",
       "[1 rows x 26 columns]"
      ]
     },
     "execution_count": 32,
     "metadata": {},
     "output_type": "execute_result"
    }
   ],
   "source": [
    "df_pub_C[df_pub_C['CTR (taux de clics sur le lien)']==100]"
   ]
  },
  {
   "cell_type": "code",
   "execution_count": 31,
   "metadata": {},
   "outputs": [
    {
     "data": {
      "text/plain": [
       "True    798\n",
       "Name: Prospects (formulaire), dtype: int64"
      ]
     },
     "execution_count": 31,
     "metadata": {},
     "output_type": "execute_result"
    }
   ],
   "source": [
    "df_pub_C['Prospects (formulaire)'].isna().value_counts()"
   ]
  },
  {
   "cell_type": "code",
   "execution_count": 9,
   "metadata": {},
   "outputs": [
    {
     "data": {
      "text/plain": [
       "WHY 1.4    172\n",
       "WHY 1.2    171\n",
       "WHY 1.1    138\n",
       "Name: Nom de l’ensemble de publicités, dtype: int64"
      ]
     },
     "execution_count": 9,
     "metadata": {},
     "output_type": "execute_result"
    }
   ],
   "source": [
    "df_pub_C[df_pub_C['Nom de la campagne'] == 'WHY 1']['Nom de l’ensemble de publicités'].value_counts()"
   ]
  },
  {
   "cell_type": "code",
   "execution_count": 10,
   "metadata": {},
   "outputs": [
    {
     "data": {
      "text/plain": [
       "Unnamed: 0                           798\n",
       "Nom de la campagne                     2\n",
       "Nom de l’ensemble de publicités        5\n",
       "Nom de la publicité                    5\n",
       "Âge                                    5\n",
       "Genre                                  3\n",
       "Objectif                               1\n",
       "Jour                                  15\n",
       "Statut de diffusion                    1\n",
       "Niveau de diffusion                    1\n",
       "Couverture                           244\n",
       "Impressions                          250\n",
       "Répétition                           264\n",
       "Type de résultat                       2\n",
       "Résultats                             24\n",
       "Coût par résultat                    198\n",
       "Montant dépensé (EUR)                214\n",
       "Commence                               1\n",
       "Fin                                    2\n",
       "CPM (Coût pour 1 000 impressions)    444\n",
       "Clics sur un lien                     24\n",
       "CPC (coût par clic sur un lien)      206\n",
       "CTR (taux de clics sur le lien)      231\n",
       "Prospects (formulaire)                 0\n",
       "Début des rapports                    15\n",
       "Fin des rapports                      15\n",
       "dtype: int64"
      ]
     },
     "execution_count": 10,
     "metadata": {},
     "output_type": "execute_result"
    }
   ],
   "source": [
    "df_pub_C.nunique()"
   ]
  },
  {
   "cell_type": "code",
   "execution_count": 22,
   "metadata": {
    "collapsed": true
   },
   "outputs": [
    {
     "name": "stdout",
     "output_type": "stream",
     "text": [
      "<class 'pandas.core.frame.DataFrame'>\n",
      "RangeIndex: 798 entries, 0 to 797\n",
      "Data columns (total 26 columns):\n",
      " #   Column                             Non-Null Count  Dtype  \n",
      "---  ------                             --------------  -----  \n",
      " 0   Unnamed: 0                         798 non-null    int64  \n",
      " 1   Nom de la campagne                 798 non-null    object \n",
      " 2   Nom de l’ensemble de publicités    798 non-null    object \n",
      " 3   Nom de la publicité                798 non-null    object \n",
      " 4   Âge                                798 non-null    object \n",
      " 5   Genre                              798 non-null    object \n",
      " 6   Objectif                           798 non-null    object \n",
      " 7   Jour                               798 non-null    object \n",
      " 8   Statut de diffusion                798 non-null    object \n",
      " 9   Niveau de diffusion                798 non-null    object \n",
      " 10  Couverture                         798 non-null    int64  \n",
      " 11  Impressions                        798 non-null    int64  \n",
      " 12  Répétition                         798 non-null    float64\n",
      " 13  Type de résultat                   300 non-null    object \n",
      " 14  Résultats                          300 non-null    float64\n",
      " 15  Coût par résultat                  300 non-null    float64\n",
      " 16  Montant dépensé (EUR)              798 non-null    float64\n",
      " 17  Commence                           798 non-null    object \n",
      " 18  Fin                                798 non-null    object \n",
      " 19  CPM (Coût pour 1 000 impressions)  798 non-null    float64\n",
      " 20  Clics sur un lien                  308 non-null    float64\n",
      " 21  CPC (coût par clic sur un lien)    308 non-null    float64\n",
      " 22  CTR (taux de clics sur le lien)    308 non-null    float64\n",
      " 23  Prospects (formulaire)             0 non-null      float64\n",
      " 24  Début des rapports                 798 non-null    object \n",
      " 25  Fin des rapports                   798 non-null    object \n",
      "dtypes: float64(9), int64(3), object(14)\n",
      "memory usage: 162.2+ KB\n"
     ]
    }
   ],
   "source": [
    "df_pub_C.info()"
   ]
  },
  {
   "cell_type": "code",
   "execution_count": 41,
   "metadata": {},
   "outputs": [],
   "source": [
    "df_pub_C.drop(['Unnamed: 0','Prospects (formulaire)'], axis=1, inplace=True)"
   ]
  },
  {
   "cell_type": "code",
   "execution_count": 145,
   "metadata": {},
   "outputs": [],
   "source": [
    "import seaborn as sns\n",
    "sns.set()\n",
    "import numpy as np"
   ]
  },
  {
   "cell_type": "code",
   "execution_count": 42,
   "metadata": {
    "collapsed": true
   },
   "outputs": [
    {
     "data": {
      "text/plain": [
       "<AxesSubplot:>"
      ]
     },
     "execution_count": 42,
     "metadata": {},
     "output_type": "execute_result"
    },
    {
     "data": {
      "image/png": "[encoded data removed]",
      "text/plain": [
       "<Figure size 432x288 with 2 Axes>"
      ]
     },
     "metadata": {
      "needs_background": "light"
     },
     "output_type": "display_data"
    }
   ],
   "source": [
    "sns.heatmap(df_pub_C.corr().abs(), \n",
    "            mask = np.triu(df_pub_C.corr().abs()),\n",
    "           cmap = 'coolwarm')"
   ]
  },
  {
   "cell_type": "code",
   "execution_count": 14,
   "metadata": {
    "scrolled": true
   },
   "outputs": [
    {
     "data": {
      "text/plain": [
       "min    2021-03-15\n",
       "max    2021-03-29\n",
       "Name: Début des rapports, dtype: object"
      ]
     },
     "execution_count": 14,
     "metadata": {},
     "output_type": "execute_result"
    }
   ],
   "source": [
    "df_pub_C['Début des rapports'].agg([min, max])"
   ]
  },
  {
   "cell_type": "code",
   "execution_count": 15,
   "metadata": {},
   "outputs": [
    {
     "data": {
      "text/plain": [
       "min    2021-03-15\n",
       "max    2021-03-29\n",
       "Name: Fin des rapports, dtype: object"
      ]
     },
     "execution_count": 15,
     "metadata": {},
     "output_type": "execute_result"
    }
   ],
   "source": [
    "df_pub_C['Fin des rapports'].agg([min, max])"
   ]
  },
  {
   "cell_type": "code",
   "execution_count": 21,
   "metadata": {
    "collapsed": true
   },
   "outputs": [
    {
     "data": {
      "text/plain": [
       "0      2021-03-15\n",
       "1      2021-03-15\n",
       "2      2021-03-15\n",
       "3      2021-03-15\n",
       "4      2021-03-15\n",
       "          ...    \n",
       "793    2021-03-15\n",
       "794    2021-03-15\n",
       "795    2021-03-15\n",
       "796    2021-03-15\n",
       "797    2021-03-15\n",
       "Name: Commence, Length: 798, dtype: object"
      ]
     },
     "execution_count": 21,
     "metadata": {},
     "output_type": "execute_result"
    }
   ],
   "source": [
    "df_pub_C['Commence']"
   ]
  },
  {
   "cell_type": "code",
   "execution_count": 17,
   "metadata": {
    "collapsed": true
   },
   "outputs": [
    {
     "data": {
      "text/plain": [
       "0      2021-03-29 00:00:00\n",
       "1                 En cours\n",
       "2      2021-03-29 00:00:00\n",
       "3      2021-03-29 00:00:00\n",
       "4      2021-03-29 00:00:00\n",
       "              ...         \n",
       "793    2021-03-29 00:00:00\n",
       "794    2021-03-29 00:00:00\n",
       "795    2021-03-29 00:00:00\n",
       "796    2021-03-29 00:00:00\n",
       "797    2021-03-29 00:00:00\n",
       "Name: Fin, Length: 798, dtype: object"
      ]
     },
     "execution_count": 17,
     "metadata": {},
     "output_type": "execute_result"
    }
   ],
   "source": [
    "df_pub_C['Fin']"
   ]
  },
  {
   "cell_type": "code",
   "execution_count": 19,
   "metadata": {
    "collapsed": true
   },
   "outputs": [
    {
     "data": {
      "text/plain": [
       "25-34      211\n",
       "35-44      203\n",
       "45-54      195\n",
       "18-24      187\n",
       "Unknown      2\n",
       "Name: Âge, dtype: int64"
      ]
     },
     "execution_count": 19,
     "metadata": {},
     "output_type": "execute_result"
    }
   ],
   "source": [
    "df_pub_C['Âge'].value_counts()"
   ]
  },
  {
   "cell_type": "code",
   "execution_count": 20,
   "metadata": {
    "collapsed": true
   },
   "outputs": [
    {
     "data": {
      "text/plain": [
       "female     290\n",
       "male       278\n",
       "unknown    230\n",
       "Name: Genre, dtype: int64"
      ]
     },
     "execution_count": 20,
     "metadata": {},
     "output_type": "execute_result"
    }
   ],
   "source": [
    "df_pub_C['Genre'].value_counts()"
   ]
  },
  {
   "cell_type": "code",
   "execution_count": 64,
   "metadata": {
    "collapsed": true
   },
   "outputs": [
    {
     "data": {
      "text/plain": [
       "1.0    423\n",
       "Name: Répétition, dtype: int64"
      ]
     },
     "execution_count": 64,
     "metadata": {},
     "output_type": "execute_result"
    }
   ],
   "source": [
    "df_pub_C['Répétition'][df_pub_C['Répétition']==1].value_counts()"
   ]
  },
  {
   "cell_type": "code",
   "execution_count": 66,
   "metadata": {
    "collapsed": true
   },
   "outputs": [
    {
     "data": {
      "text/plain": [
       "1.083333    12\n",
       "1.125000     7\n",
       "1.076923     6\n",
       "1.066667     6\n",
       "1.047619     6\n",
       "            ..\n",
       "1.083682     1\n",
       "1.103960     1\n",
       "1.003120     1\n",
       "1.109091     1\n",
       "1.003328     1\n",
       "Name: Répétition, Length: 262, dtype: int64"
      ]
     },
     "execution_count": 66,
     "metadata": {},
     "output_type": "execute_result"
    }
   ],
   "source": [
    "df_pub_C['Répétition'][df_pub_C['Répétition']>1].value_counts()"
   ]
  },
  {
   "cell_type": "code",
   "execution_count": 67,
   "metadata": {
    "collapsed": true
   },
   "outputs": [
    {
     "data": {
      "text/plain": [
       "0.0    1\n",
       "Name: Répétition, dtype: int64"
      ]
     },
     "execution_count": 67,
     "metadata": {},
     "output_type": "execute_result"
    }
   ],
   "source": [
    "df_pub_C['Répétition'][df_pub_C['Répétition']<1].value_counts()"
   ]
  },
  {
   "cell_type": "code",
   "execution_count": 75,
   "metadata": {},
   "outputs": [
    {
     "data": {
      "text/plain": [
       "True     490\n",
       "False    308\n",
       "Name: CTR (taux de clics sur le lien), dtype: int64"
      ]
     },
     "execution_count": 75,
     "metadata": {},
     "output_type": "execute_result"
    }
   ],
   "source": [
    "df_pub_C['CTR (taux de clics sur le lien)'].isna().value_counts()"
   ]
  },
  {
   "cell_type": "code",
   "execution_count": 76,
   "metadata": {},
   "outputs": [
    {
     "data": {
      "text/plain": [
       "True     490\n",
       "False    308\n",
       "Name: Clics sur un lien, dtype: int64"
      ]
     },
     "execution_count": 76,
     "metadata": {},
     "output_type": "execute_result"
    }
   ],
   "source": [
    "df_pub_C['Clics sur un lien'].isna().value_counts()"
   ]
  },
  {
   "cell_type": "code",
   "execution_count": 78,
   "metadata": {},
   "outputs": [
    {
     "data": {
      "text/plain": [
       "True     490\n",
       "False    308\n",
       "Name: CPC (coût par clic sur un lien), dtype: int64"
      ]
     },
     "execution_count": 78,
     "metadata": {},
     "output_type": "execute_result"
    }
   ],
   "source": [
    "df_pub_C['CPC (coût par clic sur un lien)'].isna().value_counts()"
   ]
  },
  {
   "cell_type": "code",
   "execution_count": 87,
   "metadata": {},
   "outputs": [],
   "source": [
    "df_pub_C[['Clics sur un lien','CPC (coût par clic sur un lien)', 'CTR (taux de clics sur le lien)']]=df_pub_C[['Clics sur un lien','CPC (coût par clic sur un lien)', 'CTR (taux de clics sur le lien)']].fillna(0)"
   ]
  },
  {
   "cell_type": "code",
   "execution_count": 126,
   "metadata": {},
   "outputs": [
    {
     "data": {
      "text/plain": [
       "Nom de la campagne                     0\n",
       "Nom de l’ensemble de publicités        0\n",
       "Nom de la publicité                    0\n",
       "Âge                                    0\n",
       "Genre                                  0\n",
       "Objectif                               0\n",
       "Jour                                   0\n",
       "Statut de diffusion                    0\n",
       "Niveau de diffusion                    0\n",
       "Couverture                             0\n",
       "Impressions                            0\n",
       "Répétition                             0\n",
       "Type de résultat                     498\n",
       "Résultats                              0\n",
       "Coût par résultat                      0\n",
       "Montant dépensé (EUR)                  0\n",
       "Commence                               0\n",
       "Fin                                    0\n",
       "CPM (Coût pour 1 000 impressions)      0\n",
       "Clics sur un lien                      0\n",
       "CPC (coût par clic sur un lien)        0\n",
       "CTR (taux de clics sur le lien)        0\n",
       "Début des rapports                     0\n",
       "Fin des rapports                       0\n",
       "dtype: int64"
      ]
     },
     "execution_count": 126,
     "metadata": {},
     "output_type": "execute_result"
    }
   ],
   "source": [
    "df_pub_C.isna().sum()"
   ]
  },
  {
   "cell_type": "code",
   "execution_count": 125,
   "metadata": {
    "collapsed": true
   },
   "outputs": [
    {
     "name": "stdout",
     "output_type": "stream",
     "text": [
      "<class 'pandas.core.frame.DataFrame'>\n",
      "RangeIndex: 798 entries, 0 to 797\n",
      "Data columns (total 24 columns):\n",
      " #   Column                             Non-Null Count  Dtype  \n",
      "---  ------                             --------------  -----  \n",
      " 0   Nom de la campagne                 798 non-null    object \n",
      " 1   Nom de l’ensemble de publicités    798 non-null    object \n",
      " 2   Nom de la publicité                798 non-null    object \n",
      " 3   Âge                                798 non-null    object \n",
      " 4   Genre                              798 non-null    object \n",
      " 5   Objectif                           798 non-null    object \n",
      " 6   Jour                               798 non-null    object \n",
      " 7   Statut de diffusion                798 non-null    object \n",
      " 8   Niveau de diffusion                798 non-null    object \n",
      " 9   Couverture                         798 non-null    int64  \n",
      " 10  Impressions                        798 non-null    int64  \n",
      " 11  Répétition                         798 non-null    float64\n",
      " 12  Type de résultat                   300 non-null    object \n",
      " 13  Résultats                          798 non-null    float64\n",
      " 14  Coût par résultat                  798 non-null    float64\n",
      " 15  Montant dépensé (EUR)              798 non-null    float64\n",
      " 16  Commence                           798 non-null    object \n",
      " 17  Fin                                798 non-null    object \n",
      " 18  CPM (Coût pour 1 000 impressions)  798 non-null    float64\n",
      " 19  Clics sur un lien                  798 non-null    float64\n",
      " 20  CPC (coût par clic sur un lien)    798 non-null    float64\n",
      " 21  CTR (taux de clics sur le lien)    798 non-null    float64\n",
      " 22  Début des rapports                 798 non-null    object \n",
      " 23  Fin des rapports                   798 non-null    object \n",
      "dtypes: float64(8), int64(2), object(14)\n",
      "memory usage: 149.8+ KB\n"
     ]
    }
   ],
   "source": [
    "df_pub_C.info()"
   ]
  },
  {
   "cell_type": "code",
   "execution_count": 133,
   "metadata": {},
   "outputs": [
    {
     "data": {
      "text/plain": [
       "Vues de page de destination    190\n",
       "Clics sur un lien              110\n",
       "Name: Type de résultat, dtype: int64"
      ]
     },
     "execution_count": 133,
     "metadata": {},
     "output_type": "execute_result"
    }
   ],
   "source": [
    "df_pub_C['Type de résultat'].value_counts()"
   ]
  },
  {
   "cell_type": "code",
   "execution_count": 128,
   "metadata": {
    "collapsed": true
   },
   "outputs": [
    {
     "data": {
      "text/plain": [
       "16     Vues de page de destination\n",
       "20               Clics sur un lien\n",
       "21               Clics sur un lien\n",
       "22               Clics sur un lien\n",
       "32     Vues de page de destination\n",
       "                  ...             \n",
       "788    Vues de page de destination\n",
       "789    Vues de page de destination\n",
       "790    Vues de page de destination\n",
       "791    Vues de page de destination\n",
       "792    Vues de page de destination\n",
       "Name: Type de résultat, Length: 300, dtype: object"
      ]
     },
     "execution_count": 128,
     "metadata": {},
     "output_type": "execute_result"
    }
   ],
   "source": [
    "df_pub_C['Type de résultat'][~df_pub_C['Type de résultat'].isna()].T"
   ]
  },
  {
   "cell_type": "code",
   "execution_count": 124,
   "metadata": {},
   "outputs": [],
   "source": [
    "df_pub_C[['Résultats','Coût par résultat']]=df_pub_C[['Résultats','Coût par résultat']].fillna(0)"
   ]
  },
  {
   "cell_type": "code",
   "execution_count": 138,
   "metadata": {},
   "outputs": [],
   "source": [
    "df_pub_C['Type de résultat']=df_pub_C['Type de résultat'].fillna('Sans information')"
   ]
  },
  {
   "cell_type": "code",
   "execution_count": 139,
   "metadata": {
    "collapsed": true
   },
   "outputs": [
    {
     "data": {
      "text/html": [
       "<div>\n",
       "<style scoped>\n",
       "    .dataframe tbody tr th:only-of-type {\n",
       "        vertical-align: middle;\n",
       "    }\n",
       "\n",
       "    .dataframe tbody tr th {\n",
       "        vertical-align: top;\n",
       "    }\n",
       "\n",
       "    .dataframe thead th {\n",
       "        text-align: right;\n",
       "    }\n",
       "</style>\n",
       "<table border=\"1\" class=\"dataframe\">\n",
       "  <thead>\n",
       "    <tr style=\"text-align: right;\">\n",
       "      <th></th>\n",
       "      <th>0</th>\n",
       "      <th>1</th>\n",
       "      <th>2</th>\n",
       "    </tr>\n",
       "  </thead>\n",
       "  <tbody>\n",
       "    <tr>\n",
       "      <th>Nom de la campagne</th>\n",
       "      <td>WHY 1</td>\n",
       "      <td>ZW Guide 1</td>\n",
       "      <td>WHY 1</td>\n",
       "    </tr>\n",
       "    <tr>\n",
       "      <th>Nom de l’ensemble de publicités</th>\n",
       "      <td>WHY 1.4</td>\n",
       "      <td>ZW Guide 1.1</td>\n",
       "      <td>WHY 1.4</td>\n",
       "    </tr>\n",
       "    <tr>\n",
       "      <th>Nom de la publicité</th>\n",
       "      <td>WHY 1.4.4</td>\n",
       "      <td>ZW Guide 1.1.1</td>\n",
       "      <td>WHY 1.4.4</td>\n",
       "    </tr>\n",
       "    <tr>\n",
       "      <th>Âge</th>\n",
       "      <td>25-34</td>\n",
       "      <td>35-44</td>\n",
       "      <td>25-34</td>\n",
       "    </tr>\n",
       "    <tr>\n",
       "      <th>Genre</th>\n",
       "      <td>unknown</td>\n",
       "      <td>male</td>\n",
       "      <td>male</td>\n",
       "    </tr>\n",
       "    <tr>\n",
       "      <th>Objectif</th>\n",
       "      <td>LINK_CLICKS</td>\n",
       "      <td>LINK_CLICKS</td>\n",
       "      <td>LINK_CLICKS</td>\n",
       "    </tr>\n",
       "    <tr>\n",
       "      <th>Jour</th>\n",
       "      <td>2021-03-29</td>\n",
       "      <td>2021-03-29</td>\n",
       "      <td>2021-03-29</td>\n",
       "    </tr>\n",
       "    <tr>\n",
       "      <th>Statut de diffusion</th>\n",
       "      <td>active</td>\n",
       "      <td>active</td>\n",
       "      <td>active</td>\n",
       "    </tr>\n",
       "    <tr>\n",
       "      <th>Niveau de diffusion</th>\n",
       "      <td>ad</td>\n",
       "      <td>ad</td>\n",
       "      <td>ad</td>\n",
       "    </tr>\n",
       "    <tr>\n",
       "      <th>Couverture</th>\n",
       "      <td>1</td>\n",
       "      <td>1</td>\n",
       "      <td>15</td>\n",
       "    </tr>\n",
       "    <tr>\n",
       "      <th>Impressions</th>\n",
       "      <td>1</td>\n",
       "      <td>1</td>\n",
       "      <td>15</td>\n",
       "    </tr>\n",
       "    <tr>\n",
       "      <th>Répétition</th>\n",
       "      <td>1</td>\n",
       "      <td>1</td>\n",
       "      <td>1</td>\n",
       "    </tr>\n",
       "    <tr>\n",
       "      <th>Type de résultat</th>\n",
       "      <td>Sans information</td>\n",
       "      <td>Sans information</td>\n",
       "      <td>Sans information</td>\n",
       "    </tr>\n",
       "    <tr>\n",
       "      <th>Résultats</th>\n",
       "      <td>0</td>\n",
       "      <td>0</td>\n",
       "      <td>0</td>\n",
       "    </tr>\n",
       "    <tr>\n",
       "      <th>Coût par résultat</th>\n",
       "      <td>0</td>\n",
       "      <td>0</td>\n",
       "      <td>0</td>\n",
       "    </tr>\n",
       "    <tr>\n",
       "      <th>Montant dépensé (EUR)</th>\n",
       "      <td>0.01</td>\n",
       "      <td>0</td>\n",
       "      <td>0.12</td>\n",
       "    </tr>\n",
       "    <tr>\n",
       "      <th>Commence</th>\n",
       "      <td>2021-03-15</td>\n",
       "      <td>2021-03-15</td>\n",
       "      <td>2021-03-15</td>\n",
       "    </tr>\n",
       "    <tr>\n",
       "      <th>Fin</th>\n",
       "      <td>2021-03-29 00:00:00</td>\n",
       "      <td>En cours</td>\n",
       "      <td>2021-03-29 00:00:00</td>\n",
       "    </tr>\n",
       "    <tr>\n",
       "      <th>CPM (Coût pour 1 000 impressions)</th>\n",
       "      <td>10</td>\n",
       "      <td>0</td>\n",
       "      <td>8</td>\n",
       "    </tr>\n",
       "    <tr>\n",
       "      <th>Clics sur un lien</th>\n",
       "      <td>0</td>\n",
       "      <td>0</td>\n",
       "      <td>0</td>\n",
       "    </tr>\n",
       "    <tr>\n",
       "      <th>CPC (coût par clic sur un lien)</th>\n",
       "      <td>0</td>\n",
       "      <td>0</td>\n",
       "      <td>0</td>\n",
       "    </tr>\n",
       "    <tr>\n",
       "      <th>CTR (taux de clics sur le lien)</th>\n",
       "      <td>0</td>\n",
       "      <td>0</td>\n",
       "      <td>0</td>\n",
       "    </tr>\n",
       "    <tr>\n",
       "      <th>Début des rapports</th>\n",
       "      <td>2021-03-29</td>\n",
       "      <td>2021-03-29</td>\n",
       "      <td>2021-03-29</td>\n",
       "    </tr>\n",
       "    <tr>\n",
       "      <th>Fin des rapports</th>\n",
       "      <td>2021-03-29</td>\n",
       "      <td>2021-03-29</td>\n",
       "      <td>2021-03-29</td>\n",
       "    </tr>\n",
       "  </tbody>\n",
       "</table>\n",
       "</div>"
      ],
      "text/plain": [
       "                                                     0                 1  \\\n",
       "Nom de la campagne                               WHY 1        ZW Guide 1   \n",
       "Nom de l’ensemble de publicités                WHY 1.4      ZW Guide 1.1   \n",
       "Nom de la publicité                          WHY 1.4.4    ZW Guide 1.1.1   \n",
       "Âge                                              25-34             35-44   \n",
       "Genre                                          unknown              male   \n",
       "Objectif                                   LINK_CLICKS       LINK_CLICKS   \n",
       "Jour                                        2021-03-29        2021-03-29   \n",
       "Statut de diffusion                             active            active   \n",
       "Niveau de diffusion                                 ad                ad   \n",
       "Couverture                                           1                 1   \n",
       "Impressions                                          1                 1   \n",
       "Répétition                                           1                 1   \n",
       "Type de résultat                      Sans information  Sans information   \n",
       "Résultats                                            0                 0   \n",
       "Coût par résultat                                    0                 0   \n",
       "Montant dépensé (EUR)                             0.01                 0   \n",
       "Commence                                    2021-03-15        2021-03-15   \n",
       "Fin                                2021-03-29 00:00:00          En cours   \n",
       "CPM (Coût pour 1 000 impressions)                   10                 0   \n",
       "Clics sur un lien                                    0                 0   \n",
       "CPC (coût par clic sur un lien)                      0                 0   \n",
       "CTR (taux de clics sur le lien)                      0                 0   \n",
       "Début des rapports                          2021-03-29        2021-03-29   \n",
       "Fin des rapports                            2021-03-29        2021-03-29   \n",
       "\n",
       "                                                     2  \n",
       "Nom de la campagne                               WHY 1  \n",
       "Nom de l’ensemble de publicités                WHY 1.4  \n",
       "Nom de la publicité                          WHY 1.4.4  \n",
       "Âge                                              25-34  \n",
       "Genre                                             male  \n",
       "Objectif                                   LINK_CLICKS  \n",
       "Jour                                        2021-03-29  \n",
       "Statut de diffusion                             active  \n",
       "Niveau de diffusion                                 ad  \n",
       "Couverture                                          15  \n",
       "Impressions                                         15  \n",
       "Répétition                                           1  \n",
       "Type de résultat                      Sans information  \n",
       "Résultats                                            0  \n",
       "Coût par résultat                                    0  \n",
       "Montant dépensé (EUR)                             0.12  \n",
       "Commence                                    2021-03-15  \n",
       "Fin                                2021-03-29 00:00:00  \n",
       "CPM (Coût pour 1 000 impressions)                    8  \n",
       "Clics sur un lien                                    0  \n",
       "CPC (coût par clic sur un lien)                      0  \n",
       "CTR (taux de clics sur le lien)                      0  \n",
       "Début des rapports                          2021-03-29  \n",
       "Fin des rapports                            2021-03-29  "
      ]
     },
     "execution_count": 139,
     "metadata": {},
     "output_type": "execute_result"
    }
   ],
   "source": [
    "df_pub_C.head(3).T"
   ]
  },
  {
   "cell_type": "code",
   "execution_count": 156,
   "metadata": {
    "collapsed": true
   },
   "outputs": [
    {
     "data": {
      "text/html": [
       "<div>\n",
       "<style scoped>\n",
       "    .dataframe tbody tr th:only-of-type {\n",
       "        vertical-align: middle;\n",
       "    }\n",
       "\n",
       "    .dataframe tbody tr th {\n",
       "        vertical-align: top;\n",
       "    }\n",
       "\n",
       "    .dataframe thead th {\n",
       "        text-align: right;\n",
       "    }\n",
       "</style>\n",
       "<table border=\"1\" class=\"dataframe\">\n",
       "  <thead>\n",
       "    <tr style=\"text-align: right;\">\n",
       "      <th></th>\n",
       "      <th>Nom de la campagne</th>\n",
       "      <th>Nom de l’ensemble de publicités</th>\n",
       "      <th>Nom de la publicité</th>\n",
       "      <th>Âge</th>\n",
       "      <th>Genre</th>\n",
       "      <th>Objectif</th>\n",
       "      <th>Jour</th>\n",
       "      <th>Statut de diffusion</th>\n",
       "      <th>Niveau de diffusion</th>\n",
       "      <th>Couverture</th>\n",
       "      <th>...</th>\n",
       "      <th>Coût par résultat</th>\n",
       "      <th>Montant dépensé (EUR)</th>\n",
       "      <th>Commence</th>\n",
       "      <th>Fin</th>\n",
       "      <th>CPM (Coût pour 1 000 impressions)</th>\n",
       "      <th>Clics sur un lien</th>\n",
       "      <th>CPC (coût par clic sur un lien)</th>\n",
       "      <th>CTR (taux de clics sur le lien)</th>\n",
       "      <th>Début des rapports</th>\n",
       "      <th>Fin des rapports</th>\n",
       "    </tr>\n",
       "  </thead>\n",
       "  <tbody>\n",
       "    <tr>\n",
       "      <th>484</th>\n",
       "      <td>WHY 1</td>\n",
       "      <td>WHY 1.2</td>\n",
       "      <td>WHY 1.2.2</td>\n",
       "      <td>25-34</td>\n",
       "      <td>female</td>\n",
       "      <td>LINK_CLICKS</td>\n",
       "      <td>2021-03-21</td>\n",
       "      <td>active</td>\n",
       "      <td>ad</td>\n",
       "      <td>2340</td>\n",
       "      <td>...</td>\n",
       "      <td>0.261515</td>\n",
       "      <td>8.63</td>\n",
       "      <td>2021-03-15</td>\n",
       "      <td>2021-03-29 00:00:00</td>\n",
       "      <td>3.563171</td>\n",
       "      <td>34.0</td>\n",
       "      <td>0.253824</td>\n",
       "      <td>1.403799</td>\n",
       "      <td>2021-03-21</td>\n",
       "      <td>2021-03-21</td>\n",
       "    </tr>\n",
       "  </tbody>\n",
       "</table>\n",
       "<p>1 rows × 24 columns</p>\n",
       "</div>"
      ],
      "text/plain": [
       "    Nom de la campagne Nom de l’ensemble de publicités Nom de la publicité  \\\n",
       "484              WHY 1                         WHY 1.2           WHY 1.2.2   \n",
       "\n",
       "       Âge   Genre     Objectif        Jour Statut de diffusion  \\\n",
       "484  25-34  female  LINK_CLICKS  2021-03-21              active   \n",
       "\n",
       "    Niveau de diffusion  Couverture  ...  Coût par résultat  \\\n",
       "484                  ad        2340  ...           0.261515   \n",
       "\n",
       "     Montant dépensé (EUR)    Commence                  Fin  \\\n",
       "484                   8.63  2021-03-15  2021-03-29 00:00:00   \n",
       "\n",
       "     CPM (Coût pour 1 000 impressions)  Clics sur un lien  \\\n",
       "484                           3.563171               34.0   \n",
       "\n",
       "    CPC (coût par clic sur un lien) CTR (taux de clics sur le lien)  \\\n",
       "484                        0.253824                        1.403799   \n",
       "\n",
       "     Début des rapports  Fin des rapports  \n",
       "484          2021-03-21        2021-03-21  \n",
       "\n",
       "[1 rows x 24 columns]"
      ]
     },
     "execution_count": 156,
     "metadata": {},
     "output_type": "execute_result"
    }
   ],
   "source": [
    "df_pub_C[df_pub_C['Clics sur un lien']==34]"
   ]
  },
  {
   "cell_type": "code",
   "execution_count": 167,
   "metadata": {
    "collapsed": true
   },
   "outputs": [
    {
     "data": {
      "text/html": [
       "<div>\n",
       "<style scoped>\n",
       "    .dataframe tbody tr th:only-of-type {\n",
       "        vertical-align: middle;\n",
       "    }\n",
       "\n",
       "    .dataframe tbody tr th {\n",
       "        vertical-align: top;\n",
       "    }\n",
       "\n",
       "    .dataframe thead th {\n",
       "        text-align: right;\n",
       "    }\n",
       "</style>\n",
       "<table border=\"1\" class=\"dataframe\">\n",
       "  <thead>\n",
       "    <tr style=\"text-align: right;\">\n",
       "      <th></th>\n",
       "      <th>count</th>\n",
       "      <th>mean</th>\n",
       "      <th>std</th>\n",
       "      <th>min</th>\n",
       "      <th>25%</th>\n",
       "      <th>50%</th>\n",
       "      <th>75%</th>\n",
       "      <th>max</th>\n",
       "    </tr>\n",
       "  </thead>\n",
       "  <tbody>\n",
       "    <tr>\n",
       "      <th>Couverture</th>\n",
       "      <td>798.0</td>\n",
       "      <td>115.175439</td>\n",
       "      <td>260.822041</td>\n",
       "      <td>0.0</td>\n",
       "      <td>6.000000</td>\n",
       "      <td>24.000000</td>\n",
       "      <td>86.000000</td>\n",
       "      <td>2450.00</td>\n",
       "    </tr>\n",
       "    <tr>\n",
       "      <th>Impressions</th>\n",
       "      <td>798.0</td>\n",
       "      <td>119.270677</td>\n",
       "      <td>267.779829</td>\n",
       "      <td>1.0</td>\n",
       "      <td>6.000000</td>\n",
       "      <td>25.000000</td>\n",
       "      <td>89.750000</td>\n",
       "      <td>2518.00</td>\n",
       "    </tr>\n",
       "    <tr>\n",
       "      <th>Répétition</th>\n",
       "      <td>798.0</td>\n",
       "      <td>1.035077</td>\n",
       "      <td>0.082598</td>\n",
       "      <td>0.0</td>\n",
       "      <td>1.000000</td>\n",
       "      <td>1.000000</td>\n",
       "      <td>1.050847</td>\n",
       "      <td>2.00</td>\n",
       "    </tr>\n",
       "    <tr>\n",
       "      <th>Résultats</th>\n",
       "      <td>798.0</td>\n",
       "      <td>1.423559</td>\n",
       "      <td>3.419781</td>\n",
       "      <td>0.0</td>\n",
       "      <td>0.000000</td>\n",
       "      <td>0.000000</td>\n",
       "      <td>1.000000</td>\n",
       "      <td>33.00</td>\n",
       "    </tr>\n",
       "    <tr>\n",
       "      <th>Coût par résultat</th>\n",
       "      <td>798.0</td>\n",
       "      <td>0.131533</td>\n",
       "      <td>0.228395</td>\n",
       "      <td>0.0</td>\n",
       "      <td>0.000000</td>\n",
       "      <td>0.000000</td>\n",
       "      <td>0.226667</td>\n",
       "      <td>1.78</td>\n",
       "    </tr>\n",
       "    <tr>\n",
       "      <th>Montant dépensé (EUR)</th>\n",
       "      <td>798.0</td>\n",
       "      <td>0.547895</td>\n",
       "      <td>1.131954</td>\n",
       "      <td>0.0</td>\n",
       "      <td>0.030000</td>\n",
       "      <td>0.120000</td>\n",
       "      <td>0.504730</td>\n",
       "      <td>8.87</td>\n",
       "    </tr>\n",
       "    <tr>\n",
       "      <th>CPM (Coût pour 1 000 impressions)</th>\n",
       "      <td>798.0</td>\n",
       "      <td>5.509938</td>\n",
       "      <td>3.866015</td>\n",
       "      <td>0.0</td>\n",
       "      <td>3.158576</td>\n",
       "      <td>4.831826</td>\n",
       "      <td>7.018595</td>\n",
       "      <td>30.00</td>\n",
       "    </tr>\n",
       "    <tr>\n",
       "      <th>Clics sur un lien</th>\n",
       "      <td>798.0</td>\n",
       "      <td>1.493734</td>\n",
       "      <td>3.545274</td>\n",
       "      <td>0.0</td>\n",
       "      <td>0.000000</td>\n",
       "      <td>0.000000</td>\n",
       "      <td>1.000000</td>\n",
       "      <td>34.00</td>\n",
       "    </tr>\n",
       "    <tr>\n",
       "      <th>CPC (coût par clic sur un lien)</th>\n",
       "      <td>798.0</td>\n",
       "      <td>0.131054</td>\n",
       "      <td>0.226058</td>\n",
       "      <td>0.0</td>\n",
       "      <td>0.000000</td>\n",
       "      <td>0.000000</td>\n",
       "      <td>0.226667</td>\n",
       "      <td>1.78</td>\n",
       "    </tr>\n",
       "    <tr>\n",
       "      <th>CTR (taux de clics sur le lien)</th>\n",
       "      <td>798.0</td>\n",
       "      <td>1.433628</td>\n",
       "      <td>5.239060</td>\n",
       "      <td>0.0</td>\n",
       "      <td>0.000000</td>\n",
       "      <td>0.000000</td>\n",
       "      <td>1.395315</td>\n",
       "      <td>100.00</td>\n",
       "    </tr>\n",
       "  </tbody>\n",
       "</table>\n",
       "</div>"
      ],
      "text/plain": [
       "                                   count        mean         std  min  \\\n",
       "Couverture                         798.0  115.175439  260.822041  0.0   \n",
       "Impressions                        798.0  119.270677  267.779829  1.0   \n",
       "Répétition                         798.0    1.035077    0.082598  0.0   \n",
       "Résultats                          798.0    1.423559    3.419781  0.0   \n",
       "Coût par résultat                  798.0    0.131533    0.228395  0.0   \n",
       "Montant dépensé (EUR)              798.0    0.547895    1.131954  0.0   \n",
       "CPM (Coût pour 1 000 impressions)  798.0    5.509938    3.866015  0.0   \n",
       "Clics sur un lien                  798.0    1.493734    3.545274  0.0   \n",
       "CPC (coût par clic sur un lien)    798.0    0.131054    0.226058  0.0   \n",
       "CTR (taux de clics sur le lien)    798.0    1.433628    5.239060  0.0   \n",
       "\n",
       "                                        25%        50%        75%      max  \n",
       "Couverture                         6.000000  24.000000  86.000000  2450.00  \n",
       "Impressions                        6.000000  25.000000  89.750000  2518.00  \n",
       "Répétition                         1.000000   1.000000   1.050847     2.00  \n",
       "Résultats                          0.000000   0.000000   1.000000    33.00  \n",
       "Coût par résultat                  0.000000   0.000000   0.226667     1.78  \n",
       "Montant dépensé (EUR)              0.030000   0.120000   0.504730     8.87  \n",
       "CPM (Coût pour 1 000 impressions)  3.158576   4.831826   7.018595    30.00  \n",
       "Clics sur un lien                  0.000000   0.000000   1.000000    34.00  \n",
       "CPC (coût par clic sur un lien)    0.000000   0.000000   0.226667     1.78  \n",
       "CTR (taux de clics sur le lien)    0.000000   0.000000   1.395315   100.00  "
      ]
     },
     "execution_count": 167,
     "metadata": {},
     "output_type": "execute_result"
    }
   ],
   "source": [
    "df_pub_C.describe().T"
   ]
  },
  {
   "cell_type": "code",
   "execution_count": 147,
   "metadata": {
    "collapsed": true
   },
   "outputs": [
    {
     "data": {
      "text/plain": [
       "<AxesSubplot:xlabel='Clics sur un lien', ylabel='CPC (coût par clic sur un lien)'>"
      ]
     },
     "execution_count": 147,
     "metadata": {},
     "output_type": "execute_result"
    },
    {
     "data": {
      "image/png": "[encoded data removed]",
      "text/plain": [
       "<Figure size 864x432 with 1 Axes>"
      ]
     },
     "metadata": {},
     "output_type": "display_data"
    }
   ],
   "source": [
    "plt.figure(figsize=(12,6))\n",
    "sns.scatterplot(y=df_pub_C['CPC (coût par clic sur un lien)'], x=df_pub_C['Clics sur un lien'], data=df_pub_C)"
   ]
  },
  {
   "cell_type": "code",
   "execution_count": 158,
   "metadata": {
    "collapsed": true
   },
   "outputs": [
    {
     "data": {
      "text/plain": [
       "<AxesSubplot:xlabel='CPM (Coût pour 1 000 impressions)', ylabel='Impressions'>"
      ]
     },
     "execution_count": 158,
     "metadata": {},
     "output_type": "execute_result"
    },
    {
     "data": {
      "image/png": "[encoded data removed]",
      "text/plain": [
       "<Figure size 864x432 with 1 Axes>"
      ]
     },
     "metadata": {},
     "output_type": "display_data"
    }
   ],
   "source": [
    "plt.figure(figsize=(12,6))\n",
    "sns.scatterplot(x=df_pub_C['CPM (Coût pour 1 000 impressions)'], y=df_pub_C['Impressions'], data=df_pub_C)"
   ]
  },
  {
   "cell_type": "code",
   "execution_count": 170,
   "metadata": {
    "collapsed": true
   },
   "outputs": [
    {
     "data": {
      "text/plain": [
       "<AxesSubplot:>"
      ]
     },
     "execution_count": 170,
     "metadata": {},
     "output_type": "execute_result"
    },
    {
     "data": {
      "image/png": "[encoded data removed]",
      "text/plain": [
       "<Figure size 864x720 with 2 Axes>"
      ]
     },
     "metadata": {},
     "output_type": "display_data"
    }
   ],
   "source": [
    "plt.figure(figsize=(12,10))\n",
    "sns.heatmap(df_pub_C.corr().abs(), \n",
    "            mask = np.triu(df_pub_C.corr().abs()),\n",
    "           cmap = 'coolwarm', annot=True)"
   ]
  },
  {
   "cell_type": "code",
   "execution_count": 160,
   "metadata": {
    "collapsed": true
   },
   "outputs": [
    {
     "data": {
      "text/plain": [
       "<AxesSubplot:xlabel='Couverture', ylabel='Impressions'>"
      ]
     },
     "execution_count": 160,
     "metadata": {},
     "output_type": "execute_result"
    },
    {
     "data": {
      "image/png": "[encoded data removed]",
      "text/plain": [
       "<Figure size 432x288 with 1 Axes>"
      ]
     },
     "metadata": {},
     "output_type": "display_data"
    }
   ],
   "source": [
    "sns.scatterplot(x=df_pub_C['Couverture'], y=df_pub_C['Impressions'], data=df_pub_C)"
   ]
  },
  {
   "cell_type": "code",
   "execution_count": 181,
   "metadata": {
    "collapsed": true
   },
   "outputs": [
    {
     "data": {
      "text/plain": [
       "<AxesSubplot:xlabel='Résultats', ylabel='Clics sur un lien'>"
      ]
     },
     "execution_count": 181,
     "metadata": {},
     "output_type": "execute_result"
    },
    {
     "data": {
      "image/png": "[encoded data removed]",
      "text/plain": [
       "<Figure size 432x288 with 1 Axes>"
      ]
     },
     "metadata": {},
     "output_type": "display_data"
    }
   ],
   "source": [
    "sns.scatterplot(x=df_pub_C['Résultats'], y=df_pub_C['Clics sur un lien'], data=df_pub_C)"
   ]
  },
  {
   "cell_type": "code",
   "execution_count": 164,
   "metadata": {
    "collapsed": true
   },
   "outputs": [
    {
     "data": {
      "text/plain": [
       "<AxesSubplot:xlabel='Montant dépensé (EUR)', ylabel='Impressions'>"
      ]
     },
     "execution_count": 164,
     "metadata": {},
     "output_type": "execute_result"
    },
    {
     "data": {
      "image/png": "[encoded data removed]",
      "text/plain": [
       "<Figure size 864x432 with 1 Axes>"
      ]
     },
     "metadata": {},
     "output_type": "display_data"
    }
   ],
   "source": [
    "plt.figure(figsize=(12,6))\n",
    "sns.scatterplot(x=df_pub_C['Montant dépensé (EUR)'], y=df_pub_C['Impressions'], data=df_pub_C)"
   ]
  },
  {
   "cell_type": "code",
   "execution_count": 165,
   "metadata": {
    "collapsed": true
   },
   "outputs": [
    {
     "data": {
      "text/plain": [
       "<AxesSubplot:xlabel='CPM (Coût pour 1 000 impressions)', ylabel='Montant dépensé (EUR)'>"
      ]
     },
     "execution_count": 165,
     "metadata": {},
     "output_type": "execute_result"
    },
    {
     "data": {
      "image/png": "[encoded data removed]",
      "text/plain": [
       "<Figure size 432x288 with 1 Axes>"
      ]
     },
     "metadata": {},
     "output_type": "display_data"
    }
   ],
   "source": [
    "sns.scatterplot(x=df_pub_C['CPM (Coût pour 1 000 impressions)'], y=df_pub_C['Montant dépensé (EUR)'], data=df_pub_C)"
   ]
  },
  {
   "cell_type": "code",
   "execution_count": 166,
   "metadata": {
    "collapsed": true
   },
   "outputs": [
    {
     "data": {
      "text/plain": [
       "<AxesSubplot:xlabel='Résultats', ylabel='Coût par résultat'>"
      ]
     },
     "execution_count": 166,
     "metadata": {},
     "output_type": "execute_result"
    },
    {
     "data": {
      "image/png": "[encoded data removed]",
      "text/plain": [
       "<Figure size 864x432 with 1 Axes>"
      ]
     },
     "metadata": {},
     "output_type": "display_data"
    }
   ],
   "source": [
    "plt.figure(figsize=(12,6))\n",
    "sns.scatterplot(x=df_pub_C['Résultats'], y=df_pub_C['Coût par résultat'], data=df_pub_C)"
   ]
  },
  {
   "cell_type": "code",
   "execution_count": 172,
   "metadata": {},
   "outputs": [
    {
     "data": {
      "text/plain": [
       "<AxesSubplot:xlabel='Résultats', ylabel='Impressions'>"
      ]
     },
     "execution_count": 172,
     "metadata": {},
     "output_type": "execute_result"
    },
    {
     "data": {
      "image/png": "[encoded data removed]",
      "text/plain": [
       "<Figure size 864x720 with 1 Axes>"
      ]
     },
     "metadata": {},
     "output_type": "display_data"
    }
   ],
   "source": [
    "plt.figure(figsize=(12,10))\n",
    "sns.scatterplot(x=df_pub_C['Résultats'], y=df_pub_C['Impressions'], data=df_pub_C)"
   ]
  },
  {
   "cell_type": "code",
   "execution_count": 208,
   "metadata": {
    "collapsed": true
   },
   "outputs": [
    {
     "data": {
      "text/plain": [
       "Nom de la campagne                         ZW Guide 1\n",
       "Nom de l’ensemble de publicités          ZW Guide 1.2\n",
       "Nom de la publicité                    ZW Guide 1.2.2\n",
       "Âge                                           Unknown\n",
       "Genre                                         unknown\n",
       "Objectif                                  LINK_CLICKS\n",
       "Jour                                       2021-03-26\n",
       "Statut de diffusion                            active\n",
       "Niveau de diffusion                                ad\n",
       "Couverture                                          1\n",
       "Impressions                                         1\n",
       "Répétition                                          1\n",
       "Type de résultat                     Sans information\n",
       "Résultats                                           0\n",
       "Coût par résultat                                   0\n",
       "Montant dépensé (EUR)                               0\n",
       "Commence                                   2021-03-15\n",
       "Fin                                          En cours\n",
       "CPM (Coût pour 1 000 impressions)                   0\n",
       "Clics sur un lien                                   0\n",
       "CPC (coût par clic sur un lien)                     0\n",
       "CTR (taux de clics sur le lien)                     0\n",
       "Début des rapports                         2021-03-26\n",
       "Fin des rapports                           2021-03-26\n",
       "Name: 185, dtype: object"
      ]
     },
     "execution_count": 208,
     "metadata": {},
     "output_type": "execute_result"
    }
   ],
   "source": [
    "df_pub_C.iloc[185]"
   ]
  },
  {
   "cell_type": "code",
   "execution_count": 213,
   "metadata": {},
   "outputs": [],
   "source": [
    "df_pub_C.drop(185, inplace=True)"
   ]
  },
  {
   "cell_type": "code",
   "execution_count": 210,
   "metadata": {
    "collapsed": true
   },
   "outputs": [
    {
     "data": {
      "text/plain": [
       "Nom de la campagne                         ZW Guide 1\n",
       "Nom de l’ensemble de publicités          ZW Guide 1.2\n",
       "Nom de la publicité                    ZW Guide 1.2.2\n",
       "Âge                                           Unknown\n",
       "Genre                                         unknown\n",
       "Objectif                                  LINK_CLICKS\n",
       "Jour                                       2021-03-19\n",
       "Statut de diffusion                            active\n",
       "Niveau de diffusion                                ad\n",
       "Couverture                                          1\n",
       "Impressions                                         1\n",
       "Répétition                                          1\n",
       "Type de résultat                     Sans information\n",
       "Résultats                                           0\n",
       "Coût par résultat                                   0\n",
       "Montant dépensé (EUR)                               0\n",
       "Commence                                   2021-03-15\n",
       "Fin                                          En cours\n",
       "CPM (Coût pour 1 000 impressions)                   0\n",
       "Clics sur un lien                                   0\n",
       "CPC (coût par clic sur un lien)                     0\n",
       "CTR (taux de clics sur le lien)                     0\n",
       "Début des rapports                         2021-03-19\n",
       "Fin des rapports                           2021-03-19\n",
       "Name: 600, dtype: object"
      ]
     },
     "execution_count": 210,
     "metadata": {},
     "output_type": "execute_result"
    }
   ],
   "source": [
    "df_pub_C.iloc[600]"
   ]
  },
  {
   "cell_type": "code",
   "execution_count": 212,
   "metadata": {},
   "outputs": [],
   "source": [
    "df_pub_C.drop(600, inplace=True)"
   ]
  },
  {
   "cell_type": "code",
   "execution_count": 216,
   "metadata": {},
   "outputs": [
    {
     "data": {
      "text/html": [
       "<div>\n",
       "<style scoped>\n",
       "    .dataframe tbody tr th:only-of-type {\n",
       "        vertical-align: middle;\n",
       "    }\n",
       "\n",
       "    .dataframe tbody tr th {\n",
       "        vertical-align: top;\n",
       "    }\n",
       "\n",
       "    .dataframe thead tr th {\n",
       "        text-align: left;\n",
       "    }\n",
       "\n",
       "    .dataframe thead tr:last-of-type th {\n",
       "        text-align: right;\n",
       "    }\n",
       "</style>\n",
       "<table border=\"1\" class=\"dataframe\">\n",
       "  <thead>\n",
       "    <tr>\n",
       "      <th></th>\n",
       "      <th colspan=\"4\" halign=\"left\">CPC (coût par clic sur un lien)</th>\n",
       "      <th colspan=\"4\" halign=\"left\">Clics sur un lien</th>\n",
       "      <th colspan=\"4\" halign=\"left\">Impressions</th>\n",
       "      <th colspan=\"4\" halign=\"left\">Résultats</th>\n",
       "    </tr>\n",
       "    <tr>\n",
       "      <th>Âge</th>\n",
       "      <th>18-24</th>\n",
       "      <th>25-34</th>\n",
       "      <th>35-44</th>\n",
       "      <th>45-54</th>\n",
       "      <th>18-24</th>\n",
       "      <th>25-34</th>\n",
       "      <th>35-44</th>\n",
       "      <th>45-54</th>\n",
       "      <th>18-24</th>\n",
       "      <th>25-34</th>\n",
       "      <th>35-44</th>\n",
       "      <th>45-54</th>\n",
       "      <th>18-24</th>\n",
       "      <th>25-34</th>\n",
       "      <th>35-44</th>\n",
       "      <th>45-54</th>\n",
       "    </tr>\n",
       "    <tr>\n",
       "      <th>Genre</th>\n",
       "      <th></th>\n",
       "      <th></th>\n",
       "      <th></th>\n",
       "      <th></th>\n",
       "      <th></th>\n",
       "      <th></th>\n",
       "      <th></th>\n",
       "      <th></th>\n",
       "      <th></th>\n",
       "      <th></th>\n",
       "      <th></th>\n",
       "      <th></th>\n",
       "      <th></th>\n",
       "      <th></th>\n",
       "      <th></th>\n",
       "      <th></th>\n",
       "    </tr>\n",
       "  </thead>\n",
       "  <tbody>\n",
       "    <tr>\n",
       "      <th>female</th>\n",
       "      <td>0.250239</td>\n",
       "      <td>0.323815</td>\n",
       "      <td>0.266059</td>\n",
       "      <td>0.233246</td>\n",
       "      <td>122.0</td>\n",
       "      <td>422.0</td>\n",
       "      <td>289.0</td>\n",
       "      <td>146.0</td>\n",
       "      <td>14067</td>\n",
       "      <td>38147</td>\n",
       "      <td>19435</td>\n",
       "      <td>7943</td>\n",
       "      <td>1.666667</td>\n",
       "      <td>5.575342</td>\n",
       "      <td>3.819444</td>\n",
       "      <td>1.904110</td>\n",
       "    </tr>\n",
       "    <tr>\n",
       "      <th>male</th>\n",
       "      <td>0.053717</td>\n",
       "      <td>0.165072</td>\n",
       "      <td>0.113987</td>\n",
       "      <td>0.013615</td>\n",
       "      <td>30.0</td>\n",
       "      <td>97.0</td>\n",
       "      <td>50.0</td>\n",
       "      <td>10.0</td>\n",
       "      <td>2334</td>\n",
       "      <td>7271</td>\n",
       "      <td>2332</td>\n",
       "      <td>889</td>\n",
       "      <td>0.357143</td>\n",
       "      <td>1.222222</td>\n",
       "      <td>0.647887</td>\n",
       "      <td>0.153846</td>\n",
       "    </tr>\n",
       "    <tr>\n",
       "      <th>unknown</th>\n",
       "      <td>0.000444</td>\n",
       "      <td>0.009091</td>\n",
       "      <td>0.016139</td>\n",
       "      <td>0.009298</td>\n",
       "      <td>1.0</td>\n",
       "      <td>8.0</td>\n",
       "      <td>11.0</td>\n",
       "      <td>6.0</td>\n",
       "      <td>158</td>\n",
       "      <td>1107</td>\n",
       "      <td>1112</td>\n",
       "      <td>381</td>\n",
       "      <td>0.022222</td>\n",
       "      <td>0.121212</td>\n",
       "      <td>0.183333</td>\n",
       "      <td>0.105263</td>\n",
       "    </tr>\n",
       "  </tbody>\n",
       "</table>\n",
       "</div>"
      ],
      "text/plain": [
       "        CPC (coût par clic sur un lien)                                \\\n",
       "Âge                               18-24     25-34     35-44     45-54   \n",
       "Genre                                                                   \n",
       "female                         0.250239  0.323815  0.266059  0.233246   \n",
       "male                           0.053717  0.165072  0.113987  0.013615   \n",
       "unknown                        0.000444  0.009091  0.016139  0.009298   \n",
       "\n",
       "        Clics sur un lien                      Impressions                \\\n",
       "Âge                 18-24  25-34  35-44  45-54       18-24  25-34  35-44   \n",
       "Genre                                                                      \n",
       "female              122.0  422.0  289.0  146.0       14067  38147  19435   \n",
       "male                 30.0   97.0   50.0   10.0        2334   7271   2332   \n",
       "unknown               1.0    8.0   11.0    6.0         158   1107   1112   \n",
       "\n",
       "              Résultats                                \n",
       "Âge     45-54     18-24     25-34     35-44     45-54  \n",
       "Genre                                                  \n",
       "female   7943  1.666667  5.575342  3.819444  1.904110  \n",
       "male      889  0.357143  1.222222  0.647887  0.153846  \n",
       "unknown   381  0.022222  0.121212  0.183333  0.105263  "
      ]
     },
     "execution_count": 216,
     "metadata": {},
     "output_type": "execute_result"
    }
   ],
   "source": [
    "pd.pivot_table(df_pub_C, index=['Genre'], columns=['Âge'],\n",
    "               values=df_pub_C[['Impressions','Résultats','Clics sur un lien','CPC (coût par clic sur un lien)']],\n",
    "               aggfunc={'Impressions': sum, 'CPC (coût par clic sur un lien)': np.mean, 'Clics sur un lien': sum, 'Résultats': np.mean})"
   ]
  },
  {
   "cell_type": "code",
   "execution_count": 229,
   "metadata": {},
   "outputs": [
    {
     "data": {
      "text/html": [
       "<div>\n",
       "<style scoped>\n",
       "    .dataframe tbody tr th:only-of-type {\n",
       "        vertical-align: middle;\n",
       "    }\n",
       "\n",
       "    .dataframe tbody tr th {\n",
       "        vertical-align: top;\n",
       "    }\n",
       "\n",
       "    .dataframe thead th {\n",
       "        text-align: right;\n",
       "    }\n",
       "</style>\n",
       "<table border=\"1\" class=\"dataframe\">\n",
       "  <thead>\n",
       "    <tr style=\"text-align: right;\">\n",
       "      <th>Âge</th>\n",
       "      <th>18-24</th>\n",
       "      <th>25-34</th>\n",
       "      <th>35-44</th>\n",
       "      <th>45-54</th>\n",
       "    </tr>\n",
       "    <tr>\n",
       "      <th>Genre</th>\n",
       "      <th></th>\n",
       "      <th></th>\n",
       "      <th></th>\n",
       "      <th></th>\n",
       "    </tr>\n",
       "  </thead>\n",
       "  <tbody>\n",
       "    <tr>\n",
       "      <th>female</th>\n",
       "      <td>120.0</td>\n",
       "      <td>407.0</td>\n",
       "      <td>275.0</td>\n",
       "      <td>139.0</td>\n",
       "    </tr>\n",
       "    <tr>\n",
       "      <th>male</th>\n",
       "      <td>25.0</td>\n",
       "      <td>88.0</td>\n",
       "      <td>46.0</td>\n",
       "      <td>10.0</td>\n",
       "    </tr>\n",
       "    <tr>\n",
       "      <th>unknown</th>\n",
       "      <td>1.0</td>\n",
       "      <td>8.0</td>\n",
       "      <td>11.0</td>\n",
       "      <td>6.0</td>\n",
       "    </tr>\n",
       "  </tbody>\n",
       "</table>\n",
       "</div>"
      ],
      "text/plain": [
       "Âge      18-24  25-34  35-44  45-54\n",
       "Genre                              \n",
       "female   120.0  407.0  275.0  139.0\n",
       "male      25.0   88.0   46.0   10.0\n",
       "unknown    1.0    8.0   11.0    6.0"
      ]
     },
     "execution_count": 229,
     "metadata": {},
     "output_type": "execute_result"
    }
   ],
   "source": [
    "pd.pivot_table(df_pub_C,\n",
    "               index='Genre',\n",
    "               columns='Âge',\n",
    "               values='Résultats',\n",
    "               aggfunc=sum)"
   ]
  },
  {
   "cell_type": "code",
   "execution_count": 256,
   "metadata": {
    "collapsed": true
   },
   "outputs": [
    {
     "data": {
      "text/html": [
       "<div>\n",
       "<style scoped>\n",
       "    .dataframe tbody tr th:only-of-type {\n",
       "        vertical-align: middle;\n",
       "    }\n",
       "\n",
       "    .dataframe tbody tr th {\n",
       "        vertical-align: top;\n",
       "    }\n",
       "\n",
       "    .dataframe thead th {\n",
       "        text-align: right;\n",
       "    }\n",
       "</style>\n",
       "<table border=\"1\" class=\"dataframe\">\n",
       "  <thead>\n",
       "    <tr style=\"text-align: right;\">\n",
       "      <th>Âge</th>\n",
       "      <th>18-24</th>\n",
       "      <th>25-34</th>\n",
       "      <th>35-44</th>\n",
       "      <th>45-54</th>\n",
       "    </tr>\n",
       "    <tr>\n",
       "      <th>Genre</th>\n",
       "      <th></th>\n",
       "      <th></th>\n",
       "      <th></th>\n",
       "      <th></th>\n",
       "    </tr>\n",
       "  </thead>\n",
       "  <tbody>\n",
       "    <tr>\n",
       "      <th>female</th>\n",
       "      <td>120.0</td>\n",
       "      <td>407.0</td>\n",
       "      <td>275.0</td>\n",
       "      <td>139.0</td>\n",
       "    </tr>\n",
       "    <tr>\n",
       "      <th>male</th>\n",
       "      <td>25.0</td>\n",
       "      <td>88.0</td>\n",
       "      <td>46.0</td>\n",
       "      <td>10.0</td>\n",
       "    </tr>\n",
       "    <tr>\n",
       "      <th>unknown</th>\n",
       "      <td>1.0</td>\n",
       "      <td>8.0</td>\n",
       "      <td>11.0</td>\n",
       "      <td>6.0</td>\n",
       "    </tr>\n",
       "  </tbody>\n",
       "</table>\n",
       "</div>"
      ],
      "text/plain": [
       "Âge      18-24  25-34  35-44  45-54\n",
       "Genre                              \n",
       "female   120.0  407.0  275.0  139.0\n",
       "male      25.0   88.0   46.0   10.0\n",
       "unknown    1.0    8.0   11.0    6.0"
      ]
     },
     "execution_count": 256,
     "metadata": {},
     "output_type": "execute_result"
    }
   ],
   "source": [
    "ct=pd.crosstab(index=df_pub_C['Genre'],\n",
    "               columns=df_pub_C['Âge'],\n",
    "               values=df_pub_C['Résultats'],\n",
    "               aggfunc=sum,\n",
    "               )\n",
    "ct"
   ]
  },
  {
   "cell_type": "code",
   "execution_count": 257,
   "metadata": {
    "collapsed": true
   },
   "outputs": [
    {
     "data": {
      "text/plain": [
       "<AxesSubplot:xlabel='Âge', ylabel='value'>"
      ]
     },
     "execution_count": 257,
     "metadata": {},
     "output_type": "execute_result"
    },
    {
     "data": {
      "image/png": "[encoded data removed]",
      "text/plain": [
       "<Figure size 432x288 with 1 Axes>"
      ]
     },
     "metadata": {},
     "output_type": "display_data"
    }
   ],
   "source": [
    "stacked = ct.stack().reset_index().rename(columns={0:'value'})\n",
    "\n",
    "sns.barplot(x=stacked.Âge, y=stacked.value, hue=stacked.Genre)"
   ]
  },
  {
   "cell_type": "code",
   "execution_count": 258,
   "metadata": {
    "collapsed": true
   },
   "outputs": [
    {
     "data": {
      "text/plain": [
       "<AxesSubplot:xlabel='Âge', ylabel='value'>"
      ]
     },
     "execution_count": 258,
     "metadata": {},
     "output_type": "execute_result"
    },
    {
     "data": {
      "image/png": "[encoded data removed]",
      "text/plain": [
       "<Figure size 432x288 with 1 Axes>"
      ]
     },
     "metadata": {},
     "output_type": "display_data"
    }
   ],
   "source": [
    "ct1=pd.crosstab(index=df_pub_C['Genre'],\n",
    "               columns=df_pub_C['Âge'],\n",
    "               values=df_pub_C['Résultats'],\n",
    "               aggfunc=sum,\n",
    "               )\n",
    "stacked1 = ct1.stack().reset_index().rename(columns={0:'value'})\n",
    "\n",
    "sns.barplot(x=stacked1.Âge, y=stacked1.value, hue=stacked1.Genre)"
   ]
  },
  {
   "cell_type": "code",
   "execution_count": 260,
   "metadata": {},
   "outputs": [
    {
     "data": {
      "text/html": [
       "<div>\n",
       "<style scoped>\n",
       "    .dataframe tbody tr th:only-of-type {\n",
       "        vertical-align: middle;\n",
       "    }\n",
       "\n",
       "    .dataframe tbody tr th {\n",
       "        vertical-align: top;\n",
       "    }\n",
       "\n",
       "    .dataframe thead th {\n",
       "        text-align: right;\n",
       "    }\n",
       "</style>\n",
       "<table border=\"1\" class=\"dataframe\">\n",
       "  <thead>\n",
       "    <tr style=\"text-align: right;\">\n",
       "      <th>Âge</th>\n",
       "      <th>18-24</th>\n",
       "      <th>25-34</th>\n",
       "      <th>35-44</th>\n",
       "      <th>45-54</th>\n",
       "    </tr>\n",
       "    <tr>\n",
       "      <th>Genre</th>\n",
       "      <th></th>\n",
       "      <th></th>\n",
       "      <th></th>\n",
       "      <th></th>\n",
       "    </tr>\n",
       "  </thead>\n",
       "  <tbody>\n",
       "    <tr>\n",
       "      <th>female</th>\n",
       "      <td>14067</td>\n",
       "      <td>38147</td>\n",
       "      <td>19435</td>\n",
       "      <td>7943</td>\n",
       "    </tr>\n",
       "    <tr>\n",
       "      <th>male</th>\n",
       "      <td>2334</td>\n",
       "      <td>7271</td>\n",
       "      <td>2332</td>\n",
       "      <td>889</td>\n",
       "    </tr>\n",
       "    <tr>\n",
       "      <th>unknown</th>\n",
       "      <td>158</td>\n",
       "      <td>1107</td>\n",
       "      <td>1112</td>\n",
       "      <td>381</td>\n",
       "    </tr>\n",
       "  </tbody>\n",
       "</table>\n",
       "</div>"
      ],
      "text/plain": [
       "Âge      18-24  25-34  35-44  45-54\n",
       "Genre                              \n",
       "female   14067  38147  19435   7943\n",
       "male      2334   7271   2332    889\n",
       "unknown    158   1107   1112    381"
      ]
     },
     "execution_count": 260,
     "metadata": {},
     "output_type": "execute_result"
    }
   ],
   "source": [
    "ct2=pd.crosstab(index=df_pub_C['Genre'],\n",
    "               columns=df_pub_C['Âge'],\n",
    "               values=df_pub_C['Impressions'],\n",
    "               aggfunc=sum,\n",
    "               )\n",
    "ct2"
   ]
  },
  {
   "cell_type": "code",
   "execution_count": 261,
   "metadata": {},
   "outputs": [
    {
     "data": {
      "text/plain": [
       "<AxesSubplot:xlabel='Âge', ylabel='value'>"
      ]
     },
     "execution_count": 261,
     "metadata": {},
     "output_type": "execute_result"
    },
    {
     "data": {
      "image/png": "[encoded data removed]",
      "text/plain": [
       "<Figure size 432x288 with 1 Axes>"
      ]
     },
     "metadata": {},
     "output_type": "display_data"
    }
   ],
   "source": [
    "stacked2 = ct2.stack().reset_index().rename(columns={0:'value'})\n",
    "\n",
    "sns.barplot(x=stacked2.Âge, y=stacked2.value, hue=stacked2.Genre)"
   ]
  },
  {
   "cell_type": "code",
   "execution_count": null,
   "metadata": {},
   "outputs": [],
   "source": []
  }
 ],
 "metadata": {
  "kernelspec": {
   "display_name": "Python 3",
   "language": "python",
   "name": "python3"
  },
  "language_info": {
   "codemirror_mode": {
    "name": "ipython",
    "version": 3
   },
   "file_extension": ".py",
   "mimetype": "text/x-python",
   "name": "python",
   "nbconvert_exporter": "python",
   "pygments_lexer": "ipython3",
   "version": "3.8.5"
  }
 },
 "nbformat": 4,
 "nbformat_minor": 4
}
