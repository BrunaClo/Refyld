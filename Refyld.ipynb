{
 "cells": [
  {
   "cell_type": "code",
   "execution_count": 1,
   "metadata": {},
   "outputs": [
    {
     "data": {
      "text/html": [
       "<style>.container { width:100% !important; }</style>"
      ],
      "text/plain": [
       "<IPython.core.display.HTML object>"
      ]
     },
     "metadata": {},
     "output_type": "display_data"
    }
   ],
   "source": [
    "import numpy as np\n",
    "import pandas as pd\n",
    "import matplotlib.pyplot as plt\n",
    "%matplotlib inline\n",
    "import seaborn as sns\n",
    "import os\n",
    "from IPython.display import Image, display\n",
    "from PIL import Image\n",
    "from jupyterthemes import get_themes\n",
    "import jupyterthemes as jt\n",
    "from jupyterthemes import jtplot\n",
    "from IPython.core.display import display, HTML\n",
    "display(HTML('<style>.container { width:100% !important; }</style>'))"
   ]
  },
  {
   "cell_type": "markdown",
   "metadata": {},
   "source": [
    "https://business.facebook.com/refyld/insights/?business_id=2025473311051656&section=navAPI"
   ]
  },
  {
   "cell_type": "code",
   "execution_count": 2,
   "metadata": {},
   "outputs": [],
   "source": [
    "os.chdir(r'C:\\Users\\bruna\\IronHack\\Project Refyld\\Refyld\\données')"
   ]
  },
  {
   "cell_type": "markdown",
   "metadata": {},
   "source": [
    "## Lets get information about the Facebook Page"
   ]
  },
  {
   "cell_type": "markdown",
   "metadata": {},
   "source": [
    "### Getting the data"
   ]
  },
  {
   "cell_type": "markdown",
   "metadata": {},
   "source": [
    "#### Janvier 2021 - Mars 2021"
   ]
  },
  {
   "cell_type": "code",
   "execution_count": 3,
   "metadata": {},
   "outputs": [],
   "source": [
    "df_2021 = pd.read_csv('Page_FB_Jan_Mars_2021.csv')\n"
   ]
  },
  {
   "cell_type": "markdown",
   "metadata": {},
   "source": [
    "#### Dec 2020 - 14 Aout 2020"
   ]
  },
  {
   "cell_type": "code",
   "execution_count": 4,
   "metadata": {},
   "outputs": [],
   "source": [
    "df_2020  = pd.read_csv('Page_FB_Dec_Oct_2020.csv')\n"
   ]
  },
  {
   "cell_type": "markdown",
   "metadata": {},
   "source": [
    "#### Let's concat (merge) all the dataframes"
   ]
  },
  {
   "cell_type": "code",
   "execution_count": 5,
   "metadata": {},
   "outputs": [],
   "source": [
    "df = pd.concat([df_2020, df_2021])\n"
   ]
  },
  {
   "cell_type": "code",
   "execution_count": 6,
   "metadata": {},
   "outputs": [],
   "source": [
    "df.reset_index(drop=True, inplace=True)\n"
   ]
  },
  {
   "cell_type": "markdown",
   "metadata": {},
   "source": [
    "#### We only need the daily"
   ]
  },
  {
   "cell_type": "code",
   "execution_count": 7,
   "metadata": {},
   "outputs": [],
   "source": [
    "def get_date_sep(x):\n",
    "    df_day = pd.DataFrame()\n",
    "    df_day = df_day.append(x['Date'])\n",
    "    df_week = pd.DataFrame()\n",
    "    df_week = df_week.append(x['Date'])\n",
    "    df_month = pd.DataFrame()\n",
    "    df_month = df_month.append(x['Date'])\n",
    "    df_others = pd.DataFrame()\n",
    "    for i in x:\n",
    "        if 'Daily' in i:\n",
    "            df_day = df_day.append(x[f'{i}'])\n",
    "        if 'Weekly' in i:\n",
    "            df_week = df_week.append(x[f'{i}'])\n",
    "        if '28 Days' in i:\n",
    "            df_month = df_month.append(x[f'{i}'])\n",
    "        elif 'Daily' not in i and 'Weekly' not in i and '28' not in i:\n",
    "            df_others = df_others.append(x[f'{i}'])\n",
    "\n",
    "    return df_day.T, df_week.T, df_month.T, df_others.T\n",
    "\n"
   ]
  },
  {
   "cell_type": "code",
   "execution_count": 8,
   "metadata": {
    "collapsed": true
   },
   "outputs": [
    {
     "data": {
      "text/html": [
       "<div>\n",
       "<style scoped>\n",
       "    .dataframe tbody tr th:only-of-type {\n",
       "        vertical-align: middle;\n",
       "    }\n",
       "\n",
       "    .dataframe tbody tr th {\n",
       "        vertical-align: top;\n",
       "    }\n",
       "\n",
       "    .dataframe thead th {\n",
       "        text-align: right;\n",
       "    }\n",
       "</style>\n",
       "<table border=\"1\" class=\"dataframe\">\n",
       "  <thead>\n",
       "    <tr style=\"text-align: right;\">\n",
       "      <th></th>\n",
       "      <th>Date</th>\n",
       "      <th>Daily New Likes</th>\n",
       "      <th>Daily Unlikes</th>\n",
       "      <th>Daily Page Engaged Users</th>\n",
       "      <th>Daily Total Reach</th>\n",
       "      <th>Daily Organic Reach</th>\n",
       "      <th>Daily Paid Reach</th>\n",
       "      <th>Daily Viral Reach</th>\n",
       "      <th>Daily Total Impressions</th>\n",
       "      <th>Daily Organic impressions</th>\n",
       "      <th>...</th>\n",
       "      <th>Daily City: People Talking About This - Tournai, Belgique</th>\n",
       "      <th>Daily City: People Talking About This - Valloire</th>\n",
       "      <th>Daily City: People Talking About This - Villeneuve-d'Ascq</th>\n",
       "      <th>Daily Logged-in Tab Views - (null)</th>\n",
       "      <th>Daily External Referrers - https://refyld.com/</th>\n",
       "      <th>Daily External Referrers - https://refyld.com/blogs/journal/plastique-et-crise-climatique</th>\n",
       "      <th>Daily External Referrers - https://refyld.com/challenge</th>\n",
       "      <th>Daily External Referrers - https://refyld.com/pages/ladhesion</th>\n",
       "      <th>Daily External Referrers - https://refyld.com/pages/quisommes-nous</th>\n",
       "      <th>Daily External Referrers - https://www.okpal.com/refyld-la-qualite-accessible-a-tous-tes/?_ga=2.263060556.111209855.1609942885-1715629192.1609942885</th>\n",
       "    </tr>\n",
       "  </thead>\n",
       "  <tbody>\n",
       "    <tr>\n",
       "      <th>0</th>\n",
       "      <td>NaN</td>\n",
       "      <td>Daily: The number of new people who have liked...</td>\n",
       "      <td>Daily: The number of Unlikes of your Page (Uni...</td>\n",
       "      <td>Daily: The number of people who engaged with y...</td>\n",
       "      <td>Daily: The number of people who had any conten...</td>\n",
       "      <td>Daily: The number of people who had any conten...</td>\n",
       "      <td>Daily: The number of people who had any conten...</td>\n",
       "      <td>Daily:  The number of people who had any conte...</td>\n",
       "      <td>Daily: The number of times any content from yo...</td>\n",
       "      <td>Daily: The number of times any content from yo...</td>\n",
       "      <td>...</td>\n",
       "      <td>NaN</td>\n",
       "      <td>NaN</td>\n",
       "      <td>NaN</td>\n",
       "      <td>NaN</td>\n",
       "      <td>NaN</td>\n",
       "      <td>NaN</td>\n",
       "      <td>NaN</td>\n",
       "      <td>NaN</td>\n",
       "      <td>NaN</td>\n",
       "      <td>NaN</td>\n",
       "    </tr>\n",
       "    <tr>\n",
       "      <th>1</th>\n",
       "      <td>2020-09-30</td>\n",
       "      <td>2</td>\n",
       "      <td>1</td>\n",
       "      <td>80</td>\n",
       "      <td>753</td>\n",
       "      <td>753</td>\n",
       "      <td>NaN</td>\n",
       "      <td>460</td>\n",
       "      <td>1448</td>\n",
       "      <td>1378</td>\n",
       "      <td>...</td>\n",
       "      <td>NaN</td>\n",
       "      <td>NaN</td>\n",
       "      <td>NaN</td>\n",
       "      <td>NaN</td>\n",
       "      <td>NaN</td>\n",
       "      <td>NaN</td>\n",
       "      <td>NaN</td>\n",
       "      <td>NaN</td>\n",
       "      <td>NaN</td>\n",
       "      <td>NaN</td>\n",
       "    </tr>\n",
       "    <tr>\n",
       "      <th>2</th>\n",
       "      <td>2020-10-01</td>\n",
       "      <td>1</td>\n",
       "      <td>NaN</td>\n",
       "      <td>34</td>\n",
       "      <td>329</td>\n",
       "      <td>329</td>\n",
       "      <td>NaN</td>\n",
       "      <td>241</td>\n",
       "      <td>447</td>\n",
       "      <td>436</td>\n",
       "      <td>...</td>\n",
       "      <td>NaN</td>\n",
       "      <td>NaN</td>\n",
       "      <td>NaN</td>\n",
       "      <td>NaN</td>\n",
       "      <td>NaN</td>\n",
       "      <td>NaN</td>\n",
       "      <td>NaN</td>\n",
       "      <td>NaN</td>\n",
       "      <td>NaN</td>\n",
       "      <td>NaN</td>\n",
       "    </tr>\n",
       "    <tr>\n",
       "      <th>3</th>\n",
       "      <td>2020-10-02</td>\n",
       "      <td>3</td>\n",
       "      <td>4</td>\n",
       "      <td>84</td>\n",
       "      <td>596</td>\n",
       "      <td>596</td>\n",
       "      <td>NaN</td>\n",
       "      <td>243</td>\n",
       "      <td>1027</td>\n",
       "      <td>971</td>\n",
       "      <td>...</td>\n",
       "      <td>NaN</td>\n",
       "      <td>NaN</td>\n",
       "      <td>NaN</td>\n",
       "      <td>NaN</td>\n",
       "      <td>NaN</td>\n",
       "      <td>NaN</td>\n",
       "      <td>NaN</td>\n",
       "      <td>NaN</td>\n",
       "      <td>NaN</td>\n",
       "      <td>NaN</td>\n",
       "    </tr>\n",
       "    <tr>\n",
       "      <th>4</th>\n",
       "      <td>2020-10-03</td>\n",
       "      <td>1</td>\n",
       "      <td>4</td>\n",
       "      <td>52</td>\n",
       "      <td>516</td>\n",
       "      <td>513</td>\n",
       "      <td>NaN</td>\n",
       "      <td>236</td>\n",
       "      <td>880</td>\n",
       "      <td>848</td>\n",
       "      <td>...</td>\n",
       "      <td>NaN</td>\n",
       "      <td>NaN</td>\n",
       "      <td>NaN</td>\n",
       "      <td>NaN</td>\n",
       "      <td>NaN</td>\n",
       "      <td>NaN</td>\n",
       "      <td>NaN</td>\n",
       "      <td>NaN</td>\n",
       "      <td>NaN</td>\n",
       "      <td>NaN</td>\n",
       "    </tr>\n",
       "    <tr>\n",
       "      <th>...</th>\n",
       "      <td>...</td>\n",
       "      <td>...</td>\n",
       "      <td>...</td>\n",
       "      <td>...</td>\n",
       "      <td>...</td>\n",
       "      <td>...</td>\n",
       "      <td>...</td>\n",
       "      <td>...</td>\n",
       "      <td>...</td>\n",
       "      <td>...</td>\n",
       "      <td>...</td>\n",
       "      <td>...</td>\n",
       "      <td>...</td>\n",
       "      <td>...</td>\n",
       "      <td>...</td>\n",
       "      <td>...</td>\n",
       "      <td>...</td>\n",
       "      <td>...</td>\n",
       "      <td>...</td>\n",
       "      <td>...</td>\n",
       "      <td>...</td>\n",
       "    </tr>\n",
       "    <tr>\n",
       "      <th>177</th>\n",
       "      <td>2021-03-24</td>\n",
       "      <td>NaN</td>\n",
       "      <td>NaN</td>\n",
       "      <td>116</td>\n",
       "      <td>7567</td>\n",
       "      <td>230</td>\n",
       "      <td>7413</td>\n",
       "      <td>31</td>\n",
       "      <td>7994</td>\n",
       "      <td>290</td>\n",
       "      <td>...</td>\n",
       "      <td>NaN</td>\n",
       "      <td>NaN</td>\n",
       "      <td>NaN</td>\n",
       "      <td>NaN</td>\n",
       "      <td>NaN</td>\n",
       "      <td>NaN</td>\n",
       "      <td>NaN</td>\n",
       "      <td>NaN</td>\n",
       "      <td>1</td>\n",
       "      <td>NaN</td>\n",
       "    </tr>\n",
       "    <tr>\n",
       "      <th>178</th>\n",
       "      <td>2021-03-25</td>\n",
       "      <td>NaN</td>\n",
       "      <td>NaN</td>\n",
       "      <td>80</td>\n",
       "      <td>6859</td>\n",
       "      <td>91</td>\n",
       "      <td>6744</td>\n",
       "      <td>38</td>\n",
       "      <td>7306</td>\n",
       "      <td>171</td>\n",
       "      <td>...</td>\n",
       "      <td>NaN</td>\n",
       "      <td>NaN</td>\n",
       "      <td>NaN</td>\n",
       "      <td>NaN</td>\n",
       "      <td>NaN</td>\n",
       "      <td>NaN</td>\n",
       "      <td>NaN</td>\n",
       "      <td>NaN</td>\n",
       "      <td>NaN</td>\n",
       "      <td>NaN</td>\n",
       "    </tr>\n",
       "    <tr>\n",
       "      <th>179</th>\n",
       "      <td>2021-03-26</td>\n",
       "      <td>NaN</td>\n",
       "      <td>NaN</td>\n",
       "      <td>54</td>\n",
       "      <td>3815</td>\n",
       "      <td>246</td>\n",
       "      <td>3578</td>\n",
       "      <td>28</td>\n",
       "      <td>4245</td>\n",
       "      <td>320</td>\n",
       "      <td>...</td>\n",
       "      <td>NaN</td>\n",
       "      <td>NaN</td>\n",
       "      <td>NaN</td>\n",
       "      <td>NaN</td>\n",
       "      <td>NaN</td>\n",
       "      <td>NaN</td>\n",
       "      <td>NaN</td>\n",
       "      <td>NaN</td>\n",
       "      <td>NaN</td>\n",
       "      <td>NaN</td>\n",
       "    </tr>\n",
       "    <tr>\n",
       "      <th>180</th>\n",
       "      <td>2021-03-27</td>\n",
       "      <td>NaN</td>\n",
       "      <td>NaN</td>\n",
       "      <td>147</td>\n",
       "      <td>8199</td>\n",
       "      <td>61</td>\n",
       "      <td>8145</td>\n",
       "      <td>19</td>\n",
       "      <td>8480</td>\n",
       "      <td>86</td>\n",
       "      <td>...</td>\n",
       "      <td>NaN</td>\n",
       "      <td>NaN</td>\n",
       "      <td>1</td>\n",
       "      <td>NaN</td>\n",
       "      <td>NaN</td>\n",
       "      <td>NaN</td>\n",
       "      <td>NaN</td>\n",
       "      <td>NaN</td>\n",
       "      <td>NaN</td>\n",
       "      <td>NaN</td>\n",
       "    </tr>\n",
       "    <tr>\n",
       "      <th>181</th>\n",
       "      <td>2021-03-28</td>\n",
       "      <td>NaN</td>\n",
       "      <td>NaN</td>\n",
       "      <td>139</td>\n",
       "      <td>10267</td>\n",
       "      <td>41</td>\n",
       "      <td>10221</td>\n",
       "      <td>16</td>\n",
       "      <td>10509</td>\n",
       "      <td>99</td>\n",
       "      <td>...</td>\n",
       "      <td>NaN</td>\n",
       "      <td>NaN</td>\n",
       "      <td>NaN</td>\n",
       "      <td>NaN</td>\n",
       "      <td>NaN</td>\n",
       "      <td>NaN</td>\n",
       "      <td>NaN</td>\n",
       "      <td>NaN</td>\n",
       "      <td>NaN</td>\n",
       "      <td>NaN</td>\n",
       "    </tr>\n",
       "  </tbody>\n",
       "</table>\n",
       "<p>182 rows × 716 columns</p>\n",
       "</div>"
      ],
      "text/plain": [
       "           Date                                    Daily New Likes  \\\n",
       "0           NaN  Daily: The number of new people who have liked...   \n",
       "1    2020-09-30                                                  2   \n",
       "2    2020-10-01                                                  1   \n",
       "3    2020-10-02                                                  3   \n",
       "4    2020-10-03                                                  1   \n",
       "..          ...                                                ...   \n",
       "177  2021-03-24                                                NaN   \n",
       "178  2021-03-25                                                NaN   \n",
       "179  2021-03-26                                                NaN   \n",
       "180  2021-03-27                                                NaN   \n",
       "181  2021-03-28                                                NaN   \n",
       "\n",
       "                                         Daily Unlikes  \\\n",
       "0    Daily: The number of Unlikes of your Page (Uni...   \n",
       "1                                                    1   \n",
       "2                                                  NaN   \n",
       "3                                                    4   \n",
       "4                                                    4   \n",
       "..                                                 ...   \n",
       "177                                                NaN   \n",
       "178                                                NaN   \n",
       "179                                                NaN   \n",
       "180                                                NaN   \n",
       "181                                                NaN   \n",
       "\n",
       "                              Daily Page Engaged Users  \\\n",
       "0    Daily: The number of people who engaged with y...   \n",
       "1                                                   80   \n",
       "2                                                   34   \n",
       "3                                                   84   \n",
       "4                                                   52   \n",
       "..                                                 ...   \n",
       "177                                                116   \n",
       "178                                                 80   \n",
       "179                                                 54   \n",
       "180                                                147   \n",
       "181                                                139   \n",
       "\n",
       "                                     Daily Total Reach  \\\n",
       "0    Daily: The number of people who had any conten...   \n",
       "1                                                  753   \n",
       "2                                                  329   \n",
       "3                                                  596   \n",
       "4                                                  516   \n",
       "..                                                 ...   \n",
       "177                                               7567   \n",
       "178                                               6859   \n",
       "179                                               3815   \n",
       "180                                               8199   \n",
       "181                                              10267   \n",
       "\n",
       "                                   Daily Organic Reach  \\\n",
       "0    Daily: The number of people who had any conten...   \n",
       "1                                                  753   \n",
       "2                                                  329   \n",
       "3                                                  596   \n",
       "4                                                  513   \n",
       "..                                                 ...   \n",
       "177                                                230   \n",
       "178                                                 91   \n",
       "179                                                246   \n",
       "180                                                 61   \n",
       "181                                                 41   \n",
       "\n",
       "                                      Daily Paid Reach  \\\n",
       "0    Daily: The number of people who had any conten...   \n",
       "1                                                  NaN   \n",
       "2                                                  NaN   \n",
       "3                                                  NaN   \n",
       "4                                                  NaN   \n",
       "..                                                 ...   \n",
       "177                                               7413   \n",
       "178                                               6744   \n",
       "179                                               3578   \n",
       "180                                               8145   \n",
       "181                                              10221   \n",
       "\n",
       "                                     Daily Viral Reach  \\\n",
       "0    Daily:  The number of people who had any conte...   \n",
       "1                                                  460   \n",
       "2                                                  241   \n",
       "3                                                  243   \n",
       "4                                                  236   \n",
       "..                                                 ...   \n",
       "177                                                 31   \n",
       "178                                                 38   \n",
       "179                                                 28   \n",
       "180                                                 19   \n",
       "181                                                 16   \n",
       "\n",
       "                               Daily Total Impressions  \\\n",
       "0    Daily: The number of times any content from yo...   \n",
       "1                                                 1448   \n",
       "2                                                  447   \n",
       "3                                                 1027   \n",
       "4                                                  880   \n",
       "..                                                 ...   \n",
       "177                                               7994   \n",
       "178                                               7306   \n",
       "179                                               4245   \n",
       "180                                               8480   \n",
       "181                                              10509   \n",
       "\n",
       "                             Daily Organic impressions  ...  \\\n",
       "0    Daily: The number of times any content from yo...  ...   \n",
       "1                                                 1378  ...   \n",
       "2                                                  436  ...   \n",
       "3                                                  971  ...   \n",
       "4                                                  848  ...   \n",
       "..                                                 ...  ...   \n",
       "177                                                290  ...   \n",
       "178                                                171  ...   \n",
       "179                                                320  ...   \n",
       "180                                                 86  ...   \n",
       "181                                                 99  ...   \n",
       "\n",
       "    Daily City: People Talking About This - Tournai, Belgique  \\\n",
       "0                                                  NaN          \n",
       "1                                                  NaN          \n",
       "2                                                  NaN          \n",
       "3                                                  NaN          \n",
       "4                                                  NaN          \n",
       "..                                                 ...          \n",
       "177                                                NaN          \n",
       "178                                                NaN          \n",
       "179                                                NaN          \n",
       "180                                                NaN          \n",
       "181                                                NaN          \n",
       "\n",
       "    Daily City: People Talking About This - Valloire  \\\n",
       "0                                                NaN   \n",
       "1                                                NaN   \n",
       "2                                                NaN   \n",
       "3                                                NaN   \n",
       "4                                                NaN   \n",
       "..                                               ...   \n",
       "177                                              NaN   \n",
       "178                                              NaN   \n",
       "179                                              NaN   \n",
       "180                                              NaN   \n",
       "181                                              NaN   \n",
       "\n",
       "    Daily City: People Talking About This - Villeneuve-d'Ascq  \\\n",
       "0                                                  NaN          \n",
       "1                                                  NaN          \n",
       "2                                                  NaN          \n",
       "3                                                  NaN          \n",
       "4                                                  NaN          \n",
       "..                                                 ...          \n",
       "177                                                NaN          \n",
       "178                                                NaN          \n",
       "179                                                NaN          \n",
       "180                                                  1          \n",
       "181                                                NaN          \n",
       "\n",
       "    Daily Logged-in Tab Views - (null)  \\\n",
       "0                                  NaN   \n",
       "1                                  NaN   \n",
       "2                                  NaN   \n",
       "3                                  NaN   \n",
       "4                                  NaN   \n",
       "..                                 ...   \n",
       "177                                NaN   \n",
       "178                                NaN   \n",
       "179                                NaN   \n",
       "180                                NaN   \n",
       "181                                NaN   \n",
       "\n",
       "    Daily External Referrers - https://refyld.com/  \\\n",
       "0                                              NaN   \n",
       "1                                              NaN   \n",
       "2                                              NaN   \n",
       "3                                              NaN   \n",
       "4                                              NaN   \n",
       "..                                             ...   \n",
       "177                                            NaN   \n",
       "178                                            NaN   \n",
       "179                                            NaN   \n",
       "180                                            NaN   \n",
       "181                                            NaN   \n",
       "\n",
       "    Daily External Referrers - https://refyld.com/blogs/journal/plastique-et-crise-climatique  \\\n",
       "0                                                  NaN                                          \n",
       "1                                                  NaN                                          \n",
       "2                                                  NaN                                          \n",
       "3                                                  NaN                                          \n",
       "4                                                  NaN                                          \n",
       "..                                                 ...                                          \n",
       "177                                                NaN                                          \n",
       "178                                                NaN                                          \n",
       "179                                                NaN                                          \n",
       "180                                                NaN                                          \n",
       "181                                                NaN                                          \n",
       "\n",
       "    Daily External Referrers - https://refyld.com/challenge  \\\n",
       "0                                                  NaN        \n",
       "1                                                  NaN        \n",
       "2                                                  NaN        \n",
       "3                                                  NaN        \n",
       "4                                                  NaN        \n",
       "..                                                 ...        \n",
       "177                                                NaN        \n",
       "178                                                NaN        \n",
       "179                                                NaN        \n",
       "180                                                NaN        \n",
       "181                                                NaN        \n",
       "\n",
       "    Daily External Referrers - https://refyld.com/pages/ladhesion  \\\n",
       "0                                                  NaN              \n",
       "1                                                  NaN              \n",
       "2                                                  NaN              \n",
       "3                                                  NaN              \n",
       "4                                                  NaN              \n",
       "..                                                 ...              \n",
       "177                                                NaN              \n",
       "178                                                NaN              \n",
       "179                                                NaN              \n",
       "180                                                NaN              \n",
       "181                                                NaN              \n",
       "\n",
       "    Daily External Referrers - https://refyld.com/pages/quisommes-nous  \\\n",
       "0                                                  NaN                   \n",
       "1                                                  NaN                   \n",
       "2                                                  NaN                   \n",
       "3                                                  NaN                   \n",
       "4                                                  NaN                   \n",
       "..                                                 ...                   \n",
       "177                                                  1                   \n",
       "178                                                NaN                   \n",
       "179                                                NaN                   \n",
       "180                                                NaN                   \n",
       "181                                                NaN                   \n",
       "\n",
       "    Daily External Referrers - https://www.okpal.com/refyld-la-qualite-accessible-a-tous-tes/?_ga=2.263060556.111209855.1609942885-1715629192.1609942885  \n",
       "0                                                  NaN                                                                                                    \n",
       "1                                                  NaN                                                                                                    \n",
       "2                                                  NaN                                                                                                    \n",
       "3                                                  NaN                                                                                                    \n",
       "4                                                  NaN                                                                                                    \n",
       "..                                                 ...                                                                                                    \n",
       "177                                                NaN                                                                                                    \n",
       "178                                                NaN                                                                                                    \n",
       "179                                                NaN                                                                                                    \n",
       "180                                                NaN                                                                                                    \n",
       "181                                                NaN                                                                                                    \n",
       "\n",
       "[182 rows x 716 columns]"
      ]
     },
     "execution_count": 8,
     "metadata": {},
     "output_type": "execute_result"
    }
   ],
   "source": [
    "df_day, df_week, df_month, df_others = get_date_sep(df)\n",
    "\n",
    "df_day"
   ]
  },
  {
   "cell_type": "markdown",
   "metadata": {},
   "source": [
    "#### Let's get description of insights"
   ]
  },
  {
   "cell_type": "code",
   "execution_count": 9,
   "metadata": {},
   "outputs": [],
   "source": [
    "def get_description(x):\n",
    "    descrition = x[:1].T\n",
    "    descrition = descrition.dropna()\n",
    "    descrition.reset_index(inplace=True)\n",
    "    descrition.rename(columns={'index':'title', 0:'Desc'}, inplace=True)\n",
    "    description = pd.Series(descrition.Desc.values,index=descrition.title).to_dict()\n",
    "    return description"
   ]
  },
  {
   "cell_type": "code",
   "execution_count": 10,
   "metadata": {},
   "outputs": [],
   "source": [
    "description = get_description(df_day)"
   ]
  },
  {
   "cell_type": "code",
   "execution_count": 11,
   "metadata": {
    "collapsed": true
   },
   "outputs": [
    {
     "data": {
      "text/plain": [
       "{'Daily New Likes': 'Daily: The number of new people who have liked your Page (Unique Users)',\n",
       " 'Daily Unlikes': 'Daily: The number of Unlikes of your Page (Unique Users)',\n",
       " 'Daily Page Engaged Users': 'Daily: The number of people who engaged with your Page. Engagement includes any click or story created. (Unique Users)',\n",
       " 'Daily Total Reach': 'Daily: The number of people who had any content from your Page or about your Page enter their screen. This includes posts, check-ins, ads, social information from people who interact with your Page and more. (Unique Users)',\n",
       " 'Daily Organic Reach': 'Daily: The number of people who had any content from your Page or about your Page enter their screen through unpaid distribution. This includes posts, stories, check-ins, social information from people who interact with your Page and more. (Unique Users)',\n",
       " 'Daily Paid Reach': 'Daily: The number of people who had any content from your Page or about your Page enter their screen through paid distribution such as an ad. (Unique Users)',\n",
       " 'Daily Viral Reach': \"Daily:  The number of people who had any content from your Page or about your Page enter their screen through with social information attached. As a form of organic distribution, social information displays when a person's friend interacted with your Page, post or story. This includes when someone's friend likes or follows your Page, engages with a post, shares a photo of your Page and checks into your Page. (Unique Users)\",\n",
       " 'Daily Total Impressions': \"Daily: The number of times any content from your Page or about your Page entered a person's screen. This includes posts, stories, check-ins, ads, social information from people who interact with your Page and more. (Total Count)\",\n",
       " 'Daily Organic impressions': \"Daily: The number of times any content from your Page or about your Page entered a person's screen through unpaid distribution. This includes posts, stories, check-ins, social information from people who interact with your Page and more. (Total Count)\",\n",
       " 'Daily Paid Impressions': \"Daily: The number of times any content from your Page or about your Page entered a person's screen through paid distribution such as an ad. (Total Count)\",\n",
       " 'Daily Viral impressions': \"Daily: The number of times any content from your Page or about your Page entered a person's screen with social information attached. Social information displays when a person's friend interacted with your Page, post or story. This includes when someone's friend likes or follows your Page, engages with a post, shares a photo of your Page and checks into your Page. (Total Count)\",\n",
       " 'Daily Logged-in Page Views': 'Daily: Page Views from users logged into Facebook (Total Count)',\n",
       " 'Daily Logged-in Page Views.1': 'Daily: Page Views from users logged into Facebook (Unique Users)',\n",
       " 'Daily Reach Of Page Posts': \"Daily: The number of people who had any of your Page's posts enter their screen. Posts include statuses, photos, links, videos and more. (Unique Users)\",\n",
       " 'Daily Organic Reach of Page posts': \"Daily: The number of people who had any of your Page's posts enter their screen through unpaid distribution. (Unique Users)\",\n",
       " 'Daily Paid Reach of Page posts': \"Daily: The number of people who had any of your Page's posts enter their screen through paid distribution such as an ad. (Unique Users)\",\n",
       " 'Daily Viral Reach Of Page Posts': \"Daily: The number of people who had any of your Page's posts enter their screen with social information attached. As a form of organic distribution, social information displays when a person's friend interacted with you Page or post. This includes when someone's friend likes or follows your Page, engages with a post, shares a photo of your Page and checks into your Page. (Unique Users)\",\n",
       " 'Daily Total Impressions of your posts': \"Daily: The number of times your Page's posts entered a person's screen. Posts include statuses, photos, links, videos and more. (Total Count)\",\n",
       " 'Daily Organic impressions of your posts': \"Daily: The number of times your Page's posts entered a person's screen through unpaid distribution. (Total Count)\",\n",
       " 'Daily Paid impressions of your posts': \"Daily: The number of times your Page's posts entered a person's screen through paid distribution such as an ad. (Total Count)\",\n",
       " 'Daily Viral Impressions Of Your Posts': \"Daily: The number of times your Page's posts entered a person's screen with social information attached. Social information displays when a person's friend interacted with you Page or post. This includes when someone's friend likes or follows your Page, engages with a post, shares a photo of your Page and checks into your Page. (Total Count)\",\n",
       " 'Daily Total Consumers': 'Daily: The number of people who clicked on any of your content. Stories that are created without clicking on Page content (ex, liking the Page from timeline) are not included. (Unique Users)',\n",
       " 'Daily Page Consumptions': 'Daily: The number of clicks on any of your content. Stories generated without clicks on page content (e.g., liking the page in Timeline) are not included. (Total Count)',\n",
       " 'Daily Negative Feedback': 'Daily: The number of people who have given negative feedback to your Page. (Unique Users)',\n",
       " 'Daily Negative Feedback From Users': 'Daily: The number of times people have given negative feedback to your Page. (Total Count)',\n",
       " 'Daily Total Check-Ins': 'Daily: Total check-ins at your Place (Total Count)',\n",
       " 'Daily Total Check-Ins.1': 'Daily: Total check-ins at your Place (Unique Users)',\n",
       " 'Daily Total Check-Ins Using Mobile Devices': 'Daily: Total check-ins at your Place using mobile devices (Total Count)',\n",
       " 'Daily Total Check-Ins Using Mobile Devices.1': 'Daily: Total check-ins at your Place using mobile devices (Unique Users)',\n",
       " 'Daily Total Organic Views': 'Daily: Number of times a video has been viewed due to organic reach (Total Count)',\n",
       " 'Daily Total Promoted Views': 'Daily: Number of times a promoted video has been viewed for more than 3 seconds (Total Count)',\n",
       " 'Daily Total Organic 30-Second Views': 'Daily: Number of times the video has been viewed for at least 30s by organic reach (Total Count)',\n",
       " 'Daily Paid 30-Second Views': \"Daily: Number of times page's videos was viewed for 30 seconds or viewed to the end, whichever came first, after a paid promotion. (Total Count)\",\n",
       " 'Daily Total Video Views': 'Daily: Total number of times videos have been viewed for more than 3 seconds. (Total Count)',\n",
       " 'Daily Total Auto-Played Views': 'Daily: Number of times an auto-played video has been viewed for more than 3 seconds (Total Count)',\n",
       " 'Daily Total Clicked Views': 'Daily: Number of times a video has been viewed after the user clicked play (Total Count)',\n",
       " 'Daily Video Repeats': 'Daily: Number of times the video has been seen outside the first play (Total Count)',\n",
       " 'Daily Total Unique Video Views': 'Daily: Metric showing videos played for unique people for more than 3 seconds aggregated at the page level (Unique Users)',\n",
       " 'Daily Total 30-Second Views': \"Daily: Total number of times page's videos was viewed for at least 30 seconds. (Total Count)\",\n",
       " 'Daily Auto-Played 30-Second Views': \"Daily: Number of times your page's videos started automatically playing and people viewed it for 30 seconds or to the end, whichever came first. (Total Count)\",\n",
       " 'Daily Total Clicked 30-Second Views': 'Daily: Number of times a video has been viewed for at least 30s after the user clicked play (Total Count)',\n",
       " 'Daily Total 30-Second Repeats': 'Daily: Number of times a video has been viewed for at least 30s outside the first play (Total Count)',\n",
       " 'Daily Total Unique 30-Second Views': 'Daily: Metric showing videos played for unique people for at least 30 seconds aggregated at the page level (Unique Users)',\n",
       " 'Daily Total: total action count per Page': \"Daily: The number of clicks on your Page's contact info and call-to-action button.\",\n",
       " 'Daily Total get direction click count per Page': 'Daily: Total get direction click count per Page',\n",
       " 'Daily Total get direction click count per Page.1': 'Daily: Total get direction click count per Page  (Unique Users)',\n",
       " 'Daily Total phone calls click count per Page': 'Daily: Total phone calls click count per Page',\n",
       " 'Daily Total phone calls click count per Page.1': 'Daily: Total phone calls click count per Page (Unique Users)',\n",
       " 'Daily Total website click count per Page': 'Daily: Total website click count per Page',\n",
       " 'Daily Total website click count per Page.1': 'Daily: Total website click count per Page (Unique Users)',\n",
       " 'Daily Like Sources - api': 'Daily: The number of people who liked your Page, broken down by the most common places where people can like your Page. (Unique Users)',\n",
       " 'Daily Total Frequency Distribution - 1': 'Daily: The number of people your Page reached broken down by how many times people saw any content about your Page. (Unique Users)',\n",
       " 'Daily Page Posts Frequency Distribution - 1': 'Daily: The number of people who saw your Page posts, broken down by how many times people saw your posts. (Unique Users)',\n",
       " 'Daily Talking About This By Story Type - checkin': 'Daily: The number of people talking about your Page, by story type. (Unique Users)',\n",
       " 'Daily Page Stories By Story Type - checkin': 'Daily: The number of stories about your Page by story type. (Total Count)',\n",
       " 'Daily Page Consumptions By Type - button clicks': 'Daily: The number of clicks on any of your content, by type. Stories generated without clicks on page content (e.g., liking the page in Timeline) are not included. (Total Count)',\n",
       " 'Daily Demographics: People Talking About This - F.18-24': 'Daily: The number of People Talking About the Page by user age and gender (Unique Users)',\n",
       " 'Daily Country: People Talking About This - AT': 'Daily: The number of People Talking About the Page by user country (Unique Users)',\n",
       " 'Daily City: People Talking About This - Évian-les-Bains': 'Daily: The number of People Talking About the Page by user city. (Unique Users)',\n",
       " 'Daily Language: People Talking About This - de_DE': 'Daily: The number of People Talking About the Page by user language. (Unique Users)',\n",
       " 'Daily Logged-in Tab Views - about': 'Daily: Tabs on your Page that were viewed when logged-in users visited your Page. (Unique Users)',\n",
       " 'Daily External Referrers - https://5ngr5.r.a.d.sendibm1.com/': 'Daily: Top referring external domains sending traffic to your Page (Total Count)',\n",
       " 'Daily Negative feedback by type - hide_all_clicks': 'Daily: The number of people who have given negative feedback to your Page, by type. (Unique Users)',\n",
       " 'Daily Negative Feedback From Users - hide_all_clicks': 'Daily: The number of times people have given negative feedback to your Page, by type. (Total Count)',\n",
       " 'Daily Positive Feedback From Users - answer': 'Daily: The number of times people have given positive feedback to your Page, by type. (Total Count)',\n",
       " 'Daily Positive Feedback From Users - answer.1': 'Daily: The number of times people have given positive feedback to your Page, by type. (Unique Users)',\n",
       " 'Daily Liked and Online - 0': 'Daily: The number of people who liked your Page and when they are online in PST/PDT (Unique Users)',\n",
       " 'Daily Total get direction click count per Page by site - API': 'Daily: Total get direction click count per Page by site (Unique Users)',\n",
       " 'Daily Total phone calls click count per Page by site - API': 'Daily: Total phone calls click count per Page by site (Unique Users)',\n",
       " 'Daily Total website click count per Page by site - API': 'Daily: Total website click count per Page by site (Unique Users)',\n",
       " 'Daily Total get direction click count per Page by age and gender - 13-17.F': 'Daily: Total get direction click count per Page by age and gender (Unique Users)',\n",
       " 'Daily Total phone calls click count per Page by age and gender - 13-17.F': 'Daily: Total phone calls click count per Page by age and gender (Unique Users)',\n",
       " 'Daily Total web site click count per Page by age and gender - 13-17.F': 'Daily: Total web site click count per Page by age and gender (Unique Users)'}"
      ]
     },
     "execution_count": 11,
     "metadata": {},
     "output_type": "execute_result"
    }
   ],
   "source": [
    "description"
   ]
  },
  {
   "cell_type": "code",
   "execution_count": 12,
   "metadata": {},
   "outputs": [
    {
     "data": {
      "text/html": [
       "<div>\n",
       "<style scoped>\n",
       "    .dataframe tbody tr th:only-of-type {\n",
       "        vertical-align: middle;\n",
       "    }\n",
       "\n",
       "    .dataframe tbody tr th {\n",
       "        vertical-align: top;\n",
       "    }\n",
       "\n",
       "    .dataframe thead th {\n",
       "        text-align: right;\n",
       "    }\n",
       "</style>\n",
       "<table border=\"1\" class=\"dataframe\">\n",
       "  <thead>\n",
       "    <tr style=\"text-align: right;\">\n",
       "      <th></th>\n",
       "      <th>Date</th>\n",
       "      <th>Daily New Likes</th>\n",
       "      <th>Daily Unlikes</th>\n",
       "      <th>Daily Page Engaged Users</th>\n",
       "      <th>Daily Total Reach</th>\n",
       "      <th>Daily Organic Reach</th>\n",
       "      <th>Daily Paid Reach</th>\n",
       "      <th>Daily Viral Reach</th>\n",
       "      <th>Daily Total Impressions</th>\n",
       "      <th>Daily Organic impressions</th>\n",
       "      <th>...</th>\n",
       "      <th>Daily City: People Talking About This - Tournai, Belgique</th>\n",
       "      <th>Daily City: People Talking About This - Valloire</th>\n",
       "      <th>Daily City: People Talking About This - Villeneuve-d'Ascq</th>\n",
       "      <th>Daily Logged-in Tab Views - (null)</th>\n",
       "      <th>Daily External Referrers - https://refyld.com/</th>\n",
       "      <th>Daily External Referrers - https://refyld.com/blogs/journal/plastique-et-crise-climatique</th>\n",
       "      <th>Daily External Referrers - https://refyld.com/challenge</th>\n",
       "      <th>Daily External Referrers - https://refyld.com/pages/ladhesion</th>\n",
       "      <th>Daily External Referrers - https://refyld.com/pages/quisommes-nous</th>\n",
       "      <th>Daily External Referrers - https://www.okpal.com/refyld-la-qualite-accessible-a-tous-tes/?_ga=2.263060556.111209855.1609942885-1715629192.1609942885</th>\n",
       "    </tr>\n",
       "  </thead>\n",
       "  <tbody>\n",
       "    <tr>\n",
       "      <th>0</th>\n",
       "      <td>NaN</td>\n",
       "      <td>Daily: The number of new people who have liked...</td>\n",
       "      <td>Daily: The number of Unlikes of your Page (Uni...</td>\n",
       "      <td>Daily: The number of people who engaged with y...</td>\n",
       "      <td>Daily: The number of people who had any conten...</td>\n",
       "      <td>Daily: The number of people who had any conten...</td>\n",
       "      <td>Daily: The number of people who had any conten...</td>\n",
       "      <td>Daily:  The number of people who had any conte...</td>\n",
       "      <td>Daily: The number of times any content from yo...</td>\n",
       "      <td>Daily: The number of times any content from yo...</td>\n",
       "      <td>...</td>\n",
       "      <td>NaN</td>\n",
       "      <td>NaN</td>\n",
       "      <td>NaN</td>\n",
       "      <td>NaN</td>\n",
       "      <td>NaN</td>\n",
       "      <td>NaN</td>\n",
       "      <td>NaN</td>\n",
       "      <td>NaN</td>\n",
       "      <td>NaN</td>\n",
       "      <td>NaN</td>\n",
       "    </tr>\n",
       "    <tr>\n",
       "      <th>93</th>\n",
       "      <td>NaN</td>\n",
       "      <td>Daily: The number of new people who have liked...</td>\n",
       "      <td>Daily: The number of Unlikes of your Page (Uni...</td>\n",
       "      <td>Daily: The number of people who engaged with y...</td>\n",
       "      <td>Daily: The number of people who had any conten...</td>\n",
       "      <td>Daily: The number of people who had any conten...</td>\n",
       "      <td>Daily: The number of people who had any conten...</td>\n",
       "      <td>Daily:  The number of people who had any conte...</td>\n",
       "      <td>Daily: The number of times any content from yo...</td>\n",
       "      <td>Daily: The number of times any content from yo...</td>\n",
       "      <td>...</td>\n",
       "      <td>NaN</td>\n",
       "      <td>NaN</td>\n",
       "      <td>NaN</td>\n",
       "      <td>Daily: Tabs on your Page that were viewed when...</td>\n",
       "      <td>NaN</td>\n",
       "      <td>NaN</td>\n",
       "      <td>NaN</td>\n",
       "      <td>NaN</td>\n",
       "      <td>NaN</td>\n",
       "      <td>NaN</td>\n",
       "    </tr>\n",
       "  </tbody>\n",
       "</table>\n",
       "<p>2 rows × 716 columns</p>\n",
       "</div>"
      ],
      "text/plain": [
       "   Date                                    Daily New Likes  \\\n",
       "0   NaN  Daily: The number of new people who have liked...   \n",
       "93  NaN  Daily: The number of new people who have liked...   \n",
       "\n",
       "                                        Daily Unlikes  \\\n",
       "0   Daily: The number of Unlikes of your Page (Uni...   \n",
       "93  Daily: The number of Unlikes of your Page (Uni...   \n",
       "\n",
       "                             Daily Page Engaged Users  \\\n",
       "0   Daily: The number of people who engaged with y...   \n",
       "93  Daily: The number of people who engaged with y...   \n",
       "\n",
       "                                    Daily Total Reach  \\\n",
       "0   Daily: The number of people who had any conten...   \n",
       "93  Daily: The number of people who had any conten...   \n",
       "\n",
       "                                  Daily Organic Reach  \\\n",
       "0   Daily: The number of people who had any conten...   \n",
       "93  Daily: The number of people who had any conten...   \n",
       "\n",
       "                                     Daily Paid Reach  \\\n",
       "0   Daily: The number of people who had any conten...   \n",
       "93  Daily: The number of people who had any conten...   \n",
       "\n",
       "                                    Daily Viral Reach  \\\n",
       "0   Daily:  The number of people who had any conte...   \n",
       "93  Daily:  The number of people who had any conte...   \n",
       "\n",
       "                              Daily Total Impressions  \\\n",
       "0   Daily: The number of times any content from yo...   \n",
       "93  Daily: The number of times any content from yo...   \n",
       "\n",
       "                            Daily Organic impressions  ...  \\\n",
       "0   Daily: The number of times any content from yo...  ...   \n",
       "93  Daily: The number of times any content from yo...  ...   \n",
       "\n",
       "   Daily City: People Talking About This - Tournai, Belgique  \\\n",
       "0                                                 NaN          \n",
       "93                                                NaN          \n",
       "\n",
       "   Daily City: People Talking About This - Valloire  \\\n",
       "0                                               NaN   \n",
       "93                                              NaN   \n",
       "\n",
       "   Daily City: People Talking About This - Villeneuve-d'Ascq  \\\n",
       "0                                                 NaN          \n",
       "93                                                NaN          \n",
       "\n",
       "                   Daily Logged-in Tab Views - (null)  \\\n",
       "0                                                 NaN   \n",
       "93  Daily: Tabs on your Page that were viewed when...   \n",
       "\n",
       "   Daily External Referrers - https://refyld.com/  \\\n",
       "0                                             NaN   \n",
       "93                                            NaN   \n",
       "\n",
       "   Daily External Referrers - https://refyld.com/blogs/journal/plastique-et-crise-climatique  \\\n",
       "0                                                 NaN                                          \n",
       "93                                                NaN                                          \n",
       "\n",
       "   Daily External Referrers - https://refyld.com/challenge  \\\n",
       "0                                                 NaN        \n",
       "93                                                NaN        \n",
       "\n",
       "   Daily External Referrers - https://refyld.com/pages/ladhesion  \\\n",
       "0                                                 NaN              \n",
       "93                                                NaN              \n",
       "\n",
       "   Daily External Referrers - https://refyld.com/pages/quisommes-nous  \\\n",
       "0                                                 NaN                   \n",
       "93                                                NaN                   \n",
       "\n",
       "   Daily External Referrers - https://www.okpal.com/refyld-la-qualite-accessible-a-tous-tes/?_ga=2.263060556.111209855.1609942885-1715629192.1609942885  \n",
       "0                                                 NaN                                                                                                    \n",
       "93                                                NaN                                                                                                    \n",
       "\n",
       "[2 rows x 716 columns]"
      ]
     },
     "execution_count": 12,
     "metadata": {},
     "output_type": "execute_result"
    }
   ],
   "source": [
    "null_rows = df_day.loc[df_day['Date'].isnull()]\n",
    "null_rows"
   ]
  },
  {
   "cell_type": "markdown",
   "metadata": {},
   "source": [
    "#### The first row has no usufull information lets drop it"
   ]
  },
  {
   "cell_type": "code",
   "execution_count": 13,
   "metadata": {},
   "outputs": [],
   "source": [
    "df_day.drop([df_day.index[0], df_day.index[93]], axis = 0, inplace=True) "
   ]
  },
  {
   "cell_type": "markdown",
   "metadata": {},
   "source": [
    "#### Lets reset the index because they are weird"
   ]
  },
  {
   "cell_type": "code",
   "execution_count": 14,
   "metadata": {},
   "outputs": [],
   "source": [
    "df_day.reset_index(drop = True, inplace=True)"
   ]
  },
  {
   "cell_type": "markdown",
   "metadata": {},
   "source": [
    "#### Lets inverse the order to have the news dates in top"
   ]
  },
  {
   "cell_type": "code",
   "execution_count": 15,
   "metadata": {},
   "outputs": [],
   "source": [
    "df_day = df_day.reindex(index=df_day.index[::-1])\n"
   ]
  },
  {
   "cell_type": "markdown",
   "metadata": {},
   "source": [
    "#### And reindex it encore"
   ]
  },
  {
   "cell_type": "code",
   "execution_count": 16,
   "metadata": {},
   "outputs": [],
   "source": [
    "df_day.reset_index(drop = True, inplace=True)"
   ]
  },
  {
   "cell_type": "code",
   "execution_count": 17,
   "metadata": {},
   "outputs": [
    {
     "data": {
      "text/html": [
       "<div>\n",
       "<style scoped>\n",
       "    .dataframe tbody tr th:only-of-type {\n",
       "        vertical-align: middle;\n",
       "    }\n",
       "\n",
       "    .dataframe tbody tr th {\n",
       "        vertical-align: top;\n",
       "    }\n",
       "\n",
       "    .dataframe thead th {\n",
       "        text-align: right;\n",
       "    }\n",
       "</style>\n",
       "<table border=\"1\" class=\"dataframe\">\n",
       "  <thead>\n",
       "    <tr style=\"text-align: right;\">\n",
       "      <th></th>\n",
       "      <th>Date</th>\n",
       "      <th>Daily New Likes</th>\n",
       "      <th>Daily Unlikes</th>\n",
       "      <th>Daily Page Engaged Users</th>\n",
       "      <th>Daily Total Reach</th>\n",
       "      <th>Daily Organic Reach</th>\n",
       "      <th>Daily Paid Reach</th>\n",
       "      <th>Daily Viral Reach</th>\n",
       "      <th>Daily Total Impressions</th>\n",
       "      <th>Daily Organic impressions</th>\n",
       "      <th>...</th>\n",
       "      <th>Daily City: People Talking About This - Tournai, Belgique</th>\n",
       "      <th>Daily City: People Talking About This - Valloire</th>\n",
       "      <th>Daily City: People Talking About This - Villeneuve-d'Ascq</th>\n",
       "      <th>Daily Logged-in Tab Views - (null)</th>\n",
       "      <th>Daily External Referrers - https://refyld.com/</th>\n",
       "      <th>Daily External Referrers - https://refyld.com/blogs/journal/plastique-et-crise-climatique</th>\n",
       "      <th>Daily External Referrers - https://refyld.com/challenge</th>\n",
       "      <th>Daily External Referrers - https://refyld.com/pages/ladhesion</th>\n",
       "      <th>Daily External Referrers - https://refyld.com/pages/quisommes-nous</th>\n",
       "      <th>Daily External Referrers - https://www.okpal.com/refyld-la-qualite-accessible-a-tous-tes/?_ga=2.263060556.111209855.1609942885-1715629192.1609942885</th>\n",
       "    </tr>\n",
       "  </thead>\n",
       "  <tbody>\n",
       "    <tr>\n",
       "      <th>0</th>\n",
       "      <td>2021-03-28</td>\n",
       "      <td>NaN</td>\n",
       "      <td>NaN</td>\n",
       "      <td>139</td>\n",
       "      <td>10267</td>\n",
       "      <td>41</td>\n",
       "      <td>10221</td>\n",
       "      <td>16</td>\n",
       "      <td>10509</td>\n",
       "      <td>99</td>\n",
       "      <td>...</td>\n",
       "      <td>NaN</td>\n",
       "      <td>NaN</td>\n",
       "      <td>NaN</td>\n",
       "      <td>NaN</td>\n",
       "      <td>NaN</td>\n",
       "      <td>NaN</td>\n",
       "      <td>NaN</td>\n",
       "      <td>NaN</td>\n",
       "      <td>NaN</td>\n",
       "      <td>NaN</td>\n",
       "    </tr>\n",
       "    <tr>\n",
       "      <th>1</th>\n",
       "      <td>2021-03-27</td>\n",
       "      <td>NaN</td>\n",
       "      <td>NaN</td>\n",
       "      <td>147</td>\n",
       "      <td>8199</td>\n",
       "      <td>61</td>\n",
       "      <td>8145</td>\n",
       "      <td>19</td>\n",
       "      <td>8480</td>\n",
       "      <td>86</td>\n",
       "      <td>...</td>\n",
       "      <td>NaN</td>\n",
       "      <td>NaN</td>\n",
       "      <td>1</td>\n",
       "      <td>NaN</td>\n",
       "      <td>NaN</td>\n",
       "      <td>NaN</td>\n",
       "      <td>NaN</td>\n",
       "      <td>NaN</td>\n",
       "      <td>NaN</td>\n",
       "      <td>NaN</td>\n",
       "    </tr>\n",
       "    <tr>\n",
       "      <th>2</th>\n",
       "      <td>2021-03-26</td>\n",
       "      <td>NaN</td>\n",
       "      <td>NaN</td>\n",
       "      <td>54</td>\n",
       "      <td>3815</td>\n",
       "      <td>246</td>\n",
       "      <td>3578</td>\n",
       "      <td>28</td>\n",
       "      <td>4245</td>\n",
       "      <td>320</td>\n",
       "      <td>...</td>\n",
       "      <td>NaN</td>\n",
       "      <td>NaN</td>\n",
       "      <td>NaN</td>\n",
       "      <td>NaN</td>\n",
       "      <td>NaN</td>\n",
       "      <td>NaN</td>\n",
       "      <td>NaN</td>\n",
       "      <td>NaN</td>\n",
       "      <td>NaN</td>\n",
       "      <td>NaN</td>\n",
       "    </tr>\n",
       "    <tr>\n",
       "      <th>3</th>\n",
       "      <td>2021-03-25</td>\n",
       "      <td>NaN</td>\n",
       "      <td>NaN</td>\n",
       "      <td>80</td>\n",
       "      <td>6859</td>\n",
       "      <td>91</td>\n",
       "      <td>6744</td>\n",
       "      <td>38</td>\n",
       "      <td>7306</td>\n",
       "      <td>171</td>\n",
       "      <td>...</td>\n",
       "      <td>NaN</td>\n",
       "      <td>NaN</td>\n",
       "      <td>NaN</td>\n",
       "      <td>NaN</td>\n",
       "      <td>NaN</td>\n",
       "      <td>NaN</td>\n",
       "      <td>NaN</td>\n",
       "      <td>NaN</td>\n",
       "      <td>NaN</td>\n",
       "      <td>NaN</td>\n",
       "    </tr>\n",
       "    <tr>\n",
       "      <th>4</th>\n",
       "      <td>2021-03-24</td>\n",
       "      <td>NaN</td>\n",
       "      <td>NaN</td>\n",
       "      <td>116</td>\n",
       "      <td>7567</td>\n",
       "      <td>230</td>\n",
       "      <td>7413</td>\n",
       "      <td>31</td>\n",
       "      <td>7994</td>\n",
       "      <td>290</td>\n",
       "      <td>...</td>\n",
       "      <td>NaN</td>\n",
       "      <td>NaN</td>\n",
       "      <td>NaN</td>\n",
       "      <td>NaN</td>\n",
       "      <td>NaN</td>\n",
       "      <td>NaN</td>\n",
       "      <td>NaN</td>\n",
       "      <td>NaN</td>\n",
       "      <td>1</td>\n",
       "      <td>NaN</td>\n",
       "    </tr>\n",
       "    <tr>\n",
       "      <th>...</th>\n",
       "      <td>...</td>\n",
       "      <td>...</td>\n",
       "      <td>...</td>\n",
       "      <td>...</td>\n",
       "      <td>...</td>\n",
       "      <td>...</td>\n",
       "      <td>...</td>\n",
       "      <td>...</td>\n",
       "      <td>...</td>\n",
       "      <td>...</td>\n",
       "      <td>...</td>\n",
       "      <td>...</td>\n",
       "      <td>...</td>\n",
       "      <td>...</td>\n",
       "      <td>...</td>\n",
       "      <td>...</td>\n",
       "      <td>...</td>\n",
       "      <td>...</td>\n",
       "      <td>...</td>\n",
       "      <td>...</td>\n",
       "      <td>...</td>\n",
       "    </tr>\n",
       "    <tr>\n",
       "      <th>175</th>\n",
       "      <td>2020-10-04</td>\n",
       "      <td>NaN</td>\n",
       "      <td>NaN</td>\n",
       "      <td>15</td>\n",
       "      <td>232</td>\n",
       "      <td>232</td>\n",
       "      <td>NaN</td>\n",
       "      <td>155</td>\n",
       "      <td>327</td>\n",
       "      <td>320</td>\n",
       "      <td>...</td>\n",
       "      <td>NaN</td>\n",
       "      <td>NaN</td>\n",
       "      <td>NaN</td>\n",
       "      <td>NaN</td>\n",
       "      <td>NaN</td>\n",
       "      <td>NaN</td>\n",
       "      <td>NaN</td>\n",
       "      <td>NaN</td>\n",
       "      <td>NaN</td>\n",
       "      <td>NaN</td>\n",
       "    </tr>\n",
       "    <tr>\n",
       "      <th>176</th>\n",
       "      <td>2020-10-03</td>\n",
       "      <td>1</td>\n",
       "      <td>4</td>\n",
       "      <td>52</td>\n",
       "      <td>516</td>\n",
       "      <td>513</td>\n",
       "      <td>NaN</td>\n",
       "      <td>236</td>\n",
       "      <td>880</td>\n",
       "      <td>848</td>\n",
       "      <td>...</td>\n",
       "      <td>NaN</td>\n",
       "      <td>NaN</td>\n",
       "      <td>NaN</td>\n",
       "      <td>NaN</td>\n",
       "      <td>NaN</td>\n",
       "      <td>NaN</td>\n",
       "      <td>NaN</td>\n",
       "      <td>NaN</td>\n",
       "      <td>NaN</td>\n",
       "      <td>NaN</td>\n",
       "    </tr>\n",
       "    <tr>\n",
       "      <th>177</th>\n",
       "      <td>2020-10-02</td>\n",
       "      <td>3</td>\n",
       "      <td>4</td>\n",
       "      <td>84</td>\n",
       "      <td>596</td>\n",
       "      <td>596</td>\n",
       "      <td>NaN</td>\n",
       "      <td>243</td>\n",
       "      <td>1027</td>\n",
       "      <td>971</td>\n",
       "      <td>...</td>\n",
       "      <td>NaN</td>\n",
       "      <td>NaN</td>\n",
       "      <td>NaN</td>\n",
       "      <td>NaN</td>\n",
       "      <td>NaN</td>\n",
       "      <td>NaN</td>\n",
       "      <td>NaN</td>\n",
       "      <td>NaN</td>\n",
       "      <td>NaN</td>\n",
       "      <td>NaN</td>\n",
       "    </tr>\n",
       "    <tr>\n",
       "      <th>178</th>\n",
       "      <td>2020-10-01</td>\n",
       "      <td>1</td>\n",
       "      <td>NaN</td>\n",
       "      <td>34</td>\n",
       "      <td>329</td>\n",
       "      <td>329</td>\n",
       "      <td>NaN</td>\n",
       "      <td>241</td>\n",
       "      <td>447</td>\n",
       "      <td>436</td>\n",
       "      <td>...</td>\n",
       "      <td>NaN</td>\n",
       "      <td>NaN</td>\n",
       "      <td>NaN</td>\n",
       "      <td>NaN</td>\n",
       "      <td>NaN</td>\n",
       "      <td>NaN</td>\n",
       "      <td>NaN</td>\n",
       "      <td>NaN</td>\n",
       "      <td>NaN</td>\n",
       "      <td>NaN</td>\n",
       "    </tr>\n",
       "    <tr>\n",
       "      <th>179</th>\n",
       "      <td>2020-09-30</td>\n",
       "      <td>2</td>\n",
       "      <td>1</td>\n",
       "      <td>80</td>\n",
       "      <td>753</td>\n",
       "      <td>753</td>\n",
       "      <td>NaN</td>\n",
       "      <td>460</td>\n",
       "      <td>1448</td>\n",
       "      <td>1378</td>\n",
       "      <td>...</td>\n",
       "      <td>NaN</td>\n",
       "      <td>NaN</td>\n",
       "      <td>NaN</td>\n",
       "      <td>NaN</td>\n",
       "      <td>NaN</td>\n",
       "      <td>NaN</td>\n",
       "      <td>NaN</td>\n",
       "      <td>NaN</td>\n",
       "      <td>NaN</td>\n",
       "      <td>NaN</td>\n",
       "    </tr>\n",
       "  </tbody>\n",
       "</table>\n",
       "<p>180 rows × 716 columns</p>\n",
       "</div>"
      ],
      "text/plain": [
       "           Date Daily New Likes Daily Unlikes Daily Page Engaged Users  \\\n",
       "0    2021-03-28             NaN           NaN                      139   \n",
       "1    2021-03-27             NaN           NaN                      147   \n",
       "2    2021-03-26             NaN           NaN                       54   \n",
       "3    2021-03-25             NaN           NaN                       80   \n",
       "4    2021-03-24             NaN           NaN                      116   \n",
       "..          ...             ...           ...                      ...   \n",
       "175  2020-10-04             NaN           NaN                       15   \n",
       "176  2020-10-03               1             4                       52   \n",
       "177  2020-10-02               3             4                       84   \n",
       "178  2020-10-01               1           NaN                       34   \n",
       "179  2020-09-30               2             1                       80   \n",
       "\n",
       "    Daily Total Reach Daily Organic Reach Daily Paid Reach Daily Viral Reach  \\\n",
       "0               10267                  41            10221                16   \n",
       "1                8199                  61             8145                19   \n",
       "2                3815                 246             3578                28   \n",
       "3                6859                  91             6744                38   \n",
       "4                7567                 230             7413                31   \n",
       "..                ...                 ...              ...               ...   \n",
       "175               232                 232              NaN               155   \n",
       "176               516                 513              NaN               236   \n",
       "177               596                 596              NaN               243   \n",
       "178               329                 329              NaN               241   \n",
       "179               753                 753              NaN               460   \n",
       "\n",
       "    Daily Total Impressions Daily Organic impressions  ...  \\\n",
       "0                     10509                        99  ...   \n",
       "1                      8480                        86  ...   \n",
       "2                      4245                       320  ...   \n",
       "3                      7306                       171  ...   \n",
       "4                      7994                       290  ...   \n",
       "..                      ...                       ...  ...   \n",
       "175                     327                       320  ...   \n",
       "176                     880                       848  ...   \n",
       "177                    1027                       971  ...   \n",
       "178                     447                       436  ...   \n",
       "179                    1448                      1378  ...   \n",
       "\n",
       "    Daily City: People Talking About This - Tournai, Belgique  \\\n",
       "0                                                  NaN          \n",
       "1                                                  NaN          \n",
       "2                                                  NaN          \n",
       "3                                                  NaN          \n",
       "4                                                  NaN          \n",
       "..                                                 ...          \n",
       "175                                                NaN          \n",
       "176                                                NaN          \n",
       "177                                                NaN          \n",
       "178                                                NaN          \n",
       "179                                                NaN          \n",
       "\n",
       "    Daily City: People Talking About This - Valloire  \\\n",
       "0                                                NaN   \n",
       "1                                                NaN   \n",
       "2                                                NaN   \n",
       "3                                                NaN   \n",
       "4                                                NaN   \n",
       "..                                               ...   \n",
       "175                                              NaN   \n",
       "176                                              NaN   \n",
       "177                                              NaN   \n",
       "178                                              NaN   \n",
       "179                                              NaN   \n",
       "\n",
       "    Daily City: People Talking About This - Villeneuve-d'Ascq  \\\n",
       "0                                                  NaN          \n",
       "1                                                    1          \n",
       "2                                                  NaN          \n",
       "3                                                  NaN          \n",
       "4                                                  NaN          \n",
       "..                                                 ...          \n",
       "175                                                NaN          \n",
       "176                                                NaN          \n",
       "177                                                NaN          \n",
       "178                                                NaN          \n",
       "179                                                NaN          \n",
       "\n",
       "    Daily Logged-in Tab Views - (null)  \\\n",
       "0                                  NaN   \n",
       "1                                  NaN   \n",
       "2                                  NaN   \n",
       "3                                  NaN   \n",
       "4                                  NaN   \n",
       "..                                 ...   \n",
       "175                                NaN   \n",
       "176                                NaN   \n",
       "177                                NaN   \n",
       "178                                NaN   \n",
       "179                                NaN   \n",
       "\n",
       "    Daily External Referrers - https://refyld.com/  \\\n",
       "0                                              NaN   \n",
       "1                                              NaN   \n",
       "2                                              NaN   \n",
       "3                                              NaN   \n",
       "4                                              NaN   \n",
       "..                                             ...   \n",
       "175                                            NaN   \n",
       "176                                            NaN   \n",
       "177                                            NaN   \n",
       "178                                            NaN   \n",
       "179                                            NaN   \n",
       "\n",
       "    Daily External Referrers - https://refyld.com/blogs/journal/plastique-et-crise-climatique  \\\n",
       "0                                                  NaN                                          \n",
       "1                                                  NaN                                          \n",
       "2                                                  NaN                                          \n",
       "3                                                  NaN                                          \n",
       "4                                                  NaN                                          \n",
       "..                                                 ...                                          \n",
       "175                                                NaN                                          \n",
       "176                                                NaN                                          \n",
       "177                                                NaN                                          \n",
       "178                                                NaN                                          \n",
       "179                                                NaN                                          \n",
       "\n",
       "    Daily External Referrers - https://refyld.com/challenge  \\\n",
       "0                                                  NaN        \n",
       "1                                                  NaN        \n",
       "2                                                  NaN        \n",
       "3                                                  NaN        \n",
       "4                                                  NaN        \n",
       "..                                                 ...        \n",
       "175                                                NaN        \n",
       "176                                                NaN        \n",
       "177                                                NaN        \n",
       "178                                                NaN        \n",
       "179                                                NaN        \n",
       "\n",
       "    Daily External Referrers - https://refyld.com/pages/ladhesion  \\\n",
       "0                                                  NaN              \n",
       "1                                                  NaN              \n",
       "2                                                  NaN              \n",
       "3                                                  NaN              \n",
       "4                                                  NaN              \n",
       "..                                                 ...              \n",
       "175                                                NaN              \n",
       "176                                                NaN              \n",
       "177                                                NaN              \n",
       "178                                                NaN              \n",
       "179                                                NaN              \n",
       "\n",
       "    Daily External Referrers - https://refyld.com/pages/quisommes-nous  \\\n",
       "0                                                  NaN                   \n",
       "1                                                  NaN                   \n",
       "2                                                  NaN                   \n",
       "3                                                  NaN                   \n",
       "4                                                    1                   \n",
       "..                                                 ...                   \n",
       "175                                                NaN                   \n",
       "176                                                NaN                   \n",
       "177                                                NaN                   \n",
       "178                                                NaN                   \n",
       "179                                                NaN                   \n",
       "\n",
       "    Daily External Referrers - https://www.okpal.com/refyld-la-qualite-accessible-a-tous-tes/?_ga=2.263060556.111209855.1609942885-1715629192.1609942885  \n",
       "0                                                  NaN                                                                                                    \n",
       "1                                                  NaN                                                                                                    \n",
       "2                                                  NaN                                                                                                    \n",
       "3                                                  NaN                                                                                                    \n",
       "4                                                  NaN                                                                                                    \n",
       "..                                                 ...                                                                                                    \n",
       "175                                                NaN                                                                                                    \n",
       "176                                                NaN                                                                                                    \n",
       "177                                                NaN                                                                                                    \n",
       "178                                                NaN                                                                                                    \n",
       "179                                                NaN                                                                                                    \n",
       "\n",
       "[180 rows x 716 columns]"
      ]
     },
     "execution_count": 17,
     "metadata": {},
     "output_type": "execute_result"
    }
   ],
   "source": [
    "df_day"
   ]
  },
  {
   "cell_type": "markdown",
   "metadata": {},
   "source": [
    "#### Lets check for duplicated"
   ]
  },
  {
   "cell_type": "code",
   "execution_count": 147,
   "metadata": {
    "scrolled": true
   },
   "outputs": [
    {
     "data": {
      "text/plain": [
       "0"
      ]
     },
     "execution_count": 147,
     "metadata": {},
     "output_type": "execute_result"
    }
   ],
   "source": [
    "df_day.duplicated().sum()"
   ]
  },
  {
   "cell_type": "markdown",
   "metadata": {},
   "source": [
    "#### Lets drop columns with full missing values"
   ]
  },
  {
   "cell_type": "code",
   "execution_count": 18,
   "metadata": {},
   "outputs": [
    {
     "data": {
      "text/plain": [
       "(180, 716)"
      ]
     },
     "execution_count": 18,
     "metadata": {},
     "output_type": "execute_result"
    }
   ],
   "source": [
    "df_day.shape"
   ]
  },
  {
   "cell_type": "code",
   "execution_count": 19,
   "metadata": {},
   "outputs": [],
   "source": [
    "def drop_full_null_cols(x):\n",
    "    for i in x:\n",
    "        if x[f'{i}'].isnull().sum() == x.shape[0] :\n",
    "            x.drop(f'{i}', axis = 1, inplace=True)\n",
    "    return x"
   ]
  },
  {
   "cell_type": "code",
   "execution_count": 20,
   "metadata": {
    "scrolled": true
   },
   "outputs": [],
   "source": [
    "df_day = drop_full_null_cols(df_day)\n"
   ]
  },
  {
   "cell_type": "code",
   "execution_count": 21,
   "metadata": {},
   "outputs": [],
   "source": [
    "df_day.to_csv('FB_PAGE_2020_2021.csv')\n"
   ]
  },
  {
   "cell_type": "markdown",
   "metadata": {},
   "source": [
    "## Lets get the Insights"
   ]
  },
  {
   "cell_type": "markdown",
   "metadata": {},
   "source": [
    "### Likes and Unlikes"
   ]
  },
  {
   "cell_type": "code",
   "execution_count": 22,
   "metadata": {},
   "outputs": [],
   "source": [
    "def get_likes(x):\n",
    "    l = ['Date']\n",
    "    for i in x:\n",
    "        if 'Likes' in i or 'Unlikes' in i:\n",
    "            l.append(i)\n",
    "            \n",
    "    return x[l], l[1:]"
   ]
  },
  {
   "cell_type": "code",
   "execution_count": 23,
   "metadata": {},
   "outputs": [],
   "source": [
    "df_likes, likes_cols = get_likes(df_day) "
   ]
  },
  {
   "cell_type": "code",
   "execution_count": 24,
   "metadata": {
    "scrolled": true
   },
   "outputs": [
    {
     "name": "stderr",
     "output_type": "stream",
     "text": [
      "C:\\Users\\bruna\\anaconda3\\lib\\site-packages\\pandas\\core\\frame.py:4317: SettingWithCopyWarning: \n",
      "A value is trying to be set on a copy of a slice from a DataFrame\n",
      "\n",
      "See the caveats in the documentation: https://pandas.pydata.org/pandas-docs/stable/user_guide/indexing.html#returning-a-view-versus-a-copy\n",
      "  return super().fillna(\n"
     ]
    }
   ],
   "source": [
    "df_likes.fillna(0, inplace=True)"
   ]
  },
  {
   "cell_type": "code",
   "execution_count": 25,
   "metadata": {
    "scrolled": true
   },
   "outputs": [
    {
     "name": "stderr",
     "output_type": "stream",
     "text": [
      "C:\\Users\\bruna\\anaconda3\\lib\\site-packages\\pandas\\core\\frame.py:3065: SettingWithCopyWarning: \n",
      "A value is trying to be set on a copy of a slice from a DataFrame.\n",
      "Try using .loc[row_indexer,col_indexer] = value instead\n",
      "\n",
      "See the caveats in the documentation: https://pandas.pydata.org/pandas-docs/stable/user_guide/indexing.html#returning-a-view-versus-a-copy\n",
      "  self[k1] = value[k2]\n"
     ]
    }
   ],
   "source": [
    "df_likes[['Daily New Likes', 'Daily Unlikes']] = df_likes[['Daily New Likes', 'Daily Unlikes']].astype(int)"
   ]
  },
  {
   "cell_type": "code",
   "execution_count": 27,
   "metadata": {},
   "outputs": [],
   "source": [
    "df_likes.set_index('Date', inplace=True)"
   ]
  },
  {
   "cell_type": "code",
   "execution_count": 28,
   "metadata": {
    "collapsed": true
   },
   "outputs": [
    {
     "data": {
      "text/html": [
       "<div>\n",
       "<style scoped>\n",
       "    .dataframe tbody tr th:only-of-type {\n",
       "        vertical-align: middle;\n",
       "    }\n",
       "\n",
       "    .dataframe tbody tr th {\n",
       "        vertical-align: top;\n",
       "    }\n",
       "\n",
       "    .dataframe thead th {\n",
       "        text-align: right;\n",
       "    }\n",
       "</style>\n",
       "<table border=\"1\" class=\"dataframe\">\n",
       "  <thead>\n",
       "    <tr style=\"text-align: right;\">\n",
       "      <th></th>\n",
       "      <th>Date</th>\n",
       "      <th>Page Likes</th>\n",
       "      <th>Amount</th>\n",
       "    </tr>\n",
       "  </thead>\n",
       "  <tbody>\n",
       "    <tr>\n",
       "      <th>0</th>\n",
       "      <td>2021-03-28</td>\n",
       "      <td>Daily New Likes</td>\n",
       "      <td>0</td>\n",
       "    </tr>\n",
       "    <tr>\n",
       "      <th>1</th>\n",
       "      <td>2021-03-27</td>\n",
       "      <td>Daily New Likes</td>\n",
       "      <td>0</td>\n",
       "    </tr>\n",
       "    <tr>\n",
       "      <th>2</th>\n",
       "      <td>2021-03-26</td>\n",
       "      <td>Daily New Likes</td>\n",
       "      <td>0</td>\n",
       "    </tr>\n",
       "    <tr>\n",
       "      <th>3</th>\n",
       "      <td>2021-03-25</td>\n",
       "      <td>Daily New Likes</td>\n",
       "      <td>0</td>\n",
       "    </tr>\n",
       "    <tr>\n",
       "      <th>4</th>\n",
       "      <td>2021-03-24</td>\n",
       "      <td>Daily New Likes</td>\n",
       "      <td>0</td>\n",
       "    </tr>\n",
       "    <tr>\n",
       "      <th>...</th>\n",
       "      <td>...</td>\n",
       "      <td>...</td>\n",
       "      <td>...</td>\n",
       "    </tr>\n",
       "    <tr>\n",
       "      <th>355</th>\n",
       "      <td>2020-10-04</td>\n",
       "      <td>Daily Unlikes</td>\n",
       "      <td>0</td>\n",
       "    </tr>\n",
       "    <tr>\n",
       "      <th>356</th>\n",
       "      <td>2020-10-03</td>\n",
       "      <td>Daily Unlikes</td>\n",
       "      <td>4</td>\n",
       "    </tr>\n",
       "    <tr>\n",
       "      <th>357</th>\n",
       "      <td>2020-10-02</td>\n",
       "      <td>Daily Unlikes</td>\n",
       "      <td>4</td>\n",
       "    </tr>\n",
       "    <tr>\n",
       "      <th>358</th>\n",
       "      <td>2020-10-01</td>\n",
       "      <td>Daily Unlikes</td>\n",
       "      <td>0</td>\n",
       "    </tr>\n",
       "    <tr>\n",
       "      <th>359</th>\n",
       "      <td>2020-09-30</td>\n",
       "      <td>Daily Unlikes</td>\n",
       "      <td>1</td>\n",
       "    </tr>\n",
       "  </tbody>\n",
       "</table>\n",
       "<p>360 rows × 3 columns</p>\n",
       "</div>"
      ],
      "text/plain": [
       "           Date       Page Likes  Amount\n",
       "0    2021-03-28  Daily New Likes       0\n",
       "1    2021-03-27  Daily New Likes       0\n",
       "2    2021-03-26  Daily New Likes       0\n",
       "3    2021-03-25  Daily New Likes       0\n",
       "4    2021-03-24  Daily New Likes       0\n",
       "..          ...              ...     ...\n",
       "355  2020-10-04    Daily Unlikes       0\n",
       "356  2020-10-03    Daily Unlikes       4\n",
       "357  2020-10-02    Daily Unlikes       4\n",
       "358  2020-10-01    Daily Unlikes       0\n",
       "359  2020-09-30    Daily Unlikes       1\n",
       "\n",
       "[360 rows x 3 columns]"
      ]
     },
     "execution_count": 28,
     "metadata": {},
     "output_type": "execute_result"
    }
   ],
   "source": [
    "df_likes_ = df_likes.melt(value_name='Amount', var_name= 'Page Likes',ignore_index=False).reset_index()\n",
    "\n",
    "df_likes_"
   ]
  },
  {
   "cell_type": "code",
   "execution_count": 29,
   "metadata": {
    "collapsed": true
   },
   "outputs": [
    {
     "data": {
      "text/html": [
       "<div>\n",
       "<style scoped>\n",
       "    .dataframe tbody tr th:only-of-type {\n",
       "        vertical-align: middle;\n",
       "    }\n",
       "\n",
       "    .dataframe tbody tr th {\n",
       "        vertical-align: top;\n",
       "    }\n",
       "\n",
       "    .dataframe thead th {\n",
       "        text-align: right;\n",
       "    }\n",
       "</style>\n",
       "<table border=\"1\" class=\"dataframe\">\n",
       "  <thead>\n",
       "    <tr style=\"text-align: right;\">\n",
       "      <th></th>\n",
       "      <th>Date</th>\n",
       "      <th>Page Likes</th>\n",
       "      <th>Amount</th>\n",
       "    </tr>\n",
       "  </thead>\n",
       "  <tbody>\n",
       "    <tr>\n",
       "      <th>0</th>\n",
       "      <td>2021-03-28</td>\n",
       "      <td>Daily New Likes</td>\n",
       "      <td>0</td>\n",
       "    </tr>\n",
       "    <tr>\n",
       "      <th>1</th>\n",
       "      <td>2021-03-27</td>\n",
       "      <td>Daily New Likes</td>\n",
       "      <td>0</td>\n",
       "    </tr>\n",
       "    <tr>\n",
       "      <th>2</th>\n",
       "      <td>2021-03-26</td>\n",
       "      <td>Daily New Likes</td>\n",
       "      <td>0</td>\n",
       "    </tr>\n",
       "    <tr>\n",
       "      <th>3</th>\n",
       "      <td>2021-03-25</td>\n",
       "      <td>Daily New Likes</td>\n",
       "      <td>0</td>\n",
       "    </tr>\n",
       "    <tr>\n",
       "      <th>4</th>\n",
       "      <td>2021-03-24</td>\n",
       "      <td>Daily New Likes</td>\n",
       "      <td>0</td>\n",
       "    </tr>\n",
       "    <tr>\n",
       "      <th>...</th>\n",
       "      <td>...</td>\n",
       "      <td>...</td>\n",
       "      <td>...</td>\n",
       "    </tr>\n",
       "    <tr>\n",
       "      <th>355</th>\n",
       "      <td>2020-10-04</td>\n",
       "      <td>Daily Unlikes</td>\n",
       "      <td>0</td>\n",
       "    </tr>\n",
       "    <tr>\n",
       "      <th>356</th>\n",
       "      <td>2020-10-03</td>\n",
       "      <td>Daily Unlikes</td>\n",
       "      <td>4</td>\n",
       "    </tr>\n",
       "    <tr>\n",
       "      <th>357</th>\n",
       "      <td>2020-10-02</td>\n",
       "      <td>Daily Unlikes</td>\n",
       "      <td>4</td>\n",
       "    </tr>\n",
       "    <tr>\n",
       "      <th>358</th>\n",
       "      <td>2020-10-01</td>\n",
       "      <td>Daily Unlikes</td>\n",
       "      <td>0</td>\n",
       "    </tr>\n",
       "    <tr>\n",
       "      <th>359</th>\n",
       "      <td>2020-09-30</td>\n",
       "      <td>Daily Unlikes</td>\n",
       "      <td>1</td>\n",
       "    </tr>\n",
       "  </tbody>\n",
       "</table>\n",
       "<p>360 rows × 3 columns</p>\n",
       "</div>"
      ],
      "text/plain": [
       "           Date       Page Likes  Amount\n",
       "0    2021-03-28  Daily New Likes       0\n",
       "1    2021-03-27  Daily New Likes       0\n",
       "2    2021-03-26  Daily New Likes       0\n",
       "3    2021-03-25  Daily New Likes       0\n",
       "4    2021-03-24  Daily New Likes       0\n",
       "..          ...              ...     ...\n",
       "355  2020-10-04    Daily Unlikes       0\n",
       "356  2020-10-03    Daily Unlikes       4\n",
       "357  2020-10-02    Daily Unlikes       4\n",
       "358  2020-10-01    Daily Unlikes       0\n",
       "359  2020-09-30    Daily Unlikes       1\n",
       "\n",
       "[360 rows x 3 columns]"
      ]
     },
     "execution_count": 29,
     "metadata": {},
     "output_type": "execute_result"
    }
   ],
   "source": [
    "df_likes_"
   ]
  },
  {
   "cell_type": "markdown",
   "metadata": {},
   "source": [
    "#### Lets get all the impressions\n",
    "\n",
    "Le nombre de fois où un contenu de votre Page ou la concernant s’est affiché sur l’écran d’une personne. Cela inclut les publications, les stories, les visites, les pubs, les informations sociales sur les personnes qui interagissent avec votre Page et plus encore.\n"
   ]
  },
  {
   "cell_type": "code",
   "execution_count": 30,
   "metadata": {},
   "outputs": [],
   "source": [
    "def get_impressions(x):\n",
    "    l = ['Date']\n",
    "    for i in x:\n",
    "        if 'Impressions' in i or 'impressions' in i:\n",
    "            l.append(i)\n",
    "            \n",
    "    return x[l], l[1:]"
   ]
  },
  {
   "cell_type": "code",
   "execution_count": null,
   "metadata": {},
   "outputs": [],
   "source": [
    "def get_reach(x):\n",
    "    l = ['Date']\n",
    "    for i in x:\n",
    "        if 'Reach' in i or 'reach' in i:\n",
    "            l.append(i)\n",
    "            \n",
    "    return x[l], l[1:]    "
   ]
  },
  {
   "cell_type": "code",
   "execution_count": null,
   "metadata": {},
   "outputs": [],
   "source": [
    "df_day_reach, col_day_reach = get_reach(df_day)\n",
    "df_day_reach = get_dates(df_day_reach)\n"
   ]
  },
  {
   "cell_type": "code",
   "execution_count": null,
   "metadata": {},
   "outputs": [],
   "source": [
    "df_day_reach = df_day_reach.fillna(0)"
   ]
  },
  {
   "cell_type": "code",
   "execution_count": null,
   "metadata": {},
   "outputs": [],
   "source": [
    "df_day_reach"
   ]
  },
  {
   "cell_type": "code",
   "execution_count": null,
   "metadata": {
    "scrolled": true
   },
   "outputs": [],
   "source": [
    "df_day_reach[['Daily Total Reach', 'Daily Organic Reach', 'Daily Paid Reach']] = df_day_reach[['Daily Total Reach', 'Daily Organic Reach', 'Daily Paid Reach']].astype(int)"
   ]
  },
  {
   "cell_type": "code",
   "execution_count": null,
   "metadata": {},
   "outputs": [],
   "source": [
    "day_order = ['Monday', 'Tuesday', 'Wednesday', 'Thursday', 'Friday', 'Saturday', 'Sunday']"
   ]
  },
  {
   "cell_type": "markdown",
   "metadata": {},
   "source": [
    "## Barplot about Reach Week Day"
   ]
  },
  {
   "cell_type": "code",
   "execution_count": null,
   "metadata": {},
   "outputs": [],
   "source": [
    "df_day_reach[['Daily Organic Reach', 'Daily Paid Reach']] = df_day_reach[['Daily Organic Reach', 'Daily Paid Reach']].astype(int)"
   ]
  },
  {
   "cell_type": "code",
   "execution_count": null,
   "metadata": {},
   "outputs": [],
   "source": [
    "d_reach_day = df_day_reach.groupby(['day_week'])[['Daily Organic Reach', 'Daily Paid Reach']].mean().reindex(day_order)"
   ]
  },
  {
   "cell_type": "code",
   "execution_count": null,
   "metadata": {},
   "outputs": [],
   "source": [
    "d_reach_day"
   ]
  },
  {
   "cell_type": "code",
   "execution_count": null,
   "metadata": {},
   "outputs": [],
   "source": [
    "d_reach_day_ = d_reach_day.melt(value_name='Amount', var_name= 'Type of Reach',ignore_index=False).reset_index()\n",
    "\n",
    "d_reach_day_['Percentage'] = d_reach_day_.groupby('day_week')['Amount'].apply(lambda x: x*100 /x.sum()).round(2)"
   ]
  },
  {
   "cell_type": "code",
   "execution_count": null,
   "metadata": {},
   "outputs": [],
   "source": [
    "test = pd.merge(d_reach_day_, d_imp_day_, on='day_week', how = 'left')"
   ]
  },
  {
   "cell_type": "code",
   "execution_count": null,
   "metadata": {},
   "outputs": [],
   "source": [
    "test.rename(columns={\"Amount_x\": \"Amount Type of Reach\", \"Percentage_x\" : 'Percentage Type of Reach',\n",
    "                     'Amount_y' : 'Amount Type of Impression', 'Percentage_y': 'Percentage Type of Impression'}, inplace=True)"
   ]
  },
  {
   "cell_type": "code",
   "execution_count": null,
   "metadata": {},
   "outputs": [],
   "source": [
    "test.to_csv('FB_test.csv')"
   ]
  },
  {
   "cell_type": "code",
   "execution_count": null,
   "metadata": {},
   "outputs": [],
   "source": [
    "test.columns"
   ]
  },
  {
   "cell_type": "code",
   "execution_count": null,
   "metadata": {},
   "outputs": [],
   "source": [
    "jtplot.style(theme='solarizedl', gridlines= '-.', figsize=(10,10))\n",
    "sns.barplot(data = d_reach_day, x= d_reach_day.index)"
   ]
  },
  {
   "cell_type": "code",
   "execution_count": null,
   "metadata": {},
   "outputs": [],
   "source": [
    "from matplotlib.colors import ListedColormap\n"
   ]
  },
  {
   "cell_type": "code",
   "execution_count": null,
   "metadata": {},
   "outputs": [],
   "source": [
    "jtplot.style(theme='solarizedl', gridlines= '-.', figsize=(10,10))\n",
    "my_cmap = ListedColormap(sns.color_palette('coolwarm'))\n",
    "d_reach_day.plot.bar(stacked = True, colormap = my_cmap)\n",
    "plt.legend(loc = 2, shadow = True)\n",
    "\n",
    "plt.xlabel('Day of the Week')\n",
    "plt.xticks(rotation=60)\n",
    "plt.title('Facebook Page Reach by Week Day')\n",
    "plt.savefig('Week Day Facebook Page Reach.jpg', dpi = 200)\n",
    "plt.tight_layout()\n",
    "plt.show()"
   ]
  },
  {
   "cell_type": "markdown",
   "metadata": {},
   "source": [
    "## Barplot about Reach Month"
   ]
  },
  {
   "cell_type": "code",
   "execution_count": null,
   "metadata": {},
   "outputs": [],
   "source": [
    "month_order = ['October','November', 'December', 'January', 'February', 'March']"
   ]
  },
  {
   "cell_type": "code",
   "execution_count": null,
   "metadata": {},
   "outputs": [],
   "source": [
    "d_reach_month = df_day_reach.groupby(['month'])[['Daily Organic Reach', 'Daily Paid Reach']].mean().reindex(month_order)"
   ]
  },
  {
   "cell_type": "code",
   "execution_count": null,
   "metadata": {},
   "outputs": [],
   "source": [
    "jtplot.style(theme='solarizedl', gridlines= '-.', figsize=(10,10))\n",
    "\n",
    "d_reach_month.plot.bar(stacked = True, colormap = my_cmap)\n",
    "plt.xticks(rotation=40)\n",
    "plt.xlabel('Months')\n",
    "plt.title('Facebook Page Reach by Month')\n",
    "plt.legend(shadow = True)\n",
    "\n",
    "plt.savefig('Monthly Daily Facebook Page Reach.jpg', dpi = 200)\n",
    "\n",
    "plt.tight_layout()\n",
    "plt.show()"
   ]
  },
  {
   "cell_type": "code",
   "execution_count": null,
   "metadata": {},
   "outputs": [],
   "source": [
    "df_day_imp, cols_imp = get_impressions(df_day)"
   ]
  },
  {
   "cell_type": "code",
   "execution_count": null,
   "metadata": {},
   "outputs": [],
   "source": [
    "df_day_imp = get_dates(df_day_imp)"
   ]
  },
  {
   "cell_type": "code",
   "execution_count": null,
   "metadata": {},
   "outputs": [],
   "source": [
    "df_day_imp = df_day_imp.fillna(0)"
   ]
  },
  {
   "cell_type": "code",
   "execution_count": null,
   "metadata": {},
   "outputs": [],
   "source": [
    "df_day_imp.columns"
   ]
  },
  {
   "cell_type": "code",
   "execution_count": null,
   "metadata": {},
   "outputs": [],
   "source": [
    "df_day_imp[['Daily Organic impressions', 'Daily Paid Impressions']] = df_day_imp[['Daily Organic impressions', 'Daily Paid Impressions']].astype(int)"
   ]
  },
  {
   "cell_type": "code",
   "execution_count": null,
   "metadata": {},
   "outputs": [],
   "source": [
    "d_imp_day =  df_day_imp.groupby(['day_week'])[['Daily Organic impressions', 'Daily Paid Impressions']].mean().reindex(day_order)"
   ]
  },
  {
   "cell_type": "code",
   "execution_count": null,
   "metadata": {},
   "outputs": [],
   "source": [
    "d_imp_day_ = d_imp_day.melt(value_name='Amount', var_name= 'Type of Impression',ignore_index=False).reset_index()"
   ]
  },
  {
   "cell_type": "code",
   "execution_count": null,
   "metadata": {},
   "outputs": [],
   "source": [
    "d_imp_day_['Percentage'] = d_imp_day_.groupby('day_week')['Amount'].apply(lambda x: x*100 /x.sum()).round(2)"
   ]
  },
  {
   "cell_type": "code",
   "execution_count": null,
   "metadata": {},
   "outputs": [],
   "source": [
    "d_imp_day_"
   ]
  },
  {
   "cell_type": "code",
   "execution_count": null,
   "metadata": {},
   "outputs": [],
   "source": [
    "import plotly.express as px\n"
   ]
  },
  {
   "cell_type": "code",
   "execution_count": null,
   "metadata": {},
   "outputs": [],
   "source": [
    "d_imp_day_.to_csv('Fb_Impressions.csv')"
   ]
  },
  {
   "cell_type": "code",
   "execution_count": null,
   "metadata": {},
   "outputs": [],
   "source": [
    "fig = px.bar(data_frame= d_imp_day_, x = 'day_week', y = 'Amount',color = 'Type of Impression',\n",
    "             hover_data=['Percentage'])\n",
    "fig.show()"
   ]
  },
  {
   "cell_type": "code",
   "execution_count": null,
   "metadata": {},
   "outputs": [],
   "source": [
    "description"
   ]
  },
  {
   "cell_type": "markdown",
   "metadata": {},
   "source": [
    "Reach : The number of people who had any content from your Page or about your Page enter their screen. This includes posts, check-ins, ads, social information from people who interact with your Page and more.\n",
    "\n",
    "Imp : The number of times any content from your Page or about your Page entered a person's screen. This includes posts, stories, check-ins, ads, social information from people who interact with your Page and more. (Total Count)\"\n",
    "\n",
    "\n"
   ]
  },
  {
   "cell_type": "markdown",
   "metadata": {},
   "source": [
    "## Barplot  about Impressions by Week day "
   ]
  },
  {
   "cell_type": "code",
   "execution_count": null,
   "metadata": {},
   "outputs": [],
   "source": [
    "jtplot.style(theme='solarizedl', gridlines= '-.', figsize=(10,10))\n",
    "\n",
    "d_imp_day.plot.bar(stacked = True , colormap= my_cmap)\n",
    "plt.xlabel('Day of the Week')\n",
    "plt.xticks(rotation=60)\n",
    "plt.title('Facebook Page Impressions by Week Day')\n",
    "plt.legend('')\n",
    "\n",
    "plt.savefig('Week Day Daily Facebook Page Impressions.jpg', dpi = 200)\n",
    "\n",
    "plt.tight_layout()\n",
    "plt.show()"
   ]
  },
  {
   "cell_type": "markdown",
   "metadata": {},
   "source": [
    "## Barplot  about Impressions by Month"
   ]
  },
  {
   "cell_type": "code",
   "execution_count": null,
   "metadata": {},
   "outputs": [],
   "source": [
    "d_imp_month =  df_day_imp.groupby(['month'])[['Daily Organic impressions', 'Daily Paid Impressions']].mean().reindex(month_order)"
   ]
  },
  {
   "cell_type": "code",
   "execution_count": null,
   "metadata": {},
   "outputs": [],
   "source": [
    "d_imp_month.plot.bar(stacked = True, colormap = my_cmap )\n",
    "jtplot.style(theme='solarizedl', gridlines= '-.', figsize=(10,10))\n",
    "plt.xticks(rotation=40)\n",
    "plt.xlabel('Months')\n",
    "plt.legend(shadow = True)\n",
    "plt.title('Daily Facebook Page Impressions by Month')\n",
    "plt.savefig('Monthly Daily Facebook Page Impressions.jpg', dpi = 200)\n",
    "plt.tight_layout()\n",
    "plt.show()"
   ]
  },
  {
   "cell_type": "code",
   "execution_count": null,
   "metadata": {},
   "outputs": [],
   "source": [
    "df_day.drop(cols_imp, axis = 1, inplace=True)"
   ]
  },
  {
   "cell_type": "code",
   "execution_count": null,
   "metadata": {},
   "outputs": [],
   "source": [
    "df_day.drop(col_day_reach, axis = 1, inplace=True)"
   ]
  },
  {
   "cell_type": "markdown",
   "metadata": {},
   "source": [
    "## Lineplot about User Engagement"
   ]
  },
  {
   "cell_type": "code",
   "execution_count": null,
   "metadata": {},
   "outputs": [],
   "source": [
    "week_order = list(np.array(range(40, 54)))+list(np.array(range(1, 13)))\n"
   ]
  },
  {
   "cell_type": "code",
   "execution_count": null,
   "metadata": {
    "scrolled": true
   },
   "outputs": [],
   "source": [
    "df_day = get_dates(df_day)"
   ]
  },
  {
   "cell_type": "code",
   "execution_count": null,
   "metadata": {},
   "outputs": [],
   "source": [
    "df_day = df_day.fillna(0)"
   ]
  },
  {
   "cell_type": "code",
   "execution_count": null,
   "metadata": {},
   "outputs": [],
   "source": [
    "df_day.loc[(df_day['year']==2021) & (df_day['week']==53), 'week'] = 1"
   ]
  },
  {
   "cell_type": "code",
   "execution_count": null,
   "metadata": {},
   "outputs": [],
   "source": [
    "df_day['Daily Page Engaged Users'] = df_day['Daily Page Engaged Users'].astype(int)"
   ]
  },
  {
   "cell_type": "code",
   "execution_count": null,
   "metadata": {},
   "outputs": [],
   "source": []
  },
  {
   "cell_type": "code",
   "execution_count": null,
   "metadata": {
    "scrolled": true
   },
   "outputs": [],
   "source": [
    "df_day_engaged = df_day.groupby(['week'])[['year','Daily Page Engaged Users']].mean().reindex(week_order)"
   ]
  },
  {
   "cell_type": "code",
   "execution_count": null,
   "metadata": {},
   "outputs": [],
   "source": [
    "df_day_engaged"
   ]
  },
  {
   "cell_type": "code",
   "execution_count": null,
   "metadata": {},
   "outputs": [],
   "source": [
    "cols_engage = [i for i in df_day if 'Engaged' in i]"
   ]
  },
  {
   "cell_type": "code",
   "execution_count": null,
   "metadata": {},
   "outputs": [],
   "source": [
    "df_day['Daily Logged-in Page Views'] = df_day['Daily Logged-in Page Views'].astype(int)\n",
    "\n",
    "df_day_logged = df_day.groupby(['week'])[['year','Daily Logged-in Page Views']].mean().reindex(week_order)\n"
   ]
  },
  {
   "cell_type": "code",
   "execution_count": null,
   "metadata": {
    "scrolled": true
   },
   "outputs": [],
   "source": [
    "\n",
    "df_day_logged"
   ]
  },
  {
   "cell_type": "code",
   "execution_count": null,
   "metadata": {
    "scrolled": true
   },
   "outputs": [],
   "source": [
    "jtplot.style(theme='solarizedl', gridlines= '-.', figsize=(15,10))\n",
    "\n",
    "#fig, axs = plt.subplots(1,2, sharey=True)\n",
    "\n",
    "sns.lineplot(data = df_day_engaged, x = 'week', y = 'Daily Page Engaged Users')\n",
    "sns.lineplot(data = df_day_logged, x = 'week', y = 'Daily Logged-in Page Views')\n",
    "# il faut mettre legend\n",
    "plt.ylabel('Number')\n",
    "plt.legend(['Page Engage', 'Page Views'], shadow = True)\n",
    "plt.title('The number of people who engaged with your Page', loc = 'left')\n",
    "plt.tight_layout()\n",
    "plt.show()"
   ]
  },
  {
   "cell_type": "code",
   "execution_count": null,
   "metadata": {},
   "outputs": [],
   "source": [
    "description"
   ]
  },
  {
   "cell_type": "markdown",
   "metadata": {},
   "source": [
    "Engage : The number of people who engaged with your Page. Engagement includes any click or story created. (Unique Users)\n",
    "    \n",
    "Logged-in : Daily: Page Views from users logged into Facebook (Total Count)"
   ]
  },
  {
   "cell_type": "code",
   "execution_count": null,
   "metadata": {},
   "outputs": [],
   "source": [
    "jtplot.style(theme='solarizedl', gridlines= '-.', figsize=(15,10))\n",
    "\n",
    "fig, axs = plt.subplots(1,2, sharey=True)\n",
    "\n",
    "axs[0].set_title('The Number of People Who', loc='right')\n",
    "axs[1].set_title('Engaged With Your Page', loc='left')\n",
    "\n",
    "sns.lineplot(data = df_day_engaged.query('year == 2020'), x = 'week', y = 'Daily Page Engaged Users', ax=axs[0], palette='Set2')\n",
    "axs[0].set_ylabel('Value')\n",
    "sns.lineplot(data = df_day_engaged.query('year == 2021'), x = 'week', y = 'Daily Page Engaged Users', ax=axs[1], palette='Set2')\n",
    "\n",
    "sns.lineplot(data = df_day_logged.query('year == 2020'), x = 'week', y = 'Daily Logged-in Page Views', ax=axs[0], palette='Set2')\n",
    "sns.lineplot(data = df_day_logged.query('year == 2021'), x = 'week', y = 'Daily Logged-in Page Views', ax=axs[1], palette='Set2')\n",
    "# il faut mettre legend\n",
    "plt.legend(['Page Engage', 'Page Views'], shadow = True, fontsize = 15.0)\n",
    "plt.savefig('Number of People who Engaged with your Page.jpg', dpi=200)\n",
    "plt.tight_layout()\n",
    "plt.show()"
   ]
  },
  {
   "cell_type": "code",
   "execution_count": null,
   "metadata": {},
   "outputs": [],
   "source": [
    "def get_count(x):\n",
    "    l = ['Date']\n",
    "    for i in x:\n",
    "        if 'click count' in i :\n",
    "            l.append(i)\n",
    "            \n",
    "    return x[l], l[1:]\n",
    "    "
   ]
  },
  {
   "cell_type": "code",
   "execution_count": null,
   "metadata": {},
   "outputs": [],
   "source": [
    "df_day_count, cols_counts = get_count(df_day) "
   ]
  },
  {
   "cell_type": "code",
   "execution_count": null,
   "metadata": {
    "scrolled": false
   },
   "outputs": [],
   "source": [
    "df_day_count.replace(0 or 0.0, np.nan, inplace=True)"
   ]
  },
  {
   "cell_type": "code",
   "execution_count": null,
   "metadata": {
    "scrolled": false
   },
   "outputs": [],
   "source": [
    "df_day_count = drop_full_null_cols(df_day_count)"
   ]
  },
  {
   "cell_type": "code",
   "execution_count": null,
   "metadata": {},
   "outputs": [],
   "source": [
    "df_day.drop(cols_counts, axis = 1, inplace=True )"
   ]
  },
  {
   "cell_type": "code",
   "execution_count": null,
   "metadata": {},
   "outputs": [],
   "source": [
    "cols_freq = [i for i in df_day.columns if 'Frequency' in i]"
   ]
  },
  {
   "cell_type": "code",
   "execution_count": null,
   "metadata": {},
   "outputs": [],
   "source": [
    "cols_freq"
   ]
  },
  {
   "cell_type": "code",
   "execution_count": null,
   "metadata": {},
   "outputs": [],
   "source": [
    "df_day.drop(cols_freq, axis = 1, inplace=True)"
   ]
  },
  {
   "cell_type": "code",
   "execution_count": null,
   "metadata": {},
   "outputs": [],
   "source": [
    "cols_langue = [i for i in df_day.columns if 'Language' in i]"
   ]
  },
  {
   "cell_type": "code",
   "execution_count": null,
   "metadata": {},
   "outputs": [],
   "source": [
    "df_day.drop(cols_langue, axis = 1, inplace=True) "
   ]
  },
  {
   "cell_type": "code",
   "execution_count": null,
   "metadata": {},
   "outputs": [],
   "source": [
    "df_day"
   ]
  },
  {
   "cell_type": "code",
   "execution_count": null,
   "metadata": {},
   "outputs": [],
   "source": [
    "for i in cols_freq:\n",
    "    if i in description:\n",
    "        del description[i]"
   ]
  },
  {
   "cell_type": "code",
   "execution_count": null,
   "metadata": {},
   "outputs": [],
   "source": [
    "for i in cols_langue:\n",
    "    if i in description:\n",
    "        del description[i]"
   ]
  },
  {
   "cell_type": "code",
   "execution_count": null,
   "metadata": {},
   "outputs": [],
   "source": [
    "for i in cols_imp :\n",
    "    if i in description:\n",
    "        del description[i]"
   ]
  },
  {
   "cell_type": "code",
   "execution_count": null,
   "metadata": {},
   "outputs": [],
   "source": [
    "for i in col_day_reach :\n",
    "    if i in description:\n",
    "        del description[i]"
   ]
  },
  {
   "cell_type": "code",
   "execution_count": null,
   "metadata": {},
   "outputs": [],
   "source": [
    "for i in cols_counts :\n",
    "    if i in description:\n",
    "        del description[i]"
   ]
  },
  {
   "cell_type": "code",
   "execution_count": null,
   "metadata": {},
   "outputs": [],
   "source": [
    "for i in cols_engage :\n",
    "    if i in description:\n",
    "        del description[i]"
   ]
  },
  {
   "cell_type": "code",
   "execution_count": null,
   "metadata": {},
   "outputs": [],
   "source": [
    "for i in df_week.columns :\n",
    "    if i in description:\n",
    "        del description[i]"
   ]
  },
  {
   "cell_type": "code",
   "execution_count": null,
   "metadata": {},
   "outputs": [],
   "source": [
    "for i in df_month.columns :\n",
    "    if i in description:\n",
    "        del description[i]"
   ]
  },
  {
   "cell_type": "code",
   "execution_count": null,
   "metadata": {},
   "outputs": [],
   "source": [
    "for i in cols_feedback:\n",
    "    if i in description:\n",
    "        del description[i]"
   ]
  },
  {
   "cell_type": "code",
   "execution_count": null,
   "metadata": {
    "run_control": {
     "marked": false
    }
   },
   "outputs": [],
   "source": [
    "def get_feedback(x):\n",
    "    l = ['Date']\n",
    "    for i in x:\n",
    "        if 'feedback' in i  or 'Feedback' in i:\n",
    "            l.append(i)\n",
    "            \n",
    "    return x[l], l[1:]"
   ]
  },
  {
   "cell_type": "code",
   "execution_count": null,
   "metadata": {},
   "outputs": [],
   "source": [
    "df_day_feedback, cols_feedback = get_feedback(df_day) "
   ]
  },
  {
   "cell_type": "code",
   "execution_count": null,
   "metadata": {},
   "outputs": [],
   "source": [
    "df_day.drop(cols_feedback, axis = 1, inplace=True)"
   ]
  },
  {
   "cell_type": "code",
   "execution_count": null,
   "metadata": {},
   "outputs": [],
   "source": [
    "df_day_feedback"
   ]
  },
  {
   "cell_type": "code",
   "execution_count": null,
   "metadata": {},
   "outputs": [],
   "source": [
    "jtplot.style(theme='solarizedl', gridlines= '-.', figsize=(15,15))\n",
    "sns.lineplot(data = df_day_reach, x = 'week', y = 'Daily Total Reach')\n",
    "plt.tight_layout()\n",
    "plt.show()"
   ]
  },
  {
   "cell_type": "code",
   "execution_count": null,
   "metadata": {},
   "outputs": [],
   "source": [
    "total = jtplot.style(theme='solarizedl', gridlines= '-.', figsize=(25,25))\n",
    "total = sns.catplot(data = df_day_reach, col = 'day_week', x = 'week', y = 'Daily Total Reach')\n",
    "total.set_xticklabels(rotation=60)\n",
    "\n",
    "#plt.title('')\n",
    "#plt.ylabel('')\n",
    "#plt.savefig('.jpg', dpi=200)\n",
    "plt.tight_layout()\n",
    "plt.show()"
   ]
  },
  {
   "cell_type": "code",
   "execution_count": null,
   "metadata": {},
   "outputs": [],
   "source": []
  },
  {
   "cell_type": "code",
   "execution_count": null,
   "metadata": {},
   "outputs": [],
   "source": [
    "get_most_words(df_day)"
   ]
  },
  {
   "cell_type": "code",
   "execution_count": null,
   "metadata": {},
   "outputs": [],
   "source": [
    "get_dates(df_day)"
   ]
  },
  {
   "cell_type": "code",
   "execution_count": null,
   "metadata": {},
   "outputs": [],
   "source": [
    "filter_col4 = [col for col in df_week if 'People Talking' in col]\n",
    "len(filter_col4)"
   ]
  },
  {
   "cell_type": "code",
   "execution_count": null,
   "metadata": {},
   "outputs": [],
   "source": [
    "df_week.drop(filter_col4, axis=1, inplace=True)"
   ]
  },
  {
   "cell_type": "code",
   "execution_count": null,
   "metadata": {},
   "outputs": [],
   "source": [
    "filter_col5 = [col for col in df if 'Logged' in col]\n",
    "len(filter_col5)"
   ]
  },
  {
   "cell_type": "code",
   "execution_count": null,
   "metadata": {},
   "outputs": [],
   "source": [
    "df.drop(filter_col5, axis=1, inplace=True)\n",
    "df.head()"
   ]
  },
  {
   "cell_type": "code",
   "execution_count": null,
   "metadata": {},
   "outputs": [],
   "source": [
    "filter_col16 = [col for col in df_week if 'Talking' in col]\n",
    "len(filter_col16)"
   ]
  },
  {
   "cell_type": "code",
   "execution_count": null,
   "metadata": {},
   "outputs": [],
   "source": [
    "df_week.drop(filter_col16, axis=1, inplace=True)\n",
    "df_week.head()"
   ]
  },
  {
   "cell_type": "code",
   "execution_count": null,
   "metadata": {},
   "outputs": [],
   "source": [
    "df_week.columns"
   ]
  },
  {
   "cell_type": "code",
   "execution_count": null,
   "metadata": {},
   "outputs": [],
   "source": [
    "filter_col17 = [col for col in df if 'Frequency' in col]\n",
    "len(filter_col17)"
   ]
  },
  {
   "cell_type": "code",
   "execution_count": null,
   "metadata": {},
   "outputs": [],
   "source": [
    "df.drop(filter_col17, axis=1, inplace=True)\n",
    "df.head()"
   ]
  },
  {
   "cell_type": "code",
   "execution_count": null,
   "metadata": {},
   "outputs": [],
   "source": [
    "df_week"
   ]
  },
  {
   "cell_type": "code",
   "execution_count": null,
   "metadata": {},
   "outputs": [],
   "source": [
    "df_day"
   ]
  },
  {
   "cell_type": "code",
   "execution_count": null,
   "metadata": {},
   "outputs": [],
   "source": []
  },
  {
   "cell_type": "code",
   "execution_count": null,
   "metadata": {
    "run_control": {
     "marked": false
    }
   },
   "outputs": [],
   "source": [
    "df_week_imp, cols_impression = get_impressions(df_week)"
   ]
  },
  {
   "cell_type": "code",
   "execution_count": null,
   "metadata": {},
   "outputs": [],
   "source": [
    "df_week_imp"
   ]
  },
  {
   "cell_type": "markdown",
   "metadata": {},
   "source": [
    "#### And drop these impressions columns from the main DF"
   ]
  },
  {
   "cell_type": "code",
   "execution_count": null,
   "metadata": {},
   "outputs": [],
   "source": [
    "df_week.drop(cols_impression, axis = 1, inplace=True)\n",
    "\n"
   ]
  },
  {
   "cell_type": "markdown",
   "metadata": {},
   "source": [
    "#### Lets drop rows where all the columns have NaN values (expcet of course the date)"
   ]
  },
  {
   "cell_type": "code",
   "execution_count": null,
   "metadata": {},
   "outputs": [],
   "source": []
  },
  {
   "cell_type": "code",
   "execution_count": null,
   "metadata": {},
   "outputs": [],
   "source": [
    "df_week_imp = drop_full_null_rows(df_week_imp)"
   ]
  },
  {
   "cell_type": "markdown",
   "metadata": {},
   "source": [
    "#### and pass the nan values as 0 "
   ]
  },
  {
   "cell_type": "code",
   "execution_count": null,
   "metadata": {
    "scrolled": true
   },
   "outputs": [],
   "source": [
    "df_week"
   ]
  },
  {
   "cell_type": "code",
   "execution_count": null,
   "metadata": {},
   "outputs": [],
   "source": [
    "df_week_imp = df_week_imp.fillna(0)"
   ]
  },
  {
   "cell_type": "code",
   "execution_count": null,
   "metadata": {},
   "outputs": [],
   "source": [
    "df_week_imp[cols_impression] = df_week_imp[cols_impression].astype(int)"
   ]
  },
  {
   "cell_type": "code",
   "execution_count": null,
   "metadata": {},
   "outputs": [],
   "source": [
    "df_week_imp = get_dates(df_week_imp)"
   ]
  },
  {
   "cell_type": "code",
   "execution_count": null,
   "metadata": {},
   "outputs": [],
   "source": [
    "df_week_imp"
   ]
  },
  {
   "cell_type": "code",
   "execution_count": null,
   "metadata": {},
   "outputs": [],
   "source": [
    "d = df_week_imp.groupby(['day_week'])[['Weekly Organic impressions', 'Weekly Paid Impressions']].mean().astype(int)\n",
    "d.plot.bar(stacked = True)\n"
   ]
  },
  {
   "cell_type": "code",
   "execution_count": null,
   "metadata": {},
   "outputs": [],
   "source": [
    "d = df_week_imp.groupby(['day_week'])[['Weekly Organic impressions']].mean().astype(int)\n",
    "order_week = 'Sunday','Monday', 'Tuesday', 'Wednesday', 'Thursday', 'Friday', 'Saturday'\n",
    "d.plot.line()"
   ]
  },
  {
   "cell_type": "code",
   "execution_count": null,
   "metadata": {},
   "outputs": [],
   "source": [
    "df_week_imp"
   ]
  },
  {
   "cell_type": "code",
   "execution_count": null,
   "metadata": {},
   "outputs": [],
   "source": [
    "\n",
    "total = jtplot.style(theme='solarizedl', gridlines= '-.', figsize=(20,20))\n",
    "total = sns.catplot(data = df_week_imp, col = 'month', x = 'day_week', y = 'Weekly Organic impressions',palette = \"RdBu_r\", kind='swarm')\n",
    "total.set_xticklabels(rotation=60)\n",
    "\n",
    "#plt.title('')\n",
    "#plt.ylabel('')\n",
    "#plt.savefig('.jpg', dpi=200)\n",
    "plt.tight_layout\n",
    "plt.show()"
   ]
  },
  {
   "cell_type": "markdown",
   "metadata": {},
   "source": [
    "#### Lets get the city"
   ]
  },
  {
   "cell_type": "code",
   "execution_count": null,
   "metadata": {},
   "outputs": [],
   "source": [
    "def get_city(x):\n",
    "    l = ['Date']\n",
    "    for i in x:\n",
    "        if 'City' in i or 'city' in i:\n",
    "            l.append(i)\n",
    "            \n",
    "    return x[l], l[1:]"
   ]
  },
  {
   "cell_type": "code",
   "execution_count": null,
   "metadata": {},
   "outputs": [],
   "source": [
    "df_week_city, cols_city = get_city(df_week)"
   ]
  },
  {
   "cell_type": "code",
   "execution_count": null,
   "metadata": {},
   "outputs": [],
   "source": [
    "df_week_city"
   ]
  },
  {
   "cell_type": "markdown",
   "metadata": {},
   "source": [
    "#### And encore drop the city columns from the main DF"
   ]
  },
  {
   "cell_type": "code",
   "execution_count": null,
   "metadata": {},
   "outputs": [],
   "source": [
    "df_week.drop(cols_city, axis = 1 ,inplace=True)"
   ]
  },
  {
   "cell_type": "markdown",
   "metadata": {},
   "source": [
    "#### and drop the nan rows"
   ]
  },
  {
   "cell_type": "code",
   "execution_count": null,
   "metadata": {},
   "outputs": [],
   "source": [
    "df_week_city = drop_full_null_rows(df_week_city)"
   ]
  },
  {
   "cell_type": "code",
   "execution_count": null,
   "metadata": {},
   "outputs": [],
   "source": [
    "df_week_city"
   ]
  },
  {
   "cell_type": "code",
   "execution_count": null,
   "metadata": {},
   "outputs": [],
   "source": [
    "df_week_city =df_week_city.fillna(0)"
   ]
  },
  {
   "cell_type": "code",
   "execution_count": null,
   "metadata": {},
   "outputs": [],
   "source": [
    "def get_country(x):\n",
    "    l = ['Date']\n",
    "    for i in x:\n",
    "        if 'Country' in i or 'country' in i:\n",
    "            l.append(i)\n",
    "            \n",
    "    return x[l], l[1:]"
   ]
  },
  {
   "cell_type": "code",
   "execution_count": null,
   "metadata": {},
   "outputs": [],
   "source": [
    "def get_city(x):\n",
    "    l = ['Date']\n",
    "    for i in x:\n",
    "        if 'City:' in i or 'city' in i:\n",
    "            l.append(i)\n",
    "            \n",
    "    return x[l], l[1:]"
   ]
  },
  {
   "cell_type": "code",
   "execution_count": null,
   "metadata": {},
   "outputs": [],
   "source": [
    "df_day_ville, cols_ville = get_city(df_day) "
   ]
  },
  {
   "cell_type": "code",
   "execution_count": null,
   "metadata": {},
   "outputs": [],
   "source": [
    "df_day_ville"
   ]
  },
  {
   "cell_type": "code",
   "execution_count": null,
   "metadata": {},
   "outputs": [],
   "source": [
    "df_day_ville.set_index(['Date'], inplace=True)"
   ]
  },
  {
   "cell_type": "code",
   "execution_count": null,
   "metadata": {},
   "outputs": [],
   "source": [
    "df_day_ville"
   ]
  },
  {
   "cell_type": "code",
   "execution_count": null,
   "metadata": {},
   "outputs": [],
   "source": [
    "df_day_ville.columns = df_day_ville.columns.str.lstrip('Daily City: People Talking About This')"
   ]
  },
  {
   "cell_type": "code",
   "execution_count": null,
   "metadata": {},
   "outputs": [],
   "source": [
    "df_day_ville_melt = df_day_ville.melt(ignore_index= False).dropna()"
   ]
  },
  {
   "cell_type": "code",
   "execution_count": null,
   "metadata": {},
   "outputs": [],
   "source": [
    "df_day_ville_melt"
   ]
  },
  {
   "cell_type": "code",
   "execution_count": null,
   "metadata": {
    "scrolled": true
   },
   "outputs": [],
   "source": [
    "df_day_ville_melt[['Ville']] =df_day_ville_melt['variable'].str.split(',').str.get(0)"
   ]
  },
  {
   "cell_type": "code",
   "execution_count": null,
   "metadata": {},
   "outputs": [],
   "source": [
    "df_day_ville_melt"
   ]
  },
  {
   "cell_type": "code",
   "execution_count": null,
   "metadata": {},
   "outputs": [],
   "source": [
    "df_day_ville_melt[['Pays']] =df_day_ville_melt['variable'].str.split(',').str.get(-1)"
   ]
  },
  {
   "cell_type": "code",
   "execution_count": null,
   "metadata": {},
   "outputs": [],
   "source": [
    "df_day_ville_melt.loc[df_day_ville_melt['Pays'].str.startswith('-'), 'Pays'] = 'France'"
   ]
  },
  {
   "cell_type": "code",
   "execution_count": null,
   "metadata": {},
   "outputs": [],
   "source": [
    "df_day_ville_melt"
   ]
  },
  {
   "cell_type": "code",
   "execution_count": null,
   "metadata": {},
   "outputs": [],
   "source": [
    "df_day_ville_melt['Ville'] = [i.strip('-') for i in  df_day_ville_melt['Ville']]\n",
    "df_day_ville_melt"
   ]
  },
  {
   "cell_type": "code",
   "execution_count": null,
   "metadata": {},
   "outputs": [],
   "source": []
  },
  {
   "cell_type": "code",
   "execution_count": null,
   "metadata": {},
   "outputs": [],
   "source": [
    "df_day_ville_melt.drop('variable', axis = 1, inplace=True)"
   ]
  },
  {
   "cell_type": "code",
   "execution_count": null,
   "metadata": {
    "scrolled": true
   },
   "outputs": [],
   "source": [
    "df_day_ville_melt.rename(columns = {'value': 'Talking About'}, inplace=True)"
   ]
  },
  {
   "cell_type": "code",
   "execution_count": null,
   "metadata": {},
   "outputs": [],
   "source": [
    "df_day_ville_melt['Talking About'] = df_day_ville_melt['Talking About'].astype(int)"
   ]
  },
  {
   "cell_type": "code",
   "execution_count": null,
   "metadata": {},
   "outputs": [],
   "source": [
    "df_day_ville_melt['Date'] = df_day_ville_melt.index"
   ]
  },
  {
   "cell_type": "code",
   "execution_count": null,
   "metadata": {},
   "outputs": [],
   "source": [
    "df_day_ville_melt.info()"
   ]
  },
  {
   "cell_type": "code",
   "execution_count": null,
   "metadata": {
    "scrolled": false
   },
   "outputs": [],
   "source": [
    "df_day_ville_melt = get_dates(df_day_ville_melt)"
   ]
  },
  {
   "cell_type": "code",
   "execution_count": null,
   "metadata": {},
   "outputs": [],
   "source": [
    "df_day_ville_melt"
   ]
  },
  {
   "cell_type": "code",
   "execution_count": null,
   "metadata": {},
   "outputs": [],
   "source": [
    "sns.catplot(data = df_day_ville_melt, col='Pays', x = 'day_week', y = 'Talking About', hue = 'Ville', kind='bar', orient='v')"
   ]
  },
  {
   "cell_type": "code",
   "execution_count": null,
   "metadata": {},
   "outputs": [],
   "source": [
    "sns.barplot(data = df_day_ville_melt, x = 'day_week', y = 'Talking About', hue='Ville')"
   ]
  },
  {
   "cell_type": "code",
   "execution_count": null,
   "metadata": {},
   "outputs": [],
   "source": [
    "for i in df_day_ville_melt:\n",
    "    l = re.search"
   ]
  },
  {
   "cell_type": "code",
   "execution_count": null,
   "metadata": {},
   "outputs": [],
   "source": [
    "df_foooo=df_foooo.melt().dropna()\n",
    "\n",
    "df_foooo\n",
    "\n",
    "df_foooo[['Gender','Age']]=df_foooo['variable'].str.split(' - ').str.get(-1).str.split('.', expand=True)\n",
    "\n",
    "df_foooo.drop('variable', axis=1, inplace=True)\n",
    "\n",
    "df_foooo['value']=df_foooo['value'].astype(int)\n",
    "\n",
    "dd = df_foooo.groupby(['Gender','Age']).sum().reset_index()\n",
    "\n",
    "dd = dd[:14]"
   ]
  },
  {
   "cell_type": "code",
   "execution_count": null,
   "metadata": {},
   "outputs": [],
   "source": [
    "description"
   ]
  },
  {
   "cell_type": "code",
   "execution_count": null,
   "metadata": {},
   "outputs": [],
   "source": [
    "df_week_country, cols_country = get_country(df_week)"
   ]
  },
  {
   "cell_type": "code",
   "execution_count": null,
   "metadata": {},
   "outputs": [],
   "source": [
    "df_week_country"
   ]
  },
  {
   "cell_type": "code",
   "execution_count": null,
   "metadata": {},
   "outputs": [],
   "source": [
    "drop_full_null_rows(df_week_country)"
   ]
  },
  {
   "cell_type": "code",
   "execution_count": null,
   "metadata": {},
   "outputs": [],
   "source": [
    "df_week.drop(cols_country, axis = 1, inplace = True)"
   ]
  },
  {
   "cell_type": "code",
   "execution_count": null,
   "metadata": {},
   "outputs": [],
   "source": [
    "df_week_demo, cols_demo = get_demog(df_week)"
   ]
  },
  {
   "cell_type": "code",
   "execution_count": null,
   "metadata": {},
   "outputs": [],
   "source": [
    "df_week_demo = get_dates(df_week_demo).copy()"
   ]
  },
  {
   "cell_type": "code",
   "execution_count": null,
   "metadata": {},
   "outputs": [],
   "source": [
    "df_week_imp = get_dates(df_week_imp).copy()"
   ]
  },
  {
   "cell_type": "code",
   "execution_count": null,
   "metadata": {},
   "outputs": [],
   "source": [
    "df_week_city"
   ]
  },
  {
   "cell_type": "code",
   "execution_count": null,
   "metadata": {},
   "outputs": [],
   "source": [
    "df_week"
   ]
  },
  {
   "cell_type": "code",
   "execution_count": null,
   "metadata": {},
   "outputs": [],
   "source": [
    "months = ['January', 'February', 'March', 'April', 'May', 'June', 'July', 'August', 'September', 'October', 'November', 'December']\n"
   ]
  },
  {
   "cell_type": "code",
   "execution_count": null,
   "metadata": {
    "hide_input": false
   },
   "outputs": [],
   "source": [
    "df_week_imp"
   ]
  },
  {
   "cell_type": "code",
   "execution_count": null,
   "metadata": {},
   "outputs": [],
   "source": [
    "df_week_imp_2020 = df_week_imp.query('year == 2020').groupby(['week'])[['Weekly Organic impressions', 'Weekly Paid Impressions']].mean()\n",
    "df_week_imp_2020"
   ]
  },
  {
   "cell_type": "code",
   "execution_count": null,
   "metadata": {},
   "outputs": [],
   "source": [
    "df_week_imp_2021 = df_week_imp.query('year == 2021').groupby(['week'])[['Weekly Organic impressions', 'Weekly Paid Impressions']].mean()\n",
    "df_week_imp_2021"
   ]
  },
  {
   "cell_type": "code",
   "execution_count": null,
   "metadata": {},
   "outputs": [],
   "source": [
    "d20 = df_week_imp_2020.melt(var_name = 'Impressions Type', value_name = 'Total', ignore_index = False)\n",
    "d20"
   ]
  },
  {
   "cell_type": "code",
   "execution_count": null,
   "metadata": {},
   "outputs": [],
   "source": [
    "d21 = df_week_imp_2021.melt(var_name = 'Impressions Type', value_name = 'Total', ignore_index = False)\n",
    "d21"
   ]
  },
  {
   "cell_type": "code",
   "execution_count": null,
   "metadata": {},
   "outputs": [],
   "source": [
    "fig, axs = plt.subplots(1, 2, figsize=(12, 6), gridspec_kw=dict(width_ratios=[4, 3]))\n",
    "\n",
    "\n",
    "\n",
    "d20.plot.bar(stacked = True, ax=axs[0], colormap = \"Set2\")\n",
    "#axs[0].set_title('', fontweight='bold', fontsize=15, fontname = 'candara')\n",
    "#axs[0].set_xticklabels([''], rotation=0, fontweight='bold', fontsize=13, fontname = 'candara')\n",
    "#axs[0].set_xlabel('')\n",
    "\n",
    "\n",
    "\n",
    "\n",
    "\n",
    "\n",
    "d21.plot.bar(stacked = True, ax=axs[1], colormap = \"Set2\")\n",
    "#axs[1].set_title('Financial Distribution (2018)', fontweight='bold', fontsize=15, fontname = 'candara')\n",
    "#axs[1].set_xticklabels(['Elected', 'Non Elected'], rotation=0, fontweight='bold', fontsize=13, fontname = 'candara')\n",
    "#axs[1].set_xlabel('Results')\n",
    "\n",
    "fig.tight_layout()\n",
    "#fig.savefig('Source-Comparison.jpg', dpi=200) \n"
   ]
  },
  {
   "cell_type": "markdown",
   "metadata": {},
   "source": [
    "#### Weekly Total Impressions"
   ]
  },
  {
   "cell_type": "code",
   "execution_count": null,
   "metadata": {},
   "outputs": [],
   "source": [
    "total = jtplot.style(theme='solarizedl', gridlines= '-.', figsize=(20,20))\n",
    "total = sns.catplot(data = df_week_imp , col = 'year', x = 'day_week', y = 'Weekly Total Impressions', palette = \"RdBu_r\")\n",
    "total.set_xticklabels(rotation=60)\n",
    "\n",
    "#plt.title('')\n",
    "#plt.ylabel('')\n",
    "#plt.savefig('.jpg', dpi=200)\n",
    "plt.tight_layout\n",
    "plt.show()\n"
   ]
  },
  {
   "cell_type": "code",
   "execution_count": null,
   "metadata": {},
   "outputs": [],
   "source": [
    "total = jtplot.style(theme='solarizedl', gridlines= '-.', figsize=(20,20))\n",
    "total = sns.catplot(data = df_week_imp, col = 'year', x = 'month', y = 'Weekly Total Impressions', order=months ,palette = \"RdBu_r\")\n",
    "total.set_xticklabels(rotation=60)\n",
    "\n",
    "#plt.title('')\n",
    "#plt.ylabel('')\n",
    "#plt.savefig('.jpg', dpi=200)\n",
    "plt.tight_layout\n",
    "plt.show()"
   ]
  },
  {
   "cell_type": "markdown",
   "metadata": {},
   "source": [
    "#### Weekly Paid Impressions"
   ]
  },
  {
   "cell_type": "code",
   "execution_count": null,
   "metadata": {},
   "outputs": [],
   "source": [
    "total = jtplot.style(theme='solarizedl', gridlines= '-.', figsize=(20,20))\n",
    "total = sns.catplot(data = df_week_imp, col = 'year', x = 'month', y = 'Weekly Paid Impressions', order=months ,palette = \"RdBu_r\")\n",
    "total.set_xticklabels(rotation=60)\n",
    "\n",
    "#plt.title('')\n",
    "#plt.ylabel('')\n",
    "#plt.savefig('.jpg', dpi=200)\n",
    "plt.tight_layout\n",
    "plt.show()\n"
   ]
  },
  {
   "cell_type": "markdown",
   "metadata": {},
   "source": [
    "#### Weekly Total Impressions of your posts"
   ]
  },
  {
   "cell_type": "code",
   "execution_count": null,
   "metadata": {},
   "outputs": [],
   "source": [
    "total = jtplot.style(theme='solarizedl', gridlines= '-.', figsize=(20,20))\n",
    "total = sns.catplot(data = df_week_imp, col = 'year', x = 'month', y = 'Weekly Total Impressions of your posts', order=months ,palette = \"RdBu_r\")\n",
    "total.set_xticklabels(rotation=60)\n",
    "\n",
    "#plt.title('')\n",
    "#plt.ylabel('')\n",
    "#plt.savefig('.jpg', dpi=200)\n",
    "plt.tight_layout\n",
    "plt.show()"
   ]
  },
  {
   "cell_type": "markdown",
   "metadata": {},
   "source": [
    "#### Weekly Viral Impressions Of Your Posts"
   ]
  },
  {
   "cell_type": "code",
   "execution_count": null,
   "metadata": {},
   "outputs": [],
   "source": [
    "df_week_imp"
   ]
  },
  {
   "cell_type": "code",
   "execution_count": null,
   "metadata": {},
   "outputs": [],
   "source": [
    "total = jtplot.style(theme='solarizedl', gridlines= '-.', figsize=(20,20))\n",
    "total = sns.catplot(data = df_week_imp, col = 'year', x = 'month', y = 'Weekly Viral Impressions Of Your Posts', order=months ,palette = \"RdBu_r\")\n",
    "total.set_xticklabels(rotation=60)\n",
    "\n",
    "#plt.title('')\n",
    "#plt.ylabel('')\n",
    "#plt.savefig('.jpg', dpi=200)\n",
    "plt.tight_layout\n",
    "plt.show()"
   ]
  },
  {
   "cell_type": "code",
   "execution_count": null,
   "metadata": {},
   "outputs": [],
   "source": []
  },
  {
   "cell_type": "code",
   "execution_count": null,
   "metadata": {},
   "outputs": [],
   "source": [
    "df_week = drop_full_null_rows(df_week)"
   ]
  },
  {
   "cell_type": "code",
   "execution_count": null,
   "metadata": {},
   "outputs": [],
   "source": [
    "df_week_demo.head(15)"
   ]
  },
  {
   "cell_type": "code",
   "execution_count": null,
   "metadata": {},
   "outputs": [],
   "source": [
    "def get_reach(x):\n",
    "    l = ['Date']\n",
    "    for i in x:\n",
    "        if 'reach' in i or 'Reach' in i:\n",
    "            l.append(i)\n",
    "            \n",
    "    return x[l], l[1:]"
   ]
  },
  {
   "cell_type": "code",
   "execution_count": null,
   "metadata": {},
   "outputs": [],
   "source": [
    "df_week_demo_reach, cols_demo_reach = get_reach(df_week_demo)"
   ]
  },
  {
   "cell_type": "code",
   "execution_count": null,
   "metadata": {},
   "outputs": [],
   "source": [
    "\n",
    "df_week_demo_reach"
   ]
  },
  {
   "cell_type": "code",
   "execution_count": null,
   "metadata": {},
   "outputs": [],
   "source": [
    "df_week"
   ]
  },
  {
   "cell_type": "code",
   "execution_count": null,
   "metadata": {},
   "outputs": [],
   "source": [
    "filter_language = [col for col in df_week if 'Language' in col]"
   ]
  },
  {
   "cell_type": "code",
   "execution_count": null,
   "metadata": {},
   "outputs": [],
   "source": [
    "filter_language"
   ]
  },
  {
   "cell_type": "code",
   "execution_count": null,
   "metadata": {},
   "outputs": [],
   "source": [
    "df_week.drop(filter_language, axis = 1, inplace=True)"
   ]
  },
  {
   "cell_type": "code",
   "execution_count": null,
   "metadata": {},
   "outputs": [],
   "source": [
    "df_week"
   ]
  },
  {
   "cell_type": "code",
   "execution_count": null,
   "metadata": {},
   "outputs": [],
   "source": [
    "for i in df_week.columns:\n",
    "    print(i)"
   ]
  },
  {
   "cell_type": "code",
   "execution_count": null,
   "metadata": {},
   "outputs": [],
   "source": [
    "df_week['Weekly Reach Demographics - F.13-17']"
   ]
  },
  {
   "cell_type": "code",
   "execution_count": null,
   "metadata": {},
   "outputs": [],
   "source": [
    "description"
   ]
  },
  {
   "cell_type": "code",
   "execution_count": null,
   "metadata": {},
   "outputs": [],
   "source": [
    "df_week.set_index(['Date'], inplace=True)"
   ]
  },
  {
   "cell_type": "code",
   "execution_count": null,
   "metadata": {},
   "outputs": [],
   "source": [
    "df_foooo=df_week[df_week.columns[df_week.columns.str.contains('Weekly Reach Dem')]]"
   ]
  },
  {
   "cell_type": "code",
   "execution_count": null,
   "metadata": {},
   "outputs": [],
   "source": [
    "df_foooo"
   ]
  },
  {
   "cell_type": "code",
   "execution_count": null,
   "metadata": {},
   "outputs": [],
   "source": [
    "df_foooo=df_foooo.melt(ignore_index=False).dropna()"
   ]
  },
  {
   "cell_type": "code",
   "execution_count": null,
   "metadata": {
    "scrolled": false
   },
   "outputs": [],
   "source": [
    "df_foooo"
   ]
  },
  {
   "cell_type": "code",
   "execution_count": null,
   "metadata": {},
   "outputs": [],
   "source": [
    "df_foooo['Date'] = df_foooo.index\n",
    "df_foooo = get_dates(df_foooo)"
   ]
  },
  {
   "cell_type": "code",
   "execution_count": null,
   "metadata": {},
   "outputs": [],
   "source": [
    "df_day_ville_melt['Date'] = df_day_ville_melt.index\n",
    "\n",
    "df_day_ville_melt.info()\n",
    "\n",
    "df_day_ville_melt = get_dates(df_day_ville_melt)\n",
    "\n",
    "df_day_ville_melt"
   ]
  },
  {
   "cell_type": "code",
   "execution_count": null,
   "metadata": {},
   "outputs": [],
   "source": [
    "df_foooo[['Gender','Age']]=df_foooo['variable'].str.split(' - ').str.get(-1).str.split('.', expand=True)"
   ]
  },
  {
   "cell_type": "code",
   "execution_count": null,
   "metadata": {
    "scrolled": true
   },
   "outputs": [],
   "source": [
    "df_foooo"
   ]
  },
  {
   "cell_type": "code",
   "execution_count": null,
   "metadata": {},
   "outputs": [],
   "source": [
    "df_foooo.drop(['variable', 'Date'], axis=1, inplace=True)"
   ]
  },
  {
   "cell_type": "code",
   "execution_count": null,
   "metadata": {
    "scrolled": true
   },
   "outputs": [],
   "source": [
    "df_foooo.reset_index(inplace=True)"
   ]
  },
  {
   "cell_type": "code",
   "execution_count": null,
   "metadata": {
    "scrolled": true
   },
   "outputs": [],
   "source": [
    "\n",
    "df_foooo.value = df_foooo.value.astype(int)"
   ]
  },
  {
   "cell_type": "code",
   "execution_count": null,
   "metadata": {},
   "outputs": [],
   "source": [
    "df_foooo"
   ]
  },
  {
   "cell_type": "code",
   "execution_count": null,
   "metadata": {},
   "outputs": [],
   "source": [
    "sns.barplot(data = df_foooo, x = 'day_week', y = 'value', hue = 'Gender', palette='Set1')"
   ]
  },
  {
   "cell_type": "code",
   "execution_count": null,
   "metadata": {},
   "outputs": [],
   "source": [
    "dd = df_foooo.groupby(['day_week'])[['value']].sum().reindex(day_order)\n",
    "dd"
   ]
  },
  {
   "cell_type": "code",
   "execution_count": null,
   "metadata": {},
   "outputs": [],
   "source": [
    "df_foooo['value']=df_foooo['value'].astype(int)"
   ]
  },
  {
   "cell_type": "code",
   "execution_count": null,
   "metadata": {},
   "outputs": [],
   "source": [
    "df_foooo = df_foooo.query(\"Gender != 'U'\")"
   ]
  },
  {
   "cell_type": "code",
   "execution_count": null,
   "metadata": {},
   "outputs": [],
   "source": []
  },
  {
   "cell_type": "code",
   "execution_count": null,
   "metadata": {
    "scrolled": true
   },
   "outputs": [],
   "source": [
    "dd = df_foooo.groupby(['Gender','Age']).sum().reset_index()\n",
    "\n",
    "dd = dd[:14]"
   ]
  },
  {
   "cell_type": "code",
   "execution_count": null,
   "metadata": {},
   "outputs": [],
   "source": [
    "jtplot.style(theme='solarizedl', gridlines= '-.', figsize=(10,10))\n",
    "sns.barplot(data = dd, x = 'Gender', y = 'value', hue='Age')\n"
   ]
  },
  {
   "cell_type": "code",
   "execution_count": null,
   "metadata": {},
   "outputs": [],
   "source": [
    "sns.barplot(data = dd, x = 'Age', y = 'value', hue = 'Gender')\n"
   ]
  },
  {
   "cell_type": "code",
   "execution_count": null,
   "metadata": {},
   "outputs": [],
   "source": [
    "df_foooo = df_foooo.query(\"Gender != 'U'\")"
   ]
  },
  {
   "cell_type": "code",
   "execution_count": null,
   "metadata": {},
   "outputs": [],
   "source": [
    "df_foooo"
   ]
  },
  {
   "cell_type": "code",
   "execution_count": null,
   "metadata": {},
   "outputs": [],
   "source": [
    "d = df_foooo.groupby(['day_week'])[['Gender', 'Age']].count().reindex(day_order)"
   ]
  },
  {
   "cell_type": "code",
   "execution_count": null,
   "metadata": {},
   "outputs": [],
   "source": [
    "d"
   ]
  },
  {
   "cell_type": "code",
   "execution_count": null,
   "metadata": {
    "scrolled": true
   },
   "outputs": [],
   "source": [
    "d = pd.pivot_table(data = df_foooo, index = 'day_week', columns=['Gender', 'Age'], values = 'value', aggfunc=['sum']).reindex(day_order)"
   ]
  },
  {
   "cell_type": "code",
   "execution_count": null,
   "metadata": {
    "scrolled": true
   },
   "outputs": [],
   "source": [
    "d"
   ]
  },
  {
   "cell_type": "code",
   "execution_count": null,
   "metadata": {},
   "outputs": [],
   "source": []
  },
  {
   "cell_type": "code",
   "execution_count": null,
   "metadata": {},
   "outputs": [],
   "source": [
    "d.plot.bar()"
   ]
  },
  {
   "cell_type": "code",
   "execution_count": null,
   "metadata": {
    "scrolled": false
   },
   "outputs": [],
   "source": [
    "d.melt()"
   ]
  },
  {
   "cell_type": "code",
   "execution_count": null,
   "metadata": {},
   "outputs": [],
   "source": [
    "sns.scatterplot(data = d, x = 'day_week', hue = 'F', size='Age')"
   ]
  },
  {
   "cell_type": "code",
   "execution_count": null,
   "metadata": {},
   "outputs": [],
   "source": [
    "d = df_foooo.groupby(['day_week'])[][['year', 'Gender', 'Age']].sum().reindex(day_order)\n",
    "d\n"
   ]
  },
  {
   "cell_type": "code",
   "execution_count": null,
   "metadata": {},
   "outputs": [],
   "source": [
    "sns.catplot(data= d, cols = 'year', x= d.index, hue='Gender')"
   ]
  },
  {
   "cell_type": "code",
   "execution_count": null,
   "metadata": {},
   "outputs": [],
   "source": []
  },
  {
   "cell_type": "code",
   "execution_count": null,
   "metadata": {},
   "outputs": [],
   "source": []
  },
  {
   "cell_type": "code",
   "execution_count": null,
   "metadata": {
    "scrolled": true
   },
   "outputs": [],
   "source": [
    "df_week_demo_reach = get_dates(df_week_demo_reach)"
   ]
  },
  {
   "cell_type": "code",
   "execution_count": null,
   "metadata": {},
   "outputs": [],
   "source": [
    "df_week_demo_reach.columns"
   ]
  },
  {
   "cell_type": "code",
   "execution_count": null,
   "metadata": {},
   "outputs": [],
   "source": [
    "df_week_demo_reach = df_week_demo_reach.melt()"
   ]
  },
  {
   "cell_type": "code",
   "execution_count": null,
   "metadata": {},
   "outputs": [],
   "source": [
    "df_week_demo_reach"
   ]
  },
  {
   "cell_type": "code",
   "execution_count": null,
   "metadata": {},
   "outputs": [],
   "source": [
    "def get_dates(x):\n",
    "    x['day'] = pd.to_datetime(x.Date, yearfirst=True).dt.day\n",
    "    \n",
    "    x['day_week'] = pd.to_datetime(x.Date, yearfirst=True).dt.day_name()\n",
    "    \n",
    "    x['week']=pd.to_datetime(x.Date, yearfirst=True).dt.isocalendar().week\n",
    "\n",
    "    x['month']=pd.to_datetime(x.Date, yearfirst=True).dt.month_name()\n",
    "\n",
    "    x['year']=pd.to_datetime(x.Date, yearfirst=True).dt.year\n",
    "    \n",
    "    x.set_index('Date', drop=True, append=True)\n",
    "    \n",
    "    return x.copy()\n",
    "\n",
    "\n",
    "\n",
    "def droppable_cols(x):\n",
    "    return [i for i in x if x[i].isnull().sum() >= x.shape[0]*0.7]"
   ]
  }
 ],
 "metadata": {
  "hide_input": false,
  "kernelspec": {
   "display_name": "Python 3",
   "language": "python",
   "name": "python3"
  },
  "language_info": {
   "codemirror_mode": {
    "name": "ipython",
    "version": 3
   },
   "file_extension": ".py",
   "mimetype": "text/x-python",
   "name": "python",
   "nbconvert_exporter": "python",
   "pygments_lexer": "ipython3",
   "version": "3.8.5"
  },
  "varInspector": {
   "cols": {
    "lenName": 16,
    "lenType": 16,
    "lenVar": 40
   },
   "kernels_config": {
    "python": {
     "delete_cmd_postfix": "",
     "delete_cmd_prefix": "del ",
     "library": "var_list.py",
     "varRefreshCmd": "print(var_dic_list())"
    },
    "r": {
     "delete_cmd_postfix": ") ",
     "delete_cmd_prefix": "rm(",
     "library": "var_list.r",
     "varRefreshCmd": "cat(var_dic_list()) "
    }
   },
   "oldHeight": 430,
   "position": {
    "height": "40px",
    "left": "1098px",
    "right": "20px",
    "top": "190px",
    "width": "349px"
   },
   "types_to_exclude": [
    "module",
    "function",
    "builtin_function_or_method",
    "instance",
    "_Feature"
   ],
   "varInspector_section_display": "none",
   "window_display": false
  }
 },
 "nbformat": 4,
 "nbformat_minor": 4
}
